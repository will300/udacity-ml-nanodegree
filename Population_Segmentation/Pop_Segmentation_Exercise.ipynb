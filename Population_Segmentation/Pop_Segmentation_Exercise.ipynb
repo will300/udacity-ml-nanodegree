{
 "cells": [
  {
   "cell_type": "markdown",
   "metadata": {
    "nbpresent": {
     "id": "62d4851b-e85e-419e-901a-d5c03db59166"
    }
   },
   "source": [
    "# Population Segmentation with SageMaker\n",
    "\n",
    "In this notebook, you'll employ two, unsupervised learning algorithms to do **population segmentation**. Population segmentation aims to find natural groupings in population data that reveal some feature-level similarities between different regions in the US.\n",
    "\n",
    "Using **principal component analysis** (PCA) you will reduce the dimensionality of the original census data. Then, you'll use **k-means clustering** to assign each US county to a particular cluster based on where a county lies in component space. How each cluster is arranged in component space can tell you which US counties are most similar and what demographic traits define that similarity; this information is most often used to inform targeted, marketing campaigns that want to appeal to a specific group of people. This cluster information is also useful for learning more about a population by revealing patterns between regions that you otherwise may not have noticed.\n",
    "\n",
    "### US Census Data\n",
    "\n",
    "You'll be using data collected by the [US Census](https://en.wikipedia.org/wiki/United_States_Census), which aims to count the US population, recording demographic traits about labor, age, population, and so on, for each county in the US. The bulk of this notebook was taken from an existing SageMaker example notebook and [blog post](https://aws.amazon.com/blogs/machine-learning/analyze-us-census-data-for-population-segmentation-using-amazon-sagemaker/), and I've broken it down further into demonstrations and exercises for you to complete.\n",
    "\n",
    "### Machine Learning Workflow\n",
    "\n",
    "To implement population segmentation, you'll go through a number of steps:\n",
    "* Data loading and exploration\n",
    "* Data cleaning and pre-processing \n",
    "* Dimensionality reduction with PCA\n",
    "* Feature engineering and data transformation\n",
    "* Clustering transformed data with k-means\n",
    "* Extracting trained model attributes and visualizing k clusters\n",
    "\n",
    "These tasks make up a complete, machine learning workflow from data loading and cleaning to model deployment. Each exercise is designed to give you practice with part of the machine learning workflow, and to demonstrate how to use SageMaker tools, such as built-in data management with S3 and built-in algorithms.\n",
    "\n",
    "---"
   ]
  },
  {
   "cell_type": "markdown",
   "metadata": {},
   "source": [
    "First, import the relevant libraries into this SageMaker notebook. "
   ]
  },
  {
   "cell_type": "code",
   "execution_count": 2,
   "metadata": {
    "nbpresent": {
     "id": "41d6f28b-3c7e-4d68-a8cb-4e063ec6fe27"
    }
   },
   "outputs": [],
   "source": [
    "# data managing and display libs\n",
    "import pandas as pd\n",
    "import numpy as np\n",
    "import os\n",
    "import io\n",
    "\n",
    "import matplotlib.pyplot as plt\n",
    "import matplotlib\n",
    "%matplotlib inline "
   ]
  },
  {
   "cell_type": "code",
   "execution_count": 3,
   "metadata": {},
   "outputs": [],
   "source": [
    "# sagemaker libraries\n",
    "import boto3\n",
    "import sagemaker"
   ]
  },
  {
   "cell_type": "markdown",
   "metadata": {},
   "source": [
    "## Loading the Data from Amazon S3\n",
    "\n",
    "This particular dataset is already in an Amazon S3 bucket; you can load the data by pointing to this bucket and getting a data file by name. \n",
    "\n",
    "> You can interact with S3 using a `boto3` client."
   ]
  },
  {
   "cell_type": "code",
   "execution_count": 54,
   "metadata": {},
   "outputs": [],
   "source": [
    "# boto3 client to get S3 data\n",
    "s3_client = boto3.client('s3')\n",
    "bucket_name='aws-ml-blog-sagemaker-census-segmentation'"
   ]
  },
  {
   "cell_type": "markdown",
   "metadata": {},
   "source": [
    "Take a look at the contents of this bucket; get a list of objects that are contained within the bucket and print out the names of the objects. You should see that there is one file, 'Census_Data_for_SageMaker.csv'."
   ]
  },
  {
   "cell_type": "code",
   "execution_count": 5,
   "metadata": {},
   "outputs": [
    {
     "name": "stdout",
     "output_type": "stream",
     "text": [
      "['Census_Data_for_SageMaker.csv']\n"
     ]
    }
   ],
   "source": [
    "# get a list of objects in the bucket\n",
    "obj_list=s3_client.list_objects(Bucket=bucket_name)\n",
    "\n",
    "# print object(s)in S3 bucket\n",
    "files=[]\n",
    "for contents in obj_list['Contents']:\n",
    "    files.append(contents['Key'])\n",
    "    \n",
    "print(files)"
   ]
  },
  {
   "cell_type": "code",
   "execution_count": 6,
   "metadata": {},
   "outputs": [
    {
     "name": "stdout",
     "output_type": "stream",
     "text": [
      "Census_Data_for_SageMaker.csv\n"
     ]
    }
   ],
   "source": [
    "# there is one file --> one key\n",
    "file_name=files[0]\n",
    "\n",
    "print(file_name)"
   ]
  },
  {
   "cell_type": "markdown",
   "metadata": {},
   "source": [
    "Retrieve the data file from the bucket with a call to `client.get_object()`."
   ]
  },
  {
   "cell_type": "code",
   "execution_count": 7,
   "metadata": {},
   "outputs": [
    {
     "data": {
      "text/plain": [
       "{'ResponseMetadata': {'RequestId': 'A77CD67D282232E6',\n",
       "  'HostId': 'uRwUBawguZpKi4dNcS6YI6TYcDefZzNU1W1HTliP/2j8eh5GfbAGTmlJ5sDtBwNHpmGKXC2zC0E=',\n",
       "  'HTTPStatusCode': 200,\n",
       "  'HTTPHeaders': {'x-amz-id-2': 'uRwUBawguZpKi4dNcS6YI6TYcDefZzNU1W1HTliP/2j8eh5GfbAGTmlJ5sDtBwNHpmGKXC2zC0E=',\n",
       "   'x-amz-request-id': 'A77CD67D282232E6',\n",
       "   'date': 'Thu, 09 Apr 2020 12:23:29 GMT',\n",
       "   'last-modified': 'Wed, 12 Sep 2018 15:13:37 GMT',\n",
       "   'etag': '\"066d37f43f7762f1eb409b1660fe9763\"',\n",
       "   'accept-ranges': 'bytes',\n",
       "   'content-type': 'text/csv',\n",
       "   'content-length': '613237',\n",
       "   'server': 'AmazonS3'},\n",
       "  'RetryAttempts': 0},\n",
       " 'AcceptRanges': 'bytes',\n",
       " 'LastModified': datetime.datetime(2018, 9, 12, 15, 13, 37, tzinfo=tzutc()),\n",
       " 'ContentLength': 613237,\n",
       " 'ETag': '\"066d37f43f7762f1eb409b1660fe9763\"',\n",
       " 'ContentType': 'text/csv',\n",
       " 'Metadata': {},\n",
       " 'Body': <botocore.response.StreamingBody at 0x7f8d268feb00>}"
      ]
     },
     "metadata": {},
     "output_type": "display_data"
    }
   ],
   "source": [
    "# get an S3 object by passing in the bucket and file name\n",
    "data_object = s3_client.get_object(Bucket=bucket_name, Key=file_name)\n",
    "\n",
    "# what info does the object contain?\n",
    "display(data_object)"
   ]
  },
  {
   "cell_type": "code",
   "execution_count": 8,
   "metadata": {},
   "outputs": [
    {
     "name": "stdout",
     "output_type": "stream",
     "text": [
      "Data type:  <class 'bytes'>\n"
     ]
    }
   ],
   "source": [
    "# information is in the \"Body\" of the object\n",
    "data_body = data_object[\"Body\"].read()\n",
    "print('Data type: ', type(data_body))"
   ]
  },
  {
   "cell_type": "markdown",
   "metadata": {},
   "source": [
    "This is a `bytes` datatype, which you can read it in using [io.BytesIO(file)](https://docs.python.org/3/library/io.html#binary-i-o)."
   ]
  },
  {
   "cell_type": "code",
   "execution_count": 9,
   "metadata": {
    "nbpresent": {
     "id": "97a46770-dbe0-40ea-b454-b15bdec20f53"
    }
   },
   "outputs": [
    {
     "data": {
      "text/html": [
       "<div>\n",
       "<style scoped>\n",
       "    .dataframe tbody tr th:only-of-type {\n",
       "        vertical-align: middle;\n",
       "    }\n",
       "\n",
       "    .dataframe tbody tr th {\n",
       "        vertical-align: top;\n",
       "    }\n",
       "\n",
       "    .dataframe thead th {\n",
       "        text-align: right;\n",
       "    }\n",
       "</style>\n",
       "<table border=\"1\" class=\"dataframe\">\n",
       "  <thead>\n",
       "    <tr style=\"text-align: right;\">\n",
       "      <th></th>\n",
       "      <th>CensusId</th>\n",
       "      <th>State</th>\n",
       "      <th>County</th>\n",
       "      <th>TotalPop</th>\n",
       "      <th>Men</th>\n",
       "      <th>Women</th>\n",
       "      <th>Hispanic</th>\n",
       "      <th>White</th>\n",
       "      <th>Black</th>\n",
       "      <th>Native</th>\n",
       "      <th>...</th>\n",
       "      <th>Walk</th>\n",
       "      <th>OtherTransp</th>\n",
       "      <th>WorkAtHome</th>\n",
       "      <th>MeanCommute</th>\n",
       "      <th>Employed</th>\n",
       "      <th>PrivateWork</th>\n",
       "      <th>PublicWork</th>\n",
       "      <th>SelfEmployed</th>\n",
       "      <th>FamilyWork</th>\n",
       "      <th>Unemployment</th>\n",
       "    </tr>\n",
       "  </thead>\n",
       "  <tbody>\n",
       "    <tr>\n",
       "      <th>0</th>\n",
       "      <td>1001</td>\n",
       "      <td>Alabama</td>\n",
       "      <td>Autauga</td>\n",
       "      <td>55221</td>\n",
       "      <td>26745</td>\n",
       "      <td>28476</td>\n",
       "      <td>2.6</td>\n",
       "      <td>75.8</td>\n",
       "      <td>18.5</td>\n",
       "      <td>0.4</td>\n",
       "      <td>...</td>\n",
       "      <td>0.5</td>\n",
       "      <td>1.3</td>\n",
       "      <td>1.8</td>\n",
       "      <td>26.5</td>\n",
       "      <td>23986</td>\n",
       "      <td>73.6</td>\n",
       "      <td>20.9</td>\n",
       "      <td>5.5</td>\n",
       "      <td>0.0</td>\n",
       "      <td>7.6</td>\n",
       "    </tr>\n",
       "    <tr>\n",
       "      <th>1</th>\n",
       "      <td>1003</td>\n",
       "      <td>Alabama</td>\n",
       "      <td>Baldwin</td>\n",
       "      <td>195121</td>\n",
       "      <td>95314</td>\n",
       "      <td>99807</td>\n",
       "      <td>4.5</td>\n",
       "      <td>83.1</td>\n",
       "      <td>9.5</td>\n",
       "      <td>0.6</td>\n",
       "      <td>...</td>\n",
       "      <td>1.0</td>\n",
       "      <td>1.4</td>\n",
       "      <td>3.9</td>\n",
       "      <td>26.4</td>\n",
       "      <td>85953</td>\n",
       "      <td>81.5</td>\n",
       "      <td>12.3</td>\n",
       "      <td>5.8</td>\n",
       "      <td>0.4</td>\n",
       "      <td>7.5</td>\n",
       "    </tr>\n",
       "    <tr>\n",
       "      <th>2</th>\n",
       "      <td>1005</td>\n",
       "      <td>Alabama</td>\n",
       "      <td>Barbour</td>\n",
       "      <td>26932</td>\n",
       "      <td>14497</td>\n",
       "      <td>12435</td>\n",
       "      <td>4.6</td>\n",
       "      <td>46.2</td>\n",
       "      <td>46.7</td>\n",
       "      <td>0.2</td>\n",
       "      <td>...</td>\n",
       "      <td>1.8</td>\n",
       "      <td>1.5</td>\n",
       "      <td>1.6</td>\n",
       "      <td>24.1</td>\n",
       "      <td>8597</td>\n",
       "      <td>71.8</td>\n",
       "      <td>20.8</td>\n",
       "      <td>7.3</td>\n",
       "      <td>0.1</td>\n",
       "      <td>17.6</td>\n",
       "    </tr>\n",
       "    <tr>\n",
       "      <th>3</th>\n",
       "      <td>1007</td>\n",
       "      <td>Alabama</td>\n",
       "      <td>Bibb</td>\n",
       "      <td>22604</td>\n",
       "      <td>12073</td>\n",
       "      <td>10531</td>\n",
       "      <td>2.2</td>\n",
       "      <td>74.5</td>\n",
       "      <td>21.4</td>\n",
       "      <td>0.4</td>\n",
       "      <td>...</td>\n",
       "      <td>0.6</td>\n",
       "      <td>1.5</td>\n",
       "      <td>0.7</td>\n",
       "      <td>28.8</td>\n",
       "      <td>8294</td>\n",
       "      <td>76.8</td>\n",
       "      <td>16.1</td>\n",
       "      <td>6.7</td>\n",
       "      <td>0.4</td>\n",
       "      <td>8.3</td>\n",
       "    </tr>\n",
       "    <tr>\n",
       "      <th>4</th>\n",
       "      <td>1009</td>\n",
       "      <td>Alabama</td>\n",
       "      <td>Blount</td>\n",
       "      <td>57710</td>\n",
       "      <td>28512</td>\n",
       "      <td>29198</td>\n",
       "      <td>8.6</td>\n",
       "      <td>87.9</td>\n",
       "      <td>1.5</td>\n",
       "      <td>0.3</td>\n",
       "      <td>...</td>\n",
       "      <td>0.9</td>\n",
       "      <td>0.4</td>\n",
       "      <td>2.3</td>\n",
       "      <td>34.9</td>\n",
       "      <td>22189</td>\n",
       "      <td>82.0</td>\n",
       "      <td>13.5</td>\n",
       "      <td>4.2</td>\n",
       "      <td>0.4</td>\n",
       "      <td>7.7</td>\n",
       "    </tr>\n",
       "  </tbody>\n",
       "</table>\n",
       "<p>5 rows × 37 columns</p>\n",
       "</div>"
      ],
      "text/plain": [
       "   CensusId    State   County  TotalPop    Men  Women  Hispanic  White  Black  \\\n",
       "0      1001  Alabama  Autauga     55221  26745  28476       2.6   75.8   18.5   \n",
       "1      1003  Alabama  Baldwin    195121  95314  99807       4.5   83.1    9.5   \n",
       "2      1005  Alabama  Barbour     26932  14497  12435       4.6   46.2   46.7   \n",
       "3      1007  Alabama     Bibb     22604  12073  10531       2.2   74.5   21.4   \n",
       "4      1009  Alabama   Blount     57710  28512  29198       8.6   87.9    1.5   \n",
       "\n",
       "   Native  ...  Walk  OtherTransp  WorkAtHome  MeanCommute  Employed  \\\n",
       "0     0.4  ...   0.5          1.3         1.8         26.5     23986   \n",
       "1     0.6  ...   1.0          1.4         3.9         26.4     85953   \n",
       "2     0.2  ...   1.8          1.5         1.6         24.1      8597   \n",
       "3     0.4  ...   0.6          1.5         0.7         28.8      8294   \n",
       "4     0.3  ...   0.9          0.4         2.3         34.9     22189   \n",
       "\n",
       "   PrivateWork  PublicWork  SelfEmployed  FamilyWork  Unemployment  \n",
       "0         73.6        20.9           5.5         0.0           7.6  \n",
       "1         81.5        12.3           5.8         0.4           7.5  \n",
       "2         71.8        20.8           7.3         0.1          17.6  \n",
       "3         76.8        16.1           6.7         0.4           8.3  \n",
       "4         82.0        13.5           4.2         0.4           7.7  \n",
       "\n",
       "[5 rows x 37 columns]"
      ]
     },
     "execution_count": 9,
     "metadata": {},
     "output_type": "execute_result"
    }
   ],
   "source": [
    "# read in bytes data\n",
    "data_stream = io.BytesIO(data_body)\n",
    "\n",
    "# create a dataframe\n",
    "counties_df = pd.read_csv(data_stream, header=0, delimiter=\",\") \n",
    "counties_df.head()"
   ]
  },
  {
   "cell_type": "markdown",
   "metadata": {
    "nbpresent": {
     "id": "c2f7177c-9a56-46a7-8e51-53c1ccdac759"
    }
   },
   "source": [
    "## Exploratory Data Analysis (EDA)\n",
    "\n",
    "Now that you've loaded in the data, it is time to clean it up, explore it, and pre-process it. Data exploration is one of the most important parts of the machine learning workflow because it allows you to notice any initial patterns in data distribution and features that may inform how you proceed with modeling and clustering the data.\n",
    "\n",
    "### EXERCISE: Explore data & drop any incomplete rows of data\n",
    "\n",
    "When you first explore the data, it is good to know what you are working with. How many data points and features are you starting with, and what kind of information can you get at a first glance? In this notebook, you're required to use complete data points to train a model. So, your first exercise will be to investigate the shape of this data and implement a simple, data cleaning step: dropping any incomplete rows of data.\n",
    "\n",
    "You should be able to answer the **question**: How many data points and features are in the original, provided dataset? (And how many points are left after dropping any incomplete rows?)"
   ]
  },
  {
   "cell_type": "code",
   "execution_count": 10,
   "metadata": {},
   "outputs": [
    {
     "name": "stdout",
     "output_type": "stream",
     "text": [
      "(3220, 37)\n",
      "(3218, 37)\n"
     ]
    }
   ],
   "source": [
    "# print out stats about data\n",
    "print(counties_df.shape)\n",
    "\n",
    "# drop any incomplete rows of data, and create a new df\n",
    "clean_counties_df = counties_df.dropna(axis=0)\n",
    "print(clean_counties_df.shape)"
   ]
  },
  {
   "cell_type": "markdown",
   "metadata": {
    "nbpresent": {
     "id": "fdd10c00-53ba-405d-8622-fbfeac17d3bb"
    }
   },
   "source": [
    "### EXERCISE: Create a new DataFrame, indexed by 'State-County'\n",
    "\n",
    "Eventually, you'll want to feed these features into a machine learning model. Machine learning models need numerical data to learn from and not categorical data like strings (State, County). So, you'll reformat this data such that it is indexed by region and you'll also drop any features that are not useful for clustering.\n",
    "\n",
    "To complete this task, perform the following steps, using your *clean* DataFrame, generated above:\n",
    "1. Combine the descriptive columns, 'State' and 'County', into one, new categorical column, 'State-County'. \n",
    "2. Index the data by this unique State-County name.\n",
    "3. After doing this, drop the old State and County columns and the CensusId column, which does not give us any meaningful demographic information.\n",
    "\n",
    "After completing this task, you should have a DataFrame with 'State-County' as the index, and 34 columns of numerical data for each county. You should get a resultant DataFrame that looks like the following (truncated for display purposes):\n",
    "```\n",
    "                TotalPop\t Men\t  Women\tHispanic\t...\n",
    "                \n",
    "Alabama-Autauga\t55221\t 26745\t28476\t2.6         ...\n",
    "Alabama-Baldwin\t195121\t95314\t99807\t4.5         ...\n",
    "Alabama-Barbour\t26932\t 14497\t12435\t4.6         ...\n",
    "...\n",
    "\n",
    "```"
   ]
  },
  {
   "cell_type": "code",
   "execution_count": 11,
   "metadata": {},
   "outputs": [
    {
     "name": "stdout",
     "output_type": "stream",
     "text": [
      "                           TotalPop     Men   Women  Hispanic  White  Black  \\\n",
      "Alabama-Autauga               55221   26745   28476       2.6   75.8   18.5   \n",
      "Alabama-Baldwin              195121   95314   99807       4.5   83.1    9.5   \n",
      "Alabama-Barbour               26932   14497   12435       4.6   46.2   46.7   \n",
      "Alabama-Bibb                  22604   12073   10531       2.2   74.5   21.4   \n",
      "Alabama-Blount                57710   28512   29198       8.6   87.9    1.5   \n",
      "Alabama-Bullock               10678    5660    5018       4.4   22.2   70.7   \n",
      "Alabama-Butler                20354    9502   10852       1.2   53.3   43.8   \n",
      "Alabama-Calhoun              116648   56274   60374       3.5   73.0   20.3   \n",
      "Alabama-Chambers              34079   16258   17821       0.4   57.3   40.3   \n",
      "Alabama-Cherokee              26008   12975   13033       1.5   91.7    4.8   \n",
      "Alabama-Chilton               43819   21619   22200       7.6   80.5   10.2   \n",
      "Alabama-Choctaw               13395    6382    7013       0.4   55.9   42.9   \n",
      "Alabama-Clarke                25070   11834   13236       0.3   53.4   45.3   \n",
      "Alabama-Clay                  13537    6671    6866       3.2   79.9   14.4   \n",
      "Alabama-Cleburne              15002    7334    7668       2.3   92.5    2.9   \n",
      "Alabama-Coffee                50884   25174   25710       6.4   71.5   17.2   \n",
      "Alabama-Colbert               54444   26303   28141       2.4   78.9   15.6   \n",
      "Alabama-Conecuh               12865    6176    6689       1.6   51.0   44.7   \n",
      "Alabama-Coosa                 11027    5579    5448       2.1   65.2   30.7   \n",
      "Alabama-Covington             37886   18339   19547       1.5   83.3   13.0   \n",
      "Alabama-Crenshaw              13938    6863    7075       1.7   70.5   23.5   \n",
      "Alabama-Cullman               80965   40081   40884       4.3   92.2    1.1   \n",
      "Alabama-Dale                  49866   24708   25158       6.0   69.8   19.4   \n",
      "Alabama-Dallas                42154   19450   22704       0.3   28.6   69.2   \n",
      "Alabama-DeKalb                71068   35474   35594      14.0   80.9    1.8   \n",
      "Alabama-Elmore                80763   39362   41401       2.8   73.6   21.0   \n",
      "Alabama-Escambia              37935   19524   18411       1.2   60.7   33.4   \n",
      "Alabama-Etowah               103766   50207   53559       3.6   78.5   15.4   \n",
      "Alabama-Fayette               16896    8477    8419       0.7   85.3   12.0   \n",
      "Alabama-Franklin              31634   15311   16323      15.7   78.5    4.1   \n",
      "...                             ...     ...     ...       ...    ...    ...   \n",
      "Puerto Rico-Maunabo           11701    5779    5922      99.9    0.1    0.0   \n",
      "Puerto Rico-Mayagüez          83418   39978   43440      99.0    0.7    0.1   \n",
      "Puerto Rico-Moca              38815   19039   19776      99.2    0.4    0.0   \n",
      "Puerto Rico-Morovis           32294   16067   16227      99.8    0.1    0.0   \n",
      "Puerto Rico-Naguabo           26804   12733   14071      99.7    0.1    0.0   \n",
      "Puerto Rico-Naranjito         29751   14700   15051      99.6    0.1    0.0   \n",
      "Puerto Rico-Orocovis          22595   11376   11219      99.9    0.1    0.0   \n",
      "Puerto Rico-Patillas          18441    9075    9366      99.8    0.1    0.0   \n",
      "Puerto Rico-Peñuelas          22770   11107   11663      99.3    0.7    0.0   \n",
      "Puerto Rico-Ponce            156054   75153   80901      99.3    0.5    0.1   \n",
      "Puerto Rico-Quebradillas      25205   12258   12947      99.2    0.5    0.2   \n",
      "Puerto Rico-Rincón            14841    7249    7592      91.0    5.0    0.0   \n",
      "Puerto Rico-Río Grande        53029   25845   27184      99.3    0.6    0.1   \n",
      "Puerto Rico-Sabana Grande     24307   11536   12771      99.0    1.0    0.0   \n",
      "Puerto Rico-Salinas           30114   14631   15483      99.3    0.3    0.1   \n",
      "Puerto Rico-San Germán        34125   16590   17535      99.6    0.3    0.1   \n",
      "Puerto Rico-San Juan         371400  170416  200984      98.2    1.2    0.2   \n",
      "Puerto Rico-San Lorenzo       39778   19485   20293      99.8    0.2    0.0   \n",
      "Puerto Rico-San Sebastián     40471   19723   20748      99.3    0.6    0.0   \n",
      "Puerto Rico-Santa Isabel      22913   11085   11828      99.8    0.2    0.0   \n",
      "Puerto Rico-Toa Alta          74603   36028   38575      99.4    0.3    0.1   \n",
      "Puerto Rico-Toa Baja          85242   40215   45027      99.5    0.3    0.1   \n",
      "Puerto Rico-Trujillo Alto     71886   34036   37850      99.6    0.4    0.0   \n",
      "Puerto Rico-Utuado            31474   15368   16106      99.6    0.3    0.1   \n",
      "Puerto Rico-Vega Alta         39319   18762   20557      98.6    1.1    0.0   \n",
      "Puerto Rico-Vega Baja         56858   27379   29479      96.4    3.4    0.1   \n",
      "Puerto Rico-Vieques            9130    4585    4545      96.7    2.9    0.0   \n",
      "Puerto Rico-Villalba          24685   12086   12599      99.7    0.0    0.0   \n",
      "Puerto Rico-Yabucoa           36279   17648   18631      99.8    0.2    0.0   \n",
      "Puerto Rico-Yauco             39474   19047   20427      99.5    0.5    0.0   \n",
      "\n",
      "                           Native  Asian  Pacific  Citizen  ...  Walk  \\\n",
      "Alabama-Autauga               0.4    1.0      0.0    40725  ...   0.5   \n",
      "Alabama-Baldwin               0.6    0.7      0.0   147695  ...   1.0   \n",
      "Alabama-Barbour               0.2    0.4      0.0    20714  ...   1.8   \n",
      "Alabama-Bibb                  0.4    0.1      0.0    17495  ...   0.6   \n",
      "Alabama-Blount                0.3    0.1      0.0    42345  ...   0.9   \n",
      "Alabama-Bullock               1.2    0.2      0.0     8057  ...   5.0   \n",
      "Alabama-Butler                0.1    0.4      0.0    15581  ...   0.8   \n",
      "Alabama-Calhoun               0.2    0.9      0.0    88612  ...   1.2   \n",
      "Alabama-Chambers              0.2    0.8      0.0    26462  ...   0.3   \n",
      "Alabama-Cherokee              0.6    0.3      0.0    20600  ...   0.6   \n",
      "Alabama-Chilton               0.4    0.3      0.0    31728  ...   1.1   \n",
      "Alabama-Choctaw               0.0    0.0      0.0    10568  ...   1.9   \n",
      "Alabama-Clarke                0.0    0.4      0.4    19258  ...   1.3   \n",
      "Alabama-Clay                  0.7    0.0      0.0    10312  ...   1.8   \n",
      "Alabama-Cleburne              0.2    0.4      0.0    11367  ...   0.2   \n",
      "Alabama-Coffee                0.8    1.2      0.0    37575  ...   1.0   \n",
      "Alabama-Colbert               0.6    0.3      0.1    42075  ...   0.9   \n",
      "Alabama-Conecuh               0.3    0.0      0.0     9930  ...   0.6   \n",
      "Alabama-Coosa                 0.1    0.0      0.0     8803  ...   0.9   \n",
      "Alabama-Covington             0.5    0.3      0.1    29358  ...   1.5   \n",
      "Alabama-Crenshaw              0.8    1.8      0.0    10591  ...   1.3   \n",
      "Alabama-Cullman               0.4    0.6      0.0    61222  ...   1.5   \n",
      "Alabama-Dale                  0.5    1.2      0.0    37331  ...   1.6   \n",
      "Alabama-Dallas                0.2    0.3      0.0    31231  ...   2.2   \n",
      "Alabama-DeKalb                1.1    0.3      0.1    49341  ...   0.6   \n",
      "Alabama-Elmore                0.2    0.5      0.0    61172  ...   0.4   \n",
      "Alabama-Escambia              3.2    0.1      0.0    29399  ...   1.2   \n",
      "Alabama-Etowah                0.3    0.7      0.1    78881  ...   0.4   \n",
      "Alabama-Fayette               0.0    0.4      0.0    13188  ...   0.3   \n",
      "Alabama-Franklin              0.7    0.1      0.1    22124  ...   0.2   \n",
      "...                           ...    ...      ...      ...  ...   ...   \n",
      "Puerto Rico-Maunabo           0.0    0.0      0.0     9101  ...   4.7   \n",
      "Puerto Rico-Mayagüez          0.0    0.1      0.0    66844  ...   4.1   \n",
      "Puerto Rico-Moca              0.0    0.0      0.0    29371  ...   4.3   \n",
      "Puerto Rico-Morovis           0.0    0.0      0.0    24141  ...   4.7   \n",
      "Puerto Rico-Naguabo           0.0    0.0      0.0    19889  ...   4.7   \n",
      "Puerto Rico-Naranjito         0.0    0.0      0.0    22778  ...   1.7   \n",
      "Puerto Rico-Orocovis          0.0    0.0      0.0    16988  ...   5.6   \n",
      "Puerto Rico-Patillas          0.0    0.0      0.1    14351  ...   3.2   \n",
      "Puerto Rico-Peñuelas          0.0    0.0      0.0    16847  ...   3.8   \n",
      "Puerto Rico-Ponce             0.0    0.1      0.0   119470  ...   2.8   \n",
      "Puerto Rico-Quebradillas      0.0    0.0      0.0    19331  ...   6.5   \n",
      "Puerto Rico-Rincón            0.0    0.2      0.0    11744  ...   4.8   \n",
      "Puerto Rico-Río Grande        0.0    0.0      0.0    40531  ...   2.1   \n",
      "Puerto Rico-Sabana Grande     0.0    0.0      0.0    18719  ...   3.1   \n",
      "Puerto Rico-Salinas           0.0    0.3      0.0    22528  ...   6.0   \n",
      "Puerto Rico-San Germán        0.0    0.0      0.0    26736  ...   3.0   \n",
      "Puerto Rico-San Juan          0.0    0.2      0.0   269941  ...   6.1   \n",
      "Puerto Rico-San Lorenzo       0.0    0.0      0.0    30770  ...   3.6   \n",
      "Puerto Rico-San Sebastián     0.0    0.0      0.0    31206  ...   3.4   \n",
      "Puerto Rico-Santa Isabel      0.0    0.0      0.0    16803  ...   3.4   \n",
      "Puerto Rico-Toa Alta          0.0    0.3      0.0    55632  ...   1.4   \n",
      "Puerto Rico-Toa Baja          0.0    0.0      0.0    64551  ...   2.5   \n",
      "Puerto Rico-Trujillo Alto     0.0    0.0      0.0    54311  ...   1.4   \n",
      "Puerto Rico-Utuado            0.0    0.0      0.0    24283  ...   7.8   \n",
      "Puerto Rico-Vega Alta         0.0    0.0      0.0    29570  ...   3.1   \n",
      "Puerto Rico-Vega Baja         0.0    0.0      0.0    43656  ...   1.2   \n",
      "Puerto Rico-Vieques           0.0    0.0      0.0     7085  ...  10.8   \n",
      "Puerto Rico-Villalba          0.0    0.0      0.0    18458  ...   3.2   \n",
      "Puerto Rico-Yabucoa           0.0    0.1      0.0    27924  ...   2.3   \n",
      "Puerto Rico-Yauco             0.0    0.0      0.0    30661  ...   1.6   \n",
      "\n",
      "                           OtherTransp  WorkAtHome  MeanCommute  Employed  \\\n",
      "Alabama-Autauga                    1.3         1.8         26.5     23986   \n",
      "Alabama-Baldwin                    1.4         3.9         26.4     85953   \n",
      "Alabama-Barbour                    1.5         1.6         24.1      8597   \n",
      "Alabama-Bibb                       1.5         0.7         28.8      8294   \n",
      "Alabama-Blount                     0.4         2.3         34.9     22189   \n",
      "Alabama-Bullock                    1.7         2.8         27.5      3865   \n",
      "Alabama-Butler                     0.6         1.7         24.6      7813   \n",
      "Alabama-Calhoun                    1.2         2.7         24.1     47401   \n",
      "Alabama-Chambers                   0.4         2.1         25.1     13689   \n",
      "Alabama-Cherokee                   0.7         2.5         27.4     10155   \n",
      "Alabama-Chilton                    1.4         1.9         32.0     17895   \n",
      "Alabama-Choctaw                    1.4         0.8         30.7      4405   \n",
      "Alabama-Clarke                     2.6         1.1         23.0      8161   \n",
      "Alabama-Clay                       0.9         2.1         30.3      5180   \n",
      "Alabama-Cleburne                   1.0         3.4         33.3      6065   \n",
      "Alabama-Coffee                     1.3         2.8         20.9     20912   \n",
      "Alabama-Colbert                    0.7         1.5         22.8     21290   \n",
      "Alabama-Conecuh                    0.3         1.3         29.7      3718   \n",
      "Alabama-Coosa                      1.0         2.1         28.6      3852   \n",
      "Alabama-Covington                  1.9         2.2         25.5     14202   \n",
      "Alabama-Crenshaw                   0.8         4.6         27.9      5620   \n",
      "Alabama-Cullman                    1.0         2.6         26.4     32282   \n",
      "Alabama-Dale                       1.7         2.6         20.4     18735   \n",
      "Alabama-Dallas                     1.6         2.2         23.9     14094   \n",
      "Alabama-DeKalb                     0.9         2.1         22.8     27778   \n",
      "Alabama-Elmore                     1.2         2.2         28.5     33636   \n",
      "Alabama-Escambia                   0.5         1.1         23.1     12294   \n",
      "Alabama-Etowah                     0.5         3.8         23.4     41236   \n",
      "Alabama-Fayette                    0.2         1.9         28.4      6122   \n",
      "Alabama-Franklin                   4.7         1.4         29.0     12249   \n",
      "...                                ...         ...          ...       ...   \n",
      "Puerto Rico-Maunabo                2.5         0.0         28.8      2459   \n",
      "Puerto Rico-Mayagüez               1.2         2.2         21.8     21048   \n",
      "Puerto Rico-Moca                   0.8         0.6         26.0      9245   \n",
      "Puerto Rico-Morovis                1.2         1.0         37.9      7740   \n",
      "Puerto Rico-Naguabo                0.2         2.7         33.2      7342   \n",
      "Puerto Rico-Naranjito              0.1         1.6         35.4      7315   \n",
      "Puerto Rico-Orocovis               1.1         1.9         34.8      4552   \n",
      "Puerto Rico-Patillas               2.3         1.3         27.3      3884   \n",
      "Puerto Rico-Peñuelas               1.9         0.9         26.4      5412   \n",
      "Puerto Rico-Ponce                  1.8         2.5         23.0     41711   \n",
      "Puerto Rico-Quebradillas           0.3         1.7         27.7      6284   \n",
      "Puerto Rico-Rincón                 0.0         5.1         25.0      4406   \n",
      "Puerto Rico-Río Grande             4.1         2.6         38.6     17033   \n",
      "Puerto Rico-Sabana Grande          0.9         1.4         24.7      5339   \n",
      "Puerto Rico-Salinas                2.3         1.3         24.1      7804   \n",
      "Puerto Rico-San Germán             0.9         3.7         26.5      8803   \n",
      "Puerto Rico-San Juan               3.0         2.8         26.0    133186   \n",
      "Puerto Rico-San Lorenzo            0.4         0.9         34.2     11327   \n",
      "Puerto Rico-San Sebastián          0.9         2.8         27.9      8785   \n",
      "Puerto Rico-Santa Isabel           0.8         1.7         25.6      6895   \n",
      "Puerto Rico-Toa Alta               2.0         0.6         41.2     26760   \n",
      "Puerto Rico-Toa Baja               4.8         2.8         35.6     30020   \n",
      "Puerto Rico-Trujillo Alto          2.9         3.2         34.5     28059   \n",
      "Puerto Rico-Utuado                 0.7         1.0         32.4      6819   \n",
      "Puerto Rico-Vega Alta              2.3         0.9         35.0      9804   \n",
      "Puerto Rico-Vega Baja              1.3         0.3         32.0     13660   \n",
      "Puerto Rico-Vieques                0.0         1.4         14.0      2860   \n",
      "Puerto Rico-Villalba               0.0         3.3         26.9      6795   \n",
      "Puerto Rico-Yabucoa                2.3         1.5         29.5      8083   \n",
      "Puerto Rico-Yauco                  0.7         3.1         24.6      8923   \n",
      "\n",
      "                           PrivateWork  PublicWork  SelfEmployed  FamilyWork  \\\n",
      "Alabama-Autauga                   73.6        20.9           5.5         0.0   \n",
      "Alabama-Baldwin                   81.5        12.3           5.8         0.4   \n",
      "Alabama-Barbour                   71.8        20.8           7.3         0.1   \n",
      "Alabama-Bibb                      76.8        16.1           6.7         0.4   \n",
      "Alabama-Blount                    82.0        13.5           4.2         0.4   \n",
      "Alabama-Bullock                   79.5        15.1           5.4         0.0   \n",
      "Alabama-Butler                    77.4        16.2           6.2         0.2   \n",
      "Alabama-Calhoun                   74.1        20.8           5.0         0.1   \n",
      "Alabama-Chambers                  85.1        12.1           2.8         0.0   \n",
      "Alabama-Cherokee                  73.1        18.5           7.9         0.5   \n",
      "Alabama-Chilton                   80.3        15.2           4.1         0.5   \n",
      "Alabama-Choctaw                   77.5        16.8           5.4         0.3   \n",
      "Alabama-Clarke                    83.1        13.6           3.3         0.0   \n",
      "Alabama-Clay                      77.5        14.7           7.8         0.0   \n",
      "Alabama-Cleburne                  76.3        15.3           8.4         0.0   \n",
      "Alabama-Coffee                    70.3        23.5           5.7         0.5   \n",
      "Alabama-Colbert                   78.6        16.1           5.2         0.0   \n",
      "Alabama-Conecuh                   77.8        13.0           8.3         0.8   \n",
      "Alabama-Coosa                     76.6        17.5           5.9         0.0   \n",
      "Alabama-Covington                 77.1        15.8           6.7         0.4   \n",
      "Alabama-Crenshaw                  74.1        17.8           7.9         0.3   \n",
      "Alabama-Cullman                   81.6        12.2           5.8         0.4   \n",
      "Alabama-Dale                      73.1        20.9           5.9         0.1   \n",
      "Alabama-Dallas                    76.6        16.7           6.2         0.4   \n",
      "Alabama-DeKalb                    78.8        12.6           8.5         0.1   \n",
      "Alabama-Elmore                    70.4        24.1           5.5         0.0   \n",
      "Alabama-Escambia                  74.5        19.0           6.4         0.1   \n",
      "Alabama-Etowah                    79.8        14.4           5.6         0.2   \n",
      "Alabama-Fayette                   81.9        14.2           3.8         0.1   \n",
      "Alabama-Franklin                  78.5        14.6           6.9         0.0   \n",
      "...                                ...         ...           ...         ...   \n",
      "Puerto Rico-Maunabo               46.7        48.5           4.8         0.0   \n",
      "Puerto Rico-Mayagüez              65.9        25.3           8.5         0.2   \n",
      "Puerto Rico-Moca                  59.1        29.1          11.7         0.0   \n",
      "Puerto Rico-Morovis               72.5        22.9           4.4         0.2   \n",
      "Puerto Rico-Naguabo               63.1        23.0          14.0         0.0   \n",
      "Puerto Rico-Naranjito             70.5        22.9           6.5         0.0   \n",
      "Puerto Rico-Orocovis              58.3        32.6           8.9         0.2   \n",
      "Puerto Rico-Patillas              55.1        39.3           4.2         1.4   \n",
      "Puerto Rico-Peñuelas              60.8        31.0           8.2         0.0   \n",
      "Puerto Rico-Ponce                 69.8        20.4           9.5         0.3   \n",
      "Puerto Rico-Quebradillas          66.7        24.1           9.3         0.0   \n",
      "Puerto Rico-Rincón                71.3        19.5           9.1         0.0   \n",
      "Puerto Rico-Río Grande            69.8        23.4           6.4         0.4   \n",
      "Puerto Rico-Sabana Grande         67.2        29.8           3.0         0.0   \n",
      "Puerto Rico-Salinas               61.6        32.4           6.0         0.0   \n",
      "Puerto Rico-San Germán            67.1        22.7           9.8         0.4   \n",
      "Puerto Rico-San Juan              67.6        18.9          13.4         0.2   \n",
      "Puerto Rico-San Lorenzo           71.5        22.2           6.2         0.1   \n",
      "Puerto Rico-San Sebastián         64.6        23.7          10.9         0.9   \n",
      "Puerto Rico-Santa Isabel          68.7        25.3           6.0         0.0   \n",
      "Puerto Rico-Toa Alta              70.3        21.6           7.8         0.3   \n",
      "Puerto Rico-Toa Baja              68.9        23.3           7.7         0.2   \n",
      "Puerto Rico-Trujillo Alto         68.9        21.0          10.1         0.0   \n",
      "Puerto Rico-Utuado                58.0        34.0           7.3         0.7   \n",
      "Puerto Rico-Vega Alta             75.7        20.3           4.1         0.0   \n",
      "Puerto Rico-Vega Baja             78.3        17.6           4.1         0.0   \n",
      "Puerto Rico-Vieques               44.5        41.6          13.6         0.3   \n",
      "Puerto Rico-Villalba              59.2        27.5          13.1         0.2   \n",
      "Puerto Rico-Yabucoa               65.1        27.6           7.3         0.0   \n",
      "Puerto Rico-Yauco                 68.0        27.6           4.4         0.0   \n",
      "\n",
      "                           Unemployment  \n",
      "Alabama-Autauga                     7.6  \n",
      "Alabama-Baldwin                     7.5  \n",
      "Alabama-Barbour                    17.6  \n",
      "Alabama-Bibb                        8.3  \n",
      "Alabama-Blount                      7.7  \n",
      "Alabama-Bullock                    18.0  \n",
      "Alabama-Butler                     10.9  \n",
      "Alabama-Calhoun                    12.3  \n",
      "Alabama-Chambers                    8.9  \n",
      "Alabama-Cherokee                    7.9  \n",
      "Alabama-Chilton                     9.1  \n",
      "Alabama-Choctaw                    13.6  \n",
      "Alabama-Clarke                     19.4  \n",
      "Alabama-Clay                        9.4  \n",
      "Alabama-Cleburne                    8.3  \n",
      "Alabama-Coffee                      7.1  \n",
      "Alabama-Colbert                     9.0  \n",
      "Alabama-Conecuh                    22.6  \n",
      "Alabama-Coosa                      17.0  \n",
      "Alabama-Covington                  11.2  \n",
      "Alabama-Crenshaw                    9.7  \n",
      "Alabama-Cullman                     7.3  \n",
      "Alabama-Dale                       10.9  \n",
      "Alabama-Dallas                     16.4  \n",
      "Alabama-DeKalb                      7.7  \n",
      "Alabama-Elmore                      8.3  \n",
      "Alabama-Escambia                   15.6  \n",
      "Alabama-Etowah                      9.0  \n",
      "Alabama-Fayette                    10.0  \n",
      "Alabama-Franklin                    9.8  \n",
      "...                                 ...  \n",
      "Puerto Rico-Maunabo                27.9  \n",
      "Puerto Rico-Mayagüez               22.9  \n",
      "Puerto Rico-Moca                   23.0  \n",
      "Puerto Rico-Morovis                24.7  \n",
      "Puerto Rico-Naguabo                10.9  \n",
      "Puerto Rico-Naranjito              21.9  \n",
      "Puerto Rico-Orocovis               31.2  \n",
      "Puerto Rico-Patillas               27.5  \n",
      "Puerto Rico-Peñuelas               26.1  \n",
      "Puerto Rico-Ponce                  20.0  \n",
      "Puerto Rico-Quebradillas           16.1  \n",
      "Puerto Rico-Rincón                 17.6  \n",
      "Puerto Rico-Río Grande             23.9  \n",
      "Puerto Rico-Sabana Grande          24.3  \n",
      "Puerto Rico-Salinas                12.1  \n",
      "Puerto Rico-San Germán              6.8  \n",
      "Puerto Rico-San Juan               15.8  \n",
      "Puerto Rico-San Lorenzo            15.8  \n",
      "Puerto Rico-San Sebastián          29.4  \n",
      "Puerto Rico-Santa Isabel           12.2  \n",
      "Puerto Rico-Toa Alta               15.7  \n",
      "Puerto Rico-Toa Baja               19.0  \n",
      "Puerto Rico-Trujillo Alto           7.9  \n",
      "Puerto Rico-Utuado                 28.8  \n",
      "Puerto Rico-Vega Alta              21.7  \n",
      "Puerto Rico-Vega Baja              15.2  \n",
      "Puerto Rico-Vieques                12.2  \n",
      "Puerto Rico-Villalba               25.9  \n",
      "Puerto Rico-Yabucoa                24.3  \n",
      "Puerto Rico-Yauco                  27.1  \n",
      "\n",
      "[3218 rows x 34 columns]\n"
     ]
    }
   ],
   "source": [
    "# index data by 'State-County'\n",
    "clean_counties_df.index=clean_counties_df['State'] + \"-\" + clean_counties_df['County']\n",
    "clean_counties_df = clean_counties_df.drop('CensusId', axis='columns')\n",
    "clean_counties_df = clean_counties_df.drop('State', axis='columns')\n",
    "clean_counties_df = clean_counties_df.drop('County', axis='columns')\n",
    "print(clean_counties_df)\n"
   ]
  },
  {
   "cell_type": "code",
   "execution_count": 30,
   "metadata": {},
   "outputs": [
    {
     "data": {
      "text/plain": [
       "(3218, 34)"
      ]
     },
     "execution_count": 30,
     "metadata": {},
     "output_type": "execute_result"
    }
   ],
   "source": [
    "# drop the old State and County columns, and the CensusId column\n",
    "# clean df should be modified or created anew\n",
    "clean_counties_df.shape\n"
   ]
  },
  {
   "cell_type": "markdown",
   "metadata": {},
   "source": [
    "Now, what features do you have to work with?"
   ]
  },
  {
   "cell_type": "code",
   "execution_count": 12,
   "metadata": {},
   "outputs": [
    {
     "name": "stdout",
     "output_type": "stream",
     "text": [
      "Features: \n",
      " ['TotalPop' 'Men' 'Women' 'Hispanic' 'White' 'Black' 'Native' 'Asian'\n",
      " 'Pacific' 'Citizen' 'Income' 'IncomeErr' 'IncomePerCap' 'IncomePerCapErr'\n",
      " 'Poverty' 'ChildPoverty' 'Professional' 'Service' 'Office' 'Construction'\n",
      " 'Production' 'Drive' 'Carpool' 'Transit' 'Walk' 'OtherTransp'\n",
      " 'WorkAtHome' 'MeanCommute' 'Employed' 'PrivateWork' 'PublicWork'\n",
      " 'SelfEmployed' 'FamilyWork' 'Unemployment']\n"
     ]
    }
   ],
   "source": [
    "# features\n",
    "features_list = clean_counties_df.columns.values\n",
    "print('Features: \\n', features_list)"
   ]
  },
  {
   "cell_type": "markdown",
   "metadata": {},
   "source": [
    "## Visualizing the Data\n",
    "\n",
    "In general, you can see that features come in a variety of ranges, mostly percentages from 0-100, and counts that are integer values in a large range. Let's visualize the data in some of our feature columns and see what the distribution, over all counties, looks like.\n",
    "\n",
    "The below cell displays **histograms**, which show the distribution of data points over discrete feature ranges. The x-axis represents the different bins; each bin is defined by a specific range of values that a feature can take, say between the values 0-5 and 5-10, and so on. The y-axis is the frequency of occurrence or the number of county data points that fall into each bin. I find it helpful to use the y-axis values for relative comparisons between different features.\n",
    "\n",
    "Below, I'm plotting a histogram comparing methods of commuting to work over all of the counties. I just copied these feature names from the list of column names, printed above. I also know that all of these features are represented as percentages (%) in the original data, so the x-axes of these plots will be comparable."
   ]
  },
  {
   "cell_type": "code",
   "execution_count": 23,
   "metadata": {
    "nbpresent": {
     "id": "7e847244-7b42-490f-8945-46e234a3af75"
    }
   },
   "outputs": [
    {
     "data": {
      "image/png": "[encoded data removed]",
      "text/plain": [
       "<Figure size 432x216 with 1 Axes>"
      ]
     },
     "metadata": {},
     "output_type": "display_data"
    },
    {
     "data": {
      "image/png": "[encoded data removed]",
      "text/plain": [
       "<Figure size 432x216 with 1 Axes>"
      ]
     },
     "metadata": {},
     "output_type": "display_data"
    },
    {
     "data": {
      "image/png": "[encoded data removed]",
      "text/plain": [
       "<Figure size 432x216 with 1 Axes>"
      ]
     },
     "metadata": {},
     "output_type": "display_data"
    },
    {
     "data": {
      "image/png": "[encoded data removed]",
      "text/plain": [
       "<Figure size 432x216 with 1 Axes>"
      ]
     },
     "metadata": {},
     "output_type": "display_data"
    },
    {
     "data": {
      "image/png": "[encoded data removed]",
      "text/plain": [
       "<Figure size 432x216 with 1 Axes>"
      ]
     },
     "metadata": {},
     "output_type": "display_data"
    }
   ],
   "source": [
    "# transportation (to work)\n",
    "transport_list = ['Drive', 'Carpool', 'Transit', 'Walk', 'OtherTransp']\n",
    "n_bins = 30 # can decrease to get a wider bin (or vice versa)\n",
    "\n",
    "for column_name in transport_list:\n",
    "    ax=plt.subplots(figsize=(6,3))\n",
    "    # get data by column_name and display a histogram\n",
    "    ax = plt.hist(clean_counties_df[column_name], bins=n_bins)\n",
    "    title=\"Histogram of \" + column_name\n",
    "    plt.title(title, fontsize=12)\n",
    "    plt.show()"
   ]
  },
  {
   "cell_type": "markdown",
   "metadata": {},
   "source": [
    "### EXERCISE: Create histograms of your own\n",
    "\n",
    "Commute transportation method is just one category of features. If you take a look at the 34 features, you can see data on profession, race, income, and more. Display a set of histograms that interest you!\n"
   ]
  },
  {
   "cell_type": "code",
   "execution_count": 25,
   "metadata": {},
   "outputs": [
    {
     "data": {
      "image/png": "[encoded data removed]",
      "text/plain": [
       "<Figure size 432x216 with 1 Axes>"
      ]
     },
     "metadata": {},
     "output_type": "display_data"
    },
    {
     "data": {
      "image/png": "[encoded data removed]",
      "text/plain": [
       "<Figure size 432x216 with 1 Axes>"
      ]
     },
     "metadata": {},
     "output_type": "display_data"
    },
    {
     "data": {
      "image/png": "[encoded data removed]",
      "text/plain": [
       "<Figure size 432x216 with 1 Axes>"
      ]
     },
     "metadata": {},
     "output_type": "display_data"
    }
   ],
   "source": [
    "# create a list of features that you want to compare or examine\n",
    "my_list = ['Income', 'SelfEmployed', 'Unemployment']\n",
    "n_bins = 20 # define n_bins\n",
    "\n",
    "# histogram creation code is similar to above\n",
    "for column_name in my_list:\n",
    "    ax=plt.subplots(figsize=(6,3))\n",
    "    # get data by column_name and display a histogram\n",
    "    ax = plt.hist(clean_counties_df[column_name], bins=n_bins)\n",
    "    title=\"Histogram of \" + column_name\n",
    "    plt.title(title, fontsize=12)\n",
    "    plt.show()"
   ]
  },
  {
   "cell_type": "markdown",
   "metadata": {},
   "source": [
    "### EXERCISE: Normalize the data\n",
    "\n",
    "You need to standardize the scale of the numerical columns in order to consistently compare the values of different features. You can use a [MinMaxScaler](https://scikit-learn.org/stable/modules/generated/sklearn.preprocessing.MinMaxScaler.html) to transform the numerical values so that they all fall between 0 and 1."
   ]
  },
  {
   "cell_type": "code",
   "execution_count": 13,
   "metadata": {},
   "outputs": [
    {
     "name": "stdout",
     "output_type": "stream",
     "text": [
      "                           TotalPop       Men     Women  Hispanic     White  \\\n",
      "Alabama-Autauga            0.005475  0.005381  0.005566  0.026026  0.759519   \n",
      "Alabama-Baldwin            0.019411  0.019246  0.019572  0.045045  0.832665   \n",
      "Alabama-Barbour            0.002656  0.002904  0.002416  0.046046  0.462926   \n",
      "Alabama-Bibb               0.002225  0.002414  0.002042  0.022022  0.746493   \n",
      "Alabama-Blount             0.005722  0.005738  0.005707  0.086086  0.880762   \n",
      "Alabama-Bullock            0.001037  0.001117  0.000960  0.044044  0.222445   \n",
      "Alabama-Butler             0.002001  0.001894  0.002105  0.012012  0.534068   \n",
      "Alabama-Calhoun            0.011594  0.011352  0.011829  0.035035  0.731463   \n",
      "Alabama-Chambers           0.003368  0.003260  0.003473  0.004004  0.574148   \n",
      "Alabama-Cherokee           0.002564  0.002596  0.002533  0.015015  0.918838   \n",
      "Alabama-Chilton            0.004339  0.004344  0.004333  0.076076  0.806613   \n",
      "Alabama-Choctaw            0.001308  0.001263  0.001351  0.004004  0.560120   \n",
      "Alabama-Clarke             0.002471  0.002366  0.002573  0.003003  0.535070   \n",
      "Alabama-Clay               0.001322  0.001321  0.001322  0.032032  0.800601   \n",
      "Alabama-Cleburne           0.001468  0.001456  0.001480  0.023023  0.926854   \n",
      "Alabama-Coffee             0.005042  0.005063  0.005022  0.064064  0.716433   \n",
      "Alabama-Colbert            0.005397  0.005291  0.005500  0.024024  0.790581   \n",
      "Alabama-Conecuh            0.001255  0.001221  0.001288  0.016016  0.511022   \n",
      "Alabama-Coosa              0.001072  0.001101  0.001044  0.021021  0.653307   \n",
      "Alabama-Covington          0.003748  0.003681  0.003812  0.015015  0.834669   \n",
      "Alabama-Crenshaw           0.001362  0.001360  0.001363  0.017017  0.706413   \n",
      "Alabama-Cullman            0.008039  0.008078  0.008002  0.043043  0.923848   \n",
      "Alabama-Dale               0.004941  0.004969  0.004914  0.060060  0.699399   \n",
      "Alabama-Dallas             0.004173  0.003906  0.004432  0.003003  0.286573   \n",
      "Alabama-DeKalb             0.007053  0.007146  0.006963  0.140140  0.810621   \n",
      "Alabama-Elmore             0.008019  0.007932  0.008103  0.028028  0.737475   \n",
      "Alabama-Escambia           0.003752  0.003921  0.003589  0.012012  0.608216   \n",
      "Alabama-Etowah             0.010311  0.010125  0.010491  0.036036  0.786573   \n",
      "Alabama-Fayette            0.001657  0.001687  0.001627  0.007007  0.854709   \n",
      "Alabama-Franklin           0.003125  0.003069  0.003179  0.157157  0.786573   \n",
      "...                             ...       ...       ...       ...       ...   \n",
      "Puerto Rico-Maunabo        0.001139  0.001141  0.001137  1.000000  0.001002   \n",
      "Puerto Rico-Mayagüez       0.008284  0.008057  0.008504  0.990991  0.007014   \n",
      "Puerto Rico-Moca           0.003840  0.003822  0.003857  0.992993  0.004008   \n",
      "Puerto Rico-Morovis        0.003191  0.003221  0.003160  0.998999  0.001002   \n",
      "Puerto Rico-Naguabo        0.002644  0.002547  0.002737  0.997998  0.001002   \n",
      "Puerto Rico-Naranjito      0.002937  0.002945  0.002930  0.996997  0.001002   \n",
      "Puerto Rico-Orocovis       0.002224  0.002273  0.002177  1.000000  0.001002   \n",
      "Puerto Rico-Patillas       0.001810  0.001808  0.001813  0.998999  0.001002   \n",
      "Puerto Rico-Peñuelas       0.002242  0.002219  0.002264  0.993994  0.007014   \n",
      "Puerto Rico-Ponce          0.015520  0.015170  0.015859  0.993994  0.005010   \n",
      "Puerto Rico-Quebradillas   0.002484  0.002451  0.002516  0.992993  0.005010   \n",
      "Puerto Rico-Rincón         0.001452  0.001438  0.001465  0.910911  0.050100   \n",
      "Puerto Rico-Río Grande     0.005256  0.005199  0.005312  0.993994  0.006012   \n",
      "Puerto Rico-Sabana Grande  0.002395  0.002305  0.002482  0.990991  0.010020   \n",
      "Puerto Rico-Salinas        0.002973  0.002931  0.003014  0.993994  0.003006   \n",
      "Puerto Rico-San Germán     0.003373  0.003327  0.003417  0.996997  0.003006   \n",
      "Puerto Rico-San Juan       0.036972  0.034433  0.039438  0.982983  0.012024   \n",
      "Puerto Rico-San Lorenzo    0.003936  0.003913  0.003959  0.998999  0.002004   \n",
      "Puerto Rico-San Sebastián  0.004005  0.003961  0.004048  0.993994  0.006012   \n",
      "Puerto Rico-Santa Isabel   0.002256  0.002214  0.002297  0.998999  0.002004   \n",
      "Puerto Rico-Toa Alta       0.007405  0.007258  0.007549  0.994995  0.003006   \n",
      "Puerto Rico-Toa Baja       0.008465  0.008105  0.008815  0.995996  0.003006   \n",
      "Puerto Rico-Trujillo Alto  0.007135  0.006855  0.007406  0.996997  0.004008   \n",
      "Puerto Rico-Utuado         0.003109  0.003080  0.003137  0.996997  0.003006   \n",
      "Puerto Rico-Vega Alta      0.003890  0.003766  0.004011  0.986987  0.011022   \n",
      "Puerto Rico-Vega Baja      0.005638  0.005509  0.005763  0.964965  0.034068   \n",
      "Puerto Rico-Vieques        0.000883  0.000900  0.000867  0.967968  0.029058   \n",
      "Puerto Rico-Villalba       0.002433  0.002416  0.002448  0.997998  0.000000   \n",
      "Puerto Rico-Yabucoa        0.003588  0.003541  0.003633  0.998999  0.002004   \n",
      "Puerto Rico-Yauco          0.003906  0.003824  0.003985  0.995996  0.005010   \n",
      "\n",
      "                              Black    Native     Asian   Pacific   Citizen  \\\n",
      "Alabama-Autauga            0.215367  0.004343  0.024038  0.000000  0.006702   \n",
      "Alabama-Baldwin            0.110594  0.006515  0.016827  0.000000  0.024393   \n",
      "Alabama-Barbour            0.543655  0.002172  0.009615  0.000000  0.003393   \n",
      "Alabama-Bibb               0.249127  0.004343  0.002404  0.000000  0.002860   \n",
      "Alabama-Blount             0.017462  0.003257  0.002404  0.000000  0.006970   \n",
      "Alabama-Bullock            0.823050  0.013029  0.004808  0.000000  0.001300   \n",
      "Alabama-Butler             0.509895  0.001086  0.009615  0.000000  0.002544   \n",
      "Alabama-Calhoun            0.236321  0.002172  0.021635  0.000000  0.014622   \n",
      "Alabama-Chambers           0.469150  0.002172  0.019231  0.000000  0.004343   \n",
      "Alabama-Cherokee           0.055879  0.006515  0.007212  0.000000  0.003374   \n",
      "Alabama-Chilton            0.118743  0.004343  0.007212  0.000000  0.005214   \n",
      "Alabama-Choctaw            0.499418  0.000000  0.000000  0.000000  0.001715   \n",
      "Alabama-Clarke             0.527357  0.000000  0.009615  0.036036  0.003152   \n",
      "Alabama-Clay               0.167637  0.007600  0.000000  0.000000  0.001673   \n",
      "Alabama-Cleburne           0.033760  0.002172  0.009615  0.000000  0.001847   \n",
      "Alabama-Coffee             0.200233  0.008686  0.028846  0.000000  0.006181   \n",
      "Alabama-Colbert            0.181607  0.006515  0.007212  0.009009  0.006926   \n",
      "Alabama-Conecuh            0.520373  0.003257  0.000000  0.000000  0.001609   \n",
      "Alabama-Coosa              0.357392  0.001086  0.000000  0.000000  0.001423   \n",
      "Alabama-Covington          0.151339  0.005429  0.007212  0.009009  0.004822   \n",
      "Alabama-Crenshaw           0.273574  0.008686  0.043269  0.000000  0.001719   \n",
      "Alabama-Cullman            0.012806  0.004343  0.014423  0.000000  0.010092   \n",
      "Alabama-Dale               0.225844  0.005429  0.028846  0.000000  0.006141   \n",
      "Alabama-Dallas             0.805588  0.002172  0.007212  0.000000  0.005132   \n",
      "Alabama-DeKalb             0.020955  0.011944  0.007212  0.009009  0.008127   \n",
      "Alabama-Elmore             0.244470  0.002172  0.012019  0.000000  0.010084   \n",
      "Alabama-Escambia           0.388824  0.034745  0.002404  0.000000  0.004829   \n",
      "Alabama-Etowah             0.179278  0.003257  0.016827  0.009009  0.013013   \n",
      "Alabama-Fayette            0.139697  0.000000  0.009615  0.000000  0.002148   \n",
      "Alabama-Franklin           0.047730  0.007600  0.002404  0.009009  0.003626   \n",
      "...                             ...       ...       ...       ...       ...   \n",
      "Puerto Rico-Maunabo        0.000000  0.000000  0.000000  0.000000  0.001472   \n",
      "Puerto Rico-Mayagüez       0.001164  0.000000  0.002404  0.000000  0.011022   \n",
      "Puerto Rico-Moca           0.000000  0.000000  0.000000  0.000000  0.004825   \n",
      "Puerto Rico-Morovis        0.000000  0.000000  0.000000  0.000000  0.003960   \n",
      "Puerto Rico-Naguabo        0.000000  0.000000  0.000000  0.000000  0.003256   \n",
      "Puerto Rico-Naranjito      0.000000  0.000000  0.000000  0.000000  0.003734   \n",
      "Puerto Rico-Orocovis       0.000000  0.000000  0.000000  0.000000  0.002777   \n",
      "Puerto Rico-Patillas       0.000000  0.000000  0.000000  0.009009  0.002341   \n",
      "Puerto Rico-Peñuelas       0.000000  0.000000  0.000000  0.000000  0.002753   \n",
      "Puerto Rico-Ponce          0.001164  0.000000  0.002404  0.000000  0.019725   \n",
      "Puerto Rico-Quebradillas   0.002328  0.000000  0.000000  0.000000  0.003164   \n",
      "Puerto Rico-Rincón         0.000000  0.000000  0.004808  0.000000  0.001909   \n",
      "Puerto Rico-Río Grande     0.001164  0.000000  0.000000  0.000000  0.006670   \n",
      "Puerto Rico-Sabana Grande  0.000000  0.000000  0.000000  0.000000  0.003063   \n",
      "Puerto Rico-Salinas        0.001164  0.000000  0.007212  0.000000  0.003693   \n",
      "Puerto Rico-San Germán     0.001164  0.000000  0.000000  0.000000  0.004389   \n",
      "Puerto Rico-San Juan       0.002328  0.000000  0.004808  0.000000  0.044611   \n",
      "Puerto Rico-San Lorenzo    0.000000  0.000000  0.000000  0.000000  0.005056   \n",
      "Puerto Rico-San Sebastián  0.000000  0.000000  0.000000  0.000000  0.005128   \n",
      "Puerto Rico-Santa Isabel   0.000000  0.000000  0.000000  0.000000  0.002746   \n",
      "Puerto Rico-Toa Alta       0.001164  0.000000  0.007212  0.000000  0.009168   \n",
      "Puerto Rico-Toa Baja       0.001164  0.000000  0.000000  0.000000  0.010643   \n",
      "Puerto Rico-Trujillo Alto  0.000000  0.000000  0.000000  0.000000  0.008949   \n",
      "Puerto Rico-Utuado         0.001164  0.000000  0.000000  0.000000  0.003983   \n",
      "Puerto Rico-Vega Alta      0.000000  0.000000  0.000000  0.000000  0.004857   \n",
      "Puerto Rico-Vega Baja      0.001164  0.000000  0.000000  0.000000  0.007187   \n",
      "Puerto Rico-Vieques        0.000000  0.000000  0.000000  0.000000  0.001139   \n",
      "Puerto Rico-Villalba       0.000000  0.000000  0.000000  0.000000  0.003020   \n",
      "Puerto Rico-Yabucoa        0.000000  0.000000  0.002404  0.000000  0.004585   \n",
      "Puerto Rico-Yauco          0.000000  0.000000  0.000000  0.000000  0.005038   \n",
      "\n",
      "                           ...      Walk  OtherTransp  WorkAtHome  \\\n",
      "Alabama-Autauga            ...  0.007022     0.033248    0.048387   \n",
      "Alabama-Baldwin            ...  0.014045     0.035806    0.104839   \n",
      "Alabama-Barbour            ...  0.025281     0.038363    0.043011   \n",
      "Alabama-Bibb               ...  0.008427     0.038363    0.018817   \n",
      "Alabama-Blount             ...  0.012640     0.010230    0.061828   \n",
      "Alabama-Bullock            ...  0.070225     0.043478    0.075269   \n",
      "Alabama-Butler             ...  0.011236     0.015345    0.045699   \n",
      "Alabama-Calhoun            ...  0.016854     0.030691    0.072581   \n",
      "Alabama-Chambers           ...  0.004213     0.010230    0.056452   \n",
      "Alabama-Cherokee           ...  0.008427     0.017903    0.067204   \n",
      "Alabama-Chilton            ...  0.015449     0.035806    0.051075   \n",
      "Alabama-Choctaw            ...  0.026685     0.035806    0.021505   \n",
      "Alabama-Clarke             ...  0.018258     0.066496    0.029570   \n",
      "Alabama-Clay               ...  0.025281     0.023018    0.056452   \n",
      "Alabama-Cleburne           ...  0.002809     0.025575    0.091398   \n",
      "Alabama-Coffee             ...  0.014045     0.033248    0.075269   \n",
      "Alabama-Colbert            ...  0.012640     0.017903    0.040323   \n",
      "Alabama-Conecuh            ...  0.008427     0.007673    0.034946   \n",
      "Alabama-Coosa              ...  0.012640     0.025575    0.056452   \n",
      "Alabama-Covington          ...  0.021067     0.048593    0.059140   \n",
      "Alabama-Crenshaw           ...  0.018258     0.020460    0.123656   \n",
      "Alabama-Cullman            ...  0.021067     0.025575    0.069892   \n",
      "Alabama-Dale               ...  0.022472     0.043478    0.069892   \n",
      "Alabama-Dallas             ...  0.030899     0.040921    0.059140   \n",
      "Alabama-DeKalb             ...  0.008427     0.023018    0.056452   \n",
      "Alabama-Elmore             ...  0.005618     0.030691    0.059140   \n",
      "Alabama-Escambia           ...  0.016854     0.012788    0.029570   \n",
      "Alabama-Etowah             ...  0.005618     0.012788    0.102151   \n",
      "Alabama-Fayette            ...  0.004213     0.005115    0.051075   \n",
      "Alabama-Franklin           ...  0.002809     0.120205    0.037634   \n",
      "...                        ...       ...          ...         ...   \n",
      "Puerto Rico-Maunabo        ...  0.066011     0.063939    0.000000   \n",
      "Puerto Rico-Mayagüez       ...  0.057584     0.030691    0.059140   \n",
      "Puerto Rico-Moca           ...  0.060393     0.020460    0.016129   \n",
      "Puerto Rico-Morovis        ...  0.066011     0.030691    0.026882   \n",
      "Puerto Rico-Naguabo        ...  0.066011     0.005115    0.072581   \n",
      "Puerto Rico-Naranjito      ...  0.023876     0.002558    0.043011   \n",
      "Puerto Rico-Orocovis       ...  0.078652     0.028133    0.051075   \n",
      "Puerto Rico-Patillas       ...  0.044944     0.058824    0.034946   \n",
      "Puerto Rico-Peñuelas       ...  0.053371     0.048593    0.024194   \n",
      "Puerto Rico-Ponce          ...  0.039326     0.046036    0.067204   \n",
      "Puerto Rico-Quebradillas   ...  0.091292     0.007673    0.045699   \n",
      "Puerto Rico-Rincón         ...  0.067416     0.000000    0.137097   \n",
      "Puerto Rico-Río Grande     ...  0.029494     0.104859    0.069892   \n",
      "Puerto Rico-Sabana Grande  ...  0.043539     0.023018    0.037634   \n",
      "Puerto Rico-Salinas        ...  0.084270     0.058824    0.034946   \n",
      "Puerto Rico-San Germán     ...  0.042135     0.023018    0.099462   \n",
      "Puerto Rico-San Juan       ...  0.085674     0.076726    0.075269   \n",
      "Puerto Rico-San Lorenzo    ...  0.050562     0.010230    0.024194   \n",
      "Puerto Rico-San Sebastián  ...  0.047753     0.023018    0.075269   \n",
      "Puerto Rico-Santa Isabel   ...  0.047753     0.020460    0.045699   \n",
      "Puerto Rico-Toa Alta       ...  0.019663     0.051151    0.016129   \n",
      "Puerto Rico-Toa Baja       ...  0.035112     0.122762    0.075269   \n",
      "Puerto Rico-Trujillo Alto  ...  0.019663     0.074169    0.086022   \n",
      "Puerto Rico-Utuado         ...  0.109551     0.017903    0.026882   \n",
      "Puerto Rico-Vega Alta      ...  0.043539     0.058824    0.024194   \n",
      "Puerto Rico-Vega Baja      ...  0.016854     0.033248    0.008065   \n",
      "Puerto Rico-Vieques        ...  0.151685     0.000000    0.037634   \n",
      "Puerto Rico-Villalba       ...  0.044944     0.000000    0.088710   \n",
      "Puerto Rico-Yabucoa        ...  0.032303     0.058824    0.040323   \n",
      "Puerto Rico-Yauco          ...  0.022472     0.017903    0.083333   \n",
      "\n",
      "                           MeanCommute  Employed  PrivateWork  PublicWork  \\\n",
      "Alabama-Autauga               0.552430  0.005139     0.750000    0.250000   \n",
      "Alabama-Baldwin               0.549872  0.018507     0.884354    0.107616   \n",
      "Alabama-Barbour               0.491049  0.001819     0.719388    0.248344   \n",
      "Alabama-Bibb                  0.611253  0.001754     0.804422    0.170530   \n",
      "Alabama-Blount                0.767263  0.004751     0.892857    0.127483   \n",
      "Alabama-Bullock               0.578005  0.000798     0.850340    0.153974   \n",
      "Alabama-Butler                0.503836  0.001650     0.814626    0.172185   \n",
      "Alabama-Calhoun               0.491049  0.010190     0.758503    0.248344   \n",
      "Alabama-Chambers              0.516624  0.002917     0.945578    0.104305   \n",
      "Alabama-Cherokee              0.575448  0.002155     0.741497    0.210265   \n",
      "Alabama-Chilton               0.693095  0.003825     0.863946    0.155629   \n",
      "Alabama-Choctaw               0.659847  0.000915     0.816327    0.182119   \n",
      "Alabama-Clarke                0.462916  0.001725     0.911565    0.129139   \n",
      "Alabama-Clay                  0.649616  0.001082     0.816327    0.147351   \n",
      "Alabama-Cleburne              0.726343  0.001273     0.795918    0.157285   \n",
      "Alabama-Coffee                0.409207  0.004476     0.693878    0.293046   \n",
      "Alabama-Colbert               0.457801  0.004557     0.835034    0.170530   \n",
      "Alabama-Conecuh               0.634271  0.000766     0.821429    0.119205   \n",
      "Alabama-Coosa                 0.606138  0.000795     0.801020    0.193709   \n",
      "Alabama-Covington             0.526854  0.003028     0.809524    0.165563   \n",
      "Alabama-Crenshaw              0.588235  0.001177     0.758503    0.198675   \n",
      "Alabama-Cullman               0.549872  0.006929     0.886054    0.105960   \n",
      "Alabama-Dale                  0.396419  0.004006     0.741497    0.250000   \n",
      "Alabama-Dallas                0.485934  0.003005     0.801020    0.180464   \n",
      "Alabama-DeKalb                0.457801  0.005957     0.838435    0.112583   \n",
      "Alabama-Elmore                0.603581  0.007221     0.695578    0.302980   \n",
      "Alabama-Escambia              0.465473  0.002616     0.765306    0.218543   \n",
      "Alabama-Etowah                0.473146  0.008860     0.855442    0.142384   \n",
      "Alabama-Fayette               0.601023  0.001285     0.891156    0.139073   \n",
      "Alabama-Franklin              0.616368  0.002607     0.833333    0.145695   \n",
      "...                                ...       ...          ...         ...   \n",
      "Puerto Rico-Maunabo           0.611253  0.000495     0.292517    0.706954   \n",
      "Puerto Rico-Mayagüez          0.432225  0.004505     0.619048    0.322848   \n",
      "Puerto Rico-Moca              0.539642  0.001959     0.503401    0.385762   \n",
      "Puerto Rico-Morovis           0.843990  0.001634     0.731293    0.283113   \n",
      "Puerto Rico-Naguabo           0.723785  0.001548     0.571429    0.284768   \n",
      "Puerto Rico-Naranjito         0.780051  0.001542     0.697279    0.283113   \n",
      "Puerto Rico-Orocovis          0.764706  0.000946     0.489796    0.443709   \n",
      "Puerto Rico-Patillas          0.572890  0.000802     0.435374    0.554636   \n",
      "Puerto Rico-Peñuelas          0.549872  0.001132     0.532313    0.417219   \n",
      "Puerto Rico-Ponce             0.462916  0.008963     0.685374    0.241722   \n",
      "Puerto Rico-Quebradillas      0.583120  0.001320     0.632653    0.302980   \n",
      "Puerto Rico-Rincón            0.514066  0.000915     0.710884    0.226821   \n",
      "Puerto Rico-Río Grande        0.861893  0.003639     0.685374    0.291391   \n",
      "Puerto Rico-Sabana Grande     0.506394  0.001116     0.641156    0.397351   \n",
      "Puerto Rico-Salinas           0.491049  0.001648     0.545918    0.440397   \n",
      "Puerto Rico-San Germán        0.552430  0.001863     0.639456    0.279801   \n",
      "Puerto Rico-San Juan          0.539642  0.028697     0.647959    0.216887   \n",
      "Puerto Rico-San Lorenzo       0.749361  0.002408     0.714286    0.271523   \n",
      "Puerto Rico-San Sebastián     0.588235  0.001859     0.596939    0.296358   \n",
      "Puerto Rico-Santa Isabel      0.529412  0.001452     0.666667    0.322848   \n",
      "Puerto Rico-Toa Alta          0.928389  0.005737     0.693878    0.261589   \n",
      "Puerto Rico-Toa Baja          0.785166  0.006441     0.670068    0.289735   \n",
      "Puerto Rico-Trujillo Alto     0.757033  0.006018     0.670068    0.251656   \n",
      "Puerto Rico-Utuado            0.703325  0.001435     0.484694    0.466887   \n",
      "Puerto Rico-Vega Alta         0.769821  0.002079     0.785714    0.240066   \n",
      "Puerto Rico-Vega Baja         0.693095  0.002911     0.829932    0.195364   \n",
      "Puerto Rico-Vieques           0.232737  0.000581     0.255102    0.592715   \n",
      "Puerto Rico-Villalba          0.562660  0.001430     0.505102    0.359272   \n",
      "Puerto Rico-Yabucoa           0.629156  0.001708     0.605442    0.360927   \n",
      "Puerto Rico-Yauco             0.503836  0.001889     0.654762    0.360927   \n",
      "\n",
      "                           SelfEmployed  FamilyWork  Unemployment  \n",
      "Alabama-Autauga                0.150273    0.000000      0.208219  \n",
      "Alabama-Baldwin                0.158470    0.040816      0.205479  \n",
      "Alabama-Barbour                0.199454    0.010204      0.482192  \n",
      "Alabama-Bibb                   0.183060    0.040816      0.227397  \n",
      "Alabama-Blount                 0.114754    0.040816      0.210959  \n",
      "Alabama-Bullock                0.147541    0.000000      0.493151  \n",
      "Alabama-Butler                 0.169399    0.020408      0.298630  \n",
      "Alabama-Calhoun                0.136612    0.010204      0.336986  \n",
      "Alabama-Chambers               0.076503    0.000000      0.243836  \n",
      "Alabama-Cherokee               0.215847    0.051020      0.216438  \n",
      "Alabama-Chilton                0.112022    0.051020      0.249315  \n",
      "Alabama-Choctaw                0.147541    0.030612      0.372603  \n",
      "Alabama-Clarke                 0.090164    0.000000      0.531507  \n",
      "Alabama-Clay                   0.213115    0.000000      0.257534  \n",
      "Alabama-Cleburne               0.229508    0.000000      0.227397  \n",
      "Alabama-Coffee                 0.155738    0.051020      0.194521  \n",
      "Alabama-Colbert                0.142077    0.000000      0.246575  \n",
      "Alabama-Conecuh                0.226776    0.081633      0.619178  \n",
      "Alabama-Coosa                  0.161202    0.000000      0.465753  \n",
      "Alabama-Covington              0.183060    0.040816      0.306849  \n",
      "Alabama-Crenshaw               0.215847    0.030612      0.265753  \n",
      "Alabama-Cullman                0.158470    0.040816      0.200000  \n",
      "Alabama-Dale                   0.161202    0.010204      0.298630  \n",
      "Alabama-Dallas                 0.169399    0.040816      0.449315  \n",
      "Alabama-DeKalb                 0.232240    0.010204      0.210959  \n",
      "Alabama-Elmore                 0.150273    0.000000      0.227397  \n",
      "Alabama-Escambia               0.174863    0.010204      0.427397  \n",
      "Alabama-Etowah                 0.153005    0.020408      0.246575  \n",
      "Alabama-Fayette                0.103825    0.010204      0.273973  \n",
      "Alabama-Franklin               0.188525    0.000000      0.268493  \n",
      "...                                 ...         ...           ...  \n",
      "Puerto Rico-Maunabo            0.131148    0.000000      0.764384  \n",
      "Puerto Rico-Mayagüez           0.232240    0.020408      0.627397  \n",
      "Puerto Rico-Moca               0.319672    0.000000      0.630137  \n",
      "Puerto Rico-Morovis            0.120219    0.020408      0.676712  \n",
      "Puerto Rico-Naguabo            0.382514    0.000000      0.298630  \n",
      "Puerto Rico-Naranjito          0.177596    0.000000      0.600000  \n",
      "Puerto Rico-Orocovis           0.243169    0.020408      0.854795  \n",
      "Puerto Rico-Patillas           0.114754    0.142857      0.753425  \n",
      "Puerto Rico-Peñuelas           0.224044    0.000000      0.715068  \n",
      "Puerto Rico-Ponce              0.259563    0.030612      0.547945  \n",
      "Puerto Rico-Quebradillas       0.254098    0.000000      0.441096  \n",
      "Puerto Rico-Rincón             0.248634    0.000000      0.482192  \n",
      "Puerto Rico-Río Grande         0.174863    0.040816      0.654795  \n",
      "Puerto Rico-Sabana Grande      0.081967    0.000000      0.665753  \n",
      "Puerto Rico-Salinas            0.163934    0.000000      0.331507  \n",
      "Puerto Rico-San Germán         0.267760    0.040816      0.186301  \n",
      "Puerto Rico-San Juan           0.366120    0.020408      0.432877  \n",
      "Puerto Rico-San Lorenzo        0.169399    0.010204      0.432877  \n",
      "Puerto Rico-San Sebastián      0.297814    0.091837      0.805479  \n",
      "Puerto Rico-Santa Isabel       0.163934    0.000000      0.334247  \n",
      "Puerto Rico-Toa Alta           0.213115    0.030612      0.430137  \n",
      "Puerto Rico-Toa Baja           0.210383    0.020408      0.520548  \n",
      "Puerto Rico-Trujillo Alto      0.275956    0.000000      0.216438  \n",
      "Puerto Rico-Utuado             0.199454    0.071429      0.789041  \n",
      "Puerto Rico-Vega Alta          0.112022    0.000000      0.594521  \n",
      "Puerto Rico-Vega Baja          0.112022    0.000000      0.416438  \n",
      "Puerto Rico-Vieques            0.371585    0.030612      0.334247  \n",
      "Puerto Rico-Villalba           0.357923    0.020408      0.709589  \n",
      "Puerto Rico-Yabucoa            0.199454    0.000000      0.665753  \n",
      "Puerto Rico-Yauco              0.120219    0.000000      0.742466  \n",
      "\n",
      "[3218 rows x 34 columns]\n"
     ]
    },
    {
     "name": "stderr",
     "output_type": "stream",
     "text": [
      "/home/ec2-user/anaconda3/envs/amazonei_mxnet_p36/lib/python3.6/site-packages/sklearn/utils/validation.py:595: DataConversionWarning: Data with input dtype int64 was converted to float64 by MinMaxScaler.\n",
      "  warnings.warn(msg, DataConversionWarning)\n",
      "/home/ec2-user/anaconda3/envs/amazonei_mxnet_p36/lib/python3.6/site-packages/sklearn/utils/validation.py:595: DataConversionWarning: Data with input dtype int64 was converted to float64 by MinMaxScaler.\n",
      "  warnings.warn(msg, DataConversionWarning)\n",
      "/home/ec2-user/anaconda3/envs/amazonei_mxnet_p36/lib/python3.6/site-packages/sklearn/utils/validation.py:595: DataConversionWarning: Data with input dtype int64 was converted to float64 by MinMaxScaler.\n",
      "  warnings.warn(msg, DataConversionWarning)\n",
      "/home/ec2-user/anaconda3/envs/amazonei_mxnet_p36/lib/python3.6/site-packages/sklearn/utils/validation.py:595: DataConversionWarning: Data with input dtype int64 was converted to float64 by MinMaxScaler.\n",
      "  warnings.warn(msg, DataConversionWarning)\n",
      "/home/ec2-user/anaconda3/envs/amazonei_mxnet_p36/lib/python3.6/site-packages/sklearn/utils/validation.py:595: DataConversionWarning: Data with input dtype int64 was converted to float64 by MinMaxScaler.\n",
      "  warnings.warn(msg, DataConversionWarning)\n",
      "/home/ec2-user/anaconda3/envs/amazonei_mxnet_p36/lib/python3.6/site-packages/sklearn/utils/validation.py:595: DataConversionWarning: Data with input dtype int64 was converted to float64 by MinMaxScaler.\n",
      "  warnings.warn(msg, DataConversionWarning)\n",
      "/home/ec2-user/anaconda3/envs/amazonei_mxnet_p36/lib/python3.6/site-packages/sklearn/utils/validation.py:595: DataConversionWarning: Data with input dtype int64 was converted to float64 by MinMaxScaler.\n",
      "  warnings.warn(msg, DataConversionWarning)\n"
     ]
    }
   ],
   "source": [
    "# scale numerical features into a normalized range, 0-1\n",
    "# store them in this dataframe\n",
    "from sklearn.preprocessing import MinMaxScaler\n",
    "scaler = MinMaxScaler(feature_range=(0, 1))\n",
    "\n",
    "for column, d_type in zip(clean_counties_df, clean_counties_df.dtypes):\n",
    "\n",
    "    if d_type == 'int64' or d_type == 'float64':\n",
    "        data = np.array(clean_counties_df[[column]])\n",
    "        scaler.fit(data)\n",
    "        # print(scaler.data_max_)\n",
    "        new_data = scaler.transform(data)\n",
    "        # print(max(new_data))\n",
    "        clean_counties_df[column] = new_data\n",
    "        \n",
    "counties_scaled = clean_counties_df\n",
    "print(counties_scaled)"
   ]
  },
  {
   "cell_type": "code",
   "execution_count": 65,
   "metadata": {},
   "outputs": [
    {
     "data": {
      "text/html": [
       "<div>\n",
       "<style scoped>\n",
       "    .dataframe tbody tr th:only-of-type {\n",
       "        vertical-align: middle;\n",
       "    }\n",
       "\n",
       "    .dataframe tbody tr th {\n",
       "        vertical-align: top;\n",
       "    }\n",
       "\n",
       "    .dataframe thead th {\n",
       "        text-align: right;\n",
       "    }\n",
       "</style>\n",
       "<table border=\"1\" class=\"dataframe\">\n",
       "  <thead>\n",
       "    <tr style=\"text-align: right;\">\n",
       "      <th></th>\n",
       "      <th>TotalPop</th>\n",
       "      <th>Men</th>\n",
       "      <th>Women</th>\n",
       "      <th>Hispanic</th>\n",
       "      <th>White</th>\n",
       "      <th>Black</th>\n",
       "      <th>Native</th>\n",
       "      <th>Asian</th>\n",
       "      <th>Pacific</th>\n",
       "      <th>Citizen</th>\n",
       "      <th>...</th>\n",
       "      <th>Walk</th>\n",
       "      <th>OtherTransp</th>\n",
       "      <th>WorkAtHome</th>\n",
       "      <th>MeanCommute</th>\n",
       "      <th>Employed</th>\n",
       "      <th>PrivateWork</th>\n",
       "      <th>PublicWork</th>\n",
       "      <th>SelfEmployed</th>\n",
       "      <th>FamilyWork</th>\n",
       "      <th>Unemployment</th>\n",
       "    </tr>\n",
       "  </thead>\n",
       "  <tbody>\n",
       "    <tr>\n",
       "      <th>count</th>\n",
       "      <td>3218.000000</td>\n",
       "      <td>3218.000000</td>\n",
       "      <td>3218.000000</td>\n",
       "      <td>3218.000000</td>\n",
       "      <td>3218.000000</td>\n",
       "      <td>3218.000000</td>\n",
       "      <td>3218.000000</td>\n",
       "      <td>3218.000000</td>\n",
       "      <td>3218.000000</td>\n",
       "      <td>3218.000000</td>\n",
       "      <td>...</td>\n",
       "      <td>3218.000000</td>\n",
       "      <td>3218.000000</td>\n",
       "      <td>3218.000000</td>\n",
       "      <td>3218.000000</td>\n",
       "      <td>3218.000000</td>\n",
       "      <td>3218.000000</td>\n",
       "      <td>3218.000000</td>\n",
       "      <td>3218.000000</td>\n",
       "      <td>3218.000000</td>\n",
       "      <td>3218.000000</td>\n",
       "    </tr>\n",
       "    <tr>\n",
       "      <th>mean</th>\n",
       "      <td>0.009883</td>\n",
       "      <td>0.009866</td>\n",
       "      <td>0.009899</td>\n",
       "      <td>0.110170</td>\n",
       "      <td>0.756024</td>\n",
       "      <td>0.100942</td>\n",
       "      <td>0.018682</td>\n",
       "      <td>0.029405</td>\n",
       "      <td>0.006470</td>\n",
       "      <td>0.011540</td>\n",
       "      <td>...</td>\n",
       "      <td>0.046496</td>\n",
       "      <td>0.041154</td>\n",
       "      <td>0.124428</td>\n",
       "      <td>0.470140</td>\n",
       "      <td>0.009806</td>\n",
       "      <td>0.760810</td>\n",
       "      <td>0.194426</td>\n",
       "      <td>0.216744</td>\n",
       "      <td>0.029417</td>\n",
       "      <td>0.221775</td>\n",
       "    </tr>\n",
       "    <tr>\n",
       "      <th>std</th>\n",
       "      <td>0.031818</td>\n",
       "      <td>0.031692</td>\n",
       "      <td>0.031948</td>\n",
       "      <td>0.192617</td>\n",
       "      <td>0.229682</td>\n",
       "      <td>0.166262</td>\n",
       "      <td>0.078748</td>\n",
       "      <td>0.062744</td>\n",
       "      <td>0.035446</td>\n",
       "      <td>0.033933</td>\n",
       "      <td>...</td>\n",
       "      <td>0.051956</td>\n",
       "      <td>0.042321</td>\n",
       "      <td>0.085301</td>\n",
       "      <td>0.143135</td>\n",
       "      <td>0.032305</td>\n",
       "      <td>0.132949</td>\n",
       "      <td>0.106923</td>\n",
       "      <td>0.106947</td>\n",
       "      <td>0.046451</td>\n",
       "      <td>0.112138</td>\n",
       "    </tr>\n",
       "    <tr>\n",
       "      <th>min</th>\n",
       "      <td>0.000000</td>\n",
       "      <td>0.000000</td>\n",
       "      <td>0.000000</td>\n",
       "      <td>0.000000</td>\n",
       "      <td>0.000000</td>\n",
       "      <td>0.000000</td>\n",
       "      <td>0.000000</td>\n",
       "      <td>0.000000</td>\n",
       "      <td>0.000000</td>\n",
       "      <td>0.000000</td>\n",
       "      <td>...</td>\n",
       "      <td>0.000000</td>\n",
       "      <td>0.000000</td>\n",
       "      <td>0.000000</td>\n",
       "      <td>0.000000</td>\n",
       "      <td>0.000000</td>\n",
       "      <td>0.000000</td>\n",
       "      <td>0.000000</td>\n",
       "      <td>0.000000</td>\n",
       "      <td>0.000000</td>\n",
       "      <td>0.000000</td>\n",
       "    </tr>\n",
       "    <tr>\n",
       "      <th>25%</th>\n",
       "      <td>0.001092</td>\n",
       "      <td>0.001117</td>\n",
       "      <td>0.001069</td>\n",
       "      <td>0.019019</td>\n",
       "      <td>0.642285</td>\n",
       "      <td>0.005821</td>\n",
       "      <td>0.001086</td>\n",
       "      <td>0.004808</td>\n",
       "      <td>0.000000</td>\n",
       "      <td>0.001371</td>\n",
       "      <td>...</td>\n",
       "      <td>0.019663</td>\n",
       "      <td>0.023018</td>\n",
       "      <td>0.072581</td>\n",
       "      <td>0.373402</td>\n",
       "      <td>0.000948</td>\n",
       "      <td>0.697279</td>\n",
       "      <td>0.120861</td>\n",
       "      <td>0.147541</td>\n",
       "      <td>0.010204</td>\n",
       "      <td>0.150685</td>\n",
       "    </tr>\n",
       "    <tr>\n",
       "      <th>50%</th>\n",
       "      <td>0.002571</td>\n",
       "      <td>0.002591</td>\n",
       "      <td>0.002539</td>\n",
       "      <td>0.039039</td>\n",
       "      <td>0.842685</td>\n",
       "      <td>0.022119</td>\n",
       "      <td>0.003257</td>\n",
       "      <td>0.012019</td>\n",
       "      <td>0.000000</td>\n",
       "      <td>0.003219</td>\n",
       "      <td>...</td>\n",
       "      <td>0.033708</td>\n",
       "      <td>0.033248</td>\n",
       "      <td>0.104839</td>\n",
       "      <td>0.462916</td>\n",
       "      <td>0.002234</td>\n",
       "      <td>0.785714</td>\n",
       "      <td>0.172185</td>\n",
       "      <td>0.188525</td>\n",
       "      <td>0.020408</td>\n",
       "      <td>0.208219</td>\n",
       "    </tr>\n",
       "    <tr>\n",
       "      <th>75%</th>\n",
       "      <td>0.006594</td>\n",
       "      <td>0.006645</td>\n",
       "      <td>0.006556</td>\n",
       "      <td>0.098098</td>\n",
       "      <td>0.933868</td>\n",
       "      <td>0.111758</td>\n",
       "      <td>0.006515</td>\n",
       "      <td>0.028846</td>\n",
       "      <td>0.000000</td>\n",
       "      <td>0.008237</td>\n",
       "      <td>...</td>\n",
       "      <td>0.056180</td>\n",
       "      <td>0.048593</td>\n",
       "      <td>0.150538</td>\n",
       "      <td>0.560102</td>\n",
       "      <td>0.006144</td>\n",
       "      <td>0.853741</td>\n",
       "      <td>0.243377</td>\n",
       "      <td>0.256831</td>\n",
       "      <td>0.030612</td>\n",
       "      <td>0.271233</td>\n",
       "    </tr>\n",
       "    <tr>\n",
       "      <th>max</th>\n",
       "      <td>1.000000</td>\n",
       "      <td>1.000000</td>\n",
       "      <td>1.000000</td>\n",
       "      <td>1.000000</td>\n",
       "      <td>1.000000</td>\n",
       "      <td>1.000000</td>\n",
       "      <td>1.000000</td>\n",
       "      <td>1.000000</td>\n",
       "      <td>1.000000</td>\n",
       "      <td>1.000000</td>\n",
       "      <td>...</td>\n",
       "      <td>1.000000</td>\n",
       "      <td>1.000000</td>\n",
       "      <td>1.000000</td>\n",
       "      <td>1.000000</td>\n",
       "      <td>1.000000</td>\n",
       "      <td>1.000000</td>\n",
       "      <td>1.000000</td>\n",
       "      <td>1.000000</td>\n",
       "      <td>1.000000</td>\n",
       "      <td>1.000000</td>\n",
       "    </tr>\n",
       "  </tbody>\n",
       "</table>\n",
       "<p>8 rows × 34 columns</p>\n",
       "</div>"
      ],
      "text/plain": [
       "          TotalPop          Men        Women     Hispanic        White  \\\n",
       "count  3218.000000  3218.000000  3218.000000  3218.000000  3218.000000   \n",
       "mean      0.009883     0.009866     0.009899     0.110170     0.756024   \n",
       "std       0.031818     0.031692     0.031948     0.192617     0.229682   \n",
       "min       0.000000     0.000000     0.000000     0.000000     0.000000   \n",
       "25%       0.001092     0.001117     0.001069     0.019019     0.642285   \n",
       "50%       0.002571     0.002591     0.002539     0.039039     0.842685   \n",
       "75%       0.006594     0.006645     0.006556     0.098098     0.933868   \n",
       "max       1.000000     1.000000     1.000000     1.000000     1.000000   \n",
       "\n",
       "             Black       Native        Asian      Pacific      Citizen  ...  \\\n",
       "count  3218.000000  3218.000000  3218.000000  3218.000000  3218.000000  ...   \n",
       "mean      0.100942     0.018682     0.029405     0.006470     0.011540  ...   \n",
       "std       0.166262     0.078748     0.062744     0.035446     0.033933  ...   \n",
       "min       0.000000     0.000000     0.000000     0.000000     0.000000  ...   \n",
       "25%       0.005821     0.001086     0.004808     0.000000     0.001371  ...   \n",
       "50%       0.022119     0.003257     0.012019     0.000000     0.003219  ...   \n",
       "75%       0.111758     0.006515     0.028846     0.000000     0.008237  ...   \n",
       "max       1.000000     1.000000     1.000000     1.000000     1.000000  ...   \n",
       "\n",
       "              Walk  OtherTransp   WorkAtHome  MeanCommute     Employed  \\\n",
       "count  3218.000000  3218.000000  3218.000000  3218.000000  3218.000000   \n",
       "mean      0.046496     0.041154     0.124428     0.470140     0.009806   \n",
       "std       0.051956     0.042321     0.085301     0.143135     0.032305   \n",
       "min       0.000000     0.000000     0.000000     0.000000     0.000000   \n",
       "25%       0.019663     0.023018     0.072581     0.373402     0.000948   \n",
       "50%       0.033708     0.033248     0.104839     0.462916     0.002234   \n",
       "75%       0.056180     0.048593     0.150538     0.560102     0.006144   \n",
       "max       1.000000     1.000000     1.000000     1.000000     1.000000   \n",
       "\n",
       "       PrivateWork   PublicWork  SelfEmployed   FamilyWork  Unemployment  \n",
       "count  3218.000000  3218.000000   3218.000000  3218.000000   3218.000000  \n",
       "mean      0.760810     0.194426      0.216744     0.029417      0.221775  \n",
       "std       0.132949     0.106923      0.106947     0.046451      0.112138  \n",
       "min       0.000000     0.000000      0.000000     0.000000      0.000000  \n",
       "25%       0.697279     0.120861      0.147541     0.010204      0.150685  \n",
       "50%       0.785714     0.172185      0.188525     0.020408      0.208219  \n",
       "75%       0.853741     0.243377      0.256831     0.030612      0.271233  \n",
       "max       1.000000     1.000000      1.000000     1.000000      1.000000  \n",
       "\n",
       "[8 rows x 34 columns]"
      ]
     },
     "execution_count": 65,
     "metadata": {},
     "output_type": "execute_result"
    }
   ],
   "source": [
    "counties_scaled.describe()"
   ]
  },
  {
   "cell_type": "markdown",
   "metadata": {},
   "source": [
    "---\n",
    "# Data Modeling\n",
    "\n",
    "\n",
    "Now, the data is ready to be fed into a machine learning model!\n",
    "\n",
    "Each data point has 34 features, which means the data is 34-dimensional. Clustering algorithms rely on finding clusters in n-dimensional feature space. For higher dimensions, an algorithm like k-means has a difficult time figuring out which features are most important, and the result is, often, noisier clusters.\n",
    "\n",
    "Some dimensions are not as important as others. For example, if every county in our dataset has the same rate of unemployment, then that particular feature doesn’t give us any distinguishing information; it will not help t separate counties into different groups because its value doesn’t *vary* between counties.\n",
    "\n",
    "> Instead, we really want to find the features that help to separate and group data. We want to find features that cause the **most variance** in the dataset!\n",
    "\n",
    "So, before I cluster this data, I’ll want to take a dimensionality reduction step. My aim will be to form a smaller set of features that will better help to separate our data. The technique I’ll use is called PCA or **principal component analysis**\n",
    "\n",
    "## Dimensionality Reduction\n",
    "\n",
    "PCA attempts to reduce the number of features within a dataset while retaining the “principal components”, which are defined as *weighted*, linear combinations of existing features that are designed to be linearly independent and account for the largest possible variability in the data! You can think of this method as taking many features and combining similar or redundant features together to form a new, smaller feature set.\n",
    "\n",
    "We can reduce dimensionality with the built-in SageMaker model for PCA."
   ]
  },
  {
   "cell_type": "markdown",
   "metadata": {},
   "source": [
    "### Roles and Buckets\n",
    "\n",
    "> To create a model, you'll first need to specify an IAM role, and to save the model attributes, you'll need to store them in an S3 bucket.\n",
    "\n",
    "The `get_execution_role` function retrieves the IAM role you created at the time you created your notebook instance. Roles are essentially used to manage permissions and you can read more about that [in this documentation](https://docs.aws.amazon.com/sagemaker/latest/dg/sagemaker-roles.html). For now, know that we have a FullAccess notebook, which allowed us to access and download the census data stored in S3.\n",
    "\n",
    "You must specify a bucket name for an S3 bucket in your account where you want SageMaker model parameters to be stored. Note that the bucket must be in the same region as this notebook. You can get a default S3 bucket, which automatically creates a bucket for you and in your region, by storing the current SageMaker session and calling `session.default_bucket()`."
   ]
  },
  {
   "cell_type": "code",
   "execution_count": 14,
   "metadata": {},
   "outputs": [
    {
     "name": "stdout",
     "output_type": "stream",
     "text": [
      "arn:aws:iam::622694881594:role/service-role/AmazonSageMaker-ExecutionRole-20200408T095874\n"
     ]
    }
   ],
   "source": [
    "from sagemaker import get_execution_role\n",
    "\n",
    "session = sagemaker.Session() # store the current SageMaker session\n",
    "\n",
    "# get IAM role\n",
    "role = get_execution_role()\n",
    "print(role)"
   ]
  },
  {
   "cell_type": "code",
   "execution_count": 57,
   "metadata": {},
   "outputs": [
    {
     "name": "stdout",
     "output_type": "stream",
     "text": [
      "sagemaker-eu-west-1-622694881594\n",
      "\n"
     ]
    }
   ],
   "source": [
    "# get default bucket\n",
    "bucket_name = session.default_bucket()\n",
    "print(bucket_name)\n",
    "print()"
   ]
  },
  {
   "cell_type": "markdown",
   "metadata": {},
   "source": [
    "## Define a PCA Model\n",
    "\n",
    "To create a PCA model, I'll use the built-in SageMaker resource. A SageMaker estimator requires a number of parameters to be specified; these define the type of training instance to use and the model hyperparameters. A PCA model requires the following constructor arguments:\n",
    "\n",
    "* role: The IAM role, which was specified, above.\n",
    "* train_instance_count: The number of training instances (typically, 1).\n",
    "* train_instance_type: The type of SageMaker instance for training.\n",
    "* num_components: An integer that defines the number of PCA components to produce.\n",
    "* sagemaker_session: The session used to train on SageMaker.\n",
    "\n",
    "Documentation on the PCA model can be found [here](http://sagemaker.readthedocs.io/en/latest/pca.html).\n",
    "\n",
    "Below, I first specify where to save the model training data, the `output_path`."
   ]
  },
  {
   "cell_type": "code",
   "execution_count": 16,
   "metadata": {},
   "outputs": [
    {
     "name": "stdout",
     "output_type": "stream",
     "text": [
      "Training artifacts will be uploaded to: s3://sagemaker-eu-west-1-622694881594/counties/\n"
     ]
    }
   ],
   "source": [
    "# define location to store model artifacts\n",
    "prefix = 'counties'\n",
    "\n",
    "output_path='s3://{}/{}/'.format(bucket_name, prefix)\n",
    "\n",
    "print('Training artifacts will be uploaded to: {}'.format(output_path))"
   ]
  },
  {
   "cell_type": "code",
   "execution_count": 17,
   "metadata": {},
   "outputs": [],
   "source": [
    "# define a PCA model\n",
    "from sagemaker import PCA\n",
    "\n",
    "# this is current features - 1\n",
    "# you'll select only a portion of these to use, later\n",
    "N_COMPONENTS=33\n",
    "\n",
    "pca_SM = PCA(role=role,\n",
    "             train_instance_count=1,\n",
    "             train_instance_type='ml.c4.xlarge',\n",
    "             output_path=output_path, # specified, above\n",
    "             num_components=N_COMPONENTS, \n",
    "             sagemaker_session=session)\n"
   ]
  },
  {
   "cell_type": "markdown",
   "metadata": {},
   "source": [
    "### Convert data into a RecordSet format\n",
    "\n",
    "Next, prepare the data for a built-in model by converting the DataFrame to a numpy array of float values.\n",
    "\n",
    "The *record_set* function in the SageMaker PCA model converts a numpy array into a **RecordSet** format that is the required format for the training input data. This is a requirement for _all_ of SageMaker's built-in models. The use of this data type is one of the reasons that allows training of models within Amazon SageMaker to perform faster, especially for large datasets."
   ]
  },
  {
   "cell_type": "code",
   "execution_count": 18,
   "metadata": {},
   "outputs": [
    {
     "name": "stdout",
     "output_type": "stream",
     "text": [
      "(3218, 34)\n",
      "(3218, 34)\n"
     ]
    }
   ],
   "source": [
    "# convert df to np array\n",
    "train_data_np = counties_scaled.values.astype('float32')\n",
    "print(counties_scaled.shape)\n",
    "print(train_data_np.shape)\n",
    "\n",
    "# convert to RecordSet format\n",
    "formatted_train_data = pca_SM.record_set(train_data_np)"
   ]
  },
  {
   "cell_type": "markdown",
   "metadata": {},
   "source": [
    "## Train the model\n",
    "\n",
    "Call the fit function on the PCA model, passing in our formatted, training data. This spins up a training instance to perform the training job.\n",
    "\n",
    "Note that it takes the longest to launch the specified training instance; the fitting itself doesn't take much time."
   ]
  },
  {
   "cell_type": "code",
   "execution_count": 27,
   "metadata": {},
   "outputs": [
    {
     "name": "stdout",
     "output_type": "stream",
     "text": [
      "2020-04-09 12:28:31 Starting - Starting the training job...\n",
      "2020-04-09 12:28:32 Starting - Launching requested ML instances......\n",
      "2020-04-09 12:29:33 Starting - Preparing the instances for training......\n",
      "2020-04-09 12:30:33 Downloading - Downloading input data...\n",
      "2020-04-09 12:31:30 Training - Training image download completed. Training in progress.\n",
      "2020-04-09 12:31:30 Uploading - Uploading generated training model\n",
      "2020-04-09 12:31:30 Completed - Training job completed\n",
      "\u001b[34mDocker entrypoint called with argument(s): train\u001b[0m\n",
      "\u001b[34mRunning default environment configuration script\u001b[0m\n",
      "\u001b[34m[04/09/2020 12:31:22 INFO 140390270728000] Reading default configuration from /opt/amazon/lib/python2.7/site-packages/algorithm/resources/default-conf.json: {u'_num_gpus': u'auto', u'_log_level': u'info', u'subtract_mean': u'true', u'force_dense': u'true', u'epochs': 1, u'algorithm_mode': u'regular', u'extra_components': u'-1', u'_kvstore': u'dist_sync', u'_num_kv_servers': u'auto'}\u001b[0m\n",
      "\u001b[34m[04/09/2020 12:31:22 INFO 140390270728000] Reading provided configuration from /opt/ml/input/config/hyperparameters.json: {u'feature_dim': u'34', u'mini_batch_size': u'500', u'num_components': u'33'}\u001b[0m\n",
      "\u001b[34m[04/09/2020 12:31:22 INFO 140390270728000] Final configuration: {u'num_components': u'33', u'_num_gpus': u'auto', u'_log_level': u'info', u'subtract_mean': u'true', u'force_dense': u'true', u'epochs': 1, u'algorithm_mode': u'regular', u'feature_dim': u'34', u'extra_components': u'-1', u'_kvstore': u'dist_sync', u'_num_kv_servers': u'auto', u'mini_batch_size': u'500'}\u001b[0m\n",
      "\u001b[34m[04/09/2020 12:31:22 WARNING 140390270728000] Loggers have already been setup.\u001b[0m\n",
      "\u001b[34m[04/09/2020 12:31:22 INFO 140390270728000] Launching parameter server for role scheduler\u001b[0m\n",
      "\u001b[34m[04/09/2020 12:31:22 INFO 140390270728000] {'ECS_CONTAINER_METADATA_URI': 'http://169.254.170.2/v3/12ba48a0-f730-413f-a9b0-baa2beec1e81', 'PROTOCOL_BUFFERS_PYTHON_IMPLEMENTATION_VERSION': '2', 'PATH': '/opt/amazon/bin:/usr/local/nvidia/bin:/usr/local/sbin:/usr/local/bin:/usr/sbin:/usr/bin:/sbin:/bin:/opt/amazon/bin:/opt/amazon/bin', 'SAGEMAKER_HTTP_PORT': '8080', 'HOME': '/root', 'PYTHONUNBUFFERED': 'TRUE', 'CANONICAL_ENVROOT': '/opt/amazon', 'LD_LIBRARY_PATH': '/opt/amazon/lib/python2.7/site-packages/cv2/../../../../lib:/usr/local/nvidia/lib64:/opt/amazon/lib', 'LANG': 'en_US.utf8', 'DMLC_INTERFACE': 'eth0', 'SHLVL': '1', 'AWS_REGION': 'eu-west-1', 'NVIDIA_VISIBLE_DEVICES': 'void', 'TRAINING_JOB_NAME': 'pca-2020-04-09-12-28-31-327', 'PROTOCOL_BUFFERS_PYTHON_IMPLEMENTATION': 'cpp', 'ENVROOT': '/opt/amazon', 'SAGEMAKER_DATA_PATH': '/opt/ml', 'NVIDIA_DRIVER_CAPABILITIES': 'compute,utility', 'NVIDIA_REQUIRE_CUDA': 'cuda>=9.0', 'OMP_NUM_THREADS': '2', 'HOSTNAME': 'ip-10-0-249-32.eu-west-1.compute.internal', 'AWS_CONTAINER_CREDENTIALS_RELATIVE_URI': '/v2/credentials/40ef54e1-cca1-49e8-bc3a-aadb8cec6d91', 'PWD': '/', 'TRAINING_JOB_ARN': 'arn:aws:sagemaker:eu-west-1:622694881594:training-job/pca-2020-04-09-12-28-31-327', 'AWS_EXECUTION_ENV': 'AWS_ECS_EC2'}\u001b[0m\n",
      "\u001b[34m[04/09/2020 12:31:22 INFO 140390270728000] envs={'ECS_CONTAINER_METADATA_URI': 'http://169.254.170.2/v3/12ba48a0-f730-413f-a9b0-baa2beec1e81', 'PROTOCOL_BUFFERS_PYTHON_IMPLEMENTATION_VERSION': '2', 'DMLC_NUM_WORKER': '1', 'DMLC_PS_ROOT_PORT': '9000', 'PATH': '/opt/amazon/bin:/usr/local/nvidia/bin:/usr/local/sbin:/usr/local/bin:/usr/sbin:/usr/bin:/sbin:/bin:/opt/amazon/bin:/opt/amazon/bin', 'SAGEMAKER_HTTP_PORT': '8080', 'HOME': '/root', 'PYTHONUNBUFFERED': 'TRUE', 'CANONICAL_ENVROOT': '/opt/amazon', 'LD_LIBRARY_PATH': '/opt/amazon/lib/python2.7/site-packages/cv2/../../../../lib:/usr/local/nvidia/lib64:/opt/amazon/lib', 'LANG': 'en_US.utf8', 'DMLC_INTERFACE': 'eth0', 'SHLVL': '1', 'DMLC_PS_ROOT_URI': '10.0.249.32', 'AWS_REGION': 'eu-west-1', 'NVIDIA_VISIBLE_DEVICES': 'void', 'TRAINING_JOB_NAME': 'pca-2020-04-09-12-28-31-327', 'PROTOCOL_BUFFERS_PYTHON_IMPLEMENTATION': 'cpp', 'ENVROOT': '/opt/amazon', 'SAGEMAKER_DATA_PATH': '/opt/ml', 'NVIDIA_DRIVER_CAPABILITIES': 'compute,utility', 'NVIDIA_REQUIRE_CUDA': 'cuda>=9.0', 'OMP_NUM_THREADS': '2', 'HOSTNAME': 'ip-10-0-249-32.eu-west-1.compute.internal', 'AWS_CONTAINER_CREDENTIALS_RELATIVE_URI': '/v2/credentials/40ef54e1-cca1-49e8-bc3a-aadb8cec6d91', 'DMLC_ROLE': 'scheduler', 'PWD': '/', 'DMLC_NUM_SERVER': '1', 'TRAINING_JOB_ARN': 'arn:aws:sagemaker:eu-west-1:622694881594:training-job/pca-2020-04-09-12-28-31-327', 'AWS_EXECUTION_ENV': 'AWS_ECS_EC2'}\u001b[0m\n",
      "\u001b[34m[04/09/2020 12:31:22 INFO 140390270728000] Launching parameter server for role server\u001b[0m\n",
      "\u001b[34m[04/09/2020 12:31:22 INFO 140390270728000] {'ECS_CONTAINER_METADATA_URI': 'http://169.254.170.2/v3/12ba48a0-f730-413f-a9b0-baa2beec1e81', 'PROTOCOL_BUFFERS_PYTHON_IMPLEMENTATION_VERSION': '2', 'PATH': '/opt/amazon/bin:/usr/local/nvidia/bin:/usr/local/sbin:/usr/local/bin:/usr/sbin:/usr/bin:/sbin:/bin:/opt/amazon/bin:/opt/amazon/bin', 'SAGEMAKER_HTTP_PORT': '8080', 'HOME': '/root', 'PYTHONUNBUFFERED': 'TRUE', 'CANONICAL_ENVROOT': '/opt/amazon', 'LD_LIBRARY_PATH': '/opt/amazon/lib/python2.7/site-packages/cv2/../../../../lib:/usr/local/nvidia/lib64:/opt/amazon/lib', 'LANG': 'en_US.utf8', 'DMLC_INTERFACE': 'eth0', 'SHLVL': '1', 'AWS_REGION': 'eu-west-1', 'NVIDIA_VISIBLE_DEVICES': 'void', 'TRAINING_JOB_NAME': 'pca-2020-04-09-12-28-31-327', 'PROTOCOL_BUFFERS_PYTHON_IMPLEMENTATION': 'cpp', 'ENVROOT': '/opt/amazon', 'SAGEMAKER_DATA_PATH': '/opt/ml', 'NVIDIA_DRIVER_CAPABILITIES': 'compute,utility', 'NVIDIA_REQUIRE_CUDA': 'cuda>=9.0', 'OMP_NUM_THREADS': '2', 'HOSTNAME': 'ip-10-0-249-32.eu-west-1.compute.internal', 'AWS_CONTAINER_CREDENTIALS_RELATIVE_URI': '/v2/credentials/40ef54e1-cca1-49e8-bc3a-aadb8cec6d91', 'PWD': '/', 'TRAINING_JOB_ARN': 'arn:aws:sagemaker:eu-west-1:622694881594:training-job/pca-2020-04-09-12-28-31-327', 'AWS_EXECUTION_ENV': 'AWS_ECS_EC2'}\u001b[0m\n",
      "\u001b[34m[04/09/2020 12:31:22 INFO 140390270728000] envs={'ECS_CONTAINER_METADATA_URI': 'http://169.254.170.2/v3/12ba48a0-f730-413f-a9b0-baa2beec1e81', 'PROTOCOL_BUFFERS_PYTHON_IMPLEMENTATION_VERSION': '2', 'DMLC_NUM_WORKER': '1', 'DMLC_PS_ROOT_PORT': '9000', 'PATH': '/opt/amazon/bin:/usr/local/nvidia/bin:/usr/local/sbin:/usr/local/bin:/usr/sbin:/usr/bin:/sbin:/bin:/opt/amazon/bin:/opt/amazon/bin', 'SAGEMAKER_HTTP_PORT': '8080', 'HOME': '/root', 'PYTHONUNBUFFERED': 'TRUE', 'CANONICAL_ENVROOT': '/opt/amazon', 'LD_LIBRARY_PATH': '/opt/amazon/lib/python2.7/site-packages/cv2/../../../../lib:/usr/local/nvidia/lib64:/opt/amazon/lib', 'LANG': 'en_US.utf8', 'DMLC_INTERFACE': 'eth0', 'SHLVL': '1', 'DMLC_PS_ROOT_URI': '10.0.249.32', 'AWS_REGION': 'eu-west-1', 'NVIDIA_VISIBLE_DEVICES': 'void', 'TRAINING_JOB_NAME': 'pca-2020-04-09-12-28-31-327', 'PROTOCOL_BUFFERS_PYTHON_IMPLEMENTATION': 'cpp', 'ENVROOT': '/opt/amazon', 'SAGEMAKER_DATA_PATH': '/opt/ml', 'NVIDIA_DRIVER_CAPABILITIES': 'compute,utility', 'NVIDIA_REQUIRE_CUDA': 'cuda>=9.0', 'OMP_NUM_THREADS': '2', 'HOSTNAME': 'ip-10-0-249-32.eu-west-1.compute.internal', 'AWS_CONTAINER_CREDENTIALS_RELATIVE_URI': '/v2/credentials/40ef54e1-cca1-49e8-bc3a-aadb8cec6d91', 'DMLC_ROLE': 'server', 'PWD': '/', 'DMLC_NUM_SERVER': '1', 'TRAINING_JOB_ARN': 'arn:aws:sagemaker:eu-west-1:622694881594:training-job/pca-2020-04-09-12-28-31-327', 'AWS_EXECUTION_ENV': 'AWS_ECS_EC2'}\u001b[0m\n",
      "\u001b[34m[04/09/2020 12:31:22 INFO 140390270728000] Environment: {'ECS_CONTAINER_METADATA_URI': 'http://169.254.170.2/v3/12ba48a0-f730-413f-a9b0-baa2beec1e81', 'PROTOCOL_BUFFERS_PYTHON_IMPLEMENTATION_VERSION': '2', 'DMLC_PS_ROOT_PORT': '9000', 'DMLC_NUM_WORKER': '1', 'SAGEMAKER_HTTP_PORT': '8080', 'PATH': '/opt/amazon/bin:/usr/local/nvidia/bin:/usr/local/sbin:/usr/local/bin:/usr/sbin:/usr/bin:/sbin:/bin:/opt/amazon/bin:/opt/amazon/bin', 'PYTHONUNBUFFERED': 'TRUE', 'CANONICAL_ENVROOT': '/opt/amazon', 'LD_LIBRARY_PATH': '/opt/amazon/lib/python2.7/site-packages/cv2/../../../../lib:/usr/local/nvidia/lib64:/opt/amazon/lib', 'LANG': 'en_US.utf8', 'DMLC_INTERFACE': 'eth0', 'SHLVL': '1', 'DMLC_PS_ROOT_URI': '10.0.249.32', 'AWS_REGION': 'eu-west-1', 'NVIDIA_VISIBLE_DEVICES': 'void', 'TRAINING_JOB_NAME': 'pca-2020-04-09-12-28-31-327', 'HOME': '/root', 'PROTOCOL_BUFFERS_PYTHON_IMPLEMENTATION': 'cpp', 'ENVROOT': '/opt/amazon', 'SAGEMAKER_DATA_PATH': '/opt/ml', 'NVIDIA_DRIVER_CAPABILITIES': 'compute,utility', 'NVIDIA_REQUIRE_CUDA': 'cuda>=9.0', 'OMP_NUM_THREADS': '2', 'HOSTNAME': 'ip-10-0-249-32.eu-west-1.compute.internal', 'AWS_CONTAINER_CREDENTIALS_RELATIVE_URI': '/v2/credentials/40ef54e1-cca1-49e8-bc3a-aadb8cec6d91', 'DMLC_ROLE': 'worker', 'PWD': '/', 'DMLC_NUM_SERVER': '1', 'TRAINING_JOB_ARN': 'arn:aws:sagemaker:eu-west-1:622694881594:training-job/pca-2020-04-09-12-28-31-327', 'AWS_EXECUTION_ENV': 'AWS_ECS_EC2'}\u001b[0m\n",
      "\u001b[34mProcess 60 is a shell:scheduler.\u001b[0m\n",
      "\u001b[34mProcess 69 is a shell:server.\u001b[0m\n",
      "\u001b[34mProcess 1 is a worker.\u001b[0m\n",
      "\u001b[34m[04/09/2020 12:31:22 INFO 140390270728000] Using default worker.\u001b[0m\n",
      "\u001b[34m[04/09/2020 12:31:22 INFO 140390270728000] Loaded iterator creator application/x-recordio-protobuf for content type ('application/x-recordio-protobuf', '1.0')\u001b[0m\n",
      "\u001b[34m[04/09/2020 12:31:23 INFO 140390270728000] Loaded iterator creator application/x-labeled-vector-protobuf for content type ('application/x-labeled-vector-protobuf', '1.0')\u001b[0m\n",
      "\u001b[34m[04/09/2020 12:31:23 INFO 140390270728000] Loaded iterator creator protobuf for content type ('protobuf', '1.0')\u001b[0m\n",
      "\u001b[34m[04/09/2020 12:31:23 INFO 140390270728000] Create Store: dist_sync\u001b[0m\n",
      "\u001b[34m[04/09/2020 12:31:23 INFO 140390270728000] nvidia-smi took: 0.0251789093018 secs to identify 0 gpus\u001b[0m\n",
      "\u001b[34m[04/09/2020 12:31:23 INFO 140390270728000] Number of GPUs being used: 0\u001b[0m\n",
      "\u001b[34m[04/09/2020 12:31:23 INFO 140390270728000] The default executor is <PCAExecutor on cpu(0)>.\u001b[0m\n",
      "\u001b[34m[04/09/2020 12:31:23 INFO 140390270728000] 34 feature(s) found in 'data'.\u001b[0m\n",
      "\u001b[34m[04/09/2020 12:31:23 INFO 140390270728000] <PCAExecutor on cpu(0)> is assigned to batch slice from 0 to 499.\u001b[0m\n",
      "\u001b[34m#metrics {\"Metrics\": {\"initialize.time\": {\"count\": 1, \"max\": 576.8928527832031, \"sum\": 576.8928527832031, \"min\": 576.8928527832031}}, \"EndTime\": 1586435483.591527, \"Dimensions\": {\"Host\": \"algo-1\", \"Operation\": \"training\", \"Algorithm\": \"PCA\"}, \"StartTime\": 1586435483.010473}\n",
      "\u001b[0m\n",
      "\u001b[34m#metrics {\"Metrics\": {\"Max Batches Seen Between Resets\": {\"count\": 1, \"max\": 0, \"sum\": 0.0, \"min\": 0}, \"Number of Batches Since Last Reset\": {\"count\": 1, \"max\": 0, \"sum\": 0.0, \"min\": 0}, \"Number of Records Since Last Reset\": {\"count\": 1, \"max\": 0, \"sum\": 0.0, \"min\": 0}, \"Total Batches Seen\": {\"count\": 1, \"max\": 0, \"sum\": 0.0, \"min\": 0}, \"Total Records Seen\": {\"count\": 1, \"max\": 0, \"sum\": 0.0, \"min\": 0}, \"Max Records Seen Between Resets\": {\"count\": 1, \"max\": 0, \"sum\": 0.0, \"min\": 0}, \"Reset Count\": {\"count\": 1, \"max\": 0, \"sum\": 0.0, \"min\": 0}}, \"EndTime\": 1586435483.59175, \"Dimensions\": {\"Host\": \"algo-1\", \"Meta\": \"init_train_data_iter\", \"Operation\": \"training\", \"Algorithm\": \"PCA\"}, \"StartTime\": 1586435483.591692}\n",
      "\u001b[0m\n",
      "\u001b[34m[2020-04-09 12:31:23.591] [tensorio] [info] epoch_stats={\"data_pipeline\": \"/opt/ml/input/data/train\", \"epoch\": 0, \"duration\": 580, \"num_examples\": 1, \"num_bytes\": 82000}\u001b[0m\n",
      "\u001b[34m[2020-04-09 12:31:23.640] [tensorio] [info] epoch_stats={\"data_pipeline\": \"/opt/ml/input/data/train\", \"epoch\": 1, \"duration\": 39, \"num_examples\": 7, \"num_bytes\": 527752}\u001b[0m\n",
      "\u001b[34m#metrics {\"Metrics\": {\"epochs\": {\"count\": 1, \"max\": 1, \"sum\": 1.0, \"min\": 1}, \"update.time\": {\"count\": 1, \"max\": 48.92587661743164, \"sum\": 48.92587661743164, \"min\": 48.92587661743164}}, \"EndTime\": 1586435483.641019, \"Dimensions\": {\"Host\": \"algo-1\", \"Operation\": \"training\", \"Algorithm\": \"PCA\"}, \"StartTime\": 1586435483.591623}\n",
      "\u001b[0m\n",
      "\u001b[34m[04/09/2020 12:31:23 INFO 140390270728000] #progress_metric: host=algo-1, completed 100 % of epochs\u001b[0m\n",
      "\u001b[34m#metrics {\"Metrics\": {\"Max Batches Seen Between Resets\": {\"count\": 1, \"max\": 7, \"sum\": 7.0, \"min\": 7}, \"Number of Batches Since Last Reset\": {\"count\": 1, \"max\": 7, \"sum\": 7.0, \"min\": 7}, \"Number of Records Since Last Reset\": {\"count\": 1, \"max\": 3218, \"sum\": 3218.0, \"min\": 3218}, \"Total Batches Seen\": {\"count\": 1, \"max\": 7, \"sum\": 7.0, \"min\": 7}, \"Total Records Seen\": {\"count\": 1, \"max\": 3218, \"sum\": 3218.0, \"min\": 3218}, \"Max Records Seen Between Resets\": {\"count\": 1, \"max\": 3218, \"sum\": 3218.0, \"min\": 3218}, \"Reset Count\": {\"count\": 1, \"max\": 1, \"sum\": 1.0, \"min\": 1}}, \"EndTime\": 1586435483.641329, \"Dimensions\": {\"Host\": \"algo-1\", \"Meta\": \"training_data_iter\", \"Operation\": \"training\", \"Algorithm\": \"PCA\", \"epoch\": 0}, \"StartTime\": 1586435483.592062}\n",
      "\u001b[0m\n",
      "\u001b[34m[04/09/2020 12:31:23 INFO 140390270728000] #throughput_metric: host=algo-1, train throughput=65148.4975263 records/second\u001b[0m\n",
      "\u001b[34m#metrics {\"Metrics\": {\"finalize.time\": {\"count\": 1, \"max\": 25.73394775390625, \"sum\": 25.73394775390625, \"min\": 25.73394775390625}}, \"EndTime\": 1586435483.667358, \"Dimensions\": {\"Host\": \"algo-1\", \"Operation\": \"training\", \"Algorithm\": \"PCA\"}, \"StartTime\": 1586435483.641097}\n",
      "\u001b[0m\n",
      "\u001b[34m[04/09/2020 12:31:23 INFO 140390270728000] Test data is not provided.\u001b[0m\n",
      "\u001b[34m#metrics {\"Metrics\": {\"totaltime\": {\"count\": 1, \"max\": 832.0739269256592, \"sum\": 832.0739269256592, \"min\": 832.0739269256592}, \"setuptime\": {\"count\": 1, \"max\": 47.30796813964844, \"sum\": 47.30796813964844, \"min\": 47.30796813964844}}, \"EndTime\": 1586435483.674939, \"Dimensions\": {\"Host\": \"algo-1\", \"Operation\": \"training\", \"Algorithm\": \"PCA\"}, \"StartTime\": 1586435483.667413}\n",
      "\u001b[0m\n"
     ]
    },
    {
     "name": "stdout",
     "output_type": "stream",
     "text": [
      "Training seconds: 57\n",
      "Billable seconds: 57\n",
      "CPU times: user 379 ms, sys: 23.3 ms, total: 402 ms\n",
      "Wall time: 3min 11s\n"
     ]
    }
   ],
   "source": [
    "%%time\n",
    "\n",
    "# train the PCA mode on the formatted data\n",
    "pca_SM.fit(formatted_train_data)"
   ]
  },
  {
   "cell_type": "markdown",
   "metadata": {},
   "source": [
    "## Accessing the PCA Model Attributes\n",
    "\n",
    "After the model is trained, we can access the underlying model parameters.\n",
    "\n",
    "### Unzip the Model Details\n",
    "\n",
    "Now that the training job is complete, you can find the job under **Jobs** in the **Training**  subsection  in the Amazon SageMaker console. You can find the job name listed in the training jobs. Use that job name in the following code to specify which model to examine.\n",
    "\n",
    "Model artifacts are stored in S3 as a TAR file; a compressed file in the output path we specified + 'output/model.tar.gz'. The artifacts stored here can be used to deploy a trained model."
   ]
  },
  {
   "cell_type": "code",
   "execution_count": 19,
   "metadata": {},
   "outputs": [
    {
     "name": "stdout",
     "output_type": "stream",
     "text": [
      "counties/pca-2020-04-08-11-54-34-694/output/model.tar.gz\n"
     ]
    },
    {
     "data": {
      "text/plain": [
       "2304"
      ]
     },
     "execution_count": 19,
     "metadata": {},
     "output_type": "execute_result"
    }
   ],
   "source": [
    "# Get the name of the training job, it's suggested that you copy-paste\n",
    "# from the notebook or from a specific job in the AWS console\n",
    "\n",
    "training_job_name='pca-2020-04-08-11-54-34-694'\n",
    "\n",
    "# where the model is saved, by default\n",
    "model_key = os.path.join(prefix, training_job_name, 'output/model.tar.gz')\n",
    "print(model_key)\n",
    "\n",
    "# download and unzip model\n",
    "boto3.resource('s3').Bucket(bucket_name).download_file(model_key, 'model.tar.gz')\n",
    "\n",
    "# unzipping as model_algo-1\n",
    "os.system('tar -zxvf model.tar.gz')\n",
    "os.system('unzip model_algo-1')"
   ]
  },
  {
   "cell_type": "markdown",
   "metadata": {},
   "source": [
    "### MXNet Array\n",
    "\n",
    "Many of the Amazon SageMaker algorithms use MXNet for computational speed, including PCA, and so the model artifacts are stored as an array. After the model is unzipped and decompressed, we can load the array using MXNet.\n",
    "\n",
    "You can take a look at the MXNet [documentation, here](https://aws.amazon.com/mxnet/)."
   ]
  },
  {
   "cell_type": "code",
   "execution_count": 20,
   "metadata": {},
   "outputs": [
    {
     "name": "stdout",
     "output_type": "stream",
     "text": [
      "{'s': \n",
      "[1.7896362e-02 3.0864021e-02 3.2130770e-02 3.5486195e-02 9.4831578e-02\n",
      " 1.2699370e-01 4.0288666e-01 1.4084760e+00 1.5100485e+00 1.5957943e+00\n",
      " 1.7783760e+00 2.1662524e+00 2.2966361e+00 2.3856051e+00 2.6954880e+00\n",
      " 2.8067985e+00 3.0175958e+00 3.3952675e+00 3.5731301e+00 3.6966958e+00\n",
      " 4.1890211e+00 4.3457499e+00 4.5410376e+00 5.0189657e+00 5.5786467e+00\n",
      " 5.9809699e+00 6.3925138e+00 7.6952214e+00 7.9913125e+00 1.0180052e+01\n",
      " 1.1718245e+01 1.3035975e+01 1.9592180e+01]\n",
      "<NDArray 33 @cpu(0)>, 'v': \n",
      "[[ 2.46869749e-03  2.56468095e-02  2.50773830e-03 ... -7.63925165e-02\n",
      "   1.59879066e-02  5.04589686e-03]\n",
      " [-2.80601848e-02 -6.86634064e-01 -1.96283013e-02 ... -7.59587288e-02\n",
      "   1.57304872e-02  4.95312130e-03]\n",
      " [ 3.25766727e-02  7.17300594e-01  2.40726061e-02 ... -7.68136829e-02\n",
      "   1.62378680e-02  5.13597298e-03]\n",
      " ...\n",
      " [ 1.12151138e-01 -1.17030945e-02 -2.88011521e-01 ...  1.39890045e-01\n",
      "  -3.09406728e-01 -6.34506866e-02]\n",
      " [ 2.99992133e-02 -3.13433539e-03 -7.63589665e-02 ...  4.17341813e-02\n",
      "  -7.06735924e-02 -1.42857227e-02]\n",
      " [ 7.33537527e-05  3.01008171e-04 -8.00925500e-06 ...  6.97060227e-02\n",
      "   1.20169498e-01  2.33626723e-01]]\n",
      "<NDArray 34x33 @cpu(0)>, 'mean': \n",
      "[[0.00988273 0.00986636 0.00989863 0.11017046 0.7560245  0.10094159\n",
      "  0.0186819  0.02940491 0.0064698  0.01154038 0.31539047 0.1222766\n",
      "  0.3030056  0.08220861 0.256217   0.2964254  0.28914267 0.40191284\n",
      "  0.57868284 0.2854676  0.28294644 0.82774544 0.34378946 0.01576072\n",
      "  0.04649627 0.04115358 0.12442778 0.47014    0.00980645 0.7608103\n",
      "  0.19442631 0.21674445 0.0294168  0.22177474]]\n",
      "<NDArray 1x34 @cpu(0)>}\n"
     ]
    }
   ],
   "source": [
    "import mxnet as mx\n",
    "\n",
    "# loading the unzipped artifacts\n",
    "pca_model_params = mx.ndarray.load('model_algo-1')\n",
    "\n",
    "# what are the params\n",
    "print(pca_model_params)"
   ]
  },
  {
   "cell_type": "markdown",
   "metadata": {},
   "source": [
    "## PCA Model Attributes\n",
    "\n",
    "Three types of model attributes are contained within the PCA model.\n",
    "\n",
    "* **mean**: The mean that was subtracted from a component in order to center it.\n",
    "* **v**: The makeup of the principal components; (same as ‘components_’ in an sklearn PCA model).\n",
    "* **s**: The singular values of the components for the PCA transformation. This does not exactly give the % variance from the original feature space, but can give the % variance from the projected feature space.\n",
    "    \n",
    "We are only interested in v and s. \n",
    "\n",
    "From s, we can get an approximation of the data variance that is covered in the first `n` principal components. The approximate explained variance is given by the formula: the sum of squared s values for all top n components over the sum over squared s values for _all_ components:\n",
    "\n",
    "\\begin{equation*}\n",
    "\\frac{\\sum_{n}^{ } s_n^2}{\\sum s^2}\n",
    "\\end{equation*}\n",
    "\n",
    "From v, we can learn more about the combinations of original features that make up each principal component.\n"
   ]
  },
  {
   "cell_type": "code",
   "execution_count": 21,
   "metadata": {},
   "outputs": [],
   "source": [
    "# get selected params\n",
    "s=pd.DataFrame(pca_model_params['s'].asnumpy())\n",
    "v=pd.DataFrame(pca_model_params['v'].asnumpy())"
   ]
  },
  {
   "cell_type": "markdown",
   "metadata": {},
   "source": [
    "## Data Variance\n",
    "\n",
    "Our current PCA model creates 33 principal components, but when we create new dimensionality-reduced training data, we'll only select a few, top n components to use. To decide how many top components to include, it's helpful to look at how much **data variance** the components capture. For our original, high-dimensional data, 34 features captured 100% of our data variance. If we discard some of these higher dimensions, we will lower the amount of variance we can capture.\n",
    "\n",
    "### Tradeoff: dimensionality vs. data variance\n",
    "\n",
    "As an illustrative example, say we have original data in three dimensions. So, three dimensions capture 100% of our data variance; these dimensions cover the entire spread of our data. The below images are taken from the PhD thesis,  [“Approaches to analyse and interpret biological profile data”](https://publishup.uni-potsdam.de/opus4-ubp/frontdoor/index/index/docId/696) by Matthias Scholz, (2006, University of Potsdam, Germany).\n",
    "\n",
    "<img src='notebook_ims/3d_original_data.png' width=35% />\n",
    "\n",
    "Now, you may also note that most of this data seems related; it falls close to a 2D plane, and just by looking at the spread of the data, we  can visualize that the original, three dimensions have some correlation. So, we can instead choose to create two new dimensions, made up of linear combinations of the original, three dimensions. These dimensions are represented by the two axes/lines, centered in the data. \n",
    "\n",
    "<img src='notebook_ims/pca_2d_dim_reduction.png' width=70% />\n",
    "\n",
    "If we project this in a new, 2D space, we can see that we still capture most of the original data variance using *just* two dimensions. There is a tradeoff between the amount of variance we can capture and the number of component-dimensions we use to represent our data.\n",
    "\n",
    "When we select the top n components to use in a new data model, we'll typically want to include enough components to capture about 80-90% of the original data variance. In this project, we are looking at generalizing over a lot of data and we'll aim for about 80% coverage."
   ]
  },
  {
   "cell_type": "markdown",
   "metadata": {},
   "source": [
    "**Note**: The _top_ principal components, with the largest s values, are actually at the end of the s DataFrame. Let's print out the s values for the top n, principal components."
   ]
  },
  {
   "cell_type": "code",
   "execution_count": 22,
   "metadata": {},
   "outputs": [
    {
     "name": "stdout",
     "output_type": "stream",
     "text": [
      "            0\n",
      "28   7.991313\n",
      "29  10.180052\n",
      "30  11.718245\n",
      "31  13.035975\n",
      "32  19.592180\n",
      "858.602\n"
     ]
    }
   ],
   "source": [
    "# looking at top 5 components\n",
    "n_principal_components = 5\n",
    "\n",
    "start_idx = N_COMPONENTS - n_principal_components  # 33-n\n",
    "\n",
    "# print a selection of s\n",
    "print(s.iloc[start_idx:, :])\n",
    "print(np.sum(np.array(s[start_idx: ]) ** 2))"
   ]
  },
  {
   "cell_type": "markdown",
   "metadata": {},
   "source": [
    "### EXERCISE: Calculate the explained variance\n",
    "\n",
    "In creating new training data, you'll want to choose the top n principal components that account for at least 80% data variance. \n",
    "\n",
    "Complete a function, `explained_variance` that takes in the entire array `s` and a number of top principal components to consider. Then return the approximate, explained variance for those top n components. \n",
    "\n",
    "For example, to calculate the explained variance for the top 5 components, calculate s squared for *each* of the top 5 components, add those up and normalize by the sum of *all* squared s values, according to this formula:\n",
    "\n",
    "\\begin{equation*}\n",
    "\\frac{\\sum_{5}^{ } s_n^2}{\\sum s^2}\n",
    "\\end{equation*}\n",
    "\n",
    "> Using this function, you should be able to answer the **question**: What is the smallest number of principal components that captures at least 80% of the total variance in the dataset?"
   ]
  },
  {
   "cell_type": "code",
   "execution_count": 95,
   "metadata": {},
   "outputs": [],
   "source": [
    "# Calculate the explained variance for the top n principal components\n",
    "# you may assume you have access to the global var N_COMPONENTS\n",
    "def explained_variance(s, n_top_components):\n",
    "    '''Calculates the approx. data variance that n_top_components captures.\n",
    "       :param s: A dataframe of singular values for top components; \n",
    "           the top value is in the last row.\n",
    "       :param n_top_components: An integer, the number of top components to use.\n",
    "       :return: The expected data variance covered by the n_top_components.'''\n",
    "\n",
    "    start_idx = N_COMPONENTS - n_top_components  # 33-n\n",
    "\n",
    "    # print a selection of s\n",
    "    return np.sum(np.array(s[start_idx:] ** 2)) / np.sum(np.array(s ** 2))\n"
   ]
  },
  {
   "cell_type": "markdown",
   "metadata": {},
   "source": [
    "### Test Cell\n",
    "\n",
    "Test out your own code by seeing how it responds to different inputs; does it return a reasonable value for the single, top component? What about for the top 5 components?"
   ]
  },
  {
   "cell_type": "code",
   "execution_count": 104,
   "metadata": {},
   "outputs": [
    {
     "name": "stdout",
     "output_type": "stream",
     "text": [
      "Explained variance:  0.80167246\n"
     ]
    }
   ],
   "source": [
    "# test cell\n",
    "n_top_components = 7 # select a value for the number of top components\n",
    "\n",
    "# calculate the explained variance\n",
    "exp_variance = explained_variance(s, n_top_components)\n",
    "print('Explained variance: ', exp_variance)"
   ]
  },
  {
   "cell_type": "markdown",
   "metadata": {},
   "source": [
    "As an example, you should see that the top principal component accounts for about 32% of our data variance! Next, you may be wondering what makes up this (and other components); what linear combination of features make these components so influential in describing the spread of our data?\n",
    "\n",
    "Below, let's take a look at our original features and use that as a reference."
   ]
  },
  {
   "cell_type": "code",
   "execution_count": 105,
   "metadata": {},
   "outputs": [
    {
     "name": "stdout",
     "output_type": "stream",
     "text": [
      "Features: \n",
      " ['TotalPop' 'Men' 'Women' 'Hispanic' 'White' 'Black' 'Native' 'Asian'\n",
      " 'Pacific' 'Citizen' 'Income' 'IncomeErr' 'IncomePerCap' 'IncomePerCapErr'\n",
      " 'Poverty' 'ChildPoverty' 'Professional' 'Service' 'Office' 'Construction'\n",
      " 'Production' 'Drive' 'Carpool' 'Transit' 'Walk' 'OtherTransp'\n",
      " 'WorkAtHome' 'MeanCommute' 'Employed' 'PrivateWork' 'PublicWork'\n",
      " 'SelfEmployed' 'FamilyWork' 'Unemployment']\n"
     ]
    }
   ],
   "source": [
    "# features\n",
    "features_list = counties_scaled.columns.values\n",
    "print('Features: \\n', features_list)"
   ]
  },
  {
   "cell_type": "markdown",
   "metadata": {},
   "source": [
    "## Component Makeup\n",
    "\n",
    "We can now examine the makeup of each PCA component based on **the weightings of the original features that are included in the component**. The following code shows the feature-level makeup of the first component.\n",
    "\n",
    "Note that the components are again ordered from smallest to largest and so I am getting the correct rows by calling N_COMPONENTS-1 to get the top, 1, component."
   ]
  },
  {
   "cell_type": "code",
   "execution_count": 62,
   "metadata": {},
   "outputs": [],
   "source": [
    "import seaborn as sns\n",
    "\n",
    "def display_component(v, features_list, component_num, n_weights=10):\n",
    "    \n",
    "    # get index of component (last row - component_num)\n",
    "    row_idx = N_COMPONENTS-component_num\n",
    "\n",
    "    # get the list of weights from a row in v, dataframe\n",
    "    v_1_row = v.iloc[:, row_idx]\n",
    "    v_1 = np.squeeze(v_1_row.values)\n",
    "\n",
    "    # match weights to features in counties_scaled dataframe, using list comporehension\n",
    "    comps = pd.DataFrame(list(zip(v_1, features_list)), \n",
    "                         columns=['weights', 'features'])\n",
    "\n",
    "    # we'll want to sort by the largest n_weights\n",
    "    # weights can be neg/pos and we'll sort by magnitude\n",
    "    comps['abs_weights']=comps['weights'].apply(lambda x: np.abs(x))\n",
    "    sorted_weight_data = comps.sort_values('abs_weights', ascending=False).head(n_weights)\n",
    "\n",
    "    # display using seaborn\n",
    "    ax=plt.subplots(figsize=(10,6))\n",
    "    ax=sns.barplot(data=sorted_weight_data, \n",
    "                   x=\"weights\", \n",
    "                   y=\"features\", \n",
    "                   palette=\"Blues_d\")\n",
    "    ax.set_title(\"PCA Component Makeup, Component #\" + str(component_num))\n",
    "    plt.show()\n"
   ]
  },
  {
   "cell_type": "code",
   "execution_count": 108,
   "metadata": {},
   "outputs": [
    {
     "data": {
      "image/png": "[encoded data removed]",
      "text/plain": [
       "<Figure size 720x432 with 1 Axes>"
      ]
     },
     "metadata": {},
     "output_type": "display_data"
    }
   ],
   "source": [
    "# display makeup of first component\n",
    "num=2\n",
    "display_component(v, counties_scaled.columns.values, component_num=num, n_weights=10)"
   ]
  },
  {
   "cell_type": "markdown",
   "metadata": {},
   "source": [
    "# Deploying the PCA Model\n",
    "\n",
    "We can now deploy this model and use it to make \"predictions\". Instead of seeing what happens with some test data, we'll actually want to pass our training data into the deployed endpoint to create principal components for each data point. \n",
    "\n",
    "Run the cell below to deploy/host this model on an instance_type that we specify."
   ]
  },
  {
   "cell_type": "code",
   "execution_count": 28,
   "metadata": {},
   "outputs": [
    {
     "name": "stdout",
     "output_type": "stream",
     "text": [
      "-------------!CPU times: user 225 ms, sys: 17.1 ms, total: 242 ms\n",
      "Wall time: 6min 31s\n"
     ]
    }
   ],
   "source": [
    "%%time\n",
    "# this takes a little while, around 7mins\n",
    "pca_predictor = pca_SM.deploy(initial_instance_count=1, \n",
    "                              instance_type='ml.t2.medium')"
   ]
  },
  {
   "cell_type": "markdown",
   "metadata": {},
   "source": [
    "We can pass the original, numpy dataset to the model and transform the data using the model we created. Then we can take the largest n components to reduce the dimensionality of our data."
   ]
  },
  {
   "cell_type": "code",
   "execution_count": 29,
   "metadata": {},
   "outputs": [],
   "source": [
    "# pass np train data to the PCA model\n",
    "train_pca = pca_predictor.predict(train_data_np)"
   ]
  },
  {
   "cell_type": "code",
   "execution_count": 120,
   "metadata": {},
   "outputs": [
    {
     "name": "stdout",
     "output_type": "stream",
     "text": [
      "3218\n",
      "label {\n",
      "  key: \"projection\"\n",
      "  value {\n",
      "    float32_tensor {\n",
      "      values: 0.0002009272575378418\n",
      "      values: 0.0002455431967973709\n",
      "      values: -0.0005782842636108398\n",
      "      values: -0.0007815659046173096\n",
      "      values: -0.00041911262087523937\n",
      "      values: -0.0005133943632245064\n",
      "      values: -0.0011316537857055664\n",
      "      values: 0.0017268601804971695\n",
      "      values: -0.005361668765544891\n",
      "      values: -0.009066537022590637\n",
      "      values: -0.008141040802001953\n",
      "      values: -0.004735097289085388\n",
      "      values: -0.00716288760304451\n",
      "      values: 0.0003725700080394745\n",
      "      values: -0.01208949089050293\n",
      "      values: 0.02134685218334198\n",
      "      values: 0.0009293854236602783\n",
      "      values: 0.002417147159576416\n",
      "      values: -0.0034637749195098877\n",
      "      values: 0.01794189214706421\n",
      "      values: -0.01639425754547119\n",
      "      values: 0.06260128319263458\n",
      "      values: 0.06637358665466309\n",
      "      values: 0.002479255199432373\n",
      "      values: 0.10011336207389832\n",
      "      values: -0.1136140376329422\n",
      "      values: 0.02589476853609085\n",
      "      values: 0.04045158624649048\n",
      "      values: -0.01082391943782568\n",
      "      values: 0.1204797774553299\n",
      "      values: -0.0883558839559555\n",
      "      values: 0.16052711009979248\n",
      "      values: -0.06027412414550781\n",
      "    }\n",
      "  }\n",
      "}\n",
      "\n"
     ]
    }
   ],
   "source": [
    "# check out the first item in the produced training features\n",
    "data_idx = 0\n",
    "print(len(train_pca))\n",
    "print(train_pca[data_idx])"
   ]
  },
  {
   "cell_type": "markdown",
   "metadata": {
    "collapsed": true
   },
   "source": [
    "### EXERCISE: Create a transformed DataFrame\n",
    "\n",
    "For each of our data points, get the top n component values from the list of component data points, returned by our predictor above, and put those into a new DataFrame.\n",
    "\n",
    "You should end up with a DataFrame that looks something like the following:\n",
    "```\n",
    "                     c_1\t     c_2\t       c_3\t       c_4\t      c_5\t   ...\n",
    "Alabama-Autauga\t-0.060274\t0.160527\t-0.088356\t 0.120480\t-0.010824\t...\n",
    "Alabama-Baldwin\t-0.149684\t0.185969\t-0.145743\t-0.023092\t-0.068677\t...\n",
    "Alabama-Barbour\t0.506202\t 0.296662\t 0.146258\t 0.297829\t0.093111\t...\n",
    "...\n",
    "```"
   ]
  },
  {
   "cell_type": "code",
   "execution_count": 30,
   "metadata": {},
   "outputs": [],
   "source": [
    "# create dimensionality-reduced data\n",
    "def create_transformed_df(train_pca, counties_scaled, n_top_components):\n",
    "    ''' Return a dataframe of data points with component features. \n",
    "        The dataframe should be indexed by State-County and contain component values.\n",
    "        :param train_pca: A list of pca training data, returned by a PCA model.\n",
    "        :param counties_scaled: A dataframe of normalized, original features.\n",
    "        :param n_top_components: An integer, the number of top components to use.\n",
    "        :return: A dataframe, indexed by State-County, with n_top_component values as columns.        \n",
    "     '''\n",
    "    counties_transformed = pd.DataFrame()\n",
    "    \n",
    "    # create a dataframe of component features, indexed by State-County\n",
    "    for data in train_pca:\n",
    "        components = data.label['projection'].float32_tensor.values\n",
    "        counties_transformed=counties_transformed.append([list(components)])\n",
    "        \n",
    "    counties_transformed.index = counties_scaled.index\n",
    "    \n",
    "    start_idx = N_COMPONENTS - n_top_components\n",
    "    counties_transformed = counties_transformed.iloc[:,start_idx:]\n",
    "    \n",
    "    return counties_transformed.iloc[:, ::-1]\n"
   ]
  },
  {
   "cell_type": "markdown",
   "metadata": {},
   "source": [
    "Now we can create a dataset where each county is described by the top n principle components that we analyzed earlier. Each of these components is a linear combination of the original feature space. We can interpret each of these components by analyzing the makeup of the component, shown previously.\n",
    "\n",
    "### Define the `top_n` components to use in this transformed data\n",
    "\n",
    "Your code should return data, indexed by 'State-County' and with as many columns as `top_n` components.\n",
    "\n",
    "You can also choose to add descriptive column names for this data; names that correspond to the component number or feature-level makeup."
   ]
  },
  {
   "cell_type": "code",
   "execution_count": 31,
   "metadata": {},
   "outputs": [
    {
     "data": {
      "text/html": [
       "<div>\n",
       "<style scoped>\n",
       "    .dataframe tbody tr th:only-of-type {\n",
       "        vertical-align: middle;\n",
       "    }\n",
       "\n",
       "    .dataframe tbody tr th {\n",
       "        vertical-align: top;\n",
       "    }\n",
       "\n",
       "    .dataframe thead th {\n",
       "        text-align: right;\n",
       "    }\n",
       "</style>\n",
       "<table border=\"1\" class=\"dataframe\">\n",
       "  <thead>\n",
       "    <tr style=\"text-align: right;\">\n",
       "      <th></th>\n",
       "      <th>32</th>\n",
       "      <th>31</th>\n",
       "      <th>30</th>\n",
       "      <th>29</th>\n",
       "      <th>28</th>\n",
       "      <th>27</th>\n",
       "      <th>26</th>\n",
       "    </tr>\n",
       "  </thead>\n",
       "  <tbody>\n",
       "    <tr>\n",
       "      <th>Alabama-Autauga</th>\n",
       "      <td>-0.060274</td>\n",
       "      <td>0.160527</td>\n",
       "      <td>-0.088356</td>\n",
       "      <td>0.120480</td>\n",
       "      <td>-0.010824</td>\n",
       "      <td>0.040452</td>\n",
       "      <td>0.025895</td>\n",
       "    </tr>\n",
       "    <tr>\n",
       "      <th>Alabama-Baldwin</th>\n",
       "      <td>-0.149684</td>\n",
       "      <td>0.185969</td>\n",
       "      <td>-0.145743</td>\n",
       "      <td>-0.023092</td>\n",
       "      <td>-0.068677</td>\n",
       "      <td>0.051573</td>\n",
       "      <td>0.048137</td>\n",
       "    </tr>\n",
       "    <tr>\n",
       "      <th>Alabama-Barbour</th>\n",
       "      <td>0.506202</td>\n",
       "      <td>0.296662</td>\n",
       "      <td>0.146258</td>\n",
       "      <td>0.297829</td>\n",
       "      <td>0.093111</td>\n",
       "      <td>-0.065244</td>\n",
       "      <td>0.107730</td>\n",
       "    </tr>\n",
       "    <tr>\n",
       "      <th>Alabama-Bibb</th>\n",
       "      <td>0.069224</td>\n",
       "      <td>0.190861</td>\n",
       "      <td>0.224402</td>\n",
       "      <td>0.011757</td>\n",
       "      <td>0.283526</td>\n",
       "      <td>0.017874</td>\n",
       "      <td>-0.092053</td>\n",
       "    </tr>\n",
       "    <tr>\n",
       "      <th>Alabama-Blount</th>\n",
       "      <td>-0.091030</td>\n",
       "      <td>0.254403</td>\n",
       "      <td>0.022714</td>\n",
       "      <td>-0.193824</td>\n",
       "      <td>0.100738</td>\n",
       "      <td>0.209945</td>\n",
       "      <td>-0.005099</td>\n",
       "    </tr>\n",
       "  </tbody>\n",
       "</table>\n",
       "</div>"
      ],
      "text/plain": [
       "                       32        31        30        29        28        27  \\\n",
       "Alabama-Autauga -0.060274  0.160527 -0.088356  0.120480 -0.010824  0.040452   \n",
       "Alabama-Baldwin -0.149684  0.185969 -0.145743 -0.023092 -0.068677  0.051573   \n",
       "Alabama-Barbour  0.506202  0.296662  0.146258  0.297829  0.093111 -0.065244   \n",
       "Alabama-Bibb     0.069224  0.190861  0.224402  0.011757  0.283526  0.017874   \n",
       "Alabama-Blount  -0.091030  0.254403  0.022714 -0.193824  0.100738  0.209945   \n",
       "\n",
       "                       26  \n",
       "Alabama-Autauga  0.025895  \n",
       "Alabama-Baldwin  0.048137  \n",
       "Alabama-Barbour  0.107730  \n",
       "Alabama-Bibb    -0.092053  \n",
       "Alabama-Blount  -0.005099  "
      ]
     },
     "execution_count": 31,
     "metadata": {},
     "output_type": "execute_result"
    }
   ],
   "source": [
    "## Specify top n\n",
    "top_n = 7\n",
    "\n",
    "# print(counties_scaled.shape, pd.DataFrame(train_pca[:][N_COMPONENTS - top_n:]).shape)\n",
    "# print(pd.DataFrame(train_pca[:][N_COMPONENTS - top_n:]))\n",
    "\n",
    "\n",
    "# call your function and create a new dataframe\n",
    "counties_transformed = create_transformed_df(train_pca, counties_scaled, n_top_components=top_n)\n",
    "\n",
    "## TODO: Add descriptive column names\n",
    "# counties_transformed.column = []\n",
    "\n",
    "# print result\n",
    "counties_transformed.head()"
   ]
  },
  {
   "cell_type": "markdown",
   "metadata": {
    "collapsed": true
   },
   "source": [
    "### Delete the Endpoint!\n",
    "\n",
    "Now that we've deployed the mode and created our new, transformed training data, we no longer need the PCA endpoint.\n",
    "\n",
    "As a clean up step, you should always delete your endpoints after you are done using them (and if you do not plan to deploy them to a website, for example)."
   ]
  },
  {
   "cell_type": "code",
   "execution_count": 32,
   "metadata": {},
   "outputs": [],
   "source": [
    "# delete predictor endpoint\n",
    "session.delete_endpoint(pca_predictor.endpoint)"
   ]
  },
  {
   "cell_type": "markdown",
   "metadata": {},
   "source": [
    "---\n",
    "# Population Segmentation \n",
    "\n",
    "Now, you’ll use the unsupervised clustering algorithm, k-means, to segment counties using their PCA attributes, which are in the transformed DataFrame we just created. K-means is a clustering algorithm that identifies clusters of similar data points based on their component makeup. Since we have ~3000 counties and 34 attributes in the original dataset, the large feature space may have made it difficult to cluster the counties effectively. Instead, we have reduced the feature space to 7 PCA components, and we’ll cluster on this transformed dataset."
   ]
  },
  {
   "cell_type": "markdown",
   "metadata": {},
   "source": [
    "### EXERCISE: Define a k-means model\n",
    "\n",
    "Your task will be to instantiate a k-means model. A `KMeans` estimator requires a number of parameters to be instantiated, which allow us to specify the type of training instance to use, and the model hyperparameters. \n",
    "\n",
    "You can read about the required parameters, in the [`KMeans` documentation](https://sagemaker.readthedocs.io/en/stable/kmeans.html); note that not all of the possible parameters are required.\n"
   ]
  },
  {
   "cell_type": "markdown",
   "metadata": {},
   "source": [
    "### Choosing a \"Good\" K\n",
    "\n",
    "One method for choosing a \"good\" k, is to choose based on empirical data. A bad k would be one so *high* that only one or two very close data points are near it, and another bad k would be one so *low* that data points are really far away from the centers.\n",
    "\n",
    "You want to select a k such that data points in a single cluster are close together but that there are enough clusters to effectively separate the data. You can approximate this separation by measuring how close your data points are to each cluster center; the average centroid distance between cluster points and a centroid. After trying several values for k, the centroid distance typically reaches some \"elbow\"; it stops decreasing at a sharp rate and this indicates a good value of k. The graph below indicates the average centroid distance for value of k between 5 and 12.\n",
    "\n",
    "<img src='notebook_ims/elbow_graph.png' width=50% />\n",
    "\n",
    "A distance elbow can be seen around 8 when the distance starts to increase and then decrease at a slower rate. This indicates that there is enough separation to distinguish the data points in each cluster, but also that you included enough clusters so that the data points aren’t *extremely* far away from each cluster."
   ]
  },
  {
   "cell_type": "code",
   "execution_count": 23,
   "metadata": {},
   "outputs": [],
   "source": [
    "# define a KMeans estimator\n",
    "k = 8"
   ]
  },
  {
   "cell_type": "markdown",
   "metadata": {},
   "source": [
    "### EXERCISE: Create formatted, k-means training data\n",
    "\n",
    "Just as before, you should convert the `counties_transformed` df into a numpy array and then into a RecordSet. This is the required format for passing training data into a `KMeans` model."
   ]
  },
  {
   "cell_type": "code",
   "execution_count": 36,
   "metadata": {},
   "outputs": [],
   "source": [
    "# convert the transformed dataframe into record_set data\n",
    "\n",
    "kmeans_data_np = counties_transformed.values.astype('float32')\n",
    "kmeans_pca = pca_SM.record_set(kmeans_data_np)\n",
    "\n",
    "\n",
    "# define a PCA model\n",
    "from sagemaker import KMeans\n",
    "\n",
    "# this is current features - 1\n",
    "# you'll select only a portion of these to use, later\n",
    "\n",
    "kmeans = KMeans(role=role,\n",
    "             train_instance_count=1,\n",
    "             train_instance_type='ml.c4.xlarge',\n",
    "             k=k,\n",
    "             max_iterations=20,\n",
    "             num_trials=3,\n",
    "             epochs=5)"
   ]
  },
  {
   "cell_type": "markdown",
   "metadata": {},
   "source": [
    "### EXERCISE: Train the k-means model\n",
    "\n",
    "Pass in the formatted training data and train the k-means model."
   ]
  },
  {
   "cell_type": "code",
   "execution_count": 37,
   "metadata": {},
   "outputs": [
    {
     "name": "stdout",
     "output_type": "stream",
     "text": [
      "2020-04-09 13:01:22 Starting - Starting the training job...\n",
      "2020-04-09 13:01:23 Starting - Launching requested ML instances...\n",
      "2020-04-09 13:02:20 Starting - Preparing the instances for training.........\n",
      "2020-04-09 13:03:52 Downloading - Downloading input data\n",
      "2020-04-09 13:03:52 Training - Downloading the training image...\n",
      "2020-04-09 13:04:17 Uploading - Uploading generated training model\u001b[34mDocker entrypoint called with argument(s): train\u001b[0m\n",
      "\u001b[34mRunning default environment configuration script\u001b[0m\n",
      "\u001b[34m[04/09/2020 13:04:15 INFO 140224531404608] Reading default configuration from /opt/amazon/lib/python2.7/site-packages/algorithm/resources/default-input.json: {u'_enable_profiler': u'false', u'_tuning_objective_metric': u'', u'_num_gpus': u'auto', u'local_lloyd_num_trials': u'auto', u'_log_level': u'info', u'_kvstore': u'auto', u'local_lloyd_init_method': u'kmeans++', u'force_dense': u'true', u'epochs': u'1', u'init_method': u'random', u'local_lloyd_tol': u'0.0001', u'local_lloyd_max_iter': u'300', u'_disable_wait_to_read': u'false', u'extra_center_factor': u'auto', u'eval_metrics': u'[\"msd\"]', u'_num_kv_servers': u'1', u'mini_batch_size': u'5000', u'half_life_time_size': u'0', u'_num_slices': u'1'}\u001b[0m\n",
      "\u001b[34m[04/09/2020 13:04:15 INFO 140224531404608] Reading provided configuration from /opt/ml/input/config/hyperparameters.json: {u'local_lloyd_num_trials': u'3', u'k': u'8', u'force_dense': u'True', u'epochs': u'5', u'feature_dim': u'7', u'local_lloyd_max_iter': u'20'}\u001b[0m\n",
      "\u001b[34m[04/09/2020 13:04:15 INFO 140224531404608] Final configuration: {u'_tuning_objective_metric': u'', u'extra_center_factor': u'auto', u'local_lloyd_init_method': u'kmeans++', u'force_dense': u'True', u'epochs': u'5', u'feature_dim': u'7', u'local_lloyd_tol': u'0.0001', u'_disable_wait_to_read': u'false', u'eval_metrics': u'[\"msd\"]', u'_num_kv_servers': u'1', u'mini_batch_size': u'5000', u'_enable_profiler': u'false', u'_num_gpus': u'auto', u'local_lloyd_num_trials': u'3', u'_log_level': u'info', u'init_method': u'random', u'half_life_time_size': u'0', u'local_lloyd_max_iter': u'20', u'_kvstore': u'auto', u'k': u'8', u'_num_slices': u'1'}\u001b[0m\n",
      "\u001b[34m[04/09/2020 13:04:15 WARNING 140224531404608] Loggers have already been setup.\u001b[0m\n",
      "\u001b[34mProcess 1 is a worker.\u001b[0m\n",
      "\u001b[34m[04/09/2020 13:04:15 INFO 140224531404608] Using default worker.\u001b[0m\n",
      "\u001b[34m[04/09/2020 13:04:15 INFO 140224531404608] Loaded iterator creator application/x-recordio-protobuf for content type ('application/x-recordio-protobuf', '1.0')\u001b[0m\n",
      "\u001b[34m[04/09/2020 13:04:15 INFO 140224531404608] Create Store: local\u001b[0m\n",
      "\u001b[34m[04/09/2020 13:04:15 INFO 140224531404608] nvidia-smi took: 0.0251789093018 secs to identify 0 gpus\u001b[0m\n",
      "\u001b[34m[04/09/2020 13:04:15 INFO 140224531404608] Number of GPUs being used: 0\u001b[0m\n",
      "\u001b[34m[04/09/2020 13:04:15 INFO 140224531404608] Setting up with params: {u'_tuning_objective_metric': u'', u'extra_center_factor': u'auto', u'local_lloyd_init_method': u'kmeans++', u'force_dense': u'True', u'epochs': u'5', u'feature_dim': u'7', u'local_lloyd_tol': u'0.0001', u'_disable_wait_to_read': u'false', u'eval_metrics': u'[\"msd\"]', u'_num_kv_servers': u'1', u'mini_batch_size': u'5000', u'_enable_profiler': u'false', u'_num_gpus': u'auto', u'local_lloyd_num_trials': u'3', u'_log_level': u'info', u'init_method': u'random', u'half_life_time_size': u'0', u'local_lloyd_max_iter': u'20', u'_kvstore': u'auto', u'k': u'8', u'_num_slices': u'1'}\u001b[0m\n",
      "\u001b[34m[04/09/2020 13:04:15 INFO 140224531404608] 'extra_center_factor' was set to 'auto', evaluated to 10.\u001b[0m\n",
      "\u001b[34m[04/09/2020 13:04:15 INFO 140224531404608] Number of GPUs being used: 0\u001b[0m\n",
      "\u001b[34m[04/09/2020 13:04:15 INFO 140224531404608] number of center slices 1\u001b[0m\n",
      "\u001b[34m[04/09/2020 13:04:15 WARNING 140224531404608] Batch size 5000 is bigger than the first batch data. Effective batch size used to initialize is 3218\u001b[0m\n",
      "\u001b[34m#metrics {\"Metrics\": {\"Max Batches Seen Between Resets\": {\"count\": 1, \"max\": 1, \"sum\": 1.0, \"min\": 1}, \"Number of Batches Since Last Reset\": {\"count\": 1, \"max\": 1, \"sum\": 1.0, \"min\": 1}, \"Number of Records Since Last Reset\": {\"count\": 1, \"max\": 3218, \"sum\": 3218.0, \"min\": 3218}, \"Total Batches Seen\": {\"count\": 1, \"max\": 1, \"sum\": 1.0, \"min\": 1}, \"Total Records Seen\": {\"count\": 1, \"max\": 3218, \"sum\": 3218.0, \"min\": 3218}, \"Max Records Seen Between Resets\": {\"count\": 1, \"max\": 3218, \"sum\": 3218.0, \"min\": 3218}, \"Reset Count\": {\"count\": 1, \"max\": 0, \"sum\": 0.0, \"min\": 0}}, \"EndTime\": 1586437455.256568, \"Dimensions\": {\"Host\": \"algo-1\", \"Meta\": \"init_train_data_iter\", \"Operation\": \"training\", \"Algorithm\": \"AWS/KMeansWebscale\"}, \"StartTime\": 1586437455.256525}\n",
      "\u001b[0m\n",
      "\u001b[34m[2020-04-09 13:04:15.256] [tensorio] [info] epoch_stats={\"data_pipeline\": \"/opt/ml/input/data/train\", \"epoch\": 0, \"duration\": 36, \"num_examples\": 1, \"num_bytes\": 167336}\u001b[0m\n",
      "\u001b[34m[2020-04-09 13:04:15.307] [tensorio] [info] epoch_stats={\"data_pipeline\": \"/opt/ml/input/data/train\", \"epoch\": 1, \"duration\": 49, \"num_examples\": 1, \"num_bytes\": 167336}\u001b[0m\n",
      "\u001b[34m[04/09/2020 13:04:15 INFO 140224531404608] processed a total of 3218 examples\u001b[0m\n",
      "\u001b[34m[04/09/2020 13:04:15 INFO 140224531404608] #progress_metric: host=algo-1, completed 20 % of epochs\u001b[0m\n",
      "\u001b[34m#metrics {\"Metrics\": {\"Max Batches Seen Between Resets\": {\"count\": 1, \"max\": 1, \"sum\": 1.0, \"min\": 1}, \"Number of Batches Since Last Reset\": {\"count\": 1, \"max\": 1, \"sum\": 1.0, \"min\": 1}, \"Number of Records Since Last Reset\": {\"count\": 1, \"max\": 3218, \"sum\": 3218.0, \"min\": 3218}, \"Total Batches Seen\": {\"count\": 1, \"max\": 2, \"sum\": 2.0, \"min\": 2}, \"Total Records Seen\": {\"count\": 1, \"max\": 6436, \"sum\": 6436.0, \"min\": 6436}, \"Max Records Seen Between Resets\": {\"count\": 1, \"max\": 3218, \"sum\": 3218.0, \"min\": 3218}, \"Reset Count\": {\"count\": 1, \"max\": 1, \"sum\": 1.0, \"min\": 1}}, \"EndTime\": 1586437455.307575, \"Dimensions\": {\"Host\": \"algo-1\", \"Meta\": \"training_data_iter\", \"Operation\": \"training\", \"Algorithm\": \"AWS/KMeansWebscale\", \"epoch\": 0}, \"StartTime\": 1586437455.256795}\n",
      "\u001b[0m\n",
      "\u001b[34m[04/09/2020 13:04:15 INFO 140224531404608] #throughput_metric: host=algo-1, train throughput=63198.6396528 records/second\u001b[0m\n",
      "\u001b[34m[2020-04-09 13:04:15.324] [tensorio] [info] epoch_stats={\"data_pipeline\": \"/opt/ml/input/data/train\", \"epoch\": 3, \"duration\": 16, \"num_examples\": 1, \"num_bytes\": 167336}\u001b[0m\n",
      "\u001b[34m[04/09/2020 13:04:15 INFO 140224531404608] processed a total of 3218 examples\u001b[0m\n",
      "\u001b[34m[04/09/2020 13:04:15 INFO 140224531404608] #progress_metric: host=algo-1, completed 40 % of epochs\u001b[0m\n",
      "\u001b[34m#metrics {\"Metrics\": {\"Max Batches Seen Between Resets\": {\"count\": 1, \"max\": 1, \"sum\": 1.0, \"min\": 1}, \"Number of Batches Since Last Reset\": {\"count\": 1, \"max\": 1, \"sum\": 1.0, \"min\": 1}, \"Number of Records Since Last Reset\": {\"count\": 1, \"max\": 3218, \"sum\": 3218.0, \"min\": 3218}, \"Total Batches Seen\": {\"count\": 1, \"max\": 3, \"sum\": 3.0, \"min\": 3}, \"Total Records Seen\": {\"count\": 1, \"max\": 9654, \"sum\": 9654.0, \"min\": 9654}, \"Max Records Seen Between Resets\": {\"count\": 1, \"max\": 3218, \"sum\": 3218.0, \"min\": 3218}, \"Reset Count\": {\"count\": 1, \"max\": 2, \"sum\": 2.0, \"min\": 2}}, \"EndTime\": 1586437455.325116, \"Dimensions\": {\"Host\": \"algo-1\", \"Meta\": \"training_data_iter\", \"Operation\": \"training\", \"Algorithm\": \"AWS/KMeansWebscale\", \"epoch\": 1}, \"StartTime\": 1586437455.30788}\n",
      "\u001b[0m\n",
      "\u001b[34m[04/09/2020 13:04:15 INFO 140224531404608] #throughput_metric: host=algo-1, train throughput=185008.159441 records/second\u001b[0m\n",
      "\u001b[34m[2020-04-09 13:04:15.338] [tensorio] [info] epoch_stats={\"data_pipeline\": \"/opt/ml/input/data/train\", \"epoch\": 5, \"duration\": 12, \"num_examples\": 1, \"num_bytes\": 167336}\u001b[0m\n",
      "\u001b[34m[04/09/2020 13:04:15 INFO 140224531404608] processed a total of 3218 examples\u001b[0m\n",
      "\u001b[34m[04/09/2020 13:04:15 INFO 140224531404608] #progress_metric: host=algo-1, completed 60 % of epochs\u001b[0m\n",
      "\u001b[34m#metrics {\"Metrics\": {\"Max Batches Seen Between Resets\": {\"count\": 1, \"max\": 1, \"sum\": 1.0, \"min\": 1}, \"Number of Batches Since Last Reset\": {\"count\": 1, \"max\": 1, \"sum\": 1.0, \"min\": 1}, \"Number of Records Since Last Reset\": {\"count\": 1, \"max\": 3218, \"sum\": 3218.0, \"min\": 3218}, \"Total Batches Seen\": {\"count\": 1, \"max\": 4, \"sum\": 4.0, \"min\": 4}, \"Total Records Seen\": {\"count\": 1, \"max\": 12872, \"sum\": 12872.0, \"min\": 12872}, \"Max Records Seen Between Resets\": {\"count\": 1, \"max\": 3218, \"sum\": 3218.0, \"min\": 3218}, \"Reset Count\": {\"count\": 1, \"max\": 3, \"sum\": 3.0, \"min\": 3}}, \"EndTime\": 1586437455.339137, \"Dimensions\": {\"Host\": \"algo-1\", \"Meta\": \"training_data_iter\", \"Operation\": \"training\", \"Algorithm\": \"AWS/KMeansWebscale\", \"epoch\": 2}, \"StartTime\": 1586437455.325473}\n",
      "\u001b[0m\n",
      "\u001b[34m[04/09/2020 13:04:15 INFO 140224531404608] #throughput_metric: host=algo-1, train throughput=232984.710902 records/second\u001b[0m\n",
      "\u001b[34m[2020-04-09 13:04:15.351] [tensorio] [info] epoch_stats={\"data_pipeline\": \"/opt/ml/input/data/train\", \"epoch\": 7, \"duration\": 12, \"num_examples\": 1, \"num_bytes\": 167336}\u001b[0m\n",
      "\u001b[34m[04/09/2020 13:04:15 INFO 140224531404608] processed a total of 3218 examples\u001b[0m\n",
      "\u001b[34m[04/09/2020 13:04:15 INFO 140224531404608] #progress_metric: host=algo-1, completed 80 % of epochs\u001b[0m\n",
      "\u001b[34m#metrics {\"Metrics\": {\"Max Batches Seen Between Resets\": {\"count\": 1, \"max\": 1, \"sum\": 1.0, \"min\": 1}, \"Number of Batches Since Last Reset\": {\"count\": 1, \"max\": 1, \"sum\": 1.0, \"min\": 1}, \"Number of Records Since Last Reset\": {\"count\": 1, \"max\": 3218, \"sum\": 3218.0, \"min\": 3218}, \"Total Batches Seen\": {\"count\": 1, \"max\": 5, \"sum\": 5.0, \"min\": 5}, \"Total Records Seen\": {\"count\": 1, \"max\": 16090, \"sum\": 16090.0, \"min\": 16090}, \"Max Records Seen Between Resets\": {\"count\": 1, \"max\": 3218, \"sum\": 3218.0, \"min\": 3218}, \"Reset Count\": {\"count\": 1, \"max\": 4, \"sum\": 4.0, \"min\": 4}}, \"EndTime\": 1586437455.352234, \"Dimensions\": {\"Host\": \"algo-1\", \"Meta\": \"training_data_iter\", \"Operation\": \"training\", \"Algorithm\": \"AWS/KMeansWebscale\", \"epoch\": 3}, \"StartTime\": 1586437455.339423}\n",
      "\u001b[0m\n",
      "\u001b[34m[04/09/2020 13:04:15 INFO 140224531404608] #throughput_metric: host=algo-1, train throughput=248495.291848 records/second\u001b[0m\n",
      "\u001b[34m[2020-04-09 13:04:15.364] [tensorio] [info] epoch_stats={\"data_pipeline\": \"/opt/ml/input/data/train\", \"epoch\": 9, \"duration\": 12, \"num_examples\": 1, \"num_bytes\": 167336}\u001b[0m\n",
      "\u001b[34m[04/09/2020 13:04:15 INFO 140224531404608] processed a total of 3218 examples\u001b[0m\n",
      "\u001b[34m[04/09/2020 13:04:15 INFO 140224531404608] #progress_metric: host=algo-1, completed 100 % of epochs\u001b[0m\n",
      "\u001b[34m#metrics {\"Metrics\": {\"Max Batches Seen Between Resets\": {\"count\": 1, \"max\": 1, \"sum\": 1.0, \"min\": 1}, \"Number of Batches Since Last Reset\": {\"count\": 1, \"max\": 1, \"sum\": 1.0, \"min\": 1}, \"Number of Records Since Last Reset\": {\"count\": 1, \"max\": 3218, \"sum\": 3218.0, \"min\": 3218}, \"Total Batches Seen\": {\"count\": 1, \"max\": 6, \"sum\": 6.0, \"min\": 6}, \"Total Records Seen\": {\"count\": 1, \"max\": 19308, \"sum\": 19308.0, \"min\": 19308}, \"Max Records Seen Between Resets\": {\"count\": 1, \"max\": 3218, \"sum\": 3218.0, \"min\": 3218}, \"Reset Count\": {\"count\": 1, \"max\": 5, \"sum\": 5.0, \"min\": 5}}, \"EndTime\": 1586437455.365294, \"Dimensions\": {\"Host\": \"algo-1\", \"Meta\": \"training_data_iter\", \"Operation\": \"training\", \"Algorithm\": \"AWS/KMeansWebscale\", \"epoch\": 4}, \"StartTime\": 1586437455.352509}\n",
      "\u001b[0m\n",
      "\u001b[34m[04/09/2020 13:04:15 INFO 140224531404608] #throughput_metric: host=algo-1, train throughput=248802.194916 records/second\u001b[0m\n",
      "\u001b[34m[04/09/2020 13:04:15 WARNING 140224531404608] wait_for_all_workers will not sync workers since the kv store is not running distributed\u001b[0m\n",
      "\u001b[34m[04/09/2020 13:04:15 INFO 140224531404608] shrinking 80 centers into 8\u001b[0m\n",
      "\u001b[34m[04/09/2020 13:04:15 INFO 140224531404608] local kmeans attempt #0. Current mean square distance 0.066694\u001b[0m\n",
      "\u001b[34m[04/09/2020 13:04:15 INFO 140224531404608] local kmeans attempt #1. Current mean square distance 0.068503\u001b[0m\n",
      "\u001b[34m[04/09/2020 13:04:15 INFO 140224531404608] local kmeans attempt #2. Current mean square distance 0.072974\u001b[0m\n",
      "\u001b[34m[04/09/2020 13:04:15 INFO 140224531404608] finished shrinking process. Mean Square Distance = 0\u001b[0m\n",
      "\u001b[34m[04/09/2020 13:04:15 INFO 140224531404608] #quality_metric: host=algo-1, train msd <loss>=0.0666940435767\u001b[0m\n",
      "\u001b[34m[04/09/2020 13:04:15 INFO 140224531404608] compute all data-center distances: inner product took: 25.5604%, (0.028327 secs)\u001b[0m\n",
      "\u001b[34m[04/09/2020 13:04:15 INFO 140224531404608] batch data loading with context took: 20.4758%, (0.022692 secs)\u001b[0m\n",
      "\u001b[34m[04/09/2020 13:04:15 INFO 140224531404608] predict compute msd took: 15.0573%, (0.016687 secs)\u001b[0m\n",
      "\u001b[34m[04/09/2020 13:04:15 INFO 140224531404608] gradient: cluster size  took: 8.7436%, (0.009690 secs)\u001b[0m\n",
      "\u001b[34m[04/09/2020 13:04:15 INFO 140224531404608] collect from kv store took: 7.1634%, (0.007939 secs)\u001b[0m\n",
      "\u001b[34m[04/09/2020 13:04:15 INFO 140224531404608] splitting centers key-value pair took: 6.6781%, (0.007401 secs)\u001b[0m\n",
      "\u001b[34m[04/09/2020 13:04:15 INFO 140224531404608] compute all data-center distances: point norm took: 5.9662%, (0.006612 secs)\u001b[0m\n",
      "\u001b[34m[04/09/2020 13:04:15 INFO 140224531404608] gradient: one_hot took: 3.6506%, (0.004046 secs)\u001b[0m\n",
      "\u001b[34m[04/09/2020 13:04:15 INFO 140224531404608] gradient: cluster center took: 3.0884%, (0.003423 secs)\u001b[0m\n",
      "\u001b[34m[04/09/2020 13:04:15 INFO 140224531404608] update state and report convergance took: 2.0418%, (0.002263 secs)\u001b[0m\n",
      "\u001b[34m[04/09/2020 13:04:15 INFO 140224531404608] update set-up time took: 0.7715%, (0.000855 secs)\u001b[0m\n",
      "\u001b[34m[04/09/2020 13:04:15 INFO 140224531404608] compute all data-center distances: center norm took: 0.7218%, (0.000800 secs)\u001b[0m\n",
      "\u001b[34m[04/09/2020 13:04:15 INFO 140224531404608] predict minus dist took: 0.0811%, (0.000090 secs)\u001b[0m\n",
      "\u001b[34m[04/09/2020 13:04:15 INFO 140224531404608] TOTAL took: 0.110824584961\u001b[0m\n",
      "\u001b[34m[04/09/2020 13:04:15 INFO 140224531404608] Number of GPUs being used: 0\u001b[0m\n",
      "\u001b[34m#metrics {\"Metrics\": {\"finalize.time\": {\"count\": 1, \"max\": 94.24304962158203, \"sum\": 94.24304962158203, \"min\": 94.24304962158203}, \"initialize.time\": {\"count\": 1, \"max\": 30.900001525878906, \"sum\": 30.900001525878906, \"min\": 30.900001525878906}, \"model.serialize.time\": {\"count\": 1, \"max\": 0.15687942504882812, \"sum\": 0.15687942504882812, \"min\": 0.15687942504882812}, \"update.time\": {\"count\": 5, \"max\": 50.60100555419922, \"sum\": 106.25290870666504, \"min\": 12.608051300048828}, \"epochs\": {\"count\": 1, \"max\": 5, \"sum\": 5.0, \"min\": 5}, \"state.serialize.time\": {\"count\": 1, \"max\": 1.9810199737548828, \"sum\": 1.9810199737548828, \"min\": 1.9810199737548828}, \"_shrink.time\": {\"count\": 1, \"max\": 92.3309326171875, \"sum\": 92.3309326171875, \"min\": 92.3309326171875}}, \"EndTime\": 1586437455.462158, \"Dimensions\": {\"Host\": \"algo-1\", \"Operation\": \"training\", \"Algorithm\": \"AWS/KMeansWebscale\"}, \"StartTime\": 1586437455.219646}\n",
      "\u001b[0m\n",
      "\u001b[34m[04/09/2020 13:04:15 INFO 140224531404608] Test data is not provided.\u001b[0m\n",
      "\u001b[34m#metrics {\"Metrics\": {\"totaltime\": {\"count\": 1, \"max\": 310.25195121765137, \"sum\": 310.25195121765137, \"min\": 310.25195121765137}, \"setuptime\": {\"count\": 1, \"max\": 15.81883430480957, \"sum\": 15.81883430480957, \"min\": 15.81883430480957}}, \"EndTime\": 1586437455.46254, \"Dimensions\": {\"Host\": \"algo-1\", \"Operation\": \"training\", \"Algorithm\": \"AWS/KMeansWebscale\"}, \"StartTime\": 1586437455.462258}\n",
      "\u001b[0m\n"
     ]
    },
    {
     "name": "stdout",
     "output_type": "stream",
     "text": [
      "\n",
      "2020-04-09 13:04:24 Completed - Training job completed\n",
      "Training seconds: 45\n",
      "Billable seconds: 45\n",
      "CPU times: user 432 ms, sys: 35 ms, total: 467 ms\n",
      "Wall time: 3min 41s\n"
     ]
    }
   ],
   "source": [
    "%%time\n",
    "# train kmeans\n",
    "kmeans.fit(kmeans_pca)"
   ]
  },
  {
   "cell_type": "markdown",
   "metadata": {},
   "source": [
    "### EXERCISE: Deploy the k-means model\n",
    "\n",
    "Deploy the trained model to create a `kmeans_predictor`.\n"
   ]
  },
  {
   "cell_type": "code",
   "execution_count": 39,
   "metadata": {},
   "outputs": [
    {
     "name": "stdout",
     "output_type": "stream",
     "text": [
      "-------------!CPU times: user 229 ms, sys: 13.7 ms, total: 243 ms\n",
      "Wall time: 6min 32s\n"
     ]
    }
   ],
   "source": [
    "%%time\n",
    "# deploy the model to create a predictor\n",
    "kmeans_predictor = kmeans.deploy(initial_instance_count=1, instance_type='ml.c4.xlarge')"
   ]
  },
  {
   "cell_type": "markdown",
   "metadata": {},
   "source": [
    "### EXERCISE: Pass in the training data and assign predicted cluster labels\n",
    "\n",
    "After deploying the model, you can pass in the k-means training data, as a numpy array, and get resultant, predicted cluster labels for each data point."
   ]
  },
  {
   "cell_type": "code",
   "execution_count": 47,
   "metadata": {},
   "outputs": [],
   "source": [
    "# get the predicted clusters for all the kmeans training data\n",
    "cluster_info=kmeans_predictor.predict(kmeans_data_np)"
   ]
  },
  {
   "cell_type": "markdown",
   "metadata": {},
   "source": [
    "## Exploring the resultant clusters\n",
    "\n",
    "The resulting predictions should give you information about the cluster that each data point belongs to.\n",
    "\n",
    "You should be able to answer the **question**: which cluster does a given data point belong to?"
   ]
  },
  {
   "cell_type": "code",
   "execution_count": 48,
   "metadata": {},
   "outputs": [
    {
     "name": "stdout",
     "output_type": "stream",
     "text": [
      "County is:  Alabama-Autauga\n",
      "\n",
      "label {\n",
      "  key: \"closest_cluster\"\n",
      "  value {\n",
      "    float32_tensor {\n",
      "      values: 7.0\n",
      "    }\n",
      "  }\n",
      "}\n",
      "label {\n",
      "  key: \"distance_to_cluster\"\n",
      "  value {\n",
      "    float32_tensor {\n",
      "      values: 0.2471802979707718\n",
      "    }\n",
      "  }\n",
      "}\n",
      "\n"
     ]
    }
   ],
   "source": [
    "# print cluster info for first data point\n",
    "data_idx = 0\n",
    "\n",
    "print('County is: ', counties_transformed.index[data_idx])\n",
    "print()\n",
    "print(cluster_info[data_idx])"
   ]
  },
  {
   "cell_type": "markdown",
   "metadata": {},
   "source": [
    "### Visualize the distribution of data over clusters\n",
    "\n",
    "Get the cluster labels for each of our data points (counties) and visualize the distribution of points over each cluster."
   ]
  },
  {
   "cell_type": "code",
   "execution_count": 49,
   "metadata": {},
   "outputs": [],
   "source": [
    "# get all cluster labels\n",
    "cluster_labels = [c.label['closest_cluster'].float32_tensor.values[0] for c in cluster_info]"
   ]
  },
  {
   "cell_type": "code",
   "execution_count": 50,
   "metadata": {},
   "outputs": [
    {
     "name": "stdout",
     "output_type": "stream",
     "text": [
      "0.0    838\n",
      "3.0    772\n",
      "7.0    460\n",
      "5.0    411\n",
      "4.0    307\n",
      "6.0    229\n",
      "1.0    106\n",
      "2.0     95\n",
      "Name: 0, dtype: int64\n"
     ]
    }
   ],
   "source": [
    "# count up the points in each cluster\n",
    "cluster_df = pd.DataFrame(cluster_labels)[0].value_counts()\n",
    "\n",
    "print(cluster_df)"
   ]
  },
  {
   "cell_type": "markdown",
   "metadata": {},
   "source": [
    "Now, you may be wondering, what do each of these clusters tell us about these data points? To improve explainability, we need to access the underlying model to get the cluster centers. These centers will help describe which features characterize each cluster."
   ]
  },
  {
   "cell_type": "markdown",
   "metadata": {},
   "source": [
    "### Delete the Endpoint!\n",
    "\n",
    "Now that you've deployed the k-means model and extracted the cluster labels for each data point, you no longer need the k-means endpoint."
   ]
  },
  {
   "cell_type": "code",
   "execution_count": 51,
   "metadata": {},
   "outputs": [],
   "source": [
    "# delete kmeans endpoint\n",
    "session.delete_endpoint(kmeans_predictor.endpoint)"
   ]
  },
  {
   "cell_type": "markdown",
   "metadata": {},
   "source": [
    "---\n",
    "# Model Attributes & Explainability\n",
    "\n",
    "Explaining the result of the modeling is an important step in making use of our analysis. By combining PCA and k-means, and the information contained in the model attributes within a SageMaker trained model, you can learn about a population and remark on some patterns you've found, based on the data."
   ]
  },
  {
   "cell_type": "markdown",
   "metadata": {},
   "source": [
    "### EXERCISE: Access the k-means model attributes\n",
    "\n",
    "Extract the k-means model attributes from where they are saved as a TAR file in an S3 bucket.\n",
    "\n",
    "You'll need to access the model by the k-means training job name, and then unzip the file into `model_algo-1`. Then you can load that file using MXNet, as before."
   ]
  },
  {
   "cell_type": "code",
   "execution_count": 58,
   "metadata": {},
   "outputs": [
    {
     "name": "stdout",
     "output_type": "stream",
     "text": [
      "kmeans-2020-04-09-13-01-21-941/output/model.tar.gz\n"
     ]
    },
    {
     "data": {
      "text/plain": [
       "2304"
      ]
     },
     "execution_count": 58,
     "metadata": {},
     "output_type": "execute_result"
    }
   ],
   "source": [
    "import boto3\n",
    "# download and unzip the kmeans model file\n",
    "# use the name model_algo-1\n",
    "training_job_name='kmeans-2020-04-09-13-01-21-941'\n",
    "\n",
    "# where the model is saved, by default\n",
    "model_key = os.path.join(training_job_name, 'output/model.tar.gz')\n",
    "print(model_key)\n",
    "\n",
    "# download and unzip model\n",
    "boto3.resource('s3').Bucket(bucket_name).download_file(model_key, 'model.tar.gz')\n",
    "\n",
    "# unzipping as model_algo-1\n",
    "os.system('tar -zxvf model.tar.gz')\n",
    "os.system('unzip model_algo-1')"
   ]
  },
  {
   "cell_type": "code",
   "execution_count": 59,
   "metadata": {},
   "outputs": [
    {
     "name": "stdout",
     "output_type": "stream",
     "text": [
      "[\n",
      "[[-6.51893988e-02  1.08849391e-01  1.44452438e-01 -7.93164894e-02\n",
      "  -2.50074528e-02  6.83917105e-02 -2.41157711e-02]\n",
      " [ 3.81482899e-01 -3.48311841e-01  9.52902660e-02  1.84763670e-01\n",
      "  -2.10709289e-01  9.99902561e-03 -1.89326763e-01]\n",
      " [ 1.23940670e+00 -2.67074704e-01 -1.68021858e-01 -3.83634776e-01\n",
      "  -1.07535526e-01  9.58702415e-02  1.17404409e-01]\n",
      " [-2.25582972e-01 -8.47649574e-03  1.15043512e-02 -5.69242500e-02\n",
      "  -2.98092514e-02 -6.64504617e-02 -5.67743648e-03]\n",
      " [-2.13349193e-01 -4.18013036e-01  1.04594328e-01  9.80308130e-02\n",
      "   5.81938922e-02 -1.09332055e-03  7.86792114e-02]\n",
      " [ 3.36739093e-01  2.17054978e-01  5.93832918e-02  2.47616097e-01\n",
      "   9.30891633e-02 -3.96190137e-02  3.23166735e-02]\n",
      " [ 2.85617113e-01 -1.36346608e-01 -2.05204353e-01 -1.66991189e-01\n",
      "   1.42425731e-01 -1.00543573e-01 -6.50288314e-02]\n",
      " [-1.57850325e-01  7.17352927e-02 -2.86549509e-01  6.42475933e-02\n",
      "  -3.99841182e-02  4.94813100e-02  8.05173162e-03]]\n",
      "<NDArray 8x7 @cpu(0)>]\n"
     ]
    }
   ],
   "source": [
    "# get the trained kmeans params using mxnet\n",
    "kmeans_model_params = mx.ndarray.load('model_algo-1')\n",
    "\n",
    "print(kmeans_model_params)"
   ]
  },
  {
   "cell_type": "markdown",
   "metadata": {},
   "source": [
    "There is only 1 set of model parameters contained within the k-means model: the cluster centroid locations in PCA-transformed, component space.\n",
    "\n",
    "* **centroids**: The location of the centers of each cluster in component space, identified by the k-means algorithm. \n"
   ]
  },
  {
   "cell_type": "code",
   "execution_count": 60,
   "metadata": {},
   "outputs": [
    {
     "data": {
      "text/html": [
       "<div>\n",
       "<style scoped>\n",
       "    .dataframe tbody tr th:only-of-type {\n",
       "        vertical-align: middle;\n",
       "    }\n",
       "\n",
       "    .dataframe tbody tr th {\n",
       "        vertical-align: top;\n",
       "    }\n",
       "\n",
       "    .dataframe thead th {\n",
       "        text-align: right;\n",
       "    }\n",
       "</style>\n",
       "<table border=\"1\" class=\"dataframe\">\n",
       "  <thead>\n",
       "    <tr style=\"text-align: right;\">\n",
       "      <th></th>\n",
       "      <th>32</th>\n",
       "      <th>31</th>\n",
       "      <th>30</th>\n",
       "      <th>29</th>\n",
       "      <th>28</th>\n",
       "      <th>27</th>\n",
       "      <th>26</th>\n",
       "    </tr>\n",
       "  </thead>\n",
       "  <tbody>\n",
       "    <tr>\n",
       "      <th>0</th>\n",
       "      <td>-0.065189</td>\n",
       "      <td>0.108849</td>\n",
       "      <td>0.144452</td>\n",
       "      <td>-0.079316</td>\n",
       "      <td>-0.025007</td>\n",
       "      <td>0.068392</td>\n",
       "      <td>-0.024116</td>\n",
       "    </tr>\n",
       "    <tr>\n",
       "      <th>1</th>\n",
       "      <td>0.381483</td>\n",
       "      <td>-0.348312</td>\n",
       "      <td>0.095290</td>\n",
       "      <td>0.184764</td>\n",
       "      <td>-0.210709</td>\n",
       "      <td>0.009999</td>\n",
       "      <td>-0.189327</td>\n",
       "    </tr>\n",
       "    <tr>\n",
       "      <th>2</th>\n",
       "      <td>1.239407</td>\n",
       "      <td>-0.267075</td>\n",
       "      <td>-0.168022</td>\n",
       "      <td>-0.383635</td>\n",
       "      <td>-0.107536</td>\n",
       "      <td>0.095870</td>\n",
       "      <td>0.117404</td>\n",
       "    </tr>\n",
       "    <tr>\n",
       "      <th>3</th>\n",
       "      <td>-0.225583</td>\n",
       "      <td>-0.008476</td>\n",
       "      <td>0.011504</td>\n",
       "      <td>-0.056924</td>\n",
       "      <td>-0.029809</td>\n",
       "      <td>-0.066450</td>\n",
       "      <td>-0.005677</td>\n",
       "    </tr>\n",
       "    <tr>\n",
       "      <th>4</th>\n",
       "      <td>-0.213349</td>\n",
       "      <td>-0.418013</td>\n",
       "      <td>0.104594</td>\n",
       "      <td>0.098031</td>\n",
       "      <td>0.058194</td>\n",
       "      <td>-0.001093</td>\n",
       "      <td>0.078679</td>\n",
       "    </tr>\n",
       "    <tr>\n",
       "      <th>5</th>\n",
       "      <td>0.336739</td>\n",
       "      <td>0.217055</td>\n",
       "      <td>0.059383</td>\n",
       "      <td>0.247616</td>\n",
       "      <td>0.093089</td>\n",
       "      <td>-0.039619</td>\n",
       "      <td>0.032317</td>\n",
       "    </tr>\n",
       "    <tr>\n",
       "      <th>6</th>\n",
       "      <td>0.285617</td>\n",
       "      <td>-0.136347</td>\n",
       "      <td>-0.205204</td>\n",
       "      <td>-0.166991</td>\n",
       "      <td>0.142426</td>\n",
       "      <td>-0.100544</td>\n",
       "      <td>-0.065029</td>\n",
       "    </tr>\n",
       "    <tr>\n",
       "      <th>7</th>\n",
       "      <td>-0.157850</td>\n",
       "      <td>0.071735</td>\n",
       "      <td>-0.286550</td>\n",
       "      <td>0.064248</td>\n",
       "      <td>-0.039984</td>\n",
       "      <td>0.049481</td>\n",
       "      <td>0.008052</td>\n",
       "    </tr>\n",
       "  </tbody>\n",
       "</table>\n",
       "</div>"
      ],
      "text/plain": [
       "         32        31        30        29        28        27        26\n",
       "0 -0.065189  0.108849  0.144452 -0.079316 -0.025007  0.068392 -0.024116\n",
       "1  0.381483 -0.348312  0.095290  0.184764 -0.210709  0.009999 -0.189327\n",
       "2  1.239407 -0.267075 -0.168022 -0.383635 -0.107536  0.095870  0.117404\n",
       "3 -0.225583 -0.008476  0.011504 -0.056924 -0.029809 -0.066450 -0.005677\n",
       "4 -0.213349 -0.418013  0.104594  0.098031  0.058194 -0.001093  0.078679\n",
       "5  0.336739  0.217055  0.059383  0.247616  0.093089 -0.039619  0.032317\n",
       "6  0.285617 -0.136347 -0.205204 -0.166991  0.142426 -0.100544 -0.065029\n",
       "7 -0.157850  0.071735 -0.286550  0.064248 -0.039984  0.049481  0.008052"
      ]
     },
     "metadata": {},
     "output_type": "display_data"
    }
   ],
   "source": [
    "# get all the centroids\n",
    "cluster_centroids=pd.DataFrame(kmeans_model_params[0].asnumpy())\n",
    "cluster_centroids.columns=counties_transformed.columns\n",
    "\n",
    "display(cluster_centroids)"
   ]
  },
  {
   "cell_type": "markdown",
   "metadata": {},
   "source": [
    "### Visualizing Centroids in Component Space\n",
    "\n",
    "You can't visualize 7-dimensional centroids in space, but you can plot a heatmap of the centroids and their location in the transformed feature space. \n",
    "\n",
    "This gives you insight into what characteristics define each cluster. Often with unsupervised learning, results are hard to interpret. This is one way to make use of the results of PCA + clustering techniques, together. Since you were able to examine the makeup of each PCA component, you can understand what each centroid represents in terms of the PCA components."
   ]
  },
  {
   "cell_type": "code",
   "execution_count": 63,
   "metadata": {},
   "outputs": [
    {
     "data": {
      "image/png": "[encoded data removed]",
      "text/plain": [
       "<Figure size 864x648 with 2 Axes>"
      ]
     },
     "metadata": {},
     "output_type": "display_data"
    }
   ],
   "source": [
    "# generate a heatmap in component space, using the seaborn library\n",
    "plt.figure(figsize = (12,9))\n",
    "ax = sns.heatmap(cluster_centroids.T, cmap = 'YlGnBu')\n",
    "ax.set_xlabel(\"Cluster\")\n",
    "plt.yticks(fontsize = 16)\n",
    "plt.xticks(fontsize = 16)\n",
    "ax.set_title(\"Attribute Value by Centroid\")\n",
    "plt.show()"
   ]
  },
  {
   "cell_type": "markdown",
   "metadata": {},
   "source": [
    "If you've forgotten what each component corresponds to at an original-feature-level, that's okay! You can use the previously defined `display_component` function to see the feature-level makeup."
   ]
  },
  {
   "cell_type": "code",
   "execution_count": 65,
   "metadata": {},
   "outputs": [
    {
     "data": {
      "image/png": "[encoded data removed]",
      "text/plain": [
       "<Figure size 720x432 with 1 Axes>"
      ]
     },
     "metadata": {},
     "output_type": "display_data"
    }
   ],
   "source": [
    "# what do each of these components mean again?\n",
    "# let's use the display function, from above\n",
    "component_num=1\n",
    "display_component(v, counties_scaled.columns.values, component_num=component_num)"
   ]
  },
  {
   "cell_type": "markdown",
   "metadata": {},
   "source": [
    "### Natural Groupings\n",
    "\n",
    "You can also map the cluster labels back to each individual county and examine which counties are naturally grouped together."
   ]
  },
  {
   "cell_type": "code",
   "execution_count": 66,
   "metadata": {},
   "outputs": [
    {
     "data": {
      "text/html": [
       "<div>\n",
       "<style scoped>\n",
       "    .dataframe tbody tr th:only-of-type {\n",
       "        vertical-align: middle;\n",
       "    }\n",
       "\n",
       "    .dataframe tbody tr th {\n",
       "        vertical-align: top;\n",
       "    }\n",
       "\n",
       "    .dataframe thead th {\n",
       "        text-align: right;\n",
       "    }\n",
       "</style>\n",
       "<table border=\"1\" class=\"dataframe\">\n",
       "  <thead>\n",
       "    <tr style=\"text-align: right;\">\n",
       "      <th></th>\n",
       "      <th>32</th>\n",
       "      <th>31</th>\n",
       "      <th>30</th>\n",
       "      <th>29</th>\n",
       "      <th>28</th>\n",
       "      <th>27</th>\n",
       "      <th>26</th>\n",
       "      <th>labels</th>\n",
       "    </tr>\n",
       "  </thead>\n",
       "  <tbody>\n",
       "    <tr>\n",
       "      <th>Missouri-Benton</th>\n",
       "      <td>-0.103465</td>\n",
       "      <td>0.049127</td>\n",
       "      <td>0.219640</td>\n",
       "      <td>-0.087487</td>\n",
       "      <td>-0.079964</td>\n",
       "      <td>0.116582</td>\n",
       "      <td>0.013864</td>\n",
       "      <td>0</td>\n",
       "    </tr>\n",
       "    <tr>\n",
       "      <th>Michigan-Montcalm</th>\n",
       "      <td>-0.093800</td>\n",
       "      <td>0.277402</td>\n",
       "      <td>0.118879</td>\n",
       "      <td>-0.183504</td>\n",
       "      <td>0.011605</td>\n",
       "      <td>0.125444</td>\n",
       "      <td>-0.056001</td>\n",
       "      <td>0</td>\n",
       "    </tr>\n",
       "    <tr>\n",
       "      <th>Texas-Hill</th>\n",
       "      <td>0.141250</td>\n",
       "      <td>0.086289</td>\n",
       "      <td>0.035305</td>\n",
       "      <td>-0.139735</td>\n",
       "      <td>0.050776</td>\n",
       "      <td>0.073098</td>\n",
       "      <td>-0.017439</td>\n",
       "      <td>0</td>\n",
       "    </tr>\n",
       "    <tr>\n",
       "      <th>Illinois-Edgar</th>\n",
       "      <td>-0.201159</td>\n",
       "      <td>0.172508</td>\n",
       "      <td>0.127714</td>\n",
       "      <td>-0.124011</td>\n",
       "      <td>-0.072175</td>\n",
       "      <td>-0.046480</td>\n",
       "      <td>-0.051016</td>\n",
       "      <td>0</td>\n",
       "    </tr>\n",
       "    <tr>\n",
       "      <th>Michigan-Missaukee</th>\n",
       "      <td>-0.160641</td>\n",
       "      <td>0.120536</td>\n",
       "      <td>0.198302</td>\n",
       "      <td>-0.172821</td>\n",
       "      <td>0.015488</td>\n",
       "      <td>-0.030703</td>\n",
       "      <td>-0.035308</td>\n",
       "      <td>0</td>\n",
       "    </tr>\n",
       "    <tr>\n",
       "      <th>Michigan-Menominee</th>\n",
       "      <td>-0.146710</td>\n",
       "      <td>0.148991</td>\n",
       "      <td>0.175959</td>\n",
       "      <td>-0.141382</td>\n",
       "      <td>-0.070103</td>\n",
       "      <td>-0.070911</td>\n",
       "      <td>-0.051196</td>\n",
       "      <td>0</td>\n",
       "    </tr>\n",
       "    <tr>\n",
       "      <th>Illinois-Fayette</th>\n",
       "      <td>-0.070946</td>\n",
       "      <td>0.122403</td>\n",
       "      <td>0.180327</td>\n",
       "      <td>-0.068759</td>\n",
       "      <td>-0.102514</td>\n",
       "      <td>0.013988</td>\n",
       "      <td>-0.050715</td>\n",
       "      <td>0</td>\n",
       "    </tr>\n",
       "    <tr>\n",
       "      <th>Michigan-Mecosta</th>\n",
       "      <td>-0.037515</td>\n",
       "      <td>0.154930</td>\n",
       "      <td>0.162594</td>\n",
       "      <td>-0.070744</td>\n",
       "      <td>-0.189584</td>\n",
       "      <td>0.020328</td>\n",
       "      <td>-0.065534</td>\n",
       "      <td>0</td>\n",
       "    </tr>\n",
       "    <tr>\n",
       "      <th>Illinois-Franklin</th>\n",
       "      <td>-0.117805</td>\n",
       "      <td>0.141687</td>\n",
       "      <td>0.166566</td>\n",
       "      <td>-0.106230</td>\n",
       "      <td>-0.127863</td>\n",
       "      <td>0.072138</td>\n",
       "      <td>-0.046725</td>\n",
       "      <td>0</td>\n",
       "    </tr>\n",
       "    <tr>\n",
       "      <th>Illinois-Fulton</th>\n",
       "      <td>-0.169034</td>\n",
       "      <td>0.135953</td>\n",
       "      <td>0.076481</td>\n",
       "      <td>-0.070978</td>\n",
       "      <td>-0.037723</td>\n",
       "      <td>0.051251</td>\n",
       "      <td>-0.098999</td>\n",
       "      <td>0</td>\n",
       "    </tr>\n",
       "    <tr>\n",
       "      <th>Illinois-Gallatin</th>\n",
       "      <td>-0.198339</td>\n",
       "      <td>0.036233</td>\n",
       "      <td>0.164038</td>\n",
       "      <td>-0.085706</td>\n",
       "      <td>0.021459</td>\n",
       "      <td>0.082481</td>\n",
       "      <td>-0.001597</td>\n",
       "      <td>0</td>\n",
       "    </tr>\n",
       "    <tr>\n",
       "      <th>Illinois-Greene</th>\n",
       "      <td>-0.173365</td>\n",
       "      <td>0.077145</td>\n",
       "      <td>0.185161</td>\n",
       "      <td>-0.092419</td>\n",
       "      <td>-0.005479</td>\n",
       "      <td>0.119554</td>\n",
       "      <td>-0.054927</td>\n",
       "      <td>0</td>\n",
       "    </tr>\n",
       "    <tr>\n",
       "      <th>Michigan-Montmorency</th>\n",
       "      <td>-0.086255</td>\n",
       "      <td>0.170059</td>\n",
       "      <td>0.199825</td>\n",
       "      <td>-0.118275</td>\n",
       "      <td>-0.159126</td>\n",
       "      <td>0.142424</td>\n",
       "      <td>-0.054682</td>\n",
       "      <td>0</td>\n",
       "    </tr>\n",
       "    <tr>\n",
       "      <th>Michigan-Mason</th>\n",
       "      <td>-0.116895</td>\n",
       "      <td>0.091055</td>\n",
       "      <td>0.110503</td>\n",
       "      <td>-0.087509</td>\n",
       "      <td>-0.177897</td>\n",
       "      <td>-0.089075</td>\n",
       "      <td>0.035676</td>\n",
       "      <td>0</td>\n",
       "    </tr>\n",
       "    <tr>\n",
       "      <th>Michigan-Manistee</th>\n",
       "      <td>-0.058315</td>\n",
       "      <td>0.057058</td>\n",
       "      <td>0.130532</td>\n",
       "      <td>-0.034919</td>\n",
       "      <td>-0.200020</td>\n",
       "      <td>-0.001572</td>\n",
       "      <td>-0.052907</td>\n",
       "      <td>0</td>\n",
       "    </tr>\n",
       "    <tr>\n",
       "      <th>Illinois-Hardin</th>\n",
       "      <td>-0.062757</td>\n",
       "      <td>0.051192</td>\n",
       "      <td>0.256995</td>\n",
       "      <td>-0.064971</td>\n",
       "      <td>-0.043013</td>\n",
       "      <td>0.140037</td>\n",
       "      <td>-0.030488</td>\n",
       "      <td>0</td>\n",
       "    </tr>\n",
       "    <tr>\n",
       "      <th>Michigan-Luce</th>\n",
       "      <td>0.120282</td>\n",
       "      <td>0.013540</td>\n",
       "      <td>0.218060</td>\n",
       "      <td>0.063155</td>\n",
       "      <td>-0.247368</td>\n",
       "      <td>-0.128924</td>\n",
       "      <td>-0.157049</td>\n",
       "      <td>0</td>\n",
       "    </tr>\n",
       "    <tr>\n",
       "      <th>Michigan-Lenawee</th>\n",
       "      <td>-0.127194</td>\n",
       "      <td>0.213307</td>\n",
       "      <td>-0.028107</td>\n",
       "      <td>-0.141556</td>\n",
       "      <td>-0.071320</td>\n",
       "      <td>0.043605</td>\n",
       "      <td>-0.055344</td>\n",
       "      <td>0</td>\n",
       "    </tr>\n",
       "    <tr>\n",
       "      <th>Illinois-Jefferson</th>\n",
       "      <td>-0.093971</td>\n",
       "      <td>0.176387</td>\n",
       "      <td>0.078884</td>\n",
       "      <td>-0.056555</td>\n",
       "      <td>-0.111149</td>\n",
       "      <td>-0.116750</td>\n",
       "      <td>0.005515</td>\n",
       "      <td>0</td>\n",
       "    </tr>\n",
       "    <tr>\n",
       "      <th>Texas-Henderson</th>\n",
       "      <td>0.031515</td>\n",
       "      <td>0.079999</td>\n",
       "      <td>0.066144</td>\n",
       "      <td>-0.103948</td>\n",
       "      <td>0.047389</td>\n",
       "      <td>0.119846</td>\n",
       "      <td>-0.036153</td>\n",
       "      <td>0</td>\n",
       "    </tr>\n",
       "  </tbody>\n",
       "</table>\n",
       "</div>"
      ],
      "text/plain": [
       "                            32        31        30        29        28  \\\n",
       "Missouri-Benton      -0.103465  0.049127  0.219640 -0.087487 -0.079964   \n",
       "Michigan-Montcalm    -0.093800  0.277402  0.118879 -0.183504  0.011605   \n",
       "Texas-Hill            0.141250  0.086289  0.035305 -0.139735  0.050776   \n",
       "Illinois-Edgar       -0.201159  0.172508  0.127714 -0.124011 -0.072175   \n",
       "Michigan-Missaukee   -0.160641  0.120536  0.198302 -0.172821  0.015488   \n",
       "Michigan-Menominee   -0.146710  0.148991  0.175959 -0.141382 -0.070103   \n",
       "Illinois-Fayette     -0.070946  0.122403  0.180327 -0.068759 -0.102514   \n",
       "Michigan-Mecosta     -0.037515  0.154930  0.162594 -0.070744 -0.189584   \n",
       "Illinois-Franklin    -0.117805  0.141687  0.166566 -0.106230 -0.127863   \n",
       "Illinois-Fulton      -0.169034  0.135953  0.076481 -0.070978 -0.037723   \n",
       "Illinois-Gallatin    -0.198339  0.036233  0.164038 -0.085706  0.021459   \n",
       "Illinois-Greene      -0.173365  0.077145  0.185161 -0.092419 -0.005479   \n",
       "Michigan-Montmorency -0.086255  0.170059  0.199825 -0.118275 -0.159126   \n",
       "Michigan-Mason       -0.116895  0.091055  0.110503 -0.087509 -0.177897   \n",
       "Michigan-Manistee    -0.058315  0.057058  0.130532 -0.034919 -0.200020   \n",
       "Illinois-Hardin      -0.062757  0.051192  0.256995 -0.064971 -0.043013   \n",
       "Michigan-Luce         0.120282  0.013540  0.218060  0.063155 -0.247368   \n",
       "Michigan-Lenawee     -0.127194  0.213307 -0.028107 -0.141556 -0.071320   \n",
       "Illinois-Jefferson   -0.093971  0.176387  0.078884 -0.056555 -0.111149   \n",
       "Texas-Henderson       0.031515  0.079999  0.066144 -0.103948  0.047389   \n",
       "\n",
       "                            27        26  labels  \n",
       "Missouri-Benton       0.116582  0.013864       0  \n",
       "Michigan-Montcalm     0.125444 -0.056001       0  \n",
       "Texas-Hill            0.073098 -0.017439       0  \n",
       "Illinois-Edgar       -0.046480 -0.051016       0  \n",
       "Michigan-Missaukee   -0.030703 -0.035308       0  \n",
       "Michigan-Menominee   -0.070911 -0.051196       0  \n",
       "Illinois-Fayette      0.013988 -0.050715       0  \n",
       "Michigan-Mecosta      0.020328 -0.065534       0  \n",
       "Illinois-Franklin     0.072138 -0.046725       0  \n",
       "Illinois-Fulton       0.051251 -0.098999       0  \n",
       "Illinois-Gallatin     0.082481 -0.001597       0  \n",
       "Illinois-Greene       0.119554 -0.054927       0  \n",
       "Michigan-Montmorency  0.142424 -0.054682       0  \n",
       "Michigan-Mason       -0.089075  0.035676       0  \n",
       "Michigan-Manistee    -0.001572 -0.052907       0  \n",
       "Illinois-Hardin       0.140037 -0.030488       0  \n",
       "Michigan-Luce        -0.128924 -0.157049       0  \n",
       "Michigan-Lenawee      0.043605 -0.055344       0  \n",
       "Illinois-Jefferson   -0.116750  0.005515       0  \n",
       "Texas-Henderson       0.119846 -0.036153       0  "
      ]
     },
     "execution_count": 66,
     "metadata": {},
     "output_type": "execute_result"
    }
   ],
   "source": [
    "# add a 'labels' column to the dataframe\n",
    "counties_transformed['labels']=list(map(int, cluster_labels))\n",
    "\n",
    "# sort by cluster label 0-6\n",
    "sorted_counties = counties_transformed.sort_values('labels', ascending=True)\n",
    "# view some pts in cluster 0\n",
    "sorted_counties.head(20)"
   ]
  },
  {
   "cell_type": "markdown",
   "metadata": {},
   "source": [
    "You can also examine one of the clusters in more detail, like cluster 1, for example. A quick glance at the location of the centroid in component space (the heatmap) tells us that it has the highest value for the `comp_6` attribute. You can now see which counties fit that description."
   ]
  },
  {
   "cell_type": "code",
   "execution_count": 67,
   "metadata": {},
   "outputs": [
    {
     "data": {
      "text/html": [
       "<div>\n",
       "<style scoped>\n",
       "    .dataframe tbody tr th:only-of-type {\n",
       "        vertical-align: middle;\n",
       "    }\n",
       "\n",
       "    .dataframe tbody tr th {\n",
       "        vertical-align: top;\n",
       "    }\n",
       "\n",
       "    .dataframe thead th {\n",
       "        text-align: right;\n",
       "    }\n",
       "</style>\n",
       "<table border=\"1\" class=\"dataframe\">\n",
       "  <thead>\n",
       "    <tr style=\"text-align: right;\">\n",
       "      <th></th>\n",
       "      <th>32</th>\n",
       "      <th>31</th>\n",
       "      <th>30</th>\n",
       "      <th>29</th>\n",
       "      <th>28</th>\n",
       "      <th>27</th>\n",
       "      <th>26</th>\n",
       "      <th>labels</th>\n",
       "    </tr>\n",
       "  </thead>\n",
       "  <tbody>\n",
       "    <tr>\n",
       "      <th>Alaska-Bethel Census Area</th>\n",
       "      <td>0.597473</td>\n",
       "      <td>-0.624618</td>\n",
       "      <td>-0.048797</td>\n",
       "      <td>0.572906</td>\n",
       "      <td>-0.430761</td>\n",
       "      <td>-0.239015</td>\n",
       "      <td>-0.684414</td>\n",
       "      <td>1</td>\n",
       "    </tr>\n",
       "    <tr>\n",
       "      <th>Alaska-Dillingham Census Area</th>\n",
       "      <td>0.392701</td>\n",
       "      <td>-0.579860</td>\n",
       "      <td>-0.126503</td>\n",
       "      <td>0.466510</td>\n",
       "      <td>-0.226094</td>\n",
       "      <td>-0.250855</td>\n",
       "      <td>-0.580714</td>\n",
       "      <td>1</td>\n",
       "    </tr>\n",
       "    <tr>\n",
       "      <th>Alaska-Hoonah-Angoon Census Area</th>\n",
       "      <td>0.105957</td>\n",
       "      <td>-0.765696</td>\n",
       "      <td>0.092466</td>\n",
       "      <td>0.429462</td>\n",
       "      <td>-0.010597</td>\n",
       "      <td>-0.169204</td>\n",
       "      <td>-0.224622</td>\n",
       "      <td>1</td>\n",
       "    </tr>\n",
       "    <tr>\n",
       "      <th>Alaska-Kodiak Island Borough</th>\n",
       "      <td>-0.008272</td>\n",
       "      <td>-0.367003</td>\n",
       "      <td>-0.162269</td>\n",
       "      <td>0.191822</td>\n",
       "      <td>0.042486</td>\n",
       "      <td>-0.298352</td>\n",
       "      <td>-0.429001</td>\n",
       "      <td>1</td>\n",
       "    </tr>\n",
       "    <tr>\n",
       "      <th>Alaska-Kusilvak Census Area</th>\n",
       "      <td>0.879877</td>\n",
       "      <td>-0.789988</td>\n",
       "      <td>0.150253</td>\n",
       "      <td>0.696509</td>\n",
       "      <td>-0.607975</td>\n",
       "      <td>-0.173162</td>\n",
       "      <td>-0.764162</td>\n",
       "      <td>1</td>\n",
       "    </tr>\n",
       "  </tbody>\n",
       "</table>\n",
       "</div>"
      ],
      "text/plain": [
       "                                        32        31        30        29  \\\n",
       "Alaska-Bethel Census Area         0.597473 -0.624618 -0.048797  0.572906   \n",
       "Alaska-Dillingham Census Area     0.392701 -0.579860 -0.126503  0.466510   \n",
       "Alaska-Hoonah-Angoon Census Area  0.105957 -0.765696  0.092466  0.429462   \n",
       "Alaska-Kodiak Island Borough     -0.008272 -0.367003 -0.162269  0.191822   \n",
       "Alaska-Kusilvak Census Area       0.879877 -0.789988  0.150253  0.696509   \n",
       "\n",
       "                                        28        27        26  labels  \n",
       "Alaska-Bethel Census Area        -0.430761 -0.239015 -0.684414       1  \n",
       "Alaska-Dillingham Census Area    -0.226094 -0.250855 -0.580714       1  \n",
       "Alaska-Hoonah-Angoon Census Area -0.010597 -0.169204 -0.224622       1  \n",
       "Alaska-Kodiak Island Borough      0.042486 -0.298352 -0.429001       1  \n",
       "Alaska-Kusilvak Census Area      -0.607975 -0.173162 -0.764162       1  "
      ]
     },
     "execution_count": 67,
     "metadata": {},
     "output_type": "execute_result"
    }
   ],
   "source": [
    "# get all counties with label == 1\n",
    "cluster=counties_transformed[counties_transformed['labels']==1]\n",
    "cluster.head()"
   ]
  },
  {
   "cell_type": "markdown",
   "metadata": {
    "collapsed": true
   },
   "source": [
    "## Final Cleanup!\n",
    "\n",
    "* Double check that you have deleted all your endpoints.\n",
    "* I'd also suggest manually deleting your S3 bucket, models, and endpoint configurations directly from your AWS console.\n",
    "\n",
    "You can find thorough cleanup instructions, [in the documentation](https://docs.aws.amazon.com/sagemaker/latest/dg/ex1-cleanup.html)."
   ]
  },
  {
   "cell_type": "markdown",
   "metadata": {},
   "source": [
    "---\n",
    "# Conclusion\n",
    "\n",
    "You have just walked through a machine learning workflow for unsupervised learning, specifically, for clustering a dataset using k-means after reducing the dimensionality using PCA. By accessing the underlying models created within  SageMaker, you were able to improve the explainability of your model and draw insights from the resultant clusters. \n",
    "\n",
    "Using these techniques, you have been able to better understand the essential characteristics of different counties in the US and segment them into similar groups, accordingly."
   ]
  }
 ],
 "metadata": {
  "kernelspec": {
   "display_name": "conda_amazonei_mxnet_p36",
   "language": "python",
   "name": "conda_amazonei_mxnet_p36"
  },
  "language_info": {
   "codemirror_mode": {
    "name": "ipython",
    "version": 3
   },
   "file_extension": ".py",
   "mimetype": "text/x-python",
   "name": "python",
   "nbconvert_exporter": "python",
   "pygments_lexer": "ipython3",
   "version": "3.6.5"
  },
  "nbpresent": {
   "slides": {
    "00185e5a-e023-4efa-9b74-1d4003fed039": {
     "id": "00185e5a-e023-4efa-9b74-1d4003fed039",
     "prev": "245581e9-468f-4d78-a748-0c3bdc5cb82a",
     "regions": {
      "691d980e-e884-402b-bedf-94142409e67a": {
       "attrs": {
        "height": 0.8,
        "width": 0.8,
        "x": 0.1,
        "y": 0.1
       },
       "content": {
        "cell": "479ad6be-6ef5-4a23-83fa-5a3438bed78c",
        "part": "whole"
       },
       "id": "691d980e-e884-402b-bedf-94142409e67a"
      }
     }
    },
    "04c02612-b7a3-4a6b-b46e-f0b64285f34f": {
     "id": "04c02612-b7a3-4a6b-b46e-f0b64285f34f",
     "prev": "cb224ddf-91c8-4058-a92c-589888536dce",
     "regions": {
      "15ef2157-6262-4d93-9646-01c5229cdc2e": {
       "attrs": {
        "height": 0.8,
        "width": 0.8,
        "x": 0.1,
        "y": 0.1
       },
       "content": {
        "cell": "479ad6be-6ef5-4a23-83fa-5a3438bed78c",
        "part": "whole"
       },
       "id": "15ef2157-6262-4d93-9646-01c5229cdc2e"
      }
     }
    },
    "0c825f9e-60ad-44b9-a3a9-32977b6dc07b": {
     "id": "0c825f9e-60ad-44b9-a3a9-32977b6dc07b",
     "prev": "3031125b-46a7-453f-8405-d51270217fed",
     "regions": {
      "5800e24d-5f1b-47f5-8cb8-5841666497ec": {
       "attrs": {
        "height": 0.8,
        "width": 0.8,
        "x": 0.1,
        "y": 0.1
       },
       "content": {
        "cell": "c2f7177c-9a56-46a7-8e51-53c1ccdac759",
        "part": "whole"
       },
       "id": "5800e24d-5f1b-47f5-8cb8-5841666497ec"
      }
     }
    },
    "0d1a4ca3-9779-41bc-a0b3-d212cb7d4a8c": {
     "id": "0d1a4ca3-9779-41bc-a0b3-d212cb7d4a8c",
     "prev": "e96ea25d-f12d-4df2-9229-29bbb6f89e57",
     "regions": {
      "73ea6e42-198b-45f7-90c0-76be78ca9873": {
       "attrs": {
        "height": 0.8,
        "width": 0.8,
        "x": 0.1,
        "y": 0.1
       },
       "content": {
        "cell": "05579e7a-be31-4942-a9a9-9f087cc284ff",
        "part": "whole"
       },
       "id": "73ea6e42-198b-45f7-90c0-76be78ca9873"
      }
     }
    },
    "0d8fa08d-7d0f-4378-8065-26382e5a86e2": {
     "id": "0d8fa08d-7d0f-4378-8065-26382e5a86e2",
     "prev": "2102ebf0-1bc1-493a-a8d2-e134b767f101",
     "regions": {
      "559c72a7-aebd-454e-aace-1ac4a1b01922": {
       "attrs": {
        "height": 0.8,
        "width": 0.8,
        "x": 0.1,
        "y": 0.1
       },
       "content": {
        "cell": "a3c4d54d-1c66-4511-9276-0a976adc27a3",
        "part": "whole"
       },
       "id": "559c72a7-aebd-454e-aace-1ac4a1b01922"
      }
     }
    },
    "0d98a2ee-ba72-4111-83eb-8ca87082100e": {
     "id": "0d98a2ee-ba72-4111-83eb-8ca87082100e",
     "prev": "a52fcace-21c6-4d27-9ee8-f87e06b1bf4b",
     "regions": {
      "f25816e9-e51b-4625-b61c-bea7755373a2": {
       "attrs": {
        "height": 0.8,
        "width": 0.8,
        "x": 0.1,
        "y": 0.1
       },
       "content": {
        "cell": "eb6724ef-65dc-4f74-b92c-3f9e540a7b35",
        "part": "whole"
       },
       "id": "f25816e9-e51b-4625-b61c-bea7755373a2"
      }
     }
    },
    "0eab16c6-3c1a-4f9c-a6d9-a1cf6220a9a2": {
     "id": "0eab16c6-3c1a-4f9c-a6d9-a1cf6220a9a2",
     "prev": "5caa41a3-a416-4b62-ad94-9efc601a0761",
     "regions": {
      "752c114b-e55a-40c2-b1d5-a646253c012a": {
       "attrs": {
        "height": 0.8,
        "width": 0.8,
        "x": 0.1,
        "y": 0.1
       },
       "content": {
        "cell": "a3c4d54d-1c66-4511-9276-0a976adc27a3",
        "part": "whole"
       },
       "id": "752c114b-e55a-40c2-b1d5-a646253c012a"
      }
     }
    },
    "0f0856fc-b72e-4a9e-9279-f0b70282084a": {
     "id": "0f0856fc-b72e-4a9e-9279-f0b70282084a",
     "prev": "4c3af69f-0dbf-4538-a217-4674c220e1ce",
     "regions": {
      "07c3f079-7bf9-4e7c-b073-93c94568b5f8": {
       "attrs": {
        "height": 0.8,
        "width": 0.8,
        "x": 0.1,
        "y": 0.1
       },
       "content": {
        "cell": "a3c4d54d-1c66-4511-9276-0a976adc27a3",
        "part": "whole"
       },
       "id": "07c3f079-7bf9-4e7c-b073-93c94568b5f8"
      }
     }
    },
    "127a45d8-ef23-4438-9cb9-c721e712e2ad": {
     "id": "127a45d8-ef23-4438-9cb9-c721e712e2ad",
     "prev": null,
     "regions": {
      "1014f9bc-a908-4bb1-b5f4-6d5fafbcacad": {
       "attrs": {
        "height": 0.8,
        "width": 0.8,
        "x": 0.1,
        "y": 0.1
       },
       "content": {
        "cell": "62d4851b-e85e-419e-901a-d5c03db59166",
        "part": "whole"
       },
       "id": "1014f9bc-a908-4bb1-b5f4-6d5fafbcacad"
      }
     }
    },
    "137bd8ba-62fa-4977-aa92-299716a1b575": {
     "id": "137bd8ba-62fa-4977-aa92-299716a1b575",
     "prev": "f89c8884-cb84-4930-a1c4-451008b047e0",
     "regions": {
      "c3c3c631-e394-4d86-8efd-f7e297da7c54": {
       "attrs": {
        "height": 0.8,
        "width": 0.8,
        "x": 0.1,
        "y": 0.1
       },
       "content": {
        "cell": "af0acd3e-f4a3-4da9-9772-6a6f896da772",
        "part": "whole"
       },
       "id": "c3c3c631-e394-4d86-8efd-f7e297da7c54"
      }
     }
    },
    "1b7fa3bc-7a7d-426c-ba1d-4fe4d2c63787": {
     "id": "1b7fa3bc-7a7d-426c-ba1d-4fe4d2c63787",
     "prev": "32b3f4bb-8a93-4047-871d-64dc33e51dc9",
     "regions": {
      "3c58bd34-7325-4848-ab56-a27006aa72eb": {
       "attrs": {
        "height": 0.8,
        "width": 0.8,
        "x": 0.1,
        "y": 0.1
       },
       "content": {
        "cell": "af0acd3e-f4a3-4da9-9772-6a6f896da772",
        "part": "whole"
       },
       "id": "3c58bd34-7325-4848-ab56-a27006aa72eb"
      }
     }
    },
    "1e649c44-6543-47ab-a724-d8c91a1eba0c": {
     "id": "1e649c44-6543-47ab-a724-d8c91a1eba0c",
     "prev": "2479aa16-61a7-448b-87fc-123ed194b826",
     "regions": {
      "5ff777a3-74e6-4424-8b17-f9c9bc680bbf": {
       "attrs": {
        "height": 0.8,
        "width": 0.8,
        "x": 0.1,
        "y": 0.1
       },
       "content": {
        "cell": "479ad6be-6ef5-4a23-83fa-5a3438bed78c",
        "part": "whole"
       },
       "id": "5ff777a3-74e6-4424-8b17-f9c9bc680bbf"
      }
     }
    },
    "206a856d-3055-461c-8169-ffee8f39c28e": {
     "id": "206a856d-3055-461c-8169-ffee8f39c28e",
     "prev": "8bbf13ba-d21a-4e20-b6fb-8248fbcb7d14",
     "regions": {
      "ebb2b7a1-4e2a-4a3a-a3c2-a7fcc8c01ab2": {
       "attrs": {
        "height": 0.8,
        "width": 0.8,
        "x": 0.1,
        "y": 0.1
       },
       "content": {
        "cell": "823d3663-8326-493a-a3fc-19b7114ef367",
        "part": "whole"
       },
       "id": "ebb2b7a1-4e2a-4a3a-a3c2-a7fcc8c01ab2"
      }
     }
    },
    "2102ebf0-1bc1-493a-a8d2-e134b767f101": {
     "id": "2102ebf0-1bc1-493a-a8d2-e134b767f101",
     "prev": "f2d04c15-4d2b-4c7e-992a-72c2b870c759",
     "regions": {
      "e75754ca-229a-4f43-8365-3ded5c65beb2": {
       "attrs": {
        "height": 0.8,
        "width": 0.8,
        "x": 0.1,
        "y": 0.1
       },
       "content": {
        "cell": "db543249-4452-45e1-a0fa-324296059f19",
        "part": "whole"
       },
       "id": "e75754ca-229a-4f43-8365-3ded5c65beb2"
      }
     }
    },
    "218a5d27-8c88-4475-9c19-04b6af5781ed": {
     "id": "218a5d27-8c88-4475-9c19-04b6af5781ed",
     "prev": "b6a3e0da-299e-4ed2-b91b-2acffd354cdf",
     "regions": {
      "3adede6c-7a8d-4918-8f7a-12114603f37a": {
       "attrs": {
        "height": 0.8,
        "width": 0.8,
        "x": 0.1,
        "y": 0.1
       },
       "content": {
        "cell": "c2f7177c-9a56-46a7-8e51-53c1ccdac759",
        "part": "whole"
       },
       "id": "3adede6c-7a8d-4918-8f7a-12114603f37a"
      }
     }
    },
    "2199474d-0f28-43f0-b05c-38e712655efe": {
     "id": "2199474d-0f28-43f0-b05c-38e712655efe",
     "prev": "bf0895a0-bc5b-466d-a091-07382c006dd6",
     "regions": {
      "d55f819b-e696-47f8-ae49-51e4fde22a3e": {
       "attrs": {
        "height": 0.8,
        "width": 0.8,
        "x": 0.1,
        "y": 0.1
       },
       "content": {
        "cell": "a3c4d54d-1c66-4511-9276-0a976adc27a3",
        "part": "whole"
       },
       "id": "d55f819b-e696-47f8-ae49-51e4fde22a3e"
      }
     }
    },
    "22126885-b04a-4cd1-b348-0dc9a5b353d1": {
     "id": "22126885-b04a-4cd1-b348-0dc9a5b353d1",
     "prev": "137bd8ba-62fa-4977-aa92-299716a1b575",
     "regions": {
      "401e60a1-ff77-4870-93f7-aa377a66983e": {
       "attrs": {
        "height": 0.8,
        "width": 0.8,
        "x": 0.1,
        "y": 0.1
       },
       "content": {
        "cell": "db543249-4452-45e1-a0fa-324296059f19",
        "part": "whole"
       },
       "id": "401e60a1-ff77-4870-93f7-aa377a66983e"
      }
     }
    },
    "22ac0a05-fa20-4071-9eeb-0cd7e8bc1495": {
     "id": "22ac0a05-fa20-4071-9eeb-0cd7e8bc1495",
     "prev": "54e37292-6b6a-42a2-b2d9-2526c00a35b6",
     "regions": {
      "f0328d95-4730-47f5-b7d7-332ab52f31df": {
       "attrs": {
        "height": 0.8,
        "width": 0.8,
        "x": 0.1,
        "y": 0.1
       },
       "content": {
        "cell": "d266ff00-54d6-47f7-a26c-eea6cd1e468f",
        "part": "whole"
       },
       "id": "f0328d95-4730-47f5-b7d7-332ab52f31df"
      }
     }
    },
    "245581e9-468f-4d78-a748-0c3bdc5cb82a": {
     "id": "245581e9-468f-4d78-a748-0c3bdc5cb82a",
     "prev": "963feba9-0d2a-4c66-85cc-96d2fc723e8e",
     "regions": {
      "e61eaae3-5014-424c-bd4e-df22507d29af": {
       "attrs": {
        "height": 0.8,
        "width": 0.8,
        "x": 0.1,
        "y": 0.1
       },
       "content": {
        "cell": "e1d4e5a9-715b-412f-b881-5306080566d0",
        "part": "whole"
       },
       "id": "e61eaae3-5014-424c-bd4e-df22507d29af"
      }
     }
    },
    "2479aa16-61a7-448b-87fc-123ed194b826": {
     "id": "2479aa16-61a7-448b-87fc-123ed194b826",
     "prev": "0d98a2ee-ba72-4111-83eb-8ca87082100e",
     "regions": {
      "06a7635a-7143-4bd9-888a-636071ed94b2": {
       "attrs": {
        "height": 0.8,
        "width": 0.8,
        "x": 0.1,
        "y": 0.1
       },
       "content": {
        "cell": "e1d4e5a9-715b-412f-b881-5306080566d0",
        "part": "whole"
       },
       "id": "06a7635a-7143-4bd9-888a-636071ed94b2"
      }
     }
    },
    "24ebeb55-bda2-46aa-b01d-2eb1e08ec4b9": {
     "id": "24ebeb55-bda2-46aa-b01d-2eb1e08ec4b9",
     "prev": "3836b696-9da4-4822-a1a4-1c8a7f016e93",
     "regions": {
      "1c9d0303-cc0c-4556-9456-55413d4b1a37": {
       "attrs": {
        "height": 0.8,
        "width": 0.8,
        "x": 0.1,
        "y": 0.1
       },
       "content": {
        "cell": "6e941245-3e15-4018-a947-9e66bc58c86e",
        "part": "whole"
       },
       "id": "1c9d0303-cc0c-4556-9456-55413d4b1a37"
      }
     }
    },
    "29c82185-c087-4da1-820d-e67d6f607544": {
     "id": "29c82185-c087-4da1-820d-e67d6f607544",
     "prev": "e1f94e70-f7b9-4d99-94c3-01f0f0a8251d",
     "regions": {
      "75915c00-90cb-4965-8dca-f1e7fc5c150d": {
       "attrs": {
        "height": 0.8,
        "width": 0.8,
        "x": 0.1,
        "y": 0.1
       },
       "content": {
        "cell": "d266ff00-54d6-47f7-a26c-eea6cd1e468f",
        "part": "whole"
       },
       "id": "75915c00-90cb-4965-8dca-f1e7fc5c150d"
      }
     }
    },
    "2d6a9841-621c-4219-9bd2-c010aac01f3a": {
     "id": "2d6a9841-621c-4219-9bd2-c010aac01f3a",
     "prev": "354d2e1c-833c-43c1-8518-84deefa9dd83",
     "regions": {
      "3366de71-d77a-4bf3-bc86-9da3afe09d58": {
       "attrs": {
        "height": 0.8,
        "width": 0.8,
        "x": 0.1,
        "y": 0.1
       },
       "content": {
        "cell": "af0acd3e-f4a3-4da9-9772-6a6f896da772",
        "part": "whole"
       },
       "id": "3366de71-d77a-4bf3-bc86-9da3afe09d58"
      }
     }
    },
    "2eb5b91d-2f89-4478-a871-9ebabfe8c755": {
     "id": "2eb5b91d-2f89-4478-a871-9ebabfe8c755",
     "prev": "3c39b8cb-b3ee-42a8-b58a-23f42dd1afb7",
     "regions": {
      "dbd82ff9-f97d-4b4e-9181-2757bd864899": {
       "attrs": {
        "height": 0.8,
        "width": 0.8,
        "x": 0.1,
        "y": 0.1
       },
       "content": {
        "cell": "fdd10c00-53ba-405d-8622-fbfeac17d3bb",
        "part": "whole"
       },
       "id": "dbd82ff9-f97d-4b4e-9181-2757bd864899"
      }
     }
    },
    "2f879b6f-c9ea-44d7-91e7-9baa9101dcde": {
     "id": "2f879b6f-c9ea-44d7-91e7-9baa9101dcde",
     "prev": "43ecdc28-ce1b-4c27-a143-3b0f6dfaa54f",
     "regions": {
      "7e27878d-50e3-4a78-ab08-81e37b035c95": {
       "attrs": {
        "height": 0.8,
        "width": 0.8,
        "x": 0.1,
        "y": 0.1
       },
       "content": {
        "cell": "ecdacfd7-456b-4b29-9c7d-aba29749c18f",
        "part": "whole"
       },
       "id": "7e27878d-50e3-4a78-ab08-81e37b035c95"
      }
     }
    },
    "3031125b-46a7-453f-8405-d51270217fed": {
     "id": "3031125b-46a7-453f-8405-d51270217fed",
     "prev": "41f1ac43-20aa-4be5-98e4-359d8294fa5a",
     "regions": {
      "487fc265-9057-4a2f-a5ae-5910bb803e6d": {
       "attrs": {
        "height": 0.8,
        "width": 0.8,
        "x": 0.1,
        "y": 0.1
       },
       "content": {
        "cell": "97a46770-dbe0-40ea-b454-b15bdec20f53",
        "part": "whole"
       },
       "id": "487fc265-9057-4a2f-a5ae-5910bb803e6d"
      }
     }
    },
    "32b3f4bb-8a93-4047-871d-64dc33e51dc9": {
     "id": "32b3f4bb-8a93-4047-871d-64dc33e51dc9",
     "prev": "cced8bf0-fff7-4aa8-a171-61b61bb5f70b",
     "regions": {
      "57d063fd-764a-4f6d-bfd7-1d91702b8e3a": {
       "attrs": {
        "height": 0.8,
        "width": 0.8,
        "x": 0.1,
        "y": 0.1
       },
       "content": {
        "cell": "ecdacfd7-456b-4b29-9c7d-aba29749c18f",
        "part": "whole"
       },
       "id": "57d063fd-764a-4f6d-bfd7-1d91702b8e3a"
      }
     }
    },
    "33eed3c0-aa11-4eeb-a2d8-e38080594622": {
     "id": "33eed3c0-aa11-4eeb-a2d8-e38080594622",
     "prev": "39b995da-8164-4191-97fa-126bbe9a9c13",
     "regions": {
      "fd63566a-8284-4ba0-ac22-e6e987ad37c4": {
       "attrs": {
        "height": 0.8,
        "width": 0.8,
        "x": 0.1,
        "y": 0.1
       },
       "content": {
        "cell": "479ad6be-6ef5-4a23-83fa-5a3438bed78c",
        "part": "whole"
       },
       "id": "fd63566a-8284-4ba0-ac22-e6e987ad37c4"
      }
     }
    },
    "351921d3-3e52-4de7-ac14-e2d065745a4c": {
     "id": "351921d3-3e52-4de7-ac14-e2d065745a4c",
     "prev": "73b93342-b297-40d2-83fa-0a5c3569b07b",
     "regions": {
      "6f34315e-6c22-4c7e-abb7-4090206c8fc7": {
       "attrs": {
        "height": 0.8,
        "width": 0.8,
        "x": 0.1,
        "y": 0.1
       },
       "content": {
        "cell": "05579e7a-be31-4942-a9a9-9f087cc284ff",
        "part": "whole"
       },
       "id": "6f34315e-6c22-4c7e-abb7-4090206c8fc7"
      }
     }
    },
    "354d2e1c-833c-43c1-8518-84deefa9dd83": {
     "id": "354d2e1c-833c-43c1-8518-84deefa9dd83",
     "prev": "644939af-71cf-4118-b725-186deee66293",
     "regions": {
      "b3d5c164-fdec-4ff4-a7bb-ed51d0b5a7b1": {
       "attrs": {
        "height": 0.8,
        "width": 0.8,
        "x": 0.1,
        "y": 0.1
       },
       "content": {
        "cell": "ecdacfd7-456b-4b29-9c7d-aba29749c18f",
        "part": "whole"
       },
       "id": "b3d5c164-fdec-4ff4-a7bb-ed51d0b5a7b1"
      }
     }
    },
    "37d0d82e-1379-4317-93cf-784cec2d5a7e": {
     "id": "37d0d82e-1379-4317-93cf-784cec2d5a7e",
     "prev": null,
     "regions": {
      "3a9f28d5-edac-42fb-a77d-ea8bf091c5f2": {
       "attrs": {
        "height": 0.8,
        "width": 0.8,
        "x": 0.1,
        "y": 0.1
       },
       "content": {
        "cell": "62d4851b-e85e-419e-901a-d5c03db59166",
        "part": "whole"
       },
       "id": "3a9f28d5-edac-42fb-a77d-ea8bf091c5f2"
      }
     }
    },
    "3836b696-9da4-4822-a1a4-1c8a7f016e93": {
     "id": "3836b696-9da4-4822-a1a4-1c8a7f016e93",
     "prev": "1e649c44-6543-47ab-a724-d8c91a1eba0c",
     "regions": {
      "5fbd00ec-19d3-492e-968b-da323b10e954": {
       "attrs": {
        "height": 0.8,
        "width": 0.8,
        "x": 0.1,
        "y": 0.1
       },
       "content": {
        "cell": "ba9ad1d9-659e-4fad-a0fd-0a23e7b56fc0",
        "part": "whole"
       },
       "id": "5fbd00ec-19d3-492e-968b-da323b10e954"
      }
     }
    },
    "39b995da-8164-4191-97fa-126bbe9a9c13": {
     "id": "39b995da-8164-4191-97fa-126bbe9a9c13",
     "prev": "efb38a77-d38d-4004-a8d2-e16791ef4448",
     "regions": {
      "abfb13e5-f301-4013-a152-3f165c0e1299": {
       "attrs": {
        "height": 0.8,
        "width": 0.8,
        "x": 0.1,
        "y": 0.1
       },
       "content": {
        "cell": "e1d4e5a9-715b-412f-b881-5306080566d0",
        "part": "whole"
       },
       "id": "abfb13e5-f301-4013-a152-3f165c0e1299"
      }
     }
    },
    "3c39b8cb-b3ee-42a8-b58a-23f42dd1afb7": {
     "id": "3c39b8cb-b3ee-42a8-b58a-23f42dd1afb7",
     "prev": "0d1a4ca3-9779-41bc-a0b3-d212cb7d4a8c",
     "regions": {
      "c5719391-2268-411a-a785-1ee02e70ca98": {
       "attrs": {
        "height": 0.8,
        "width": 0.8,
        "x": 0.1,
        "y": 0.1
       },
       "content": {
        "cell": "d266ff00-54d6-47f7-a26c-eea6cd1e468f",
        "part": "whole"
       },
       "id": "c5719391-2268-411a-a785-1ee02e70ca98"
      }
     }
    },
    "3d0dbf54-52e5-4743-a89f-c150039d1e1d": {
     "id": "3d0dbf54-52e5-4743-a89f-c150039d1e1d",
     "prev": "47f1d1e8-c00c-4cc6-b6db-b3b5dec491a7",
     "regions": {
      "49d32907-2026-4c47-949f-0c89f19c68eb": {
       "attrs": {
        "height": 0.8,
        "width": 0.8,
        "x": 0.1,
        "y": 0.1
       },
       "content": {
        "cell": "e1d4e5a9-715b-412f-b881-5306080566d0",
        "part": "whole"
       },
       "id": "49d32907-2026-4c47-949f-0c89f19c68eb"
      }
     }
    },
    "3f9d811f-b09e-4b43-92cd-cde475b9c555": {
     "id": "3f9d811f-b09e-4b43-92cd-cde475b9c555",
     "prev": "3d0dbf54-52e5-4743-a89f-c150039d1e1d",
     "regions": {
      "ec6e19e1-b3e7-4030-9522-b92032417481": {
       "attrs": {
        "height": 0.8,
        "width": 0.8,
        "x": 0.1,
        "y": 0.1
       },
       "content": {
        "cell": "479ad6be-6ef5-4a23-83fa-5a3438bed78c",
        "part": "whole"
       },
       "id": "ec6e19e1-b3e7-4030-9522-b92032417481"
      }
     }
    },
    "41f1ac43-20aa-4be5-98e4-359d8294fa5a": {
     "id": "41f1ac43-20aa-4be5-98e4-359d8294fa5a",
     "prev": "85cdb4b9-8c14-490e-861b-988132f067bb",
     "regions": {
      "b3aaf14c-3e4f-477d-8e7f-065d04e1be0a": {
       "attrs": {
        "height": 0.8,
        "width": 0.8,
        "x": 0.1,
        "y": 0.1
       },
       "content": {
        "cell": "6e941245-3e15-4018-a947-9e66bc58c86e",
        "part": "whole"
       },
       "id": "b3aaf14c-3e4f-477d-8e7f-065d04e1be0a"
      }
     }
    },
    "43ecdc28-ce1b-4c27-a143-3b0f6dfaa54f": {
     "id": "43ecdc28-ce1b-4c27-a143-3b0f6dfaa54f",
     "prev": "ad0964ff-fae9-4b44-a978-12dad9d949b5",
     "regions": {
      "95c45e90-6ed9-4882-985e-3fa7e31968f7": {
       "attrs": {
        "height": 0.8,
        "width": 0.8,
        "x": 0.1,
        "y": 0.1
       },
       "content": {
        "cell": "fdd10c00-53ba-405d-8622-fbfeac17d3bb",
        "part": "whole"
       },
       "id": "95c45e90-6ed9-4882-985e-3fa7e31968f7"
      }
     }
    },
    "47f1d1e8-c00c-4cc6-b6db-b3b5dec491a7": {
     "id": "47f1d1e8-c00c-4cc6-b6db-b3b5dec491a7",
     "prev": "70ea2b93-7bef-4144-b2ae-7d93079f890f",
     "regions": {
      "353852e7-a881-4c8b-a077-0e8f263f9cd1": {
       "attrs": {
        "height": 0.8,
        "width": 0.8,
        "x": 0.1,
        "y": 0.1
       },
       "content": {
        "cell": "eb6724ef-65dc-4f74-b92c-3f9e540a7b35",
        "part": "whole"
       },
       "id": "353852e7-a881-4c8b-a077-0e8f263f9cd1"
      }
     }
    },
    "4990bcde-5278-4c18-b9e3-d40b08618221": {
     "id": "4990bcde-5278-4c18-b9e3-d40b08618221",
     "prev": "d6815d16-3361-4aec-bdda-c20916e2958c",
     "regions": {
      "b6fc53ab-f89a-49d1-b0fd-44efbcaebdd8": {
       "attrs": {
        "height": 0.8,
        "width": 0.8,
        "x": 0.1,
        "y": 0.1
       },
       "content": {
        "cell": "2f809521-0a9c-4000-ba29-f6fcbb027dc9",
        "part": "whole"
       },
       "id": "b6fc53ab-f89a-49d1-b0fd-44efbcaebdd8"
      }
     }
    },
    "4c3af69f-0dbf-4538-a217-4674c220e1ce": {
     "id": "4c3af69f-0dbf-4538-a217-4674c220e1ce",
     "prev": "1b7fa3bc-7a7d-426c-ba1d-4fe4d2c63787",
     "regions": {
      "ed6a99e6-abe3-402c-9d1e-895c79ebfb51": {
       "attrs": {
        "height": 0.8,
        "width": 0.8,
        "x": 0.1,
        "y": 0.1
       },
       "content": {
        "cell": "db543249-4452-45e1-a0fa-324296059f19",
        "part": "whole"
       },
       "id": "ed6a99e6-abe3-402c-9d1e-895c79ebfb51"
      }
     }
    },
    "4e734229-1e33-429a-ab1e-9f25538f7799": {
     "id": "4e734229-1e33-429a-ab1e-9f25538f7799",
     "prev": "dac34957-e22e-418c-b575-a1ae52ebee9a",
     "regions": {
      "fedd46f4-a0e9-4859-8b03-23150d19893a": {
       "attrs": {
        "height": 0.8,
        "width": 0.8,
        "x": 0.1,
        "y": 0.1
       },
       "content": {
        "cell": "c2f7177c-9a56-46a7-8e51-53c1ccdac759",
        "part": "whole"
       },
       "id": "fedd46f4-a0e9-4859-8b03-23150d19893a"
      }
     }
    },
    "54e37292-6b6a-42a2-b2d9-2526c00a35b6": {
     "id": "54e37292-6b6a-42a2-b2d9-2526c00a35b6",
     "prev": "ccb21490-40cb-425d-9738-9a08f56265f6",
     "regions": {
      "6bff46e7-b141-437c-a413-524951f4e72f": {
       "attrs": {
        "height": 0.8,
        "width": 0.8,
        "x": 0.1,
        "y": 0.1
       },
       "content": {
        "cell": "05579e7a-be31-4942-a9a9-9f087cc284ff",
        "part": "whole"
       },
       "id": "6bff46e7-b141-437c-a413-524951f4e72f"
      }
     }
    },
    "5caa41a3-a416-4b62-ad94-9efc601a0761": {
     "id": "5caa41a3-a416-4b62-ad94-9efc601a0761",
     "prev": "f3fd7c80-e6c3-4fe1-8da4-d8c46dec60f5",
     "regions": {
      "8aff2690-5aab-4ef2-a038-15de457228e8": {
       "attrs": {
        "height": 0.8,
        "width": 0.8,
        "x": 0.1,
        "y": 0.1
       },
       "content": {
        "cell": "db543249-4452-45e1-a0fa-324296059f19",
        "part": "whole"
       },
       "id": "8aff2690-5aab-4ef2-a038-15de457228e8"
      }
     }
    },
    "644939af-71cf-4118-b725-186deee66293": {
     "id": "644939af-71cf-4118-b725-186deee66293",
     "prev": "22ac0a05-fa20-4071-9eeb-0cd7e8bc1495",
     "regions": {
      "2534f9df-66e9-4f28-ac38-2353f352a4b4": {
       "attrs": {
        "height": 0.8,
        "width": 0.8,
        "x": 0.1,
        "y": 0.1
       },
       "content": {
        "cell": "fdd10c00-53ba-405d-8622-fbfeac17d3bb",
        "part": "whole"
       },
       "id": "2534f9df-66e9-4f28-ac38-2353f352a4b4"
      }
     }
    },
    "6b00f37c-e15e-4979-b7b1-fb36dadd0d3e": {
     "id": "6b00f37c-e15e-4979-b7b1-fb36dadd0d3e",
     "prev": "0eab16c6-3c1a-4f9c-a6d9-a1cf6220a9a2",
     "regions": {
      "9065871c-7a40-4a6f-be71-04c61fb3d4ed": {
       "attrs": {
        "height": 0.8,
        "width": 0.8,
        "x": 0.1,
        "y": 0.1
       },
       "content": {
        "cell": "823d3663-8326-493a-a3fc-19b7114ef367",
        "part": "whole"
       },
       "id": "9065871c-7a40-4a6f-be71-04c61fb3d4ed"
      }
     }
    },
    "6c3de2fd-22fe-4b21-bd8f-c97a98e470a4": {
     "id": "6c3de2fd-22fe-4b21-bd8f-c97a98e470a4",
     "prev": "d7f8c565-3a5f-4d4f-b909-2d81839e6896",
     "regions": {
      "c9366dfe-5d4c-4496-a0f0-03a107250f99": {
       "attrs": {
        "height": 0.8,
        "width": 0.8,
        "x": 0.1,
        "y": 0.1
       },
       "content": {
        "cell": "d266ff00-54d6-47f7-a26c-eea6cd1e468f",
        "part": "whole"
       },
       "id": "c9366dfe-5d4c-4496-a0f0-03a107250f99"
      }
     }
    },
    "70ea2b93-7bef-4144-b2ae-7d93079f890f": {
     "id": "70ea2b93-7bef-4144-b2ae-7d93079f890f",
     "prev": "127a45d8-ef23-4438-9cb9-c721e712e2ad",
     "regions": {
      "3ea4c7c2-650f-41b5-80af-81d976f323e4": {
       "attrs": {
        "height": 0.8,
        "width": 0.8,
        "x": 0.1,
        "y": 0.1
       },
       "content": {
        "cell": "41d6f28b-3c7e-4d68-a8cb-4e063ec6fe27",
        "part": "whole"
       },
       "id": "3ea4c7c2-650f-41b5-80af-81d976f323e4"
      }
     }
    },
    "73b93342-b297-40d2-83fa-0a5c3569b07b": {
     "id": "73b93342-b297-40d2-83fa-0a5c3569b07b",
     "prev": "218a5d27-8c88-4475-9c19-04b6af5781ed",
     "regions": {
      "137602b1-d910-48a6-8214-eeb299661772": {
       "attrs": {
        "height": 0.8,
        "width": 0.8,
        "x": 0.1,
        "y": 0.1
       },
       "content": {
        "cell": "2f809521-0a9c-4000-ba29-f6fcbb027dc9",
        "part": "whole"
       },
       "id": "137602b1-d910-48a6-8214-eeb299661772"
      }
     }
    },
    "744b667b-61a0-4bb2-b78e-9de2788bc7e8": {
     "id": "744b667b-61a0-4bb2-b78e-9de2788bc7e8",
     "prev": "3f9d811f-b09e-4b43-92cd-cde475b9c555",
     "regions": {
      "a14c6f68-caf3-4f49-aee2-90d1761f0d0d": {
       "attrs": {
        "height": 0.8,
        "width": 0.8,
        "x": 0.1,
        "y": 0.1
       },
       "content": {
        "cell": "ba9ad1d9-659e-4fad-a0fd-0a23e7b56fc0",
        "part": "whole"
       },
       "id": "a14c6f68-caf3-4f49-aee2-90d1761f0d0d"
      }
     }
    },
    "834f16ec-1755-40aa-9405-fa356485e8be": {
     "id": "834f16ec-1755-40aa-9405-fa356485e8be",
     "prev": "33eed3c0-aa11-4eeb-a2d8-e38080594622",
     "regions": {
      "3051de16-0381-431c-86e4-d29c57fb325d": {
       "attrs": {
        "height": 0.8,
        "width": 0.8,
        "x": 0.1,
        "y": 0.1
       },
       "content": {
        "cell": "ba9ad1d9-659e-4fad-a0fd-0a23e7b56fc0",
        "part": "whole"
       },
       "id": "3051de16-0381-431c-86e4-d29c57fb325d"
      }
     }
    },
    "84e5d013-5ab1-4159-aa5f-fc7f55caab96": {
     "id": "84e5d013-5ab1-4159-aa5f-fc7f55caab96",
     "prev": "29c82185-c087-4da1-820d-e67d6f607544",
     "regions": {
      "3f22d886-6e54-4fe9-8daf-18796f426768": {
       "attrs": {
        "height": 0.8,
        "width": 0.8,
        "x": 0.1,
        "y": 0.1
       },
       "content": {
        "cell": "fdd10c00-53ba-405d-8622-fbfeac17d3bb",
        "part": "whole"
       },
       "id": "3f22d886-6e54-4fe9-8daf-18796f426768"
      }
     }
    },
    "85cdb4b9-8c14-490e-861b-988132f067bb": {
     "id": "85cdb4b9-8c14-490e-861b-988132f067bb",
     "prev": "04c02612-b7a3-4a6b-b46e-f0b64285f34f",
     "regions": {
      "27457dde-4bf2-44d0-ba73-9162622e3bdc": {
       "attrs": {
        "height": 0.8,
        "width": 0.8,
        "x": 0.1,
        "y": 0.1
       },
       "content": {
        "cell": "ba9ad1d9-659e-4fad-a0fd-0a23e7b56fc0",
        "part": "whole"
       },
       "id": "27457dde-4bf2-44d0-ba73-9162622e3bdc"
      }
     }
    },
    "888db3f7-5824-4459-a8d6-36927be78fce": {
     "id": "888db3f7-5824-4459-a8d6-36927be78fce",
     "prev": "aa64bc2c-0a71-4a60-894d-9fe54691404b",
     "regions": {
      "d59a5b99-359c-4ab6-9557-641371d38620": {
       "attrs": {
        "height": 0.8,
        "width": 0.8,
        "x": 0.1,
        "y": 0.1
       },
       "content": {
        "cell": "97a46770-dbe0-40ea-b454-b15bdec20f53",
        "part": "whole"
       },
       "id": "d59a5b99-359c-4ab6-9557-641371d38620"
      }
     }
    },
    "8affd1e6-70b8-4959-8bcc-9fa3d98ac946": {
     "id": "8affd1e6-70b8-4959-8bcc-9fa3d98ac946",
     "prev": "da2956f8-18a5-4bfa-9591-5cf3e39e7248",
     "regions": {
      "84eb25c1-1e33-4e39-9b2d-8f8c9e13ec7c": {
       "attrs": {
        "height": 0.8,
        "width": 0.8,
        "x": 0.1,
        "y": 0.1
       },
       "content": {
        "cell": "6e941245-3e15-4018-a947-9e66bc58c86e",
        "part": "whole"
       },
       "id": "84eb25c1-1e33-4e39-9b2d-8f8c9e13ec7c"
      }
     }
    },
    "8bbf13ba-d21a-4e20-b6fb-8248fbcb7d14": {
     "id": "8bbf13ba-d21a-4e20-b6fb-8248fbcb7d14",
     "prev": "22126885-b04a-4cd1-b348-0dc9a5b353d1",
     "regions": {
      "2efe0c9d-7786-4107-8ff4-1bf1246eb94f": {
       "attrs": {
        "height": 0.8,
        "width": 0.8,
        "x": 0.1,
        "y": 0.1
       },
       "content": {
        "cell": "a3c4d54d-1c66-4511-9276-0a976adc27a3",
        "part": "whole"
       },
       "id": "2efe0c9d-7786-4107-8ff4-1bf1246eb94f"
      }
     }
    },
    "963feba9-0d2a-4c66-85cc-96d2fc723e8e": {
     "id": "963feba9-0d2a-4c66-85cc-96d2fc723e8e",
     "prev": null,
     "regions": {
      "03648aaa-3268-4c18-806d-e999756ac4cf": {
       "attrs": {
        "height": 0.8,
        "width": 0.8,
        "x": 0.1,
        "y": 0.1
       },
       "content": {
        "cell": "eb6724ef-65dc-4f74-b92c-3f9e540a7b35",
        "part": "whole"
       },
       "id": "03648aaa-3268-4c18-806d-e999756ac4cf"
      }
     }
    },
    "a52fcace-21c6-4d27-9ee8-f87e06b1bf4b": {
     "id": "a52fcace-21c6-4d27-9ee8-f87e06b1bf4b",
     "prev": "f282fd14-a561-4ad9-958b-ceeb296e93d6",
     "regions": {
      "2c8df343-f44b-4b1f-9bed-f9374dab1541": {
       "attrs": {
        "height": 0.8,
        "width": 0.8,
        "x": 0.1,
        "y": 0.1
       },
       "content": {
        "cell": "41d6f28b-3c7e-4d68-a8cb-4e063ec6fe27",
        "part": "whole"
       },
       "id": "2c8df343-f44b-4b1f-9bed-f9374dab1541"
      }
     }
    },
    "aa64bc2c-0a71-4a60-894d-9fe54691404b": {
     "id": "aa64bc2c-0a71-4a60-894d-9fe54691404b",
     "prev": "744b667b-61a0-4bb2-b78e-9de2788bc7e8",
     "regions": {
      "58be5b97-dc19-4de8-add9-c05fcca8a613": {
       "attrs": {
        "height": 0.8,
        "width": 0.8,
        "x": 0.1,
        "y": 0.1
       },
       "content": {
        "cell": "6e941245-3e15-4018-a947-9e66bc58c86e",
        "part": "whole"
       },
       "id": "58be5b97-dc19-4de8-add9-c05fcca8a613"
      }
     }
    },
    "ad0964ff-fae9-4b44-a978-12dad9d949b5": {
     "id": "ad0964ff-fae9-4b44-a978-12dad9d949b5",
     "prev": "351921d3-3e52-4de7-ac14-e2d065745a4c",
     "regions": {
      "2852b579-93ae-4565-8add-20bc3ff9dcef": {
       "attrs": {
        "height": 0.8,
        "width": 0.8,
        "x": 0.1,
        "y": 0.1
       },
       "content": {
        "cell": "d266ff00-54d6-47f7-a26c-eea6cd1e468f",
        "part": "whole"
       },
       "id": "2852b579-93ae-4565-8add-20bc3ff9dcef"
      }
     }
    },
    "b6a3e0da-299e-4ed2-b91b-2acffd354cdf": {
     "id": "b6a3e0da-299e-4ed2-b91b-2acffd354cdf",
     "prev": "24ebeb55-bda2-46aa-b01d-2eb1e08ec4b9",
     "regions": {
      "cec135fa-0989-4cae-9d41-1af9445b29a8": {
       "attrs": {
        "height": 0.8,
        "width": 0.8,
        "x": 0.1,
        "y": 0.1
       },
       "content": {
        "cell": "97a46770-dbe0-40ea-b454-b15bdec20f53",
        "part": "whole"
       },
       "id": "cec135fa-0989-4cae-9d41-1af9445b29a8"
      }
     }
    },
    "be687a44-3db4-4be7-9f39-71fb43cc9fbc": {
     "id": "be687a44-3db4-4be7-9f39-71fb43cc9fbc",
     "prev": "8affd1e6-70b8-4959-8bcc-9fa3d98ac946",
     "regions": {
      "87ea0664-8af3-4c54-aa8f-0b9f0c2bd4e8": {
       "attrs": {
        "height": 0.8,
        "width": 0.8,
        "x": 0.1,
        "y": 0.1
       },
       "content": {
        "cell": "97a46770-dbe0-40ea-b454-b15bdec20f53",
        "part": "whole"
       },
       "id": "87ea0664-8af3-4c54-aa8f-0b9f0c2bd4e8"
      }
     }
    },
    "bf0895a0-bc5b-466d-a091-07382c006dd6": {
     "id": "bf0895a0-bc5b-466d-a091-07382c006dd6",
     "prev": "2d6a9841-621c-4219-9bd2-c010aac01f3a",
     "regions": {
      "7ebcb078-8ca9-4728-93a6-c7178465168f": {
       "attrs": {
        "height": 0.8,
        "width": 0.8,
        "x": 0.1,
        "y": 0.1
       },
       "content": {
        "cell": "db543249-4452-45e1-a0fa-324296059f19",
        "part": "whole"
       },
       "id": "7ebcb078-8ca9-4728-93a6-c7178465168f"
      }
     }
    },
    "c0cc38e5-c3b6-4f92-a3b0-e31ec2159b50": {
     "id": "c0cc38e5-c3b6-4f92-a3b0-e31ec2159b50",
     "prev": "834f16ec-1755-40aa-9405-fa356485e8be",
     "regions": {
      "0a944982-056c-4c22-b01c-3378924f27bc": {
       "attrs": {
        "height": 0.8,
        "width": 0.8,
        "x": 0.1,
        "y": 0.1
       },
       "content": {
        "cell": "6e941245-3e15-4018-a947-9e66bc58c86e",
        "part": "whole"
       },
       "id": "0a944982-056c-4c22-b01c-3378924f27bc"
      }
     }
    },
    "cb224ddf-91c8-4058-a92c-589888536dce": {
     "id": "cb224ddf-91c8-4058-a92c-589888536dce",
     "prev": "f8f60d11-8c40-4a82-ad2d-4ddbc346064a",
     "regions": {
      "5db7b356-55ac-4638-92ee-9aee8eb79745": {
       "attrs": {
        "height": 0.8,
        "width": 0.8,
        "x": 0.1,
        "y": 0.1
       },
       "content": {
        "cell": "e1d4e5a9-715b-412f-b881-5306080566d0",
        "part": "whole"
       },
       "id": "5db7b356-55ac-4638-92ee-9aee8eb79745"
      }
     }
    },
    "cc146373-3ece-4360-9e15-95a78c2a6228": {
     "id": "cc146373-3ece-4360-9e15-95a78c2a6228",
     "prev": "206a856d-3055-461c-8169-ffee8f39c28e",
     "regions": {
      "18bd17df-8f7c-40a0-b547-d396bb43f9d8": {
       "attrs": {
        "height": 0.8,
        "width": 0.8,
        "x": 0.1,
        "y": 0.1
       },
       "content": {
        "cell": "7e847244-7b42-490f-8945-46e234a3af75",
        "part": "whole"
       },
       "id": "18bd17df-8f7c-40a0-b547-d396bb43f9d8"
      }
     }
    },
    "ccb21490-40cb-425d-9738-9a08f56265f6": {
     "id": "ccb21490-40cb-425d-9738-9a08f56265f6",
     "prev": "4e734229-1e33-429a-ab1e-9f25538f7799",
     "regions": {
      "9c0b0fc7-6e91-47b9-aafd-3b68186f9b1c": {
       "attrs": {
        "height": 0.8,
        "width": 0.8,
        "x": 0.1,
        "y": 0.1
       },
       "content": {
        "cell": "2f809521-0a9c-4000-ba29-f6fcbb027dc9",
        "part": "whole"
       },
       "id": "9c0b0fc7-6e91-47b9-aafd-3b68186f9b1c"
      }
     }
    },
    "cced8bf0-fff7-4aa8-a171-61b61bb5f70b": {
     "id": "cced8bf0-fff7-4aa8-a171-61b61bb5f70b",
     "prev": "6c3de2fd-22fe-4b21-bd8f-c97a98e470a4",
     "regions": {
      "aa9d94b0-aa3d-4b28-b9af-cd6566af8ce6": {
       "attrs": {
        "height": 0.8,
        "width": 0.8,
        "x": 0.1,
        "y": 0.1
       },
       "content": {
        "cell": "fdd10c00-53ba-405d-8622-fbfeac17d3bb",
        "part": "whole"
       },
       "id": "aa9d94b0-aa3d-4b28-b9af-cd6566af8ce6"
      }
     }
    },
    "d4a64d2e-3fa3-4742-b817-999ee662f9a2": {
     "id": "d4a64d2e-3fa3-4742-b817-999ee662f9a2",
     "prev": "0d8fa08d-7d0f-4378-8065-26382e5a86e2",
     "regions": {
      "6f4633db-bd8c-4ede-890e-d8c82fef3a22": {
       "attrs": {
        "height": 0.8,
        "width": 0.8,
        "x": 0.1,
        "y": 0.1
       },
       "content": {
        "cell": "823d3663-8326-493a-a3fc-19b7114ef367",
        "part": "whole"
       },
       "id": "6f4633db-bd8c-4ede-890e-d8c82fef3a22"
      }
     }
    },
    "d55e9216-ec74-4b8a-8c86-626de0a99a3f": {
     "id": "d55e9216-ec74-4b8a-8c86-626de0a99a3f",
     "prev": "0f0856fc-b72e-4a9e-9279-f0b70282084a",
     "regions": {
      "1f11ff0a-2933-4966-b23b-4471b9ba3fe1": {
       "attrs": {
        "height": 0.8,
        "width": 0.8,
        "x": 0.1,
        "y": 0.1
       },
       "content": {
        "cell": "823d3663-8326-493a-a3fc-19b7114ef367",
        "part": "whole"
       },
       "id": "1f11ff0a-2933-4966-b23b-4471b9ba3fe1"
      }
     }
    },
    "d6815d16-3361-4aec-bdda-c20916e2958c": {
     "id": "d6815d16-3361-4aec-bdda-c20916e2958c",
     "prev": "888db3f7-5824-4459-a8d6-36927be78fce",
     "regions": {
      "0276812b-043d-4477-8e3b-c8ab28a48dfe": {
       "attrs": {
        "height": 0.8,
        "width": 0.8,
        "x": 0.1,
        "y": 0.1
       },
       "content": {
        "cell": "c2f7177c-9a56-46a7-8e51-53c1ccdac759",
        "part": "whole"
       },
       "id": "0276812b-043d-4477-8e3b-c8ab28a48dfe"
      }
     }
    },
    "d7f8c565-3a5f-4d4f-b909-2d81839e6896": {
     "id": "d7f8c565-3a5f-4d4f-b909-2d81839e6896",
     "prev": "f06bb312-3e06-4eab-9a4a-a1f10cb67455",
     "regions": {
      "b9a2cb44-4072-49c9-9f76-ae04a82aaeb3": {
       "attrs": {
        "height": 0.8,
        "width": 0.8,
        "x": 0.1,
        "y": 0.1
       },
       "content": {
        "cell": "05579e7a-be31-4942-a9a9-9f087cc284ff",
        "part": "whole"
       },
       "id": "b9a2cb44-4072-49c9-9f76-ae04a82aaeb3"
      }
     }
    },
    "d8a1cce1-10b5-4725-86a4-045d061273ee": {
     "id": "d8a1cce1-10b5-4725-86a4-045d061273ee",
     "prev": "6b00f37c-e15e-4979-b7b1-fb36dadd0d3e",
     "regions": {
      "c24a5fc8-2a90-4c13-91d7-223ad92cd794": {
       "attrs": {
        "height": 0.8,
        "width": 0.8,
        "x": 0.1,
        "y": 0.1
       },
       "content": {
        "cell": "7e847244-7b42-490f-8945-46e234a3af75",
        "part": "whole"
       },
       "id": "c24a5fc8-2a90-4c13-91d7-223ad92cd794"
      }
     }
    },
    "da2956f8-18a5-4bfa-9591-5cf3e39e7248": {
     "id": "da2956f8-18a5-4bfa-9591-5cf3e39e7248",
     "prev": "00185e5a-e023-4efa-9b74-1d4003fed039",
     "regions": {
      "f7d068d1-64bb-47e5-a163-ba870a8a8e68": {
       "attrs": {
        "height": 0.8,
        "width": 0.8,
        "x": 0.1,
        "y": 0.1
       },
       "content": {
        "cell": "ba9ad1d9-659e-4fad-a0fd-0a23e7b56fc0",
        "part": "whole"
       },
       "id": "f7d068d1-64bb-47e5-a163-ba870a8a8e68"
      }
     }
    },
    "da615caf-6de2-4243-81c2-6b6ee2b24524": {
     "id": "da615caf-6de2-4243-81c2-6b6ee2b24524",
     "prev": "d4a64d2e-3fa3-4742-b817-999ee662f9a2",
     "regions": {
      "caac7351-001b-4708-90db-2a152c2fd4f5": {
       "attrs": {
        "height": 0.8,
        "width": 0.8,
        "x": 0.1,
        "y": 0.1
       },
       "content": {
        "cell": "7e847244-7b42-490f-8945-46e234a3af75",
        "part": "whole"
       },
       "id": "caac7351-001b-4708-90db-2a152c2fd4f5"
      }
     }
    },
    "dac34957-e22e-418c-b575-a1ae52ebee9a": {
     "id": "dac34957-e22e-418c-b575-a1ae52ebee9a",
     "prev": "c0cc38e5-c3b6-4f92-a3b0-e31ec2159b50",
     "regions": {
      "cb1a886d-2883-420c-b013-d8e150fb56b7": {
       "attrs": {
        "height": 0.8,
        "width": 0.8,
        "x": 0.1,
        "y": 0.1
       },
       "content": {
        "cell": "97a46770-dbe0-40ea-b454-b15bdec20f53",
        "part": "whole"
       },
       "id": "cb1a886d-2883-420c-b013-d8e150fb56b7"
      }
     }
    },
    "e1f94e70-f7b9-4d99-94c3-01f0f0a8251d": {
     "id": "e1f94e70-f7b9-4d99-94c3-01f0f0a8251d",
     "prev": "4990bcde-5278-4c18-b9e3-d40b08618221",
     "regions": {
      "7f0152f1-c574-4a02-8d63-4018e2bb6524": {
       "attrs": {
        "height": 0.8,
        "width": 0.8,
        "x": 0.1,
        "y": 0.1
       },
       "content": {
        "cell": "05579e7a-be31-4942-a9a9-9f087cc284ff",
        "part": "whole"
       },
       "id": "7f0152f1-c574-4a02-8d63-4018e2bb6524"
      }
     }
    },
    "e40b3af6-c94f-4511-a3e4-14eafa9346b2": {
     "id": "e40b3af6-c94f-4511-a3e4-14eafa9346b2",
     "prev": "ec782cf2-d511-49a3-97ab-70a945e504fc",
     "regions": {
      "3c64fe83-8170-4bf8-9e53-e7ab514a6b9e": {
       "attrs": {
        "height": 0.8,
        "width": 0.8,
        "x": 0.1,
        "y": 0.1
       },
       "content": {
        "cell": "41d6f28b-3c7e-4d68-a8cb-4e063ec6fe27",
        "part": "whole"
       },
       "id": "3c64fe83-8170-4bf8-9e53-e7ab514a6b9e"
      }
     }
    },
    "e69d870b-7f80-4eb6-92f4-f349f582b63d": {
     "id": "e69d870b-7f80-4eb6-92f4-f349f582b63d",
     "prev": "37d0d82e-1379-4317-93cf-784cec2d5a7e",
     "regions": {
      "9dd87015-cc5f-4576-a2a9-983133aa77a8": {
       "attrs": {
        "height": 0.8,
        "width": 0.8,
        "x": 0.1,
        "y": 0.1
       },
       "content": {
        "cell": "41d6f28b-3c7e-4d68-a8cb-4e063ec6fe27",
        "part": "whole"
       },
       "id": "9dd87015-cc5f-4576-a2a9-983133aa77a8"
      }
     }
    },
    "e9111b59-1bbf-4818-9be0-ed5ef8fa6fc6": {
     "id": "e9111b59-1bbf-4818-9be0-ed5ef8fa6fc6",
     "prev": "2eb5b91d-2f89-4478-a871-9ebabfe8c755",
     "regions": {
      "542e088b-2244-4d49-855d-677f84e3557e": {
       "attrs": {
        "height": 0.8,
        "width": 0.8,
        "x": 0.1,
        "y": 0.1
       },
       "content": {
        "cell": "ecdacfd7-456b-4b29-9c7d-aba29749c18f",
        "part": "whole"
       },
       "id": "542e088b-2244-4d49-855d-677f84e3557e"
      }
     }
    },
    "e96ea25d-f12d-4df2-9229-29bbb6f89e57": {
     "id": "e96ea25d-f12d-4df2-9229-29bbb6f89e57",
     "prev": "f502cb85-a418-4e67-bc76-61d1d24781e6",
     "regions": {
      "299a1007-3dd4-4210-8be7-09571a22ef91": {
       "attrs": {
        "height": 0.8,
        "width": 0.8,
        "x": 0.1,
        "y": 0.1
       },
       "content": {
        "cell": "2f809521-0a9c-4000-ba29-f6fcbb027dc9",
        "part": "whole"
       },
       "id": "299a1007-3dd4-4210-8be7-09571a22ef91"
      }
     }
    },
    "ec782cf2-d511-49a3-97ab-70a945e504fc": {
     "id": "ec782cf2-d511-49a3-97ab-70a945e504fc",
     "prev": null,
     "regions": {
      "09f08875-f31a-4f2d-b572-3e27a524e506": {
       "attrs": {
        "height": 0.8,
        "width": 0.8,
        "x": 0.1,
        "y": 0.1
       },
       "content": {
        "cell": "62d4851b-e85e-419e-901a-d5c03db59166",
        "part": "whole"
       },
       "id": "09f08875-f31a-4f2d-b572-3e27a524e506"
      }
     }
    },
    "efb38a77-d38d-4004-a8d2-e16791ef4448": {
     "id": "efb38a77-d38d-4004-a8d2-e16791ef4448",
     "prev": "e69d870b-7f80-4eb6-92f4-f349f582b63d",
     "regions": {
      "13305e20-9e90-4cde-bc61-7012b221d6df": {
       "attrs": {
        "height": 0.8,
        "width": 0.8,
        "x": 0.1,
        "y": 0.1
       },
       "content": {
        "cell": "eb6724ef-65dc-4f74-b92c-3f9e540a7b35",
        "part": "whole"
       },
       "id": "13305e20-9e90-4cde-bc61-7012b221d6df"
      }
     }
    },
    "f06bb312-3e06-4eab-9a4a-a1f10cb67455": {
     "id": "f06bb312-3e06-4eab-9a4a-a1f10cb67455",
     "prev": "0c825f9e-60ad-44b9-a3a9-32977b6dc07b",
     "regions": {
      "5d920271-fc5c-43d3-a65d-57428ad528d7": {
       "attrs": {
        "height": 0.8,
        "width": 0.8,
        "x": 0.1,
        "y": 0.1
       },
       "content": {
        "cell": "2f809521-0a9c-4000-ba29-f6fcbb027dc9",
        "part": "whole"
       },
       "id": "5d920271-fc5c-43d3-a65d-57428ad528d7"
      }
     }
    },
    "f282fd14-a561-4ad9-958b-ceeb296e93d6": {
     "id": "f282fd14-a561-4ad9-958b-ceeb296e93d6",
     "prev": null,
     "regions": {
      "11c6f549-2ac4-4211-a352-a4c9013a5723": {
       "attrs": {
        "height": 0.8,
        "width": 0.8,
        "x": 0.1,
        "y": 0.1
       },
       "content": {
        "cell": "62d4851b-e85e-419e-901a-d5c03db59166",
        "part": "whole"
       },
       "id": "11c6f549-2ac4-4211-a352-a4c9013a5723"
      }
     }
    },
    "f2d04c15-4d2b-4c7e-992a-72c2b870c759": {
     "id": "f2d04c15-4d2b-4c7e-992a-72c2b870c759",
     "prev": "2f879b6f-c9ea-44d7-91e7-9baa9101dcde",
     "regions": {
      "93c73624-fd8e-434c-a0b5-a191e22a1a28": {
       "attrs": {
        "height": 0.8,
        "width": 0.8,
        "x": 0.1,
        "y": 0.1
       },
       "content": {
        "cell": "af0acd3e-f4a3-4da9-9772-6a6f896da772",
        "part": "whole"
       },
       "id": "93c73624-fd8e-434c-a0b5-a191e22a1a28"
      }
     }
    },
    "f37968a2-f924-46ba-b214-57fef6c8e053": {
     "id": "f37968a2-f924-46ba-b214-57fef6c8e053",
     "prev": "2199474d-0f28-43f0-b05c-38e712655efe",
     "regions": {
      "eb7c9691-162f-4bc9-b740-a880290d5480": {
       "attrs": {
        "height": 0.8,
        "width": 0.8,
        "x": 0.1,
        "y": 0.1
       },
       "content": {
        "cell": "823d3663-8326-493a-a3fc-19b7114ef367",
        "part": "whole"
       },
       "id": "eb7c9691-162f-4bc9-b740-a880290d5480"
      }
     }
    },
    "f3fd7c80-e6c3-4fe1-8da4-d8c46dec60f5": {
     "id": "f3fd7c80-e6c3-4fe1-8da4-d8c46dec60f5",
     "prev": "e9111b59-1bbf-4818-9be0-ed5ef8fa6fc6",
     "regions": {
      "c8f21071-20c8-4180-9de4-b94971c0e22a": {
       "attrs": {
        "height": 0.8,
        "width": 0.8,
        "x": 0.1,
        "y": 0.1
       },
       "content": {
        "cell": "af0acd3e-f4a3-4da9-9772-6a6f896da772",
        "part": "whole"
       },
       "id": "c8f21071-20c8-4180-9de4-b94971c0e22a"
      }
     }
    },
    "f502cb85-a418-4e67-bc76-61d1d24781e6": {
     "id": "f502cb85-a418-4e67-bc76-61d1d24781e6",
     "prev": "be687a44-3db4-4be7-9f39-71fb43cc9fbc",
     "regions": {
      "f28295e1-c68c-4ef1-ba49-1e9122a40b0f": {
       "attrs": {
        "height": 0.8,
        "width": 0.8,
        "x": 0.1,
        "y": 0.1
       },
       "content": {
        "cell": "c2f7177c-9a56-46a7-8e51-53c1ccdac759",
        "part": "whole"
       },
       "id": "f28295e1-c68c-4ef1-ba49-1e9122a40b0f"
      }
     }
    },
    "f5ddb0c0-353d-4e34-8d82-6b2ff74cfd78": {
     "id": "f5ddb0c0-353d-4e34-8d82-6b2ff74cfd78",
     "prev": "d55e9216-ec74-4b8a-8c86-626de0a99a3f",
     "regions": {
      "52f07325-c621-4157-88c3-1bafbb6656b5": {
       "attrs": {
        "height": 0.8,
        "width": 0.8,
        "x": 0.1,
        "y": 0.1
       },
       "content": {
        "cell": "7e847244-7b42-490f-8945-46e234a3af75",
        "part": "whole"
       },
       "id": "52f07325-c621-4157-88c3-1bafbb6656b5"
      }
     }
    },
    "f89c8884-cb84-4930-a1c4-451008b047e0": {
     "id": "f89c8884-cb84-4930-a1c4-451008b047e0",
     "prev": "84e5d013-5ab1-4159-aa5f-fc7f55caab96",
     "regions": {
      "30c3ca41-d7a7-40e8-951e-b12cbfabeb30": {
       "attrs": {
        "height": 0.8,
        "width": 0.8,
        "x": 0.1,
        "y": 0.1
       },
       "content": {
        "cell": "ecdacfd7-456b-4b29-9c7d-aba29749c18f",
        "part": "whole"
       },
       "id": "30c3ca41-d7a7-40e8-951e-b12cbfabeb30"
      }
     }
    },
    "f8f60d11-8c40-4a82-ad2d-4ddbc346064a": {
     "id": "f8f60d11-8c40-4a82-ad2d-4ddbc346064a",
     "prev": "e40b3af6-c94f-4511-a3e4-14eafa9346b2",
     "regions": {
      "53542f5f-3074-44d6-b544-3925b24bbc3a": {
       "attrs": {
        "height": 0.8,
        "width": 0.8,
        "x": 0.1,
        "y": 0.1
       },
       "content": {
        "cell": "eb6724ef-65dc-4f74-b92c-3f9e540a7b35",
        "part": "whole"
       },
       "id": "53542f5f-3074-44d6-b544-3925b24bbc3a"
      }
     }
    }
   },
   "themes": {}
  },
  "notice": "None."
 },
 "nbformat": 4,
 "nbformat_minor": 2
}
