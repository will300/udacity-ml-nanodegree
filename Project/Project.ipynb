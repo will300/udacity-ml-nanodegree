{
 "cells": [
  {
   "cell_type": "markdown",
   "metadata": {},
   "source": [
    "# SageMaker DeepAR Forecasting Project # \n",
    "\n",
    "This notebook will detail the data preprocessing, training and the obtaining of results for a DeepAR forecasting model for national cases of COVID-19. "
   ]
  },
  {
   "cell_type": "code",
   "execution_count": 3,
   "metadata": {},
   "outputs": [],
   "source": [
    "import os\n",
    "import pandas as pd\n",
    "import matplotlib.pyplot as plt\n",
    "import numpy as np\n",
    "from datetime import datetime, timedelta\n",
    "from copy import copy"
   ]
  },
  {
   "cell_type": "markdown",
   "metadata": {},
   "source": [
    "**Preprocessing**"
   ]
  },
  {
   "cell_type": "markdown",
   "metadata": {},
   "source": [
    "Firstly, read in the transmission factors data from the current directory"
   ]
  },
  {
   "cell_type": "code",
   "execution_count": 4,
   "metadata": {},
   "outputs": [
    {
     "data": {
      "text/html": [
       "<div>\n",
       "<style scoped>\n",
       "    .dataframe tbody tr th:only-of-type {\n",
       "        vertical-align: middle;\n",
       "    }\n",
       "\n",
       "    .dataframe tbody tr th {\n",
       "        vertical-align: top;\n",
       "    }\n",
       "\n",
       "    .dataframe thead th {\n",
       "        text-align: right;\n",
       "    }\n",
       "</style>\n",
       "<table border=\"1\" class=\"dataframe\">\n",
       "  <thead>\n",
       "    <tr style=\"text-align: right;\">\n",
       "      <th></th>\n",
       "      <th>Country</th>\n",
       "      <th>Island (Y/N)</th>\n",
       "      <th>Landlocked (Y/N)</th>\n",
       "      <th>Annual International Tourist Arrivals</th>\n",
       "      <th>Average elevation above sea level (m)</th>\n",
       "      <th>Urban population percentage</th>\n",
       "      <th>Air pollution Index</th>\n",
       "      <th>Population area density (/km)</th>\n",
       "      <th>Average household size</th>\n",
       "      <th>Ethnic fractionalisation</th>\n",
       "      <th>...</th>\n",
       "      <th>Lockdown 2 End</th>\n",
       "      <th>Pop. Proportion 2</th>\n",
       "      <th>Lockdown 3 Start</th>\n",
       "      <th>Lockdown 3 End</th>\n",
       "      <th>Pop. Proportion 3</th>\n",
       "      <th>Asian Response Start</th>\n",
       "      <th>Asian Response End</th>\n",
       "      <th>TB Start</th>\n",
       "      <th>TB End</th>\n",
       "      <th>Population</th>\n",
       "    </tr>\n",
       "  </thead>\n",
       "  <tbody>\n",
       "    <tr>\n",
       "      <th>0</th>\n",
       "      <td>Afghanistan</td>\n",
       "      <td>0</td>\n",
       "      <td>1</td>\n",
       "      <td>500000</td>\n",
       "      <td>1885.0</td>\n",
       "      <td>25</td>\n",
       "      <td>93.45</td>\n",
       "      <td>49.0</td>\n",
       "      <td>8.0</td>\n",
       "      <td>0.7693</td>\n",
       "      <td>...</td>\n",
       "      <td>NaN</td>\n",
       "      <td>NaN</td>\n",
       "      <td>NaN</td>\n",
       "      <td>NaN</td>\n",
       "      <td>NaN</td>\n",
       "      <td>NaN</td>\n",
       "      <td>NaN</td>\n",
       "      <td>NaN</td>\n",
       "      <td>NaN</td>\n",
       "      <td>37000000</td>\n",
       "    </tr>\n",
       "    <tr>\n",
       "      <th>1</th>\n",
       "      <td>Albania</td>\n",
       "      <td>0</td>\n",
       "      <td>0</td>\n",
       "      <td>4070000</td>\n",
       "      <td>708.0</td>\n",
       "      <td>60</td>\n",
       "      <td>77.77</td>\n",
       "      <td>100.0</td>\n",
       "      <td>3.7</td>\n",
       "      <td>0.2204</td>\n",
       "      <td>...</td>\n",
       "      <td>NaN</td>\n",
       "      <td>NaN</td>\n",
       "      <td>NaN</td>\n",
       "      <td>NaN</td>\n",
       "      <td>NaN</td>\n",
       "      <td>NaN</td>\n",
       "      <td>NaN</td>\n",
       "      <td>2020-03-15</td>\n",
       "      <td>NaN</td>\n",
       "      <td>2800000</td>\n",
       "    </tr>\n",
       "    <tr>\n",
       "      <th>2</th>\n",
       "      <td>Algeria</td>\n",
       "      <td>0</td>\n",
       "      <td>0</td>\n",
       "      <td>2039000</td>\n",
       "      <td>800.0</td>\n",
       "      <td>73</td>\n",
       "      <td>65.75</td>\n",
       "      <td>18.0</td>\n",
       "      <td>4.5</td>\n",
       "      <td>0.3394</td>\n",
       "      <td>...</td>\n",
       "      <td>NaN</td>\n",
       "      <td>NaN</td>\n",
       "      <td>NaN</td>\n",
       "      <td>NaN</td>\n",
       "      <td>NaN</td>\n",
       "      <td>NaN</td>\n",
       "      <td>NaN</td>\n",
       "      <td>2020-03-20</td>\n",
       "      <td>NaN</td>\n",
       "      <td>42000000</td>\n",
       "    </tr>\n",
       "    <tr>\n",
       "      <th>3</th>\n",
       "      <td>Andorra</td>\n",
       "      <td>0</td>\n",
       "      <td>1</td>\n",
       "      <td>2831000</td>\n",
       "      <td>1996.0</td>\n",
       "      <td>88</td>\n",
       "      <td>43.00</td>\n",
       "      <td>164.0</td>\n",
       "      <td>2.1</td>\n",
       "      <td>0.7139</td>\n",
       "      <td>...</td>\n",
       "      <td>NaN</td>\n",
       "      <td>NaN</td>\n",
       "      <td>NaN</td>\n",
       "      <td>NaN</td>\n",
       "      <td>NaN</td>\n",
       "      <td>NaN</td>\n",
       "      <td>NaN</td>\n",
       "      <td>NaN</td>\n",
       "      <td>NaN</td>\n",
       "      <td>77000</td>\n",
       "    </tr>\n",
       "    <tr>\n",
       "      <th>4</th>\n",
       "      <td>Angola</td>\n",
       "      <td>0</td>\n",
       "      <td>0</td>\n",
       "      <td>397000</td>\n",
       "      <td>1112.0</td>\n",
       "      <td>66</td>\n",
       "      <td>70.00</td>\n",
       "      <td>23.0</td>\n",
       "      <td>4.8</td>\n",
       "      <td>0.7867</td>\n",
       "      <td>...</td>\n",
       "      <td>NaN</td>\n",
       "      <td>NaN</td>\n",
       "      <td>NaN</td>\n",
       "      <td>NaN</td>\n",
       "      <td>NaN</td>\n",
       "      <td>NaN</td>\n",
       "      <td>NaN</td>\n",
       "      <td>NaN</td>\n",
       "      <td>NaN</td>\n",
       "      <td>31000000</td>\n",
       "    </tr>\n",
       "  </tbody>\n",
       "</table>\n",
       "<p>5 rows × 47 columns</p>\n",
       "</div>"
      ],
      "text/plain": [
       "       Country  Island (Y/N)  Landlocked (Y/N)  \\\n",
       "0  Afghanistan             0                 1   \n",
       "1      Albania             0                 0   \n",
       "2      Algeria             0                 0   \n",
       "3      Andorra             0                 1   \n",
       "4       Angola             0                 0   \n",
       "\n",
       "   Annual International Tourist Arrivals  \\\n",
       "0                                 500000   \n",
       "1                                4070000   \n",
       "2                                2039000   \n",
       "3                                2831000   \n",
       "4                                 397000   \n",
       "\n",
       "   Average elevation above sea level (m)  Urban population percentage  \\\n",
       "0                                 1885.0                           25   \n",
       "1                                  708.0                           60   \n",
       "2                                  800.0                           73   \n",
       "3                                 1996.0                           88   \n",
       "4                                 1112.0                           66   \n",
       "\n",
       "   Air pollution Index  Population area density (/km)  Average household size  \\\n",
       "0                93.45                           49.0                     8.0   \n",
       "1                77.77                          100.0                     3.7   \n",
       "2                65.75                           18.0                     4.5   \n",
       "3                43.00                          164.0                     2.1   \n",
       "4                70.00                           23.0                     4.8   \n",
       "\n",
       "   Ethnic fractionalisation  ...  Lockdown 2 End  Pop. Proportion 2  \\\n",
       "0                    0.7693  ...             NaN                NaN   \n",
       "1                    0.2204  ...             NaN                NaN   \n",
       "2                    0.3394  ...             NaN                NaN   \n",
       "3                    0.7139  ...             NaN                NaN   \n",
       "4                    0.7867  ...             NaN                NaN   \n",
       "\n",
       "   Lockdown 3 Start  Lockdown 3 End  Pop. Proportion 3  Asian Response Start  \\\n",
       "0               NaN             NaN                NaN                   NaN   \n",
       "1               NaN             NaN                NaN                   NaN   \n",
       "2               NaN             NaN                NaN                   NaN   \n",
       "3               NaN             NaN                NaN                   NaN   \n",
       "4               NaN             NaN                NaN                   NaN   \n",
       "\n",
       "   Asian Response End    TB Start  TB End  Population  \n",
       "0                 NaN         NaN     NaN    37000000  \n",
       "1                 NaN  2020-03-15     NaN     2800000  \n",
       "2                 NaN  2020-03-20     NaN    42000000  \n",
       "3                 NaN         NaN     NaN       77000  \n",
       "4                 NaN         NaN     NaN    31000000  \n",
       "\n",
       "[5 rows x 47 columns]"
      ]
     },
     "execution_count": 4,
     "metadata": {},
     "output_type": "execute_result"
    }
   ],
   "source": [
    "df = pd.read_csv('transmission_factors.csv', header=0)\n",
    "df.head()"
   ]
  },
  {
   "cell_type": "markdown",
   "metadata": {},
   "source": [
    "Next, split the data into the static and the temporal variables"
   ]
  },
  {
   "cell_type": "code",
   "execution_count": 5,
   "metadata": {},
   "outputs": [],
   "source": [
    "static_df = df.iloc[:, :20]\n",
    "time_df = df.iloc[:, 20:]"
   ]
  },
  {
   "cell_type": "markdown",
   "metadata": {},
   "source": [
    "The static variables statistics should be inspected for imbalances in the data. The means for the annual tourist arrivals and population density variables are very low in relation to their max value, and so these will be further investigated."
   ]
  },
  {
   "cell_type": "code",
   "execution_count": 6,
   "metadata": {},
   "outputs": [
    {
     "data": {
      "text/html": [
       "<div>\n",
       "<style scoped>\n",
       "    .dataframe tbody tr th:only-of-type {\n",
       "        vertical-align: middle;\n",
       "    }\n",
       "\n",
       "    .dataframe tbody tr th {\n",
       "        vertical-align: top;\n",
       "    }\n",
       "\n",
       "    .dataframe thead th {\n",
       "        text-align: right;\n",
       "    }\n",
       "</style>\n",
       "<table border=\"1\" class=\"dataframe\">\n",
       "  <thead>\n",
       "    <tr style=\"text-align: right;\">\n",
       "      <th></th>\n",
       "      <th>Island (Y/N)</th>\n",
       "      <th>Landlocked (Y/N)</th>\n",
       "      <th>Annual International Tourist Arrivals</th>\n",
       "      <th>Average elevation above sea level (m)</th>\n",
       "      <th>Urban population percentage</th>\n",
       "      <th>Air pollution Index</th>\n",
       "      <th>Population area density (/km)</th>\n",
       "      <th>Average household size</th>\n",
       "      <th>Ethnic fractionalisation</th>\n",
       "      <th>Linguistic fractionalisation</th>\n",
       "      <th>Religious fractionalisation</th>\n",
       "      <th>GDP per Capita</th>\n",
       "      <th>Infant Mortality Rate (Deaths per 1000 Births)</th>\n",
       "      <th>Annual Cigarette Consumption per Capita</th>\n",
       "      <th>Proportion of Population Using Cannabis</th>\n",
       "      <th>Obesity Rate</th>\n",
       "      <th>Corruption Perception Index</th>\n",
       "      <th>Crime Index</th>\n",
       "      <th>Water and Sanitation Rating</th>\n",
       "    </tr>\n",
       "  </thead>\n",
       "  <tbody>\n",
       "    <tr>\n",
       "      <th>count</th>\n",
       "      <td>182.000000</td>\n",
       "      <td>182.000000</td>\n",
       "      <td>1.820000e+02</td>\n",
       "      <td>182.000000</td>\n",
       "      <td>182.000000</td>\n",
       "      <td>182.000000</td>\n",
       "      <td>182.000000</td>\n",
       "      <td>182.000000</td>\n",
       "      <td>182.000000</td>\n",
       "      <td>182.000000</td>\n",
       "      <td>182.000000</td>\n",
       "      <td>182.000000</td>\n",
       "      <td>182.000000</td>\n",
       "      <td>182.000000</td>\n",
       "      <td>182.000000</td>\n",
       "      <td>182.000000</td>\n",
       "      <td>182.000000</td>\n",
       "      <td>182.000000</td>\n",
       "      <td>182.000000</td>\n",
       "    </tr>\n",
       "    <tr>\n",
       "      <th>mean</th>\n",
       "      <td>0.203297</td>\n",
       "      <td>0.280220</td>\n",
       "      <td>6.421584e+06</td>\n",
       "      <td>551.454945</td>\n",
       "      <td>60.109890</td>\n",
       "      <td>57.979121</td>\n",
       "      <td>307.275275</td>\n",
       "      <td>3.830769</td>\n",
       "      <td>0.452543</td>\n",
       "      <td>0.384483</td>\n",
       "      <td>0.426372</td>\n",
       "      <td>24363.939560</td>\n",
       "      <td>20.730769</td>\n",
       "      <td>909.592857</td>\n",
       "      <td>4.648429</td>\n",
       "      <td>16.892308</td>\n",
       "      <td>43.956044</td>\n",
       "      <td>47.865824</td>\n",
       "      <td>57.362747</td>\n",
       "    </tr>\n",
       "    <tr>\n",
       "      <th>std</th>\n",
       "      <td>0.403562</td>\n",
       "      <td>0.450345</td>\n",
       "      <td>1.304241e+07</td>\n",
       "      <td>557.708150</td>\n",
       "      <td>22.815353</td>\n",
       "      <td>19.403864</td>\n",
       "      <td>1524.935773</td>\n",
       "      <td>1.306862</td>\n",
       "      <td>0.255299</td>\n",
       "      <td>0.291798</td>\n",
       "      <td>0.235855</td>\n",
       "      <td>25143.695977</td>\n",
       "      <td>19.502345</td>\n",
       "      <td>899.582071</td>\n",
       "      <td>5.122714</td>\n",
       "      <td>9.820283</td>\n",
       "      <td>18.762495</td>\n",
       "      <td>15.970892</td>\n",
       "      <td>13.097053</td>\n",
       "    </tr>\n",
       "    <tr>\n",
       "      <th>min</th>\n",
       "      <td>0.000000</td>\n",
       "      <td>0.000000</td>\n",
       "      <td>1.000000e+04</td>\n",
       "      <td>1.800000</td>\n",
       "      <td>13.000000</td>\n",
       "      <td>11.550000</td>\n",
       "      <td>1.900000</td>\n",
       "      <td>1.900000</td>\n",
       "      <td>0.000000</td>\n",
       "      <td>0.000000</td>\n",
       "      <td>0.000000</td>\n",
       "      <td>724.000000</td>\n",
       "      <td>1.000000</td>\n",
       "      <td>9.700000</td>\n",
       "      <td>0.004000</td>\n",
       "      <td>5.000000</td>\n",
       "      <td>9.000000</td>\n",
       "      <td>12.000000</td>\n",
       "      <td>27.430000</td>\n",
       "    </tr>\n",
       "    <tr>\n",
       "      <th>25%</th>\n",
       "      <td>0.000000</td>\n",
       "      <td>0.000000</td>\n",
       "      <td>2.735000e+05</td>\n",
       "      <td>173.500000</td>\n",
       "      <td>42.250000</td>\n",
       "      <td>44.880000</td>\n",
       "      <td>32.500000</td>\n",
       "      <td>2.725000</td>\n",
       "      <td>0.220700</td>\n",
       "      <td>0.105250</td>\n",
       "      <td>0.212400</td>\n",
       "      <td>6055.000000</td>\n",
       "      <td>5.000000</td>\n",
       "      <td>282.375000</td>\n",
       "      <td>1.250000</td>\n",
       "      <td>5.000000</td>\n",
       "      <td>29.250000</td>\n",
       "      <td>36.625000</td>\n",
       "      <td>47.025000</td>\n",
       "    </tr>\n",
       "    <tr>\n",
       "      <th>50%</th>\n",
       "      <td>0.000000</td>\n",
       "      <td>0.000000</td>\n",
       "      <td>1.502000e+06</td>\n",
       "      <td>418.500000</td>\n",
       "      <td>60.500000</td>\n",
       "      <td>64.175000</td>\n",
       "      <td>81.000000</td>\n",
       "      <td>3.700000</td>\n",
       "      <td>0.484250</td>\n",
       "      <td>0.354650</td>\n",
       "      <td>0.442550</td>\n",
       "      <td>15499.000000</td>\n",
       "      <td>13.500000</td>\n",
       "      <td>553.350000</td>\n",
       "      <td>3.150000</td>\n",
       "      <td>20.200000</td>\n",
       "      <td>40.000000</td>\n",
       "      <td>49.035000</td>\n",
       "      <td>57.445000</td>\n",
       "    </tr>\n",
       "    <tr>\n",
       "      <th>75%</th>\n",
       "      <td>0.000000</td>\n",
       "      <td>1.000000</td>\n",
       "      <td>5.959825e+06</td>\n",
       "      <td>737.250000</td>\n",
       "      <td>79.000000</td>\n",
       "      <td>70.000000</td>\n",
       "      <td>201.750000</td>\n",
       "      <td>4.575000</td>\n",
       "      <td>0.674125</td>\n",
       "      <td>0.642550</td>\n",
       "      <td>0.631800</td>\n",
       "      <td>35472.250000</td>\n",
       "      <td>33.750000</td>\n",
       "      <td>1440.225000</td>\n",
       "      <td>5.925000</td>\n",
       "      <td>24.600000</td>\n",
       "      <td>57.500000</td>\n",
       "      <td>60.000000</td>\n",
       "      <td>65.392500</td>\n",
       "    </tr>\n",
       "    <tr>\n",
       "      <th>max</th>\n",
       "      <td>1.000000</td>\n",
       "      <td>1.000000</td>\n",
       "      <td>8.257000e+07</td>\n",
       "      <td>3280.000000</td>\n",
       "      <td>100.000000</td>\n",
       "      <td>93.450000</td>\n",
       "      <td>18960.000000</td>\n",
       "      <td>9.000000</td>\n",
       "      <td>0.930200</td>\n",
       "      <td>0.922700</td>\n",
       "      <td>0.860300</td>\n",
       "      <td>150000.000000</td>\n",
       "      <td>83.000000</td>\n",
       "      <td>6398.300000</td>\n",
       "      <td>32.700000</td>\n",
       "      <td>37.900000</td>\n",
       "      <td>87.000000</td>\n",
       "      <td>84.860000</td>\n",
       "      <td>87.420000</td>\n",
       "    </tr>\n",
       "  </tbody>\n",
       "</table>\n",
       "</div>"
      ],
      "text/plain": [
       "       Island (Y/N)  Landlocked (Y/N)  Annual International Tourist Arrivals  \\\n",
       "count    182.000000        182.000000                           1.820000e+02   \n",
       "mean       0.203297          0.280220                           6.421584e+06   \n",
       "std        0.403562          0.450345                           1.304241e+07   \n",
       "min        0.000000          0.000000                           1.000000e+04   \n",
       "25%        0.000000          0.000000                           2.735000e+05   \n",
       "50%        0.000000          0.000000                           1.502000e+06   \n",
       "75%        0.000000          1.000000                           5.959825e+06   \n",
       "max        1.000000          1.000000                           8.257000e+07   \n",
       "\n",
       "       Average elevation above sea level (m)  Urban population percentage  \\\n",
       "count                             182.000000                   182.000000   \n",
       "mean                              551.454945                    60.109890   \n",
       "std                               557.708150                    22.815353   \n",
       "min                                 1.800000                    13.000000   \n",
       "25%                               173.500000                    42.250000   \n",
       "50%                               418.500000                    60.500000   \n",
       "75%                               737.250000                    79.000000   \n",
       "max                              3280.000000                   100.000000   \n",
       "\n",
       "       Air pollution Index  Population area density (/km)  \\\n",
       "count           182.000000                     182.000000   \n",
       "mean             57.979121                     307.275275   \n",
       "std              19.403864                    1524.935773   \n",
       "min              11.550000                       1.900000   \n",
       "25%              44.880000                      32.500000   \n",
       "50%              64.175000                      81.000000   \n",
       "75%              70.000000                     201.750000   \n",
       "max              93.450000                   18960.000000   \n",
       "\n",
       "       Average household size  Ethnic fractionalisation  \\\n",
       "count              182.000000                182.000000   \n",
       "mean                 3.830769                  0.452543   \n",
       "std                  1.306862                  0.255299   \n",
       "min                  1.900000                  0.000000   \n",
       "25%                  2.725000                  0.220700   \n",
       "50%                  3.700000                  0.484250   \n",
       "75%                  4.575000                  0.674125   \n",
       "max                  9.000000                  0.930200   \n",
       "\n",
       "       Linguistic fractionalisation  Religious fractionalisation  \\\n",
       "count                    182.000000                   182.000000   \n",
       "mean                       0.384483                     0.426372   \n",
       "std                        0.291798                     0.235855   \n",
       "min                        0.000000                     0.000000   \n",
       "25%                        0.105250                     0.212400   \n",
       "50%                        0.354650                     0.442550   \n",
       "75%                        0.642550                     0.631800   \n",
       "max                        0.922700                     0.860300   \n",
       "\n",
       "       GDP per Capita  Infant Mortality Rate (Deaths per 1000 Births)  \\\n",
       "count      182.000000                                      182.000000   \n",
       "mean     24363.939560                                       20.730769   \n",
       "std      25143.695977                                       19.502345   \n",
       "min        724.000000                                        1.000000   \n",
       "25%       6055.000000                                        5.000000   \n",
       "50%      15499.000000                                       13.500000   \n",
       "75%      35472.250000                                       33.750000   \n",
       "max     150000.000000                                       83.000000   \n",
       "\n",
       "       Annual Cigarette Consumption per Capita  \\\n",
       "count                               182.000000   \n",
       "mean                                909.592857   \n",
       "std                                 899.582071   \n",
       "min                                   9.700000   \n",
       "25%                                 282.375000   \n",
       "50%                                 553.350000   \n",
       "75%                                1440.225000   \n",
       "max                                6398.300000   \n",
       "\n",
       "       Proportion of Population Using Cannabis  Obesity Rate  \\\n",
       "count                               182.000000    182.000000   \n",
       "mean                                  4.648429     16.892308   \n",
       "std                                   5.122714      9.820283   \n",
       "min                                   0.004000      5.000000   \n",
       "25%                                   1.250000      5.000000   \n",
       "50%                                   3.150000     20.200000   \n",
       "75%                                   5.925000     24.600000   \n",
       "max                                  32.700000     37.900000   \n",
       "\n",
       "       Corruption Perception Index  Crime Index  Water and Sanitation Rating  \n",
       "count                   182.000000   182.000000                   182.000000  \n",
       "mean                     43.956044    47.865824                    57.362747  \n",
       "std                      18.762495    15.970892                    13.097053  \n",
       "min                       9.000000    12.000000                    27.430000  \n",
       "25%                      29.250000    36.625000                    47.025000  \n",
       "50%                      40.000000    49.035000                    57.445000  \n",
       "75%                      57.500000    60.000000                    65.392500  \n",
       "max                      87.000000    84.860000                    87.420000  "
      ]
     },
     "execution_count": 6,
     "metadata": {},
     "output_type": "execute_result"
    }
   ],
   "source": [
    "static_df.describe()"
   ]
  },
  {
   "cell_type": "code",
   "execution_count": 7,
   "metadata": {},
   "outputs": [
    {
     "data": {
      "image/png": "[encoded data removed]",
      "text/plain": [
       "<Figure size 432x216 with 1 Axes>"
      ]
     },
     "metadata": {},
     "output_type": "display_data"
    },
    {
     "data": {
      "image/png": "[encoded data removed]",
      "text/plain": [
       "<Figure size 432x216 with 1 Axes>"
      ]
     },
     "metadata": {},
     "output_type": "display_data"
    }
   ],
   "source": [
    "var_list = ['Annual International Tourist Arrivals',\n",
    "            'Population area density (/km)']\n",
    "n_bins = 100 # can decrease to get a wider bin (or vice versa)\n",
    "\n",
    "for column_name in var_list:\n",
    "    ax=plt.subplots(figsize=(6,3))\n",
    "    # get data by column_name and display a histogram\n",
    "    ax = plt.hist(static_df[column_name], bins=n_bins)\n",
    "    title=\"Histogram of \" + column_name\n",
    "    plt.title(title, fontsize=12)\n",
    "    plt.show()"
   ]
  },
  {
   "cell_type": "markdown",
   "metadata": {},
   "source": [
    "Values above a certain maximum threshold for these variables will be clipped so that more information can be retained."
   ]
  },
  {
   "cell_type": "code",
   "execution_count": 8,
   "metadata": {},
   "outputs": [],
   "source": [
    "clip_cols = ['Annual International Tourist Arrivals',\n",
    "            'Population area density (/km)']\n",
    "clip_vals = [10000000, 500]\n",
    "\n",
    "for col, val in zip(clip_cols, clip_vals):\n",
    "    new_col = static_df[col].clip(upper=val)\n",
    "    static_df[col] = new_col"
   ]
  },
  {
   "cell_type": "markdown",
   "metadata": {},
   "source": [
    "Next, the up to date COVID-19 training dataset as well as the full SARS and Ebola data sets can be imported"
   ]
  },
  {
   "cell_type": "code",
   "execution_count": 9,
   "metadata": {},
   "outputs": [
    {
     "data": {
      "text/html": [
       "<div>\n",
       "<style scoped>\n",
       "    .dataframe tbody tr th:only-of-type {\n",
       "        vertical-align: middle;\n",
       "    }\n",
       "\n",
       "    .dataframe tbody tr th {\n",
       "        vertical-align: top;\n",
       "    }\n",
       "\n",
       "    .dataframe thead th {\n",
       "        text-align: right;\n",
       "    }\n",
       "</style>\n",
       "<table border=\"1\" class=\"dataframe\">\n",
       "  <thead>\n",
       "    <tr style=\"text-align: right;\">\n",
       "      <th></th>\n",
       "      <th>Id</th>\n",
       "      <th>Province_State</th>\n",
       "      <th>Country_Region</th>\n",
       "      <th>Date</th>\n",
       "      <th>ConfirmedCases</th>\n",
       "      <th>Fatalities</th>\n",
       "    </tr>\n",
       "  </thead>\n",
       "  <tbody>\n",
       "    <tr>\n",
       "      <th>0</th>\n",
       "      <td>1</td>\n",
       "      <td>NaN</td>\n",
       "      <td>Afghanistan</td>\n",
       "      <td>2020-01-22</td>\n",
       "      <td>0.0</td>\n",
       "      <td>0.0</td>\n",
       "    </tr>\n",
       "    <tr>\n",
       "      <th>1</th>\n",
       "      <td>2</td>\n",
       "      <td>NaN</td>\n",
       "      <td>Afghanistan</td>\n",
       "      <td>2020-01-23</td>\n",
       "      <td>0.0</td>\n",
       "      <td>0.0</td>\n",
       "    </tr>\n",
       "    <tr>\n",
       "      <th>2</th>\n",
       "      <td>3</td>\n",
       "      <td>NaN</td>\n",
       "      <td>Afghanistan</td>\n",
       "      <td>2020-01-24</td>\n",
       "      <td>0.0</td>\n",
       "      <td>0.0</td>\n",
       "    </tr>\n",
       "    <tr>\n",
       "      <th>3</th>\n",
       "      <td>4</td>\n",
       "      <td>NaN</td>\n",
       "      <td>Afghanistan</td>\n",
       "      <td>2020-01-25</td>\n",
       "      <td>0.0</td>\n",
       "      <td>0.0</td>\n",
       "    </tr>\n",
       "    <tr>\n",
       "      <th>4</th>\n",
       "      <td>5</td>\n",
       "      <td>NaN</td>\n",
       "      <td>Afghanistan</td>\n",
       "      <td>2020-01-26</td>\n",
       "      <td>0.0</td>\n",
       "      <td>0.0</td>\n",
       "    </tr>\n",
       "  </tbody>\n",
       "</table>\n",
       "</div>"
      ],
      "text/plain": [
       "   Id Province_State Country_Region        Date  ConfirmedCases  Fatalities\n",
       "0   1            NaN    Afghanistan  2020-01-22             0.0         0.0\n",
       "1   2            NaN    Afghanistan  2020-01-23             0.0         0.0\n",
       "2   3            NaN    Afghanistan  2020-01-24             0.0         0.0\n",
       "3   4            NaN    Afghanistan  2020-01-25             0.0         0.0\n",
       "4   5            NaN    Afghanistan  2020-01-26             0.0         0.0"
      ]
     },
     "execution_count": 9,
     "metadata": {},
     "output_type": "execute_result"
    }
   ],
   "source": [
    "covid_df = pd.read_csv('covid_19_ongoing.csv', header=0)\n",
    "sars_df = pd.read_csv('sars_2003_complete_dataset_clean.csv', header=0)\n",
    "ebola_df = pd.read_csv('ebola_2014_2016_clean.csv', header=0)\n",
    "\n",
    "covid_df.head()"
   ]
  },
  {
   "cell_type": "markdown",
   "metadata": {},
   "source": [
    "Some values in the SARS and Ebola data sets need changing to match the COVID data"
   ]
  },
  {
   "cell_type": "code",
   "execution_count": 10,
   "metadata": {},
   "outputs": [],
   "source": [
    "sars_df = sars_df.replace(['Taiwan, China', 'Republic of Ireland', 'Republic of Korea', 'Russian Federation', \\\n",
    "                           'United States', 'Viet Nam'],\n",
    "                          ['Taiwan', 'Ireland', 'Korea, South', 'Russia', 'US', 'Vietnam'])\n",
    "ebola_df = ebola_df.replace('United States of America', 'US')"
   ]
  },
  {
   "cell_type": "markdown",
   "metadata": {},
   "source": [
    "The data sets for the different outbreaks need to be converted to cases and deaths time series. The SARS and Ebola data sets have gaps of days with missing data, where the cumulative totals of cases and deaths on those missing days will need to be interpolated."
   ]
  },
  {
   "cell_type": "code",
   "execution_count": 11,
   "metadata": {},
   "outputs": [],
   "source": [
    "def interpolation_calc(start_val, end_val, num_vals, heading):\n",
    "    if (isinstance(start_val, (int, np.integer)) & isinstance(end_val, (int, np.integer))) or \\\n",
    "       (isinstance(start_val, (int, np.float)) & isinstance(end_val, (int, np.float))):\n",
    "        new_val_set = np.linspace(start_val, end_val, num=num_vals, endpoint=True)[1:].round()\n",
    "        return {heading: new_val_set}\n",
    "    \n",
    "\n",
    "def date_interpolate(df):\n",
    "    # Go through rows in table keeping a record of the date\n",
    "    # If the next date change is not the next day, insert the correct number of missing date values\n",
    "    new_df = pd.DataFrame()\n",
    "    \n",
    "\n",
    "    for country in df.Country.unique():\n",
    "        country_df = df.loc[df['Country'] == country]\n",
    "        current_date = datetime.strptime(country_df['Date'].iloc[0], '%Y-%m-%d').date()\n",
    "        for index, row in country_df.iterrows():\n",
    " \n",
    "            date_str = row['Date']\n",
    "            new_date = datetime.strptime(date_str, '%Y-%m-%d').date()\n",
    "        \n",
    "            if (new_date != current_date) & (new_date > current_date + timedelta(days=1)):\n",
    "                #interpolate all values from previous date to new date\n",
    "\n",
    "                num_missing = abs((new_date - current_date).days)\n",
    "                current_date_df = country_df.loc[country_df['Date'] == str(current_date)]\n",
    "                new_date_df = country_df.loc[country_df['Date'] == str(new_date)]    \n",
    "                inter_df = current_date_df.append(new_date_df)\n",
    "\n",
    "                inter_vals_dict = {}\n",
    "                for name, data in inter_df.items():\n",
    "                    if interpolation_calc(data.values[0], data.values[1], num_missing, name):\n",
    "                        inter_vals_dict.update(interpolation_calc(data.values[0], data.values[1], num_missing+1, name))\n",
    "                \n",
    "                inter_vals_dict['Country'] = [country]*(num_missing)\n",
    "                inter_vals_dict['Date'] = [current_date + timedelta(days=i+1) for i in range(num_missing)]\n",
    "                inter_df = pd.DataFrame(inter_vals_dict)\n",
    "                new_df = new_df.append(inter_df)\n",
    "                \n",
    "            else:\n",
    "                new_df = new_df.append(row)\n",
    "            \n",
    "            current_date = copy(new_date) \n",
    "            \n",
    "    return new_df\n",
    "   \n"
   ]
  },
  {
   "cell_type": "code",
   "execution_count": 12,
   "metadata": {},
   "outputs": [
    {
     "name": "stderr",
     "output_type": "stream",
     "text": [
      "/home/ec2-user/anaconda3/envs/amazonei_mxnet_p36/lib/python3.6/site-packages/pandas/core/frame.py:6692: FutureWarning: Sorting because non-concatenation axis is not aligned. A future version\n",
      "of pandas will change to not sort by default.\n",
      "\n",
      "To accept the future behavior, pass 'sort=False'.\n",
      "\n",
      "To retain the current behavior and silence the warning, pass 'sort=True'.\n",
      "\n",
      "  sort=sort)\n"
     ]
    }
   ],
   "source": [
    "new_sars_df = date_interpolate(sars_df)\n",
    "new_ebola_df = date_interpolate(ebola_df)"
   ]
  },
  {
   "cell_type": "markdown",
   "metadata": {},
   "source": [
    "Some of the countries in the COVID data set are broken down by province, and so the total of all a country's values on each date need to be added together."
   ]
  },
  {
   "cell_type": "code",
   "execution_count": 13,
   "metadata": {},
   "outputs": [],
   "source": [
    "def unite_provinces(df):\n",
    "    \n",
    "    new_df = pd.DataFrame()\n",
    "    for country in df.Country_Region.unique():\n",
    "        country_df = df.loc[df['Country_Region'] == country]\n",
    "        current_date = datetime.strptime(country_df['Date'].iloc[0], '%Y-%m-%d').date()\n",
    "        for date in country_df.Date.unique():\n",
    "            country_date_df = country_df.loc[df['Date'] == date]\n",
    "            if len(country_date_df['Date'].values) > 1:\n",
    "                date_df = pd.DataFrame({'ConfirmedCases': [np.sum(country_date_df['ConfirmedCases'].values)],\n",
    "                                        'Fatalities': [np.sum(country_date_df['Fatalities'].values)], \n",
    "                                        'Country_Region': [country_date_df['Country_Region'].values[0]],\n",
    "                                        'Date': [country_date_df['Date'].values[0]]})\n",
    "\n",
    "                new_df = new_df.append(date_df)\n",
    "            else:\n",
    "                new_df = new_df.append(country_date_df)\n",
    "                                       \n",
    "    return new_df                                   \n",
    "    "
   ]
  },
  {
   "cell_type": "code",
   "execution_count": 14,
   "metadata": {},
   "outputs": [
    {
     "name": "stderr",
     "output_type": "stream",
     "text": [
      "/home/ec2-user/anaconda3/envs/amazonei_mxnet_p36/lib/python3.6/site-packages/pandas/core/frame.py:6692: FutureWarning: Sorting because non-concatenation axis is not aligned. A future version\n",
      "of pandas will change to not sort by default.\n",
      "\n",
      "To accept the future behavior, pass 'sort=False'.\n",
      "\n",
      "To retain the current behavior and silence the warning, pass 'sort=True'.\n",
      "\n",
      "  sort=sort)\n"
     ]
    }
   ],
   "source": [
    "new_covid_df = unite_provinces(covid_df)"
   ]
  },
  {
   "cell_type": "markdown",
   "metadata": {},
   "source": [
    "The amended dataframes then need to be converted into the appropriate data input format, with target series beginning on the day of the first recorded case."
   ]
  },
  {
   "cell_type": "code",
   "execution_count": 15,
   "metadata": {},
   "outputs": [],
   "source": [
    "def df_to_dict(df, virus, data_type):\n",
    "    \n",
    "    country_headings = {'covid': 'Country_Region', 'sars': 'Country', 'ebola': 'Country'}\n",
    "    data_headings = {'covid': {'cases': 'ConfirmedCases', 'mortalities': 'Fatalities'},\n",
    "                     'sars': {'cases': 'Cumulative number of case(s)', 'mortalities': 'Number of deaths'},\n",
    "                     'ebola': {'cases': 'No. of confirmed cases', 'mortalities': 'No. of confirmed deaths'}\n",
    "                    }\n",
    "    \n",
    "    data_dict = {}\n",
    "    for index, row in df.iterrows():\n",
    "        if row[data_headings[virus][data_type]] > 0:\n",
    "            if row[country_headings[virus]] in data_dict.keys():\n",
    "                data_dict[row[country_headings[virus]]]['target'].append(row[data_headings[virus][data_type]])\n",
    "            else:\n",
    "                data_dict[row[country_headings[virus]]] = {\n",
    "                                                           'start': str(row['Date']) + \" 00:00:00\",\n",
    "                                                           'target': [row[data_headings[virus][data_type]]]\n",
    "                                                          }\n",
    "\n",
    "    return data_dict\n"
   ]
  },
  {
   "cell_type": "code",
   "execution_count": 16,
   "metadata": {},
   "outputs": [],
   "source": [
    "covid_cases_dict = df_to_dict(new_covid_df, 'covid', 'cases')\n",
    "sars_cases_dict = df_to_dict(new_sars_df, 'sars', 'cases')\n",
    "ebola_cases_dict = df_to_dict(new_ebola_df, 'ebola', 'cases')"
   ]
  },
  {
   "cell_type": "markdown",
   "metadata": {},
   "source": [
    "Each dictionary needs some entries removing which will not be useful when training the final model. For the SARS and Ebola data, this number is quite high and so it will be done using a function instead. Now will be the point to choose which series exactly will be used for training the models. These will be all of the national epidemics of COVID-19 (any number of cases), the Ebola outbreaks in Guinea and Sierra Leone, and the timelines of SARS in Singapore and China. The instances chosen from the Ebola and SARS outbreaks are the ones which best capture the full shape of the epidemic curve from start to finish. Many of the other countries only ever recorded a small handful of these cases so do not provide useful data."
   ]
  },
  {
   "cell_type": "code",
   "execution_count": 17,
   "metadata": {},
   "outputs": [],
   "source": [
    "del covid_cases_dict['Diamond Princess']\n",
    "del covid_cases_dict['MS Zaandam']"
   ]
  },
  {
   "cell_type": "code",
   "execution_count": 18,
   "metadata": {},
   "outputs": [],
   "source": [
    "def remove_countries(virus_dict, keep_list):\n",
    "    countries_list = list(virus_dict.keys())\n",
    "    for country in countries_list:\n",
    "        if country not in keep_list:\n",
    "            del virus_dict[country]\n",
    "            \n",
    "    return virus_dict"
   ]
  },
  {
   "cell_type": "code",
   "execution_count": null,
   "metadata": {},
   "outputs": [],
   "source": [
    "ebola_keep_list = ['Guinea', 'Sierra Leone']\n",
    "sars_keep_list = ['Singapore', 'China']\n",
    "\n",
    "sars_cases_dict = remove_countries(sars_cases_dict, sars_keep_list)\n",
    "ebola_cases_list = remove_countries(ebola_cases_dict, ebola_keep_list)"
   ]
  },
  {
   "cell_type": "markdown",
   "metadata": {},
   "source": [
    "Now that the time series have been processed it is a good point for visualisations"
   ]
  },
  {
   "cell_type": "code",
   "execution_count": 21,
   "metadata": {},
   "outputs": [
    {
     "data": {
      "text/plain": [
       "<matplotlib.legend.Legend at 0x7f41fc877a90>"
      ]
     },
     "execution_count": 21,
     "metadata": {},
     "output_type": "execute_result"
    },
    {
     "data": {
      "image/png": "[encoded data removed]",
      "text/plain": [
       "<Figure size 432x288 with 1 Axes>"
      ]
     },
     "metadata": {},
     "output_type": "display_data"
    }
   ],
   "source": [
    "country = 'Singapore'\n",
    "\n",
    "plt.xlabel('Days')\n",
    "plt.ylabel('Cumulative Cases')\n",
    "plt.plot(sars_cases_dict[country]['target'])\n",
    "plt.legend(['Cases'])"
   ]
  },
  {
   "cell_type": "markdown",
   "metadata": {},
   "source": [
    "**PCA**\n",
    "\n",
    "Now the transmission factors will be translated into an appropriate number of principal components using SageMaker and MXNet. The transmission factors come from their own, separate data set and will need to be preprocessed further to be in a suitable input form."
   ]
  },
  {
   "cell_type": "code",
   "execution_count": 22,
   "metadata": {},
   "outputs": [
    {
     "name": "stdout",
     "output_type": "stream",
     "text": [
      "['Country' 'Island (Y/N)' 'Landlocked (Y/N)'\n",
      " 'Annual International Tourist Arrivals'\n",
      " 'Average elevation above sea level (m)' 'Urban population percentage'\n",
      " 'Air pollution Index' 'Population area density (/km)'\n",
      " 'Average household size' 'Ethnic fractionalisation'\n",
      " 'Linguistic fractionalisation' 'Religious fractionalisation'\n",
      " 'GDP per Capita' 'Infant Mortality Rate (Deaths per 1000 Births)'\n",
      " 'Annual Cigarette Consumption per Capita'\n",
      " 'Proportion of Population Using Cannabis' 'Obesity Rate'\n",
      " 'Corruption Perception Index' 'Crime Index' 'Water and Sanitation Rating']\n"
     ]
    }
   ],
   "source": [
    "features_list = static_df.columns.values\n",
    "print(features_list)"
   ]
  },
  {
   "cell_type": "markdown",
   "metadata": {},
   "source": [
    "The country names need to be changed to be the indexes of the columns"
   ]
  },
  {
   "cell_type": "code",
   "execution_count": 23,
   "metadata": {},
   "outputs": [],
   "source": [
    "static_df.index=static_df['Country']\n",
    "static_df = static_df.drop('Country', axis='columns')"
   ]
  },
  {
   "cell_type": "markdown",
   "metadata": {},
   "source": [
    "Next, the column values need to be normalized between 0 and 1 for training. This will be done using the sklearn MinMaxScaler"
   ]
  },
  {
   "cell_type": "code",
   "execution_count": 24,
   "metadata": {},
   "outputs": [
    {
     "name": "stderr",
     "output_type": "stream",
     "text": [
      "/home/ec2-user/anaconda3/envs/amazonei_mxnet_p36/lib/python3.6/site-packages/sklearn/utils/validation.py:595: DataConversionWarning: Data with input dtype int64 was converted to float64 by MinMaxScaler.\n",
      "  warnings.warn(msg, DataConversionWarning)\n",
      "/home/ec2-user/anaconda3/envs/amazonei_mxnet_p36/lib/python3.6/site-packages/sklearn/utils/validation.py:595: DataConversionWarning: Data with input dtype int64 was converted to float64 by MinMaxScaler.\n",
      "  warnings.warn(msg, DataConversionWarning)\n",
      "/home/ec2-user/anaconda3/envs/amazonei_mxnet_p36/lib/python3.6/site-packages/sklearn/utils/validation.py:595: DataConversionWarning: Data with input dtype int64 was converted to float64 by MinMaxScaler.\n",
      "  warnings.warn(msg, DataConversionWarning)\n",
      "/home/ec2-user/anaconda3/envs/amazonei_mxnet_p36/lib/python3.6/site-packages/sklearn/utils/validation.py:595: DataConversionWarning: Data with input dtype int64 was converted to float64 by MinMaxScaler.\n",
      "  warnings.warn(msg, DataConversionWarning)\n",
      "/home/ec2-user/anaconda3/envs/amazonei_mxnet_p36/lib/python3.6/site-packages/sklearn/utils/validation.py:595: DataConversionWarning: Data with input dtype int64 was converted to float64 by MinMaxScaler.\n",
      "  warnings.warn(msg, DataConversionWarning)\n",
      "/home/ec2-user/anaconda3/envs/amazonei_mxnet_p36/lib/python3.6/site-packages/sklearn/utils/validation.py:595: DataConversionWarning: Data with input dtype int64 was converted to float64 by MinMaxScaler.\n",
      "  warnings.warn(msg, DataConversionWarning)\n",
      "/home/ec2-user/anaconda3/envs/amazonei_mxnet_p36/lib/python3.6/site-packages/sklearn/utils/validation.py:595: DataConversionWarning: Data with input dtype int64 was converted to float64 by MinMaxScaler.\n",
      "  warnings.warn(msg, DataConversionWarning)\n"
     ]
    }
   ],
   "source": [
    "from sklearn.preprocessing import MinMaxScaler\n",
    "scaler = MinMaxScaler(feature_range=(0, 1))\n",
    "\n",
    "for column, d_type in zip(static_df, static_df.dtypes):\n",
    "\n",
    "    if d_type == 'int64' or d_type == 'float64':\n",
    "        data = np.array(static_df[[column]])\n",
    "        scaler.fit(data)\n",
    "        new_data = scaler.transform(data)\n",
    "        static_df[column] = new_data\n",
    "        \n",
    "static_scaled = static_df"
   ]
  },
  {
   "cell_type": "markdown",
   "metadata": {},
   "source": [
    "For the training job, it is necessary to import the Sagemaker and boto3 modules. Then a role, bucket name and session must be defined. The output of the PCA model will be stored in an S3 bucket at the path indicated by the prefix."
   ]
  },
  {
   "cell_type": "code",
   "execution_count": null,
   "metadata": {},
   "outputs": [],
   "source": [
    "import sagemaker\n",
    "import boto3\n",
    "from sagemaker import get_execution_role\n",
    "\n",
    "session = sagemaker.Session()\n",
    "role = get_execution_role()\n",
    "bucket_name = session.default_bucket()\n",
    "print('Role: {}, Bucket: {}'.format(role, bucket_name))"
   ]
  },
  {
   "cell_type": "code",
   "execution_count": null,
   "metadata": {},
   "outputs": [],
   "source": [
    "prefix = 'static'\n",
    "output_path='s3://{}/{}/'.format(bucket_name, prefix)\n",
    "print('Output path: {}'.format(output_path))"
   ]
  },
  {
   "cell_type": "markdown",
   "metadata": {},
   "source": [
    "The PCA object is instantiated using the role and output path defined above. As specified in the parameters, it will be trained on an ml.c4.xlarge instance, sufficiently powerful for the training process."
   ]
  },
  {
   "cell_type": "code",
   "execution_count": null,
   "metadata": {},
   "outputs": [],
   "source": [
    "from sagemaker import PCA\n",
    "\n",
    "N_COMPONENTS=18\n",
    "\n",
    "pca_obj = PCA(role=role,\n",
    "             train_instance_count=1,\n",
    "             train_instance_type='ml.c4.xlarge',\n",
    "             output_path=output_path,\n",
    "             num_components=N_COMPONENTS, \n",
    "             sagemaker_session=session)\n"
   ]
  },
  {
   "cell_type": "code",
   "execution_count": 35,
   "metadata": {},
   "outputs": [],
   "source": [
    "# convert df to np array and convert to RecordSet format\n",
    "train_array = static_scaled.values.astype('float32')\n",
    "train_records = pca_obj.record_set(train_array)"
   ]
  },
  {
   "cell_type": "markdown",
   "metadata": {},
   "source": [
    "Below, the training job is initiated"
   ]
  },
  {
   "cell_type": "code",
   "execution_count": 36,
   "metadata": {},
   "outputs": [
    {
     "name": "stdout",
     "output_type": "stream",
     "text": [
      "2020-04-23 10:50:44 Starting - Starting the training job...\n",
      "2020-04-23 10:50:45 Starting - Launching requested ML instances......\n",
      "2020-04-23 10:51:45 Starting - Preparing the instances for training...\n",
      "2020-04-23 10:52:24 Downloading - Downloading input data...\n",
      "2020-04-23 10:53:07 Training - Downloading the training image..\u001b[34mDocker entrypoint called with argument(s): train\u001b[0m\n",
      "\u001b[34mRunning default environment configuration script\u001b[0m\n",
      "\u001b[34m[04/23/2020 10:53:23 INFO 139787782829888] Reading default configuration from /opt/amazon/lib/python2.7/site-packages/algorithm/resources/default-conf.json: {u'_num_gpus': u'auto', u'_log_level': u'info', u'subtract_mean': u'true', u'force_dense': u'true', u'epochs': 1, u'algorithm_mode': u'regular', u'extra_components': u'-1', u'_kvstore': u'dist_sync', u'_num_kv_servers': u'auto'}\u001b[0m\n",
      "\u001b[34m[04/23/2020 10:53:23 INFO 139787782829888] Reading provided configuration from /opt/ml/input/config/hyperparameters.json: {u'feature_dim': u'19', u'mini_batch_size': u'182', u'num_components': u'18'}\u001b[0m\n",
      "\u001b[34m[04/23/2020 10:53:23 INFO 139787782829888] Final configuration: {u'num_components': u'18', u'_num_gpus': u'auto', u'_log_level': u'info', u'subtract_mean': u'true', u'force_dense': u'true', u'epochs': 1, u'algorithm_mode': u'regular', u'feature_dim': u'19', u'extra_components': u'-1', u'_kvstore': u'dist_sync', u'_num_kv_servers': u'auto', u'mini_batch_size': u'182'}\u001b[0m\n",
      "\u001b[34m[04/23/2020 10:53:23 WARNING 139787782829888] Loggers have already been setup.\u001b[0m\n",
      "\u001b[34m[04/23/2020 10:53:23 INFO 139787782829888] Launching parameter server for role scheduler\u001b[0m\n",
      "\u001b[34m[04/23/2020 10:53:23 INFO 139787782829888] {'ECS_CONTAINER_METADATA_URI': 'http://169.254.170.2/v3/6068a285-65bb-470a-b5d1-0d6677b11360', 'PROTOCOL_BUFFERS_PYTHON_IMPLEMENTATION_VERSION': '2', 'PATH': '/opt/amazon/bin:/usr/local/nvidia/bin:/usr/local/sbin:/usr/local/bin:/usr/sbin:/usr/bin:/sbin:/bin:/opt/amazon/bin:/opt/amazon/bin', 'SAGEMAKER_HTTP_PORT': '8080', 'HOME': '/root', 'PYTHONUNBUFFERED': 'TRUE', 'CANONICAL_ENVROOT': '/opt/amazon', 'LD_LIBRARY_PATH': '/opt/amazon/lib/python2.7/site-packages/cv2/../../../../lib:/usr/local/nvidia/lib64:/opt/amazon/lib', 'LANG': 'en_US.utf8', 'DMLC_INTERFACE': 'eth0', 'SHLVL': '1', 'AWS_REGION': 'eu-west-1', 'NVIDIA_VISIBLE_DEVICES': 'void', 'TRAINING_JOB_NAME': 'pca-2020-04-23-10-50-44-466', 'PROTOCOL_BUFFERS_PYTHON_IMPLEMENTATION': 'cpp', 'ENVROOT': '/opt/amazon', 'SAGEMAKER_DATA_PATH': '/opt/ml', 'NVIDIA_DRIVER_CAPABILITIES': 'compute,utility', 'NVIDIA_REQUIRE_CUDA': 'cuda>=9.0', 'OMP_NUM_THREADS': '2', 'HOSTNAME': 'ip-10-0-116-45.eu-west-1.compute.internal', 'AWS_CONTAINER_CREDENTIALS_RELATIVE_URI': '/v2/credentials/8dd87f59-0476-4d02-a6ec-415ba148abd4', 'PWD': '/', 'TRAINING_JOB_ARN': 'arn:aws:sagemaker:eu-west-1:622694881594:training-job/pca-2020-04-23-10-50-44-466', 'AWS_EXECUTION_ENV': 'AWS_ECS_EC2'}\u001b[0m\n",
      "\u001b[34m[04/23/2020 10:53:23 INFO 139787782829888] envs={'ECS_CONTAINER_METADATA_URI': 'http://169.254.170.2/v3/6068a285-65bb-470a-b5d1-0d6677b11360', 'PROTOCOL_BUFFERS_PYTHON_IMPLEMENTATION_VERSION': '2', 'DMLC_NUM_WORKER': '1', 'DMLC_PS_ROOT_PORT': '9000', 'PATH': '/opt/amazon/bin:/usr/local/nvidia/bin:/usr/local/sbin:/usr/local/bin:/usr/sbin:/usr/bin:/sbin:/bin:/opt/amazon/bin:/opt/amazon/bin', 'SAGEMAKER_HTTP_PORT': '8080', 'HOME': '/root', 'PYTHONUNBUFFERED': 'TRUE', 'CANONICAL_ENVROOT': '/opt/amazon', 'LD_LIBRARY_PATH': '/opt/amazon/lib/python2.7/site-packages/cv2/../../../../lib:/usr/local/nvidia/lib64:/opt/amazon/lib', 'LANG': 'en_US.utf8', 'DMLC_INTERFACE': 'eth0', 'SHLVL': '1', 'DMLC_PS_ROOT_URI': '10.0.116.45', 'AWS_REGION': 'eu-west-1', 'NVIDIA_VISIBLE_DEVICES': 'void', 'TRAINING_JOB_NAME': 'pca-2020-04-23-10-50-44-466', 'PROTOCOL_BUFFERS_PYTHON_IMPLEMENTATION': 'cpp', 'ENVROOT': '/opt/amazon', 'SAGEMAKER_DATA_PATH': '/opt/ml', 'NVIDIA_DRIVER_CAPABILITIES': 'compute,utility', 'NVIDIA_REQUIRE_CUDA': 'cuda>=9.0', 'OMP_NUM_THREADS': '2', 'HOSTNAME': 'ip-10-0-116-45.eu-west-1.compute.internal', 'AWS_CONTAINER_CREDENTIALS_RELATIVE_URI': '/v2/credentials/8dd87f59-0476-4d02-a6ec-415ba148abd4', 'DMLC_ROLE': 'scheduler', 'PWD': '/', 'DMLC_NUM_SERVER': '1', 'TRAINING_JOB_ARN': 'arn:aws:sagemaker:eu-west-1:622694881594:training-job/pca-2020-04-23-10-50-44-466', 'AWS_EXECUTION_ENV': 'AWS_ECS_EC2'}\u001b[0m\n",
      "\u001b[34m[04/23/2020 10:53:23 INFO 139787782829888] Launching parameter server for role server\u001b[0m\n",
      "\u001b[34m[04/23/2020 10:53:23 INFO 139787782829888] {'ECS_CONTAINER_METADATA_URI': 'http://169.254.170.2/v3/6068a285-65bb-470a-b5d1-0d6677b11360', 'PROTOCOL_BUFFERS_PYTHON_IMPLEMENTATION_VERSION': '2', 'PATH': '/opt/amazon/bin:/usr/local/nvidia/bin:/usr/local/sbin:/usr/local/bin:/usr/sbin:/usr/bin:/sbin:/bin:/opt/amazon/bin:/opt/amazon/bin', 'SAGEMAKER_HTTP_PORT': '8080', 'HOME': '/root', 'PYTHONUNBUFFERED': 'TRUE', 'CANONICAL_ENVROOT': '/opt/amazon', 'LD_LIBRARY_PATH': '/opt/amazon/lib/python2.7/site-packages/cv2/../../../../lib:/usr/local/nvidia/lib64:/opt/amazon/lib', 'LANG': 'en_US.utf8', 'DMLC_INTERFACE': 'eth0', 'SHLVL': '1', 'AWS_REGION': 'eu-west-1', 'NVIDIA_VISIBLE_DEVICES': 'void', 'TRAINING_JOB_NAME': 'pca-2020-04-23-10-50-44-466', 'PROTOCOL_BUFFERS_PYTHON_IMPLEMENTATION': 'cpp', 'ENVROOT': '/opt/amazon', 'SAGEMAKER_DATA_PATH': '/opt/ml', 'NVIDIA_DRIVER_CAPABILITIES': 'compute,utility', 'NVIDIA_REQUIRE_CUDA': 'cuda>=9.0', 'OMP_NUM_THREADS': '2', 'HOSTNAME': 'ip-10-0-116-45.eu-west-1.compute.internal', 'AWS_CONTAINER_CREDENTIALS_RELATIVE_URI': '/v2/credentials/8dd87f59-0476-4d02-a6ec-415ba148abd4', 'PWD': '/', 'TRAINING_JOB_ARN': 'arn:aws:sagemaker:eu-west-1:622694881594:training-job/pca-2020-04-23-10-50-44-466', 'AWS_EXECUTION_ENV': 'AWS_ECS_EC2'}\u001b[0m\n",
      "\u001b[34m[04/23/2020 10:53:23 INFO 139787782829888] envs={'ECS_CONTAINER_METADATA_URI': 'http://169.254.170.2/v3/6068a285-65bb-470a-b5d1-0d6677b11360', 'PROTOCOL_BUFFERS_PYTHON_IMPLEMENTATION_VERSION': '2', 'DMLC_NUM_WORKER': '1', 'DMLC_PS_ROOT_PORT': '9000', 'PATH': '/opt/amazon/bin:/usr/local/nvidia/bin:/usr/local/sbin:/usr/local/bin:/usr/sbin:/usr/bin:/sbin:/bin:/opt/amazon/bin:/opt/amazon/bin', 'SAGEMAKER_HTTP_PORT': '8080', 'HOME': '/root', 'PYTHONUNBUFFERED': 'TRUE', 'CANONICAL_ENVROOT': '/opt/amazon', 'LD_LIBRARY_PATH': '/opt/amazon/lib/python2.7/site-packages/cv2/../../../../lib:/usr/local/nvidia/lib64:/opt/amazon/lib', 'LANG': 'en_US.utf8', 'DMLC_INTERFACE': 'eth0', 'SHLVL': '1', 'DMLC_PS_ROOT_URI': '10.0.116.45', 'AWS_REGION': 'eu-west-1', 'NVIDIA_VISIBLE_DEVICES': 'void', 'TRAINING_JOB_NAME': 'pca-2020-04-23-10-50-44-466', 'PROTOCOL_BUFFERS_PYTHON_IMPLEMENTATION': 'cpp', 'ENVROOT': '/opt/amazon', 'SAGEMAKER_DATA_PATH': '/opt/ml', 'NVIDIA_DRIVER_CAPABILITIES': 'compute,utility', 'NVIDIA_REQUIRE_CUDA': 'cuda>=9.0', 'OMP_NUM_THREADS': '2', 'HOSTNAME': 'ip-10-0-116-45.eu-west-1.compute.internal', 'AWS_CONTAINER_CREDENTIALS_RELATIVE_URI': '/v2/credentials/8dd87f59-0476-4d02-a6ec-415ba148abd4', 'DMLC_ROLE': 'server', 'PWD': '/', 'DMLC_NUM_SERVER': '1', 'TRAINING_JOB_ARN': 'arn:aws:sagemaker:eu-west-1:622694881594:training-job/pca-2020-04-23-10-50-44-466', 'AWS_EXECUTION_ENV': 'AWS_ECS_EC2'}\u001b[0m\n",
      "\u001b[34m[04/23/2020 10:53:23 INFO 139787782829888] Environment: {'ECS_CONTAINER_METADATA_URI': 'http://169.254.170.2/v3/6068a285-65bb-470a-b5d1-0d6677b11360', 'PROTOCOL_BUFFERS_PYTHON_IMPLEMENTATION_VERSION': '2', 'DMLC_PS_ROOT_PORT': '9000', 'DMLC_NUM_WORKER': '1', 'SAGEMAKER_HTTP_PORT': '8080', 'PATH': '/opt/amazon/bin:/usr/local/nvidia/bin:/usr/local/sbin:/usr/local/bin:/usr/sbin:/usr/bin:/sbin:/bin:/opt/amazon/bin:/opt/amazon/bin', 'PYTHONUNBUFFERED': 'TRUE', 'CANONICAL_ENVROOT': '/opt/amazon', 'LD_LIBRARY_PATH': '/opt/amazon/lib/python2.7/site-packages/cv2/../../../../lib:/usr/local/nvidia/lib64:/opt/amazon/lib', 'LANG': 'en_US.utf8', 'DMLC_INTERFACE': 'eth0', 'SHLVL': '1', 'DMLC_PS_ROOT_URI': '10.0.116.45', 'AWS_REGION': 'eu-west-1', 'NVIDIA_VISIBLE_DEVICES': 'void', 'TRAINING_JOB_NAME': 'pca-2020-04-23-10-50-44-466', 'HOME': '/root', 'PROTOCOL_BUFFERS_PYTHON_IMPLEMENTATION': 'cpp', 'ENVROOT': '/opt/amazon', 'SAGEMAKER_DATA_PATH': '/opt/ml', 'NVIDIA_DRIVER_CAPABILITIES': 'compute,utility', 'NVIDIA_REQUIRE_CUDA': 'cuda>=9.0', 'OMP_NUM_THREADS': '2', 'HOSTNAME': 'ip-10-0-116-45.eu-west-1.compute.internal', 'AWS_CONTAINER_CREDENTIALS_RELATIVE_URI': '/v2/credentials/8dd87f59-0476-4d02-a6ec-415ba148abd4', 'DMLC_ROLE': 'worker', 'PWD': '/', 'DMLC_NUM_SERVER': '1', 'TRAINING_JOB_ARN': 'arn:aws:sagemaker:eu-west-1:622694881594:training-job/pca-2020-04-23-10-50-44-466', 'AWS_EXECUTION_ENV': 'AWS_ECS_EC2'}\u001b[0m\n",
      "\u001b[34mProcess 61 is a shell:scheduler.\u001b[0m\n",
      "\u001b[34mProcess 70 is a shell:server.\u001b[0m\n",
      "\u001b[34mProcess 1 is a worker.\u001b[0m\n",
      "\u001b[34m[04/23/2020 10:53:23 INFO 139787782829888] Using default worker.\u001b[0m\n",
      "\u001b[34m[04/23/2020 10:53:23 INFO 139787782829888] Loaded iterator creator application/x-recordio-protobuf for content type ('application/x-recordio-protobuf', '1.0')\u001b[0m\n",
      "\u001b[34m[04/23/2020 10:53:23 INFO 139787782829888] Loaded iterator creator application/x-labeled-vector-protobuf for content type ('application/x-labeled-vector-protobuf', '1.0')\u001b[0m\n",
      "\u001b[34m[04/23/2020 10:53:23 INFO 139787782829888] Loaded iterator creator protobuf for content type ('protobuf', '1.0')\u001b[0m\n",
      "\u001b[34m[04/23/2020 10:53:23 INFO 139787782829888] Create Store: dist_sync\u001b[0m\n",
      "\u001b[34m[04/23/2020 10:53:24 INFO 139787782829888] nvidia-smi took: 0.0251801013947 secs to identify 0 gpus\u001b[0m\n",
      "\u001b[34m[04/23/2020 10:53:24 INFO 139787782829888] Number of GPUs being used: 0\u001b[0m\n",
      "\u001b[34m[04/23/2020 10:53:24 INFO 139787782829888] The default executor is <PCAExecutor on cpu(0)>.\u001b[0m\n",
      "\u001b[34m[04/23/2020 10:53:24 INFO 139787782829888] 19 feature(s) found in 'data'.\u001b[0m\n",
      "\u001b[34m[04/23/2020 10:53:24 INFO 139787782829888] <PCAExecutor on cpu(0)> is assigned to batch slice from 0 to 181.\u001b[0m\n",
      "\u001b[34m#metrics {\"Metrics\": {\"initialize.time\": {\"count\": 1, \"max\": 746.5419769287109, \"sum\": 746.5419769287109, \"min\": 746.5419769287109}}, \"EndTime\": 1587639204.610859, \"Dimensions\": {\"Host\": \"algo-1\", \"Operation\": \"training\", \"Algorithm\": \"PCA\"}, \"StartTime\": 1587639203.844293}\n",
      "\u001b[0m\n",
      "\u001b[34m#metrics {\"Metrics\": {\"Max Batches Seen Between Resets\": {\"count\": 1, \"max\": 0, \"sum\": 0.0, \"min\": 0}, \"Number of Batches Since Last Reset\": {\"count\": 1, \"max\": 0, \"sum\": 0.0, \"min\": 0}, \"Number of Records Since Last Reset\": {\"count\": 1, \"max\": 0, \"sum\": 0.0, \"min\": 0}, \"Total Batches Seen\": {\"count\": 1, \"max\": 0, \"sum\": 0.0, \"min\": 0}, \"Total Records Seen\": {\"count\": 1, \"max\": 0, \"sum\": 0.0, \"min\": 0}, \"Max Records Seen Between Resets\": {\"count\": 1, \"max\": 0, \"sum\": 0.0, \"min\": 0}, \"Reset Count\": {\"count\": 1, \"max\": 0, \"sum\": 0.0, \"min\": 0}}, \"EndTime\": 1587639204.611105, \"Dimensions\": {\"Host\": \"algo-1\", \"Meta\": \"init_train_data_iter\", \"Operation\": \"training\", \"Algorithm\": \"PCA\"}, \"StartTime\": 1587639204.611024}\n",
      "\u001b[0m\n",
      "\u001b[34m[2020-04-23 10:53:24.611] [tensorio] [info] epoch_stats={\"data_pipeline\": \"/opt/ml/input/data/train\", \"epoch\": 0, \"duration\": 766, \"num_examples\": 1, \"num_bytes\": 18200}\u001b[0m\n",
      "\u001b[34m[2020-04-23 10:53:24.659] [tensorio] [info] epoch_stats={\"data_pipeline\": \"/opt/ml/input/data/train\", \"epoch\": 1, \"duration\": 38, \"num_examples\": 1, \"num_bytes\": 18200}\u001b[0m\n",
      "\u001b[34m#metrics {\"Metrics\": {\"epochs\": {\"count\": 1, \"max\": 1, \"sum\": 1.0, \"min\": 1}, \"update.time\": {\"count\": 1, \"max\": 48.25091361999512, \"sum\": 48.25091361999512, \"min\": 48.25091361999512}}, \"EndTime\": 1587639204.659684, \"Dimensions\": {\"Host\": \"algo-1\", \"Operation\": \"training\", \"Algorithm\": \"PCA\"}, \"StartTime\": 1587639204.610955}\n",
      "\u001b[0m\n",
      "\u001b[34m[04/23/2020 10:53:24 INFO 139787782829888] #progress_metric: host=algo-1, completed 100 % of epochs\u001b[0m\n",
      "\u001b[34m#metrics {\"Metrics\": {\"Max Batches Seen Between Resets\": {\"count\": 1, \"max\": 1, \"sum\": 1.0, \"min\": 1}, \"Number of Batches Since Last Reset\": {\"count\": 1, \"max\": 1, \"sum\": 1.0, \"min\": 1}, \"Number of Records Since Last Reset\": {\"count\": 1, \"max\": 182, \"sum\": 182.0, \"min\": 182}, \"Total Batches Seen\": {\"count\": 1, \"max\": 1, \"sum\": 1.0, \"min\": 1}, \"Total Records Seen\": {\"count\": 1, \"max\": 182, \"sum\": 182.0, \"min\": 182}, \"Max Records Seen Between Resets\": {\"count\": 1, \"max\": 182, \"sum\": 182.0, \"min\": 182}, \"Reset Count\": {\"count\": 1, \"max\": 1, \"sum\": 1.0, \"min\": 1}}, \"EndTime\": 1587639204.659999, \"Dimensions\": {\"Host\": \"algo-1\", \"Meta\": \"training_data_iter\", \"Operation\": \"training\", \"Algorithm\": \"PCA\", \"epoch\": 0}, \"StartTime\": 1587639204.611403}\n",
      "\u001b[0m\n",
      "\u001b[34m[04/23/2020 10:53:24 INFO 139787782829888] #throughput_metric: host=algo-1, train throughput=3734.32539209 records/second\u001b[0m\n",
      "\u001b[34m#metrics {\"Metrics\": {\"finalize.time\": {\"count\": 1, \"max\": 18.806934356689453, \"sum\": 18.806934356689453, \"min\": 18.806934356689453}}, \"EndTime\": 1587639204.679147, \"Dimensions\": {\"Host\": \"algo-1\", \"Operation\": \"training\", \"Algorithm\": \"PCA\"}, \"StartTime\": 1587639204.659765}\n",
      "\u001b[0m\n",
      "\u001b[34m[04/23/2020 10:53:24 INFO 139787782829888] Test data is not provided.\u001b[0m\n",
      "\u001b[34m#metrics {\"Metrics\": {\"totaltime\": {\"count\": 1, \"max\": 983.3660125732422, \"sum\": 983.3660125732422, \"min\": 983.3660125732422}, \"setuptime\": {\"count\": 1, \"max\": 45.365095138549805, \"sum\": 45.365095138549805, \"min\": 45.365095138549805}}, \"EndTime\": 1587639204.6858, \"Dimensions\": {\"Host\": \"algo-1\", \"Operation\": \"training\", \"Algorithm\": \"PCA\"}, \"StartTime\": 1587639204.679199}\n",
      "\u001b[0m\n"
     ]
    },
    {
     "name": "stdout",
     "output_type": "stream",
     "text": [
      "\n",
      "2020-04-23 10:53:32 Uploading - Uploading generated training model\n",
      "2020-04-23 10:53:32 Completed - Training job completed\n",
      "Training seconds: 68\n",
      "Billable seconds: 68\n",
      "CPU times: user 392 ms, sys: 33.4 ms, total: 425 ms\n",
      "Wall time: 3min 11s\n"
     ]
    }
   ],
   "source": [
    "%%time\n",
    "pca_obj.fit(train_records)"
   ]
  },
  {
   "cell_type": "markdown",
   "metadata": {},
   "source": [
    "In the cell below, the model is downloaded from S3 and unzipped. The training job name is manually copy and pasted from the SageMaker dashboard"
   ]
  },
  {
   "cell_type": "code",
   "execution_count": null,
   "metadata": {},
   "outputs": [],
   "source": [
    "training_job_name='pca-2020-04-23-10-18-16-388'\n",
    "\n",
    "prefix = 'static'\n",
    "model_key = os.path.join(prefix, training_job_name, 'output/model.tar.gz')\n",
    "print(model_key)\n",
    "\n",
    "\n",
    "# download and unzip model\n",
    "boto3.resource('s3').Bucket(bucket_name).download_file(model_key, 'model.tar.gz')\n",
    "\n",
    "os.system('tar -zxvf model.tar.gz')\n",
    "os.system('unzip model_algo-1')"
   ]
  },
  {
   "cell_type": "markdown",
   "metadata": {},
   "source": [
    "The parameters are then loaded using the MXNet module"
   ]
  },
  {
   "cell_type": "code",
   "execution_count": null,
   "metadata": {},
   "outputs": [],
   "source": [
    "import mxnet as mx\n",
    "pca_model_params = mx.ndarray.load('model_algo-1')"
   ]
  },
  {
   "cell_type": "code",
   "execution_count": null,
   "metadata": {},
   "outputs": [],
   "source": [
    "s=pd.DataFrame(pca_model_params['s'].asnumpy())\n",
    "v=pd.DataFrame(pca_model_params['v'].asnumpy())"
   ]
  },
  {
   "cell_type": "code",
   "execution_count": 40,
   "metadata": {},
   "outputs": [],
   "source": [
    "def explained_variance(s, n_top_components):\n",
    "    \n",
    "    start_idx = N_COMPONENTS - n_top_components\n",
    "\n",
    "    return np.sum(np.array(s[start_idx:] ** 2)) / np.sum(np.array(s ** 2))"
   ]
  },
  {
   "cell_type": "markdown",
   "metadata": {},
   "source": [
    "Calculated in the cell below is the amount of variance explained using a specified number of components. In order to capture the desirable figure of 80% variance, 6 components are needed."
   ]
  },
  {
   "cell_type": "code",
   "execution_count": 41,
   "metadata": {},
   "outputs": [
    {
     "name": "stdout",
     "output_type": "stream",
     "text": [
      "Explained variance:  0.8017985\n"
     ]
    }
   ],
   "source": [
    "# test cell\n",
    "n_top_components = 6 # select a value for the number of top components\n",
    "\n",
    "# calculate the explained variance\n",
    "exp_variance = explained_variance(s, n_top_components)\n",
    "print('Explained variance: ', exp_variance)"
   ]
  },
  {
   "cell_type": "markdown",
   "metadata": {},
   "source": [
    "Below, the chosen principal components are visualised using the seaborn module and a helper function"
   ]
  },
  {
   "cell_type": "code",
   "execution_count": null,
   "metadata": {},
   "outputs": [],
   "source": [
    "import seaborn as sns\n",
    "\n",
    "def display_component(v, features_list, component_num, n_weights=10):\n",
    "    \n",
    "    # get index of component (last row - component_num)\n",
    "    row_idx = N_COMPONENTS-component_num\n",
    "\n",
    "    # get the list of weights from a row in v, dataframe\n",
    "    v_1_row = v.iloc[:, row_idx]\n",
    "    v_1 = np.squeeze(v_1_row.values)\n",
    "\n",
    "    # match weights to features in counties_scaled dataframe, using list comporehension\n",
    "    comps = pd.DataFrame(list(zip(v_1, features_list)), \n",
    "                         columns=['weights', 'features'])\n",
    "\n",
    "    # we'll want to sort by the largest n_weights\n",
    "    # weights can be neg/pos and we'll sort by magnitude\n",
    "    comps['abs_weights']=comps['weights'].apply(lambda x: np.abs(x))\n",
    "    sorted_weight_data = comps.sort_values('abs_weights', ascending=False).head(n_weights)\n",
    "\n",
    "    # display using seaborn\n",
    "    ax=plt.subplots(figsize=(10,6))\n",
    "    ax=sns.barplot(data=sorted_weight_data, \n",
    "                   x=\"weights\", \n",
    "                   y=\"features\", \n",
    "                   palette=\"Blues_d\")\n",
    "    ax.set_title(\"PCA Component Makeup, Component #\" + str(component_num))\n",
    "    plt.show()"
   ]
  },
  {
   "cell_type": "code",
   "execution_count": 334,
   "metadata": {
    "scrolled": true
   },
   "outputs": [
    {
     "data": {
      "image/png": "[encoded data removed]",
      "text/plain": [
       "<Figure size 720x432 with 1 Axes>"
      ]
     },
     "metadata": {},
     "output_type": "display_data"
    }
   ],
   "source": [
    "num=6\n",
    "display_component(v, static_scaled.columns.values, component_num=num, n_weights=10)"
   ]
  },
  {
   "cell_type": "markdown",
   "metadata": {},
   "source": [
    "Now an endpoint is deployed to create the values of principal components based on the country values, and this is saved to a local file for easier access later on."
   ]
  },
  {
   "cell_type": "code",
   "execution_count": 44,
   "metadata": {},
   "outputs": [
    {
     "name": "stdout",
     "output_type": "stream",
     "text": [
      "---------------!CPU times: user 282 ms, sys: 13.8 ms, total: 295 ms\n",
      "Wall time: 7min 32s\n"
     ]
    }
   ],
   "source": [
    "%%time\n",
    "pca_predictor = pca_obj.deploy(initial_instance_count=1, \n",
    "                              instance_type='ml.t2.medium')"
   ]
  },
  {
   "cell_type": "code",
   "execution_count": 46,
   "metadata": {},
   "outputs": [],
   "source": [
    "pca_features = pca_predictor.predict(train_array)"
   ]
  },
  {
   "cell_type": "code",
   "execution_count": 48,
   "metadata": {},
   "outputs": [
    {
     "name": "stdout",
     "output_type": "stream",
     "text": [
      "182\n",
      "label {\n",
      "  key: \"projection\"\n",
      "  value {\n",
      "    float32_tensor {\n",
      "      values: 0.17765265703201294\n",
      "      values: 0.16912400722503662\n",
      "      values: -0.09809082746505737\n",
      "      values: 0.08858108520507812\n",
      "      values: -0.06741790473461151\n",
      "      values: -0.20249703526496887\n",
      "      values: 0.10043339431285858\n",
      "      values: 0.24907559156417847\n",
      "      values: 0.03013916313648224\n",
      "      values: -0.11977532505989075\n",
      "      values: -0.2850041687488556\n",
      "      values: 0.1384534239768982\n",
      "      values: -0.17038407921791077\n",
      "      values: 0.2216760814189911\n",
      "      values: 0.2171558141708374\n",
      "      values: -0.19341936707496643\n",
      "      values: -0.2564607858657837\n",
      "      values: 1.3371063470840454\n",
      "    }\n",
      "  }\n",
      "}\n",
      "\n"
     ]
    }
   ],
   "source": [
    "idx = 0\n",
    "print(len(pca_features))\n",
    "print(pca_features[idx])"
   ]
  },
  {
   "cell_type": "code",
   "execution_count": 53,
   "metadata": {},
   "outputs": [],
   "source": [
    "def create_transformed_df(features_list, df, n_top_components):\n",
    "    ''' Return a dataframe of data points with component features. \n",
    "        The dataframe should be indexed by State-County and contain component values.\n",
    "        :param train_pca: A list of pca training data, returned by a PCA model.\n",
    "        :param counties_scaled: A dataframe of normalized, original features.\n",
    "        :param n_top_components: An integer, the number of top components to use.\n",
    "        :return: A dataframe, indexed by State-County, with n_top_component values as columns.        \n",
    "     '''\n",
    "    df_transformed = pd.DataFrame()\n",
    "    \n",
    "    # create a dataframe of component features, indexed by State-County\n",
    "    for data in features_list:\n",
    "        components = data.label['projection'].float32_tensor.values\n",
    "        df_transformed=df_transformed.append([list(components)])\n",
    "        \n",
    "    df_transformed.index = df.index\n",
    "    \n",
    "    start_idx = N_COMPONENTS - n_top_components\n",
    "    df_transformed = df_transformed.iloc[:,start_idx:]\n",
    "    \n",
    "    return df_transformed.iloc[:, ::-1]\n"
   ]
  },
  {
   "cell_type": "code",
   "execution_count": 55,
   "metadata": {},
   "outputs": [
    {
     "data": {
      "text/html": [
       "<div>\n",
       "<style scoped>\n",
       "    .dataframe tbody tr th:only-of-type {\n",
       "        vertical-align: middle;\n",
       "    }\n",
       "\n",
       "    .dataframe tbody tr th {\n",
       "        vertical-align: top;\n",
       "    }\n",
       "\n",
       "    .dataframe thead th {\n",
       "        text-align: right;\n",
       "    }\n",
       "</style>\n",
       "<table border=\"1\" class=\"dataframe\">\n",
       "  <thead>\n",
       "    <tr style=\"text-align: right;\">\n",
       "      <th></th>\n",
       "      <th>x1</th>\n",
       "      <th>x2</th>\n",
       "      <th>x3</th>\n",
       "      <th>x4</th>\n",
       "      <th>x5</th>\n",
       "      <th>x6</th>\n",
       "    </tr>\n",
       "    <tr>\n",
       "      <th>Country</th>\n",
       "      <th></th>\n",
       "      <th></th>\n",
       "      <th></th>\n",
       "      <th></th>\n",
       "      <th></th>\n",
       "      <th></th>\n",
       "    </tr>\n",
       "  </thead>\n",
       "  <tbody>\n",
       "    <tr>\n",
       "      <th>Afghanistan</th>\n",
       "      <td>1.337106</td>\n",
       "      <td>-0.256461</td>\n",
       "      <td>-0.193419</td>\n",
       "      <td>0.217156</td>\n",
       "      <td>0.221676</td>\n",
       "      <td>-0.170384</td>\n",
       "    </tr>\n",
       "    <tr>\n",
       "      <th>Albania</th>\n",
       "      <td>-0.292520</td>\n",
       "      <td>-0.059736</td>\n",
       "      <td>0.237031</td>\n",
       "      <td>0.309987</td>\n",
       "      <td>0.152504</td>\n",
       "      <td>-0.081050</td>\n",
       "    </tr>\n",
       "    <tr>\n",
       "      <th>Algeria</th>\n",
       "      <td>-0.028620</td>\n",
       "      <td>-0.016887</td>\n",
       "      <td>0.440567</td>\n",
       "      <td>0.498882</td>\n",
       "      <td>-0.102744</td>\n",
       "      <td>0.047110</td>\n",
       "    </tr>\n",
       "    <tr>\n",
       "      <th>Andorra</th>\n",
       "      <td>-0.199266</td>\n",
       "      <td>-1.036531</td>\n",
       "      <td>-0.304143</td>\n",
       "      <td>-0.230978</td>\n",
       "      <td>-0.447893</td>\n",
       "      <td>0.381868</td>\n",
       "    </tr>\n",
       "    <tr>\n",
       "      <th>Angola</th>\n",
       "      <td>0.903921</td>\n",
       "      <td>0.357231</td>\n",
       "      <td>0.434472</td>\n",
       "      <td>-0.207126</td>\n",
       "      <td>-0.134273</td>\n",
       "      <td>0.083259</td>\n",
       "    </tr>\n",
       "  </tbody>\n",
       "</table>\n",
       "</div>"
      ],
      "text/plain": [
       "                   x1        x2        x3        x4        x5        x6\n",
       "Country                                                                \n",
       "Afghanistan  1.337106 -0.256461 -0.193419  0.217156  0.221676 -0.170384\n",
       "Albania     -0.292520 -0.059736  0.237031  0.309987  0.152504 -0.081050\n",
       "Algeria     -0.028620 -0.016887  0.440567  0.498882 -0.102744  0.047110\n",
       "Andorra     -0.199266 -1.036531 -0.304143 -0.230978 -0.447893  0.381868\n",
       "Angola       0.903921  0.357231  0.434472 -0.207126 -0.134273  0.083259"
      ]
     },
     "execution_count": 55,
     "metadata": {},
     "output_type": "execute_result"
    }
   ],
   "source": [
    "top_n = 6\n",
    "static_transformed = create_transformed_df(pca_features, static_scaled, n_top_components=top_n)\n",
    "static_transformed.columns = ['x1', 'x2', 'x3', 'x4', 'x5', 'x6']\n",
    "\n",
    "static_transformed.head()"
   ]
  },
  {
   "cell_type": "code",
   "execution_count": 56,
   "metadata": {},
   "outputs": [],
   "source": [
    "session.delete_endpoint(pca_predictor.endpoint)"
   ]
  },
  {
   "cell_type": "code",
   "execution_count": 57,
   "metadata": {},
   "outputs": [],
   "source": [
    "static_transformed.to_csv('pca_features.csv')"
   ]
  },
  {
   "cell_type": "markdown",
   "metadata": {},
   "source": [
    "**Time Series**\n",
    "\n",
    "Using the static features created with PCA, as well as the temporal variables, time series need to be made for each national outbreak to use as dynamic feature arrays when training the model. The static features will be done first, followed by the temporal ones."
   ]
  },
  {
   "cell_type": "code",
   "execution_count": 25,
   "metadata": {},
   "outputs": [],
   "source": [
    "static_transformed = pd.read_csv('pca_features.csv', index_col='Country')"
   ]
  },
  {
   "cell_type": "code",
   "execution_count": 26,
   "metadata": {},
   "outputs": [
    {
     "data": {
      "text/html": [
       "<div>\n",
       "<style scoped>\n",
       "    .dataframe tbody tr th:only-of-type {\n",
       "        vertical-align: middle;\n",
       "    }\n",
       "\n",
       "    .dataframe tbody tr th {\n",
       "        vertical-align: top;\n",
       "    }\n",
       "\n",
       "    .dataframe thead th {\n",
       "        text-align: right;\n",
       "    }\n",
       "</style>\n",
       "<table border=\"1\" class=\"dataframe\">\n",
       "  <thead>\n",
       "    <tr style=\"text-align: right;\">\n",
       "      <th></th>\n",
       "      <th>x1</th>\n",
       "      <th>x2</th>\n",
       "      <th>x3</th>\n",
       "      <th>x4</th>\n",
       "      <th>x5</th>\n",
       "      <th>x6</th>\n",
       "    </tr>\n",
       "    <tr>\n",
       "      <th>Country</th>\n",
       "      <th></th>\n",
       "      <th></th>\n",
       "      <th></th>\n",
       "      <th></th>\n",
       "      <th></th>\n",
       "      <th></th>\n",
       "    </tr>\n",
       "  </thead>\n",
       "  <tbody>\n",
       "    <tr>\n",
       "      <th>Afghanistan</th>\n",
       "      <td>1.337106</td>\n",
       "      <td>-0.256461</td>\n",
       "      <td>-0.193419</td>\n",
       "      <td>0.217156</td>\n",
       "      <td>0.221676</td>\n",
       "      <td>-0.170384</td>\n",
       "    </tr>\n",
       "    <tr>\n",
       "      <th>Albania</th>\n",
       "      <td>-0.292520</td>\n",
       "      <td>-0.059736</td>\n",
       "      <td>0.237031</td>\n",
       "      <td>0.309987</td>\n",
       "      <td>0.152504</td>\n",
       "      <td>-0.081050</td>\n",
       "    </tr>\n",
       "    <tr>\n",
       "      <th>Algeria</th>\n",
       "      <td>-0.028620</td>\n",
       "      <td>-0.016887</td>\n",
       "      <td>0.440567</td>\n",
       "      <td>0.498882</td>\n",
       "      <td>-0.102744</td>\n",
       "      <td>0.047110</td>\n",
       "    </tr>\n",
       "    <tr>\n",
       "      <th>Andorra</th>\n",
       "      <td>-0.199266</td>\n",
       "      <td>-1.036531</td>\n",
       "      <td>-0.304143</td>\n",
       "      <td>-0.230978</td>\n",
       "      <td>-0.447893</td>\n",
       "      <td>0.381868</td>\n",
       "    </tr>\n",
       "    <tr>\n",
       "      <th>Angola</th>\n",
       "      <td>0.903921</td>\n",
       "      <td>0.357231</td>\n",
       "      <td>0.434472</td>\n",
       "      <td>-0.207126</td>\n",
       "      <td>-0.134273</td>\n",
       "      <td>0.083259</td>\n",
       "    </tr>\n",
       "  </tbody>\n",
       "</table>\n",
       "</div>"
      ],
      "text/plain": [
       "                   x1        x2        x3        x4        x5        x6\n",
       "Country                                                                \n",
       "Afghanistan  1.337106 -0.256461 -0.193419  0.217156  0.221676 -0.170384\n",
       "Albania     -0.292520 -0.059736  0.237031  0.309987  0.152504 -0.081050\n",
       "Algeria     -0.028620 -0.016887  0.440567  0.498882 -0.102744  0.047110\n",
       "Andorra     -0.199266 -1.036531 -0.304143 -0.230978 -0.447893  0.381868\n",
       "Angola       0.903921  0.357231  0.434472 -0.207126 -0.134273  0.083259"
      ]
     },
     "execution_count": 26,
     "metadata": {},
     "output_type": "execute_result"
    }
   ],
   "source": [
    "static_transformed.head()"
   ]
  },
  {
   "cell_type": "markdown",
   "metadata": {},
   "source": [
    "**Static**\n",
    "\n",
    "The static time series for each epidemic is made in the next couple of cells. These will be of varying length, beginning on the first day on which each country recorded its first case."
   ]
  },
  {
   "cell_type": "code",
   "execution_count": 41,
   "metadata": {},
   "outputs": [],
   "source": [
    "def convert_static_values_for_series(df, virus_dict):\n",
    "    \n",
    "    static_series_dict = {}\n",
    "    for country in virus_dict.keys():\n",
    "        static_series_dict[country] = {}\n",
    "        for feature in df.columns:\n",
    "            print(virus_dict)\n",
    "            static_series_dict[country][feature] = [df.loc[country, feature]]*len(virus_dict[country]['target'])\n",
    "    \n",
    "    return static_series_dict"
   ]
  },
  {
   "cell_type": "code",
   "execution_count": 42,
   "metadata": {},
   "outputs": [
    {
     "name": "stderr",
     "output_type": "stream",
     "text": [
      "IOPub data rate exceeded.\n",
      "The notebook server will temporarily stop sending output\n",
      "to the client in order to avoid crashing it.\n",
      "To change this limit, set the config variable\n",
      "`--NotebookApp.iopub_data_rate_limit`.\n",
      "\n",
      "Current values:\n",
      "NotebookApp.iopub_data_rate_limit=1000000.0 (bytes/sec)\n",
      "NotebookApp.rate_limit_window=3.0 (secs)\n",
      "\n"
     ]
    }
   ],
   "source": [
    "covid_static_series_dict = convert_static_values_for_series(static_transformed, covid_cases_dict)\n",
    "sars_static_series_dict = convert_static_values_for_series(static_transformed, sars_cases_dict)\n",
    "ebola_static_series_dict = convert_static_values_for_series(static_transformed, ebola_cases_dict)"
   ]
  },
  {
   "cell_type": "markdown",
   "metadata": {},
   "source": [
    "**Temporal**\n",
    "\n",
    "Now the same needs to be done for the temporal values. It is a little more complicated for these as they do not keep constant values throughout the entire series, but change on dates specified in separate columnms. Functions for processing this information and outputting data in the correct format are written below. Also, the row indexes need to be changed to be the country names again.\n"
   ]
  },
  {
   "cell_type": "code",
   "execution_count": 27,
   "metadata": {},
   "outputs": [],
   "source": [
    "time_df.index=time_df['Country.1']\n",
    "time_df = time_df.drop('Country.1', axis='columns')"
   ]
  },
  {
   "cell_type": "code",
   "execution_count": 30,
   "metadata": {},
   "outputs": [],
   "source": [
    "month_dict = {'01': 'Jan', '02': 'Feb', '03': 'Mar', '04': 'Apr', '05': 'Mar', '06': 'Jun',\n",
    "              '07': 'Jul', '08': 'Aug', '09': 'Sep', '10': 'Oct', '11': 'Nov', '12': 'Dec'}\n",
    "\n",
    "def initialize_country_series_dict(series_dict, virus_dict, country):\n",
    "    \n",
    "    date_str = virus_dict[country]['start']   \n",
    "    current_date = datetime.strptime(date_str, '%Y-%m-%d %H:%M:%S').date()\n",
    "        \n",
    "    series_dict[country] = {}\n",
    "    series_dict[country]['start'] = date_str\n",
    "    series_dict[country]['target'] = []\n",
    "    \n",
    "    return series_dict[country], current_date\n",
    "    \n",
    "\n",
    "def convert_temp_values_for_series(df, virus_dict):\n",
    "    \n",
    "\n",
    "    temp_series_dict = {}\n",
    "    for country in virus_dict.keys():\n",
    "        \n",
    "        temp_series_dict[country], current_date = initialize_country_series_dict(temp_series_dict, virus_dict, country)\n",
    "        \n",
    "        for day in range(len(virus_dict[country]['target'])):\n",
    "\n",
    "            month_tkr = str(current_date.month)\n",
    "            month_tkr = '0' + month_tkr if len(month_tkr) < 2 else month_tkr\n",
    "            \n",
    "            temp_series_dict[country]['target'].append(time_df.loc[country, 'Avg {} Temp C' \\\n",
    "                                                                   .format(month_dict[month_tkr])]) \n",
    "        \n",
    "            current_date += timedelta(days=1)\n",
    "                \n",
    "        \n",
    "    return temp_series_dict"
   ]
  },
  {
   "cell_type": "code",
   "execution_count": 31,
   "metadata": {},
   "outputs": [],
   "source": [
    "covid_temp_series_dict = convert_temp_values_for_series(time_df, covid_cases_dict)\n",
    "sars_temp_series_dict = convert_temp_values_for_series(time_df, sars_cases_dict)\n",
    "ebola_temp_series_dict = convert_temp_values_for_series(time_df, ebola_cases_dict)"
   ]
  },
  {
   "cell_type": "markdown",
   "metadata": {},
   "source": [
    "Now the same process needs to be done for the lockdowns."
   ]
  },
  {
   "cell_type": "code",
   "execution_count": 32,
   "metadata": {},
   "outputs": [],
   "source": [
    "def convert_lockdown_values_for_series(df, virus_dict, covid=True):\n",
    "    \n",
    "\n",
    "    ld_series_dict = {} \n",
    "    for country in virus_dict.keys():\n",
    "        \n",
    "        ld_series_dict[country], current_date = initialize_country_series_dict(ld_series_dict, virus_dict, country)\n",
    "        \n",
    "        lockdown = 0\n",
    "        for day in range(len(virus_dict[country]['target'])):\n",
    "            \n",
    "            if time_df.loc[country, 'Lockdown 1 Start'] == str(current_date):\n",
    "                lockdown = 1\n",
    "            elif time_df.loc[country, 'Lockdown 2 Start'] == str(current_date):    \n",
    "                lockdown = 2\n",
    "            elif time_df.loc[country, 'Lockdown 3 Start'] == str(current_date):    \n",
    "                lockdown = 3    \n",
    "                    \n",
    "            if covid:        \n",
    "                if lockdown == 0:\n",
    "                    ld_series_dict[country]['target'].append(0)\n",
    "                else:\n",
    "                    ld_series_dict[country]['target'].append(time_df.loc[country, 'Pop. Proportion {}'.format(lockdown)])\n",
    "                    if time_df.loc[country, 'Lockdown {} End'.format(lockdown)] == str(current_date):\n",
    "                        lockdown = 0\n",
    "            else:\n",
    "                ld_series_dict[country]['target'].append(1)\n",
    "\n",
    "        \n",
    "            current_date += timedelta(days=1)\n",
    "            \n",
    "    return ld_series_dict        "
   ]
  },
  {
   "cell_type": "code",
   "execution_count": 33,
   "metadata": {},
   "outputs": [],
   "source": [
    "covid_ld_series_dict = convert_lockdown_values_for_series(time_df, covid_cases_dict)\n",
    "sars_ld_series_dict = convert_lockdown_values_for_series(time_df, sars_cases_dict, covid=False)\n",
    "ebola_ld_series_dict = convert_lockdown_values_for_series(time_df, ebola_cases_dict, covid=False)"
   ]
  },
  {
   "cell_type": "markdown",
   "metadata": {},
   "source": [
    "**Normalization** \n",
    "\n",
    "Finally, before training, the cases and mortalities values will be normalized by country to take on a value of instances per million people. This step is taken in order to make the proportional lockdown values more relevant, as well as make the series more consistent with each other. "
   ]
  },
  {
   "cell_type": "code",
   "execution_count": 34,
   "metadata": {},
   "outputs": [],
   "source": [
    "def normalize_dict(series_dict, df):\n",
    "    \n",
    "    normalized_dict = {}\n",
    "    for country in series_dict:\n",
    "        normalized_dict[country] = {}\n",
    "        normalized_dict[country]['start'] = series_dict[country]['start']\n",
    "        normalized_dict[country]['target'] = []\n",
    "        \n",
    "        num_millions = df.loc[country, 'Population'] / 1000000\n",
    "        for value in series_dict[country]['target']:\n",
    "            value /= num_millions\n",
    "            normalized_dict[country]['target'].append(value)\n",
    "            \n",
    "    return normalized_dict      "
   ]
  },
  {
   "cell_type": "code",
   "execution_count": 35,
   "metadata": {},
   "outputs": [],
   "source": [
    "norm_covid_cases_dict = normalize_dict(covid_cases_dict, time_df)\n",
    "norm_sars_cases_dict = normalize_dict(sars_cases_dict, time_df)\n",
    "norm_ebola_cases_dict = normalize_dict(ebola_cases_dict, time_df)"
   ]
  },
  {
   "cell_type": "markdown",
   "metadata": {},
   "source": [
    "**Concatenation** \n",
    "\n",
    "Now records for each epidemic can be brought together into a single json object, with the main time series of virus cases as the 'target array', and each of the other arrays - e.g. pca features, lockdown series added to the 'dynamic_feat' array. A single json object will be created for each national epidemic, so all countries will have one associated object apart from the four countries with a second separate virus outbreak included. At this point, two separate files will be made for training and for testing."
   ]
  },
  {
   "cell_type": "code",
   "execution_count": 44,
   "metadata": {},
   "outputs": [],
   "source": [
    "def series_to_json_obj(country, main_series_dict, static_dict, temp_dict, ld_dict, train, prediction_length):\n",
    "\n",
    "    end_val = -prediction_length if train == True else None\n",
    "    json_obj = {}\n",
    "    json_obj['start'] = main_series_dict[country]['start']\n",
    "    json_obj['target'] = main_series_dict[country]['target'][:end_val]\n",
    "    json_obj['dynamic_feat'] = []\n",
    "    \n",
    "    for component in static_dict[country]:\n",
    "        json_obj['dynamic_feat'].append(static_dict[country][component][:end_val])\n",
    "    json_obj['dynamic_feat'].append(temp_dict[country]['target'][:end_val])\n",
    "    json_obj['dynamic_feat'].append(ld_dict[country]['target'][:end_val])\n",
    "    \n",
    "    return json_obj"
   ]
  },
  {
   "cell_type": "code",
   "execution_count": 45,
   "metadata": {},
   "outputs": [],
   "source": [
    "import json\n",
    "\n",
    "def write_cases_json_dataset(filename, df, train, prediction_length): \n",
    "    with open(filename, 'wb') as f:\n",
    "        # for each of our times series, there is one JSON line\n",
    "        for country in df['Country']:\n",
    "            json_line = json.dumps(series_to_json_obj(country,\n",
    "                                                      norm_covid_cases_dict, \n",
    "                                                      covid_static_series_dict, \n",
    "                                                      covid_temp_series_dict, \n",
    "                                                      covid_ld_series_dict, \n",
    "                                                      train,\n",
    "                                                      prediction_length)) + '\\n'\n",
    "            if country in norm_sars_cases_dict:\n",
    "                json_line = json.dumps(series_to_json_obj(country,\n",
    "                                                          norm_sars_cases_dict, \n",
    "                                                          sars_static_series_dict, \n",
    "                                                          sars_temp_series_dict, \n",
    "                                                          sars_ld_series_dict, \n",
    "                                                          train,\n",
    "                                                          prediction_length)) + '\\n'\n",
    "            if country in norm_ebola_cases_dict:\n",
    "                json_line = json.dumps(series_to_json_obj(country,\n",
    "                                                          norm_ebola_cases_dict, \n",
    "                                                          ebola_static_series_dict, \n",
    "                                                          ebola_temp_series_dict, \n",
    "                                                          ebola_ld_series_dict, \n",
    "                                                          train,\n",
    "                                                          prediction_length)) + '\\n'    \n",
    "            json_line = json_line.encode('utf-8')\n",
    "            f.write(json_line)\n",
    "    print(filename + ' saved.')"
   ]
  },
  {
   "cell_type": "code",
   "execution_count": 38,
   "metadata": {},
   "outputs": [],
   "source": [
    "# save this data to a local directory\n",
    "data_dir = 'json_data'\n",
    "\n",
    "# make data dir, if it does not exist\n",
    "if not os.path.exists(data_dir):\n",
    "    os.makedirs(data_dir)"
   ]
  },
  {
   "cell_type": "code",
   "execution_count": 46,
   "metadata": {},
   "outputs": [
    {
     "name": "stdout",
     "output_type": "stream",
     "text": [
      "json_data/train.json saved.\n",
      "json_data/test.json saved.\n"
     ]
    }
   ],
   "source": [
    "# directories to save train/test data\n",
    "train_path = os.path.join(data_dir, 'train.json')\n",
    "test_path = os.path.join(data_dir, 'test.json')\n",
    "\n",
    "prediction_length = 7\n",
    "\n",
    "# write train/test JSON files\n",
    "write_cases_json_dataset(train_path, df, train=True, prediction_length=prediction_length)  \n",
    "write_cases_json_dataset(test_path, df, train=False, prediction_length=None)        "
   ]
  },
  {
   "cell_type": "markdown",
   "metadata": {},
   "source": [
    "---\n",
    "## Uploading Data to S3\n"
   ]
  },
  {
   "cell_type": "code",
   "execution_count": 58,
   "metadata": {},
   "outputs": [],
   "source": [
    "# suggested that you set prefixes for directories in S3\n",
    "prefix = 'sagemaker/forecasting'\n",
    "path_train = '{}/{}'.format(prefix, 'train.json')\n",
    "path_test = '{}/{}'.format(prefix, 'test.json')\n",
    "\n",
    "# upload data to S3, and save unique locations\n",
    "boto3.Session().resource('s3').Bucket(bucket_name).upload_file('json_data/train.json', path_train)\n",
    "boto3.Session().resource('s3').Bucket(bucket_name).upload_file('json_data/test.json', path_test)"
   ]
  },
  {
   "cell_type": "code",
   "execution_count": 59,
   "metadata": {},
   "outputs": [
    {
     "name": "stdout",
     "output_type": "stream",
     "text": [
      "Training data is stored in: s3://sagemaker-eu-west-1-622694881594/sagemaker/forecasting/train.json\n",
      "Test data is stored in: s3://sagemaker-eu-west-1-622694881594/sagemaker/forecasting/test.json\n"
     ]
    }
   ],
   "source": [
    "train_path = \"s3://sagemaker-eu-west-1-622694881594/sagemaker/forecasting/train.json\"\n",
    "test_path = \"s3://sagemaker-eu-west-1-622694881594/sagemaker/forecasting/test.json\"\n",
    "\n",
    "print('Training data is stored in: '+ train_path)\n",
    "print('Test data is stored in: '+ test_path)"
   ]
  },
  {
   "cell_type": "markdown",
   "metadata": {},
   "source": [
    "---\n",
    "# Training and Deploying a DeepAR Estimator\n",
    "\n",
    "The estimator object is instantiated with an 'ml.c4.xlarge' instance, and uses the current role and session defined previously for the training of the PCA model. Here, the hyperparameters are also set for the training process, with the frequency the only unchangeable variable indicating that the time series is daily."
   ]
  },
  {
   "cell_type": "code",
   "execution_count": 49,
   "metadata": {},
   "outputs": [],
   "source": [
    "from sagemaker.amazon.amazon_estimator import get_image_uri\n",
    "\n",
    "image_name = get_image_uri(boto3.Session().region_name, # get the region\n",
    "                           'forecasting-deepar') # specify image"
   ]
  },
  {
   "cell_type": "code",
   "execution_count": 54,
   "metadata": {},
   "outputs": [],
   "source": [
    "from sagemaker.estimator import Estimator\n",
    "sagemaker_session = sagemaker.Session()\n",
    "\n",
    "# instantiate a DeepAR estimator\n",
    "estimator = Estimator(image_name,\n",
    "                      role,\n",
    "                      train_instance_count=1,\n",
    "                      train_instance_type='ml.c4.xlarge',\n",
    "                      sagemaker_session=sagemaker_session)"
   ]
  },
  {
   "cell_type": "code",
   "execution_count": 55,
   "metadata": {},
   "outputs": [],
   "source": [
    "freq='D'\n",
    "context_length=7\n",
    "prediction_length=7\n",
    "hyperparameters = {\n",
    "    \"epochs\": \"50\",\n",
    "    \"time_freq\": freq,\n",
    "    \"prediction_length\": str(prediction_length),\n",
    "    \"context_length\": str(context_length),\n",
    "    \"num_cells\": \"50\",\n",
    "    \"num_dynamic_feat\": \"auto\",\n",
    "    \"num_layers\": \"3\",\n",
    "    \"mini_batch_size\": \"128\",\n",
    "    \"learning_rate\": \"0.001\",\n",
    "    \"early_stopping_patience\": \"10\"\n",
    "}"
   ]
  },
  {
   "cell_type": "code",
   "execution_count": 56,
   "metadata": {},
   "outputs": [],
   "source": [
    "estimator.set_hyperparameters(**hyperparameters)"
   ]
  },
  {
   "cell_type": "code",
   "execution_count": 60,
   "metadata": {},
   "outputs": [
    {
     "name": "stdout",
     "output_type": "stream",
     "text": [
      "2020-04-26 00:01:58 Starting - Starting the training job...\n",
      "2020-04-26 00:01:59 Starting - Launching requested ML instances......\n",
      "2020-04-26 00:02:59 Starting - Preparing the instances for training......\n",
      "2020-04-26 00:04:23 Downloading - Downloading input data\n",
      "2020-04-26 00:04:23 Training - Downloading the training image..\u001b[34mArguments: train\u001b[0m\n",
      "\u001b[34m[04/26/2020 00:04:39 INFO 140482584008512] Reading default configuration from /opt/amazon/lib/python2.7/site-packages/algorithm/resources/default-input.json: {u'num_dynamic_feat': u'auto', u'dropout_rate': u'0.10', u'mini_batch_size': u'128', u'test_quantiles': u'[0.1, 0.2, 0.3, 0.4, 0.5, 0.6, 0.7, 0.8, 0.9]', u'_tuning_objective_metric': u'', u'_num_gpus': u'auto', u'num_eval_samples': u'100', u'learning_rate': u'0.001', u'num_cells': u'40', u'num_layers': u'2', u'embedding_dimension': u'10', u'_kvstore': u'auto', u'_num_kv_servers': u'auto', u'cardinality': u'auto', u'likelihood': u'student-t', u'early_stopping_patience': u''}\u001b[0m\n",
      "\u001b[34m[04/26/2020 00:04:39 INFO 140482584008512] Reading provided configuration from /opt/ml/input/config/hyperparameters.json: {u'num_dynamic_feat': u'auto', u'learning_rate': u'0.001', u'num_cells': u'50', u'prediction_length': u'7', u'epochs': u'50', u'time_freq': u'D', u'context_length': u'7', u'num_layers': u'3', u'mini_batch_size': u'128', u'early_stopping_patience': u'10'}\u001b[0m\n",
      "\u001b[34m[04/26/2020 00:04:39 INFO 140482584008512] Final configuration: {u'dropout_rate': u'0.10', u'test_quantiles': u'[0.1, 0.2, 0.3, 0.4, 0.5, 0.6, 0.7, 0.8, 0.9]', u'_tuning_objective_metric': u'', u'num_eval_samples': u'100', u'learning_rate': u'0.001', u'num_layers': u'3', u'epochs': u'50', u'embedding_dimension': u'10', u'num_cells': u'50', u'_num_kv_servers': u'auto', u'mini_batch_size': u'128', u'likelihood': u'student-t', u'num_dynamic_feat': u'auto', u'cardinality': u'auto', u'_num_gpus': u'auto', u'prediction_length': u'7', u'time_freq': u'D', u'context_length': u'7', u'_kvstore': u'auto', u'early_stopping_patience': u'10'}\u001b[0m\n",
      "\u001b[34mProcess 1 is a worker.\u001b[0m\n",
      "\u001b[34m[04/26/2020 00:04:39 INFO 140482584008512] Detected entry point for worker worker\u001b[0m\n",
      "\u001b[34m[04/26/2020 00:04:39 INFO 140482584008512] Using early stopping with patience 10\u001b[0m\n",
      "\u001b[34m[04/26/2020 00:04:39 INFO 140482584008512] [cardinality=auto] `cat` field was NOT found in the file `/opt/ml/input/data/train/train.json` and will NOT be used for training.\u001b[0m\n",
      "\u001b[34m[04/26/2020 00:04:39 INFO 140482584008512] [num_dynamic_feat=auto] `dynamic_feat` field was found in the file `/opt/ml/input/data/train/train.json` and will be used for training.\u001b[0m\n",
      "\u001b[34m[04/26/2020 00:04:39 INFO 140482584008512] [num_dynamic_feat=auto] Inferred value of num_dynamic_feat=8 from dataset.\u001b[0m\n",
      "\u001b[34m[04/26/2020 00:04:39 INFO 140482584008512] Training set statistics:\u001b[0m\n",
      "\u001b[34m[04/26/2020 00:04:39 INFO 140482584008512] Real time series\u001b[0m\n",
      "\u001b[34m[04/26/2020 00:04:39 INFO 140482584008512] number of time series: 182\u001b[0m\n",
      "\u001b[34m[04/26/2020 00:04:39 INFO 140482584008512] number of observations: 8783\u001b[0m\n",
      "\u001b[34m[04/26/2020 00:04:39 INFO 140482584008512] mean target length: 48\u001b[0m\n",
      "\u001b[34m[04/26/2020 00:04:39 INFO 140482584008512] min/mean/max target: 0.000731840613298/243.343917485/10956.8808594\u001b[0m\n",
      "\u001b[34m[04/26/2020 00:04:39 INFO 140482584008512] mean abs(target): 243.343917485\u001b[0m\n",
      "\u001b[34m[04/26/2020 00:04:39 INFO 140482584008512] contains missing values: no\u001b[0m\n",
      "\u001b[34m[04/26/2020 00:04:39 INFO 140482584008512] Small number of time series. Doing 8 passes over dataset with prob 0.879120879121 per epoch.\u001b[0m\n",
      "\u001b[34m[04/26/2020 00:04:39 INFO 140482584008512] Test set statistics:\u001b[0m\n",
      "\u001b[34m[04/26/2020 00:04:39 INFO 140482584008512] Real time series\u001b[0m\n",
      "\u001b[34m[04/26/2020 00:04:39 INFO 140482584008512] number of time series: 182\u001b[0m\n",
      "\u001b[34m[04/26/2020 00:04:39 INFO 140482584008512] number of observations: 10057\u001b[0m\n",
      "\u001b[34m[04/26/2020 00:04:39 INFO 140482584008512] mean target length: 55\u001b[0m\n",
      "\u001b[34m[04/26/2020 00:04:39 INFO 140482584008512] min/mean/max target: 0.000731840613298/287.627837087/14057.8857422\u001b[0m\n",
      "\u001b[34m[04/26/2020 00:04:39 INFO 140482584008512] mean abs(target): 287.627837087\u001b[0m\n",
      "\u001b[34m[04/26/2020 00:04:39 INFO 140482584008512] contains missing values: no\u001b[0m\n",
      "\u001b[34m[04/26/2020 00:04:39 INFO 140482584008512] nvidia-smi took: 0.0251941680908 secs to identify 0 gpus\u001b[0m\n",
      "\u001b[34m[04/26/2020 00:04:39 INFO 140482584008512] Number of GPUs being used: 0\u001b[0m\n",
      "\u001b[34m[04/26/2020 00:04:39 INFO 140482584008512] Create Store: local\u001b[0m\n",
      "\u001b[34m#metrics {\"Metrics\": {\"get_graph.time\": {\"count\": 1, \"max\": 42.40012168884277, \"sum\": 42.40012168884277, \"min\": 42.40012168884277}}, \"EndTime\": 1587859480.038793, \"Dimensions\": {\"Host\": \"algo-1\", \"Operation\": \"training\", \"Algorithm\": \"AWS/DeepAR\"}, \"StartTime\": 1587859479.995564}\n",
      "\u001b[0m\n",
      "\u001b[34m[04/26/2020 00:04:40 INFO 140482584008512] Number of GPUs being used: 0\u001b[0m\n",
      "\u001b[34m#metrics {\"Metrics\": {\"initialize.time\": {\"count\": 1, \"max\": 119.1411018371582, \"sum\": 119.1411018371582, \"min\": 119.1411018371582}}, \"EndTime\": 1587859480.114825, \"Dimensions\": {\"Host\": \"algo-1\", \"Operation\": \"training\", \"Algorithm\": \"AWS/DeepAR\"}, \"StartTime\": 1587859480.038859}\n",
      "\u001b[0m\n",
      "\u001b[34m[04/26/2020 00:04:40 INFO 140482584008512] Epoch[0] Batch[0] avg_epoch_loss=5.367486\u001b[0m\n",
      "\u001b[34m[04/26/2020 00:04:40 INFO 140482584008512] #quality_metric: host=algo-1, epoch=0, batch=0 train loss <loss>=5.36748552322\u001b[0m\n",
      "\u001b[34m[04/26/2020 00:04:41 INFO 140482584008512] Epoch[0] Batch[5] avg_epoch_loss=4.504318\u001b[0m\n",
      "\u001b[34m[04/26/2020 00:04:41 INFO 140482584008512] #quality_metric: host=algo-1, epoch=0, batch=5 train loss <loss>=4.50431839625\u001b[0m\n",
      "\u001b[34m[04/26/2020 00:04:41 INFO 140482584008512] Epoch[0] Batch [5]#011Speed: 2083.05 samples/sec#011loss=4.504318\u001b[0m\n",
      "\u001b[34m[04/26/2020 00:04:41 INFO 140482584008512] Epoch[0] Batch[10] avg_epoch_loss=3.929663\u001b[0m\n",
      "\u001b[34m[04/26/2020 00:04:41 INFO 140482584008512] #quality_metric: host=algo-1, epoch=0, batch=10 train loss <loss>=3.24007632732\u001b[0m\n",
      "\u001b[34m[04/26/2020 00:04:41 INFO 140482584008512] Epoch[0] Batch [10]#011Speed: 1616.07 samples/sec#011loss=3.240076\u001b[0m\n",
      "\u001b[34m[04/26/2020 00:04:41 INFO 140482584008512] processed a total of 1358 examples\u001b[0m\n",
      "\u001b[34m#metrics {\"Metrics\": {\"epochs\": {\"count\": 1, \"max\": 50, \"sum\": 50.0, \"min\": 50}, \"update.time\": {\"count\": 1, \"max\": 1381.5240859985352, \"sum\": 1381.5240859985352, \"min\": 1381.5240859985352}}, \"EndTime\": 1587859481.496489, \"Dimensions\": {\"Host\": \"algo-1\", \"Operation\": \"training\", \"Algorithm\": \"AWS/DeepAR\"}, \"StartTime\": 1587859480.114889}\n",
      "\u001b[0m\n",
      "\u001b[34m[04/26/2020 00:04:41 INFO 140482584008512] #throughput_metric: host=algo-1, train throughput=982.854312548 records/second\u001b[0m\n",
      "\u001b[34m[04/26/2020 00:04:41 INFO 140482584008512] #progress_metric: host=algo-1, completed 2 % of epochs\u001b[0m\n",
      "\u001b[34m[04/26/2020 00:04:41 INFO 140482584008512] #quality_metric: host=algo-1, epoch=0, train loss <loss>=3.92966291037\u001b[0m\n",
      "\u001b[34m[04/26/2020 00:04:41 INFO 140482584008512] best epoch loss so far\u001b[0m\n",
      "\u001b[34m[04/26/2020 00:04:41 INFO 140482584008512] Saved checkpoint to \"/opt/ml/model/state_e8e74a08-6563-43bd-b534-ba2d66a75565-0000.params\"\u001b[0m\n",
      "\u001b[34m#metrics {\"Metrics\": {\"state.serialize.time\": {\"count\": 1, \"max\": 17.260074615478516, \"sum\": 17.260074615478516, \"min\": 17.260074615478516}}, \"EndTime\": 1587859481.514384, \"Dimensions\": {\"Host\": \"algo-1\", \"Operation\": \"training\", \"Algorithm\": \"AWS/DeepAR\"}, \"StartTime\": 1587859481.496617}\n",
      "\u001b[0m\n",
      "\u001b[34m[04/26/2020 00:04:42 INFO 140482584008512] Epoch[1] Batch[0] avg_epoch_loss=3.644000\u001b[0m\n",
      "\u001b[34m[04/26/2020 00:04:42 INFO 140482584008512] #quality_metric: host=algo-1, epoch=1, batch=0 train loss <loss>=3.64399981499\u001b[0m\n",
      "\u001b[34m[04/26/2020 00:04:42 INFO 140482584008512] Epoch[1] Batch[5] avg_epoch_loss=3.723846\u001b[0m\n",
      "\u001b[34m[04/26/2020 00:04:42 INFO 140482584008512] #quality_metric: host=algo-1, epoch=1, batch=5 train loss <loss>=3.72384603818\u001b[0m\n",
      "\u001b[34m[04/26/2020 00:04:42 INFO 140482584008512] Epoch[1] Batch [5]#011Speed: 2060.60 samples/sec#011loss=3.723846\u001b[0m\n",
      "\u001b[34m[04/26/2020 00:04:42 INFO 140482584008512] Epoch[1] Batch[10] avg_epoch_loss=3.766610\u001b[0m\n",
      "\u001b[34m[04/26/2020 00:04:42 INFO 140482584008512] #quality_metric: host=algo-1, epoch=1, batch=10 train loss <loss>=3.81792631149\u001b[0m\n",
      "\u001b[34m[04/26/2020 00:04:42 INFO 140482584008512] Epoch[1] Batch [10]#011Speed: 1701.60 samples/sec#011loss=3.817926\u001b[0m\n",
      "\u001b[34m[04/26/2020 00:04:42 INFO 140482584008512] processed a total of 1343 examples\u001b[0m\n",
      "\u001b[34m#metrics {\"Metrics\": {\"update.time\": {\"count\": 1, \"max\": 1175.8790016174316, \"sum\": 1175.8790016174316, \"min\": 1175.8790016174316}}, \"EndTime\": 1587859482.690366, \"Dimensions\": {\"Host\": \"algo-1\", \"Operation\": \"training\", \"Algorithm\": \"AWS/DeepAR\"}, \"StartTime\": 1587859481.514434}\n",
      "\u001b[0m\n",
      "\u001b[34m[04/26/2020 00:04:42 INFO 140482584008512] #throughput_metric: host=algo-1, train throughput=1142.01733822 records/second\u001b[0m\n",
      "\u001b[34m[04/26/2020 00:04:42 INFO 140482584008512] #progress_metric: host=algo-1, completed 4 % of epochs\u001b[0m\n",
      "\u001b[34m[04/26/2020 00:04:42 INFO 140482584008512] #quality_metric: host=algo-1, epoch=1, train loss <loss>=3.76660979878\u001b[0m\n",
      "\u001b[34m[04/26/2020 00:04:42 INFO 140482584008512] best epoch loss so far\u001b[0m\n",
      "\u001b[34m[04/26/2020 00:04:42 INFO 140482584008512] Saved checkpoint to \"/opt/ml/model/state_c7e9eddb-5348-4544-9c5e-6f67a61aa1af-0000.params\"\u001b[0m\n",
      "\u001b[34m#metrics {\"Metrics\": {\"state.serialize.time\": {\"count\": 1, \"max\": 15.15507698059082, \"sum\": 15.15507698059082, \"min\": 15.15507698059082}}, \"EndTime\": 1587859482.706034, \"Dimensions\": {\"Host\": \"algo-1\", \"Operation\": \"training\", \"Algorithm\": \"AWS/DeepAR\"}, \"StartTime\": 1587859482.690443}\n",
      "\u001b[0m\n",
      "\u001b[34m[04/26/2020 00:04:43 INFO 140482584008512] Epoch[2] Batch[0] avg_epoch_loss=3.646052\u001b[0m\n",
      "\u001b[34m[04/26/2020 00:04:43 INFO 140482584008512] #quality_metric: host=algo-1, epoch=2, batch=0 train loss <loss>=3.64605212212\u001b[0m\n",
      "\u001b[34m[04/26/2020 00:04:43 INFO 140482584008512] Epoch[2] Batch[5] avg_epoch_loss=3.540101\u001b[0m\n",
      "\u001b[34m[04/26/2020 00:04:43 INFO 140482584008512] #quality_metric: host=algo-1, epoch=2, batch=5 train loss <loss>=3.54010148843\u001b[0m\n",
      "\u001b[34m[04/26/2020 00:04:43 INFO 140482584008512] Epoch[2] Batch [5]#011Speed: 2101.41 samples/sec#011loss=3.540101\u001b[0m\n"
     ]
    },
    {
     "name": "stdout",
     "output_type": "stream",
     "text": [
      "\n",
      "2020-04-26 00:04:36 Training - Training image download completed. Training in progress.\u001b[34m[04/26/2020 00:04:43 INFO 140482584008512] Epoch[2] Batch[10] avg_epoch_loss=3.612047\u001b[0m\n",
      "\u001b[34m[04/26/2020 00:04:43 INFO 140482584008512] #quality_metric: host=algo-1, epoch=2, batch=10 train loss <loss>=3.6983812809\u001b[0m\n",
      "\u001b[34m[04/26/2020 00:04:43 INFO 140482584008512] Epoch[2] Batch [10]#011Speed: 1491.81 samples/sec#011loss=3.698381\u001b[0m\n",
      "\u001b[34m[04/26/2020 00:04:43 INFO 140482584008512] processed a total of 1302 examples\u001b[0m\n",
      "\u001b[34m#metrics {\"Metrics\": {\"update.time\": {\"count\": 1, \"max\": 1209.2158794403076, \"sum\": 1209.2158794403076, \"min\": 1209.2158794403076}}, \"EndTime\": 1587859483.915365, \"Dimensions\": {\"Host\": \"algo-1\", \"Operation\": \"training\", \"Algorithm\": \"AWS/DeepAR\"}, \"StartTime\": 1587859482.70609}\n",
      "\u001b[0m\n",
      "\u001b[34m[04/26/2020 00:04:43 INFO 140482584008512] #throughput_metric: host=algo-1, train throughput=1076.53575012 records/second\u001b[0m\n",
      "\u001b[34m[04/26/2020 00:04:43 INFO 140482584008512] #progress_metric: host=algo-1, completed 6 % of epochs\u001b[0m\n",
      "\u001b[34m[04/26/2020 00:04:43 INFO 140482584008512] #quality_metric: host=algo-1, epoch=2, train loss <loss>=3.61204684864\u001b[0m\n",
      "\u001b[34m[04/26/2020 00:04:43 INFO 140482584008512] best epoch loss so far\u001b[0m\n",
      "\u001b[34m[04/26/2020 00:04:43 INFO 140482584008512] Saved checkpoint to \"/opt/ml/model/state_186ac09b-c1d7-4e04-bb64-d203d98d4413-0000.params\"\u001b[0m\n",
      "\u001b[34m#metrics {\"Metrics\": {\"state.serialize.time\": {\"count\": 1, \"max\": 18.914222717285156, \"sum\": 18.914222717285156, \"min\": 18.914222717285156}}, \"EndTime\": 1587859483.935563, \"Dimensions\": {\"Host\": \"algo-1\", \"Operation\": \"training\", \"Algorithm\": \"AWS/DeepAR\"}, \"StartTime\": 1587859483.915543}\n",
      "\u001b[0m\n",
      "\u001b[34m[04/26/2020 00:04:44 INFO 140482584008512] Epoch[3] Batch[0] avg_epoch_loss=2.944117\u001b[0m\n",
      "\u001b[34m[04/26/2020 00:04:44 INFO 140482584008512] #quality_metric: host=algo-1, epoch=3, batch=0 train loss <loss>=2.94411659241\u001b[0m\n",
      "\u001b[34m[04/26/2020 00:04:44 INFO 140482584008512] Epoch[3] Batch[5] avg_epoch_loss=3.169411\u001b[0m\n",
      "\u001b[34m[04/26/2020 00:04:44 INFO 140482584008512] #quality_metric: host=algo-1, epoch=3, batch=5 train loss <loss>=3.1694111824\u001b[0m\n",
      "\u001b[34m[04/26/2020 00:04:44 INFO 140482584008512] Epoch[3] Batch [5]#011Speed: 1619.67 samples/sec#011loss=3.169411\u001b[0m\n",
      "\u001b[34m[04/26/2020 00:04:45 INFO 140482584008512] Epoch[3] Batch[10] avg_epoch_loss=3.069943\u001b[0m\n",
      "\u001b[34m[04/26/2020 00:04:45 INFO 140482584008512] #quality_metric: host=algo-1, epoch=3, batch=10 train loss <loss>=2.95058012009\u001b[0m\n",
      "\u001b[34m[04/26/2020 00:04:45 INFO 140482584008512] Epoch[3] Batch [10]#011Speed: 1365.79 samples/sec#011loss=2.950580\u001b[0m\n",
      "\u001b[34m[04/26/2020 00:04:45 INFO 140482584008512] processed a total of 1337 examples\u001b[0m\n",
      "\u001b[34m#metrics {\"Metrics\": {\"update.time\": {\"count\": 1, \"max\": 1458.1670761108398, \"sum\": 1458.1670761108398, \"min\": 1458.1670761108398}}, \"EndTime\": 1587859485.393853, \"Dimensions\": {\"Host\": \"algo-1\", \"Operation\": \"training\", \"Algorithm\": \"AWS/DeepAR\"}, \"StartTime\": 1587859483.935622}\n",
      "\u001b[0m\n",
      "\u001b[34m[04/26/2020 00:04:45 INFO 140482584008512] #throughput_metric: host=algo-1, train throughput=916.792555777 records/second\u001b[0m\n",
      "\u001b[34m[04/26/2020 00:04:45 INFO 140482584008512] #progress_metric: host=algo-1, completed 8 % of epochs\u001b[0m\n",
      "\u001b[34m[04/26/2020 00:04:45 INFO 140482584008512] #quality_metric: host=algo-1, epoch=3, train loss <loss>=3.06994251771\u001b[0m\n",
      "\u001b[34m[04/26/2020 00:04:45 INFO 140482584008512] best epoch loss so far\u001b[0m\n",
      "\u001b[34m[04/26/2020 00:04:45 INFO 140482584008512] Saved checkpoint to \"/opt/ml/model/state_56161ec6-83f7-4a54-bb8f-6bec207786c4-0000.params\"\u001b[0m\n",
      "\u001b[34m#metrics {\"Metrics\": {\"state.serialize.time\": {\"count\": 1, \"max\": 14.58597183227539, \"sum\": 14.58597183227539, \"min\": 14.58597183227539}}, \"EndTime\": 1587859485.409172, \"Dimensions\": {\"Host\": \"algo-1\", \"Operation\": \"training\", \"Algorithm\": \"AWS/DeepAR\"}, \"StartTime\": 1587859485.393986}\n",
      "\u001b[0m\n",
      "\u001b[34m[04/26/2020 00:04:45 INFO 140482584008512] Epoch[4] Batch[0] avg_epoch_loss=2.854448\u001b[0m\n",
      "\u001b[34m[04/26/2020 00:04:45 INFO 140482584008512] #quality_metric: host=algo-1, epoch=4, batch=0 train loss <loss>=2.85444808006\u001b[0m\n",
      "\u001b[34m[04/26/2020 00:04:46 INFO 140482584008512] Epoch[4] Batch[5] avg_epoch_loss=2.977284\u001b[0m\n",
      "\u001b[34m[04/26/2020 00:04:46 INFO 140482584008512] #quality_metric: host=algo-1, epoch=4, batch=5 train loss <loss>=2.97728375594\u001b[0m\n",
      "\u001b[34m[04/26/2020 00:04:46 INFO 140482584008512] Epoch[4] Batch [5]#011Speed: 1577.37 samples/sec#011loss=2.977284\u001b[0m\n",
      "\u001b[34m[04/26/2020 00:04:46 INFO 140482584008512] Epoch[4] Batch[10] avg_epoch_loss=2.928583\u001b[0m\n",
      "\u001b[34m[04/26/2020 00:04:46 INFO 140482584008512] #quality_metric: host=algo-1, epoch=4, batch=10 train loss <loss>=2.87014117241\u001b[0m\n",
      "\u001b[34m[04/26/2020 00:04:46 INFO 140482584008512] Epoch[4] Batch [10]#011Speed: 1292.75 samples/sec#011loss=2.870141\u001b[0m\n",
      "\u001b[34m[04/26/2020 00:04:46 INFO 140482584008512] processed a total of 1351 examples\u001b[0m\n",
      "\u001b[34m#metrics {\"Metrics\": {\"update.time\": {\"count\": 1, \"max\": 1370.877981185913, \"sum\": 1370.877981185913, \"min\": 1370.877981185913}}, \"EndTime\": 1587859486.780238, \"Dimensions\": {\"Host\": \"algo-1\", \"Operation\": \"training\", \"Algorithm\": \"AWS/DeepAR\"}, \"StartTime\": 1587859485.409285}\n",
      "\u001b[0m\n",
      "\u001b[34m[04/26/2020 00:04:46 INFO 140482584008512] #throughput_metric: host=algo-1, train throughput=985.410700023 records/second\u001b[0m\n",
      "\u001b[34m[04/26/2020 00:04:46 INFO 140482584008512] #progress_metric: host=algo-1, completed 10 % of epochs\u001b[0m\n",
      "\u001b[34m[04/26/2020 00:04:46 INFO 140482584008512] #quality_metric: host=algo-1, epoch=4, train loss <loss>=2.92858258161\u001b[0m\n",
      "\u001b[34m[04/26/2020 00:04:46 INFO 140482584008512] best epoch loss so far\u001b[0m\n",
      "\u001b[34m[04/26/2020 00:04:46 INFO 140482584008512] Saved checkpoint to \"/opt/ml/model/state_b4166dc8-65a0-4eb4-a5bc-96e7d659e003-0000.params\"\u001b[0m\n",
      "\u001b[34m#metrics {\"Metrics\": {\"state.serialize.time\": {\"count\": 1, \"max\": 12.674093246459961, \"sum\": 12.674093246459961, \"min\": 12.674093246459961}}, \"EndTime\": 1587859486.793585, \"Dimensions\": {\"Host\": \"algo-1\", \"Operation\": \"training\", \"Algorithm\": \"AWS/DeepAR\"}, \"StartTime\": 1587859486.780317}\n",
      "\u001b[0m\n",
      "\u001b[34m[04/26/2020 00:04:47 INFO 140482584008512] Epoch[5] Batch[0] avg_epoch_loss=3.032342\u001b[0m\n",
      "\u001b[34m[04/26/2020 00:04:47 INFO 140482584008512] #quality_metric: host=algo-1, epoch=5, batch=0 train loss <loss>=3.03234195709\u001b[0m\n",
      "\u001b[34m[04/26/2020 00:04:47 INFO 140482584008512] Epoch[5] Batch[5] avg_epoch_loss=2.987189\u001b[0m\n",
      "\u001b[34m[04/26/2020 00:04:47 INFO 140482584008512] #quality_metric: host=algo-1, epoch=5, batch=5 train loss <loss>=2.98718945185\u001b[0m\n",
      "\u001b[34m[04/26/2020 00:04:47 INFO 140482584008512] Epoch[5] Batch [5]#011Speed: 2071.77 samples/sec#011loss=2.987189\u001b[0m\n",
      "\u001b[34m[04/26/2020 00:04:47 INFO 140482584008512] Epoch[5] Batch[10] avg_epoch_loss=2.897563\u001b[0m\n",
      "\u001b[34m[04/26/2020 00:04:47 INFO 140482584008512] #quality_metric: host=algo-1, epoch=5, batch=10 train loss <loss>=2.79001231194\u001b[0m\n",
      "\u001b[34m[04/26/2020 00:04:47 INFO 140482584008512] Epoch[5] Batch [10]#011Speed: 1664.28 samples/sec#011loss=2.790012\u001b[0m\n",
      "\u001b[34m[04/26/2020 00:04:47 INFO 140482584008512] processed a total of 1312 examples\u001b[0m\n",
      "\u001b[34m#metrics {\"Metrics\": {\"update.time\": {\"count\": 1, \"max\": 1123.1091022491455, \"sum\": 1123.1091022491455, \"min\": 1123.1091022491455}}, \"EndTime\": 1587859487.916824, \"Dimensions\": {\"Host\": \"algo-1\", \"Operation\": \"training\", \"Algorithm\": \"AWS/DeepAR\"}, \"StartTime\": 1587859486.793652}\n",
      "\u001b[0m\n",
      "\u001b[34m[04/26/2020 00:04:47 INFO 140482584008512] #throughput_metric: host=algo-1, train throughput=1168.0537919 records/second\u001b[0m\n",
      "\u001b[34m[04/26/2020 00:04:47 INFO 140482584008512] #progress_metric: host=algo-1, completed 12 % of epochs\u001b[0m\n",
      "\u001b[34m[04/26/2020 00:04:47 INFO 140482584008512] #quality_metric: host=algo-1, epoch=5, train loss <loss>=2.89756347916\u001b[0m\n",
      "\u001b[34m[04/26/2020 00:04:47 INFO 140482584008512] best epoch loss so far\u001b[0m\n",
      "\u001b[34m[04/26/2020 00:04:47 INFO 140482584008512] Saved checkpoint to \"/opt/ml/model/state_e2feb20d-b223-4f1e-a682-587588877082-0000.params\"\u001b[0m\n",
      "\u001b[34m#metrics {\"Metrics\": {\"state.serialize.time\": {\"count\": 1, \"max\": 12.727022171020508, \"sum\": 12.727022171020508, \"min\": 12.727022171020508}}, \"EndTime\": 1587859487.930189, \"Dimensions\": {\"Host\": \"algo-1\", \"Operation\": \"training\", \"Algorithm\": \"AWS/DeepAR\"}, \"StartTime\": 1587859487.916912}\n",
      "\u001b[0m\n",
      "\u001b[34m[04/26/2020 00:04:48 INFO 140482584008512] Epoch[6] Batch[0] avg_epoch_loss=2.888434\u001b[0m\n",
      "\u001b[34m[04/26/2020 00:04:48 INFO 140482584008512] #quality_metric: host=algo-1, epoch=6, batch=0 train loss <loss>=2.88843369484\u001b[0m\n",
      "\u001b[34m[04/26/2020 00:04:48 INFO 140482584008512] Epoch[6] Batch[5] avg_epoch_loss=2.899056\u001b[0m\n",
      "\u001b[34m[04/26/2020 00:04:48 INFO 140482584008512] #quality_metric: host=algo-1, epoch=6, batch=5 train loss <loss>=2.89905556043\u001b[0m\n",
      "\u001b[34m[04/26/2020 00:04:48 INFO 140482584008512] Epoch[6] Batch [5]#011Speed: 1942.74 samples/sec#011loss=2.899056\u001b[0m\n",
      "\u001b[34m[04/26/2020 00:04:49 INFO 140482584008512] Epoch[6] Batch[10] avg_epoch_loss=2.827449\u001b[0m\n",
      "\u001b[34m[04/26/2020 00:04:49 INFO 140482584008512] #quality_metric: host=algo-1, epoch=6, batch=10 train loss <loss>=2.74152183533\u001b[0m\n",
      "\u001b[34m[04/26/2020 00:04:49 INFO 140482584008512] Epoch[6] Batch [10]#011Speed: 1460.92 samples/sec#011loss=2.741522\u001b[0m\n",
      "\u001b[34m[04/26/2020 00:04:49 INFO 140482584008512] processed a total of 1298 examples\u001b[0m\n",
      "\u001b[34m#metrics {\"Metrics\": {\"update.time\": {\"count\": 1, \"max\": 1185.333013534546, \"sum\": 1185.333013534546, \"min\": 1185.333013534546}}, \"EndTime\": 1587859489.115638, \"Dimensions\": {\"Host\": \"algo-1\", \"Operation\": \"training\", \"Algorithm\": \"AWS/DeepAR\"}, \"StartTime\": 1587859487.930243}\n",
      "\u001b[0m\n",
      "\u001b[34m[04/26/2020 00:04:49 INFO 140482584008512] #throughput_metric: host=algo-1, train throughput=1094.92890412 records/second\u001b[0m\n",
      "\u001b[34m[04/26/2020 00:04:49 INFO 140482584008512] #progress_metric: host=algo-1, completed 14 % of epochs\u001b[0m\n",
      "\u001b[34m[04/26/2020 00:04:49 INFO 140482584008512] #quality_metric: host=algo-1, epoch=6, train loss <loss>=2.82744932175\u001b[0m\n",
      "\u001b[34m[04/26/2020 00:04:49 INFO 140482584008512] best epoch loss so far\u001b[0m\n",
      "\u001b[34m[04/26/2020 00:04:49 INFO 140482584008512] Saved checkpoint to \"/opt/ml/model/state_e2cbe810-c26a-410e-8692-b504c3687ee1-0000.params\"\u001b[0m\n",
      "\u001b[34m#metrics {\"Metrics\": {\"state.serialize.time\": {\"count\": 1, \"max\": 11.526823043823242, \"sum\": 11.526823043823242, \"min\": 11.526823043823242}}, \"EndTime\": 1587859489.127862, \"Dimensions\": {\"Host\": \"algo-1\", \"Operation\": \"training\", \"Algorithm\": \"AWS/DeepAR\"}, \"StartTime\": 1587859489.115728}\n",
      "\u001b[0m\n",
      "\u001b[34m[04/26/2020 00:04:49 INFO 140482584008512] Epoch[7] Batch[0] avg_epoch_loss=3.161451\u001b[0m\n",
      "\u001b[34m[04/26/2020 00:04:49 INFO 140482584008512] #quality_metric: host=algo-1, epoch=7, batch=0 train loss <loss>=3.1614511013\u001b[0m\n",
      "\u001b[34m[04/26/2020 00:04:49 INFO 140482584008512] Epoch[7] Batch[5] avg_epoch_loss=2.630867\u001b[0m\n",
      "\u001b[34m[04/26/2020 00:04:49 INFO 140482584008512] #quality_metric: host=algo-1, epoch=7, batch=5 train loss <loss>=2.63086672624\u001b[0m\n",
      "\u001b[34m[04/26/2020 00:04:49 INFO 140482584008512] Epoch[7] Batch [5]#011Speed: 1841.77 samples/sec#011loss=2.630867\u001b[0m\n",
      "\u001b[34m[04/26/2020 00:04:50 INFO 140482584008512] Epoch[7] Batch[10] avg_epoch_loss=2.697641\u001b[0m\n",
      "\u001b[34m[04/26/2020 00:04:50 INFO 140482584008512] #quality_metric: host=algo-1, epoch=7, batch=10 train loss <loss>=2.77777104378\u001b[0m\n",
      "\u001b[34m[04/26/2020 00:04:50 INFO 140482584008512] Epoch[7] Batch [10]#011Speed: 1637.28 samples/sec#011loss=2.777771\u001b[0m\n",
      "\u001b[34m[04/26/2020 00:04:50 INFO 140482584008512] processed a total of 1308 examples\u001b[0m\n",
      "\u001b[34m#metrics {\"Metrics\": {\"update.time\": {\"count\": 1, \"max\": 1194.0557956695557, \"sum\": 1194.0557956695557, \"min\": 1194.0557956695557}}, \"EndTime\": 1587859490.322037, \"Dimensions\": {\"Host\": \"algo-1\", \"Operation\": \"training\", \"Algorithm\": \"AWS/DeepAR\"}, \"StartTime\": 1587859489.12792}\n",
      "\u001b[0m\n",
      "\u001b[34m[04/26/2020 00:04:50 INFO 140482584008512] #throughput_metric: host=algo-1, train throughput=1095.28841815 records/second\u001b[0m\n",
      "\u001b[34m[04/26/2020 00:04:50 INFO 140482584008512] #progress_metric: host=algo-1, completed 16 % of epochs\u001b[0m\n",
      "\u001b[34m[04/26/2020 00:04:50 INFO 140482584008512] #quality_metric: host=algo-1, epoch=7, train loss <loss>=2.69764141603\u001b[0m\n",
      "\u001b[34m[04/26/2020 00:04:50 INFO 140482584008512] best epoch loss so far\u001b[0m\n",
      "\u001b[34m[04/26/2020 00:04:50 INFO 140482584008512] Saved checkpoint to \"/opt/ml/model/state_7e64d02d-e0d5-40ec-90fa-a2f3ef6d2d3c-0000.params\"\u001b[0m\n",
      "\u001b[34m#metrics {\"Metrics\": {\"state.serialize.time\": {\"count\": 1, \"max\": 12.243032455444336, \"sum\": 12.243032455444336, \"min\": 12.243032455444336}}, \"EndTime\": 1587859490.334989, \"Dimensions\": {\"Host\": \"algo-1\", \"Operation\": \"training\", \"Algorithm\": \"AWS/DeepAR\"}, \"StartTime\": 1587859490.322147}\n",
      "\u001b[0m\n",
      "\u001b[34m[04/26/2020 00:04:50 INFO 140482584008512] Epoch[8] Batch[0] avg_epoch_loss=2.464694\u001b[0m\n",
      "\u001b[34m[04/26/2020 00:04:50 INFO 140482584008512] #quality_metric: host=algo-1, epoch=8, batch=0 train loss <loss>=2.46469449997\u001b[0m\n",
      "\u001b[34m[04/26/2020 00:04:51 INFO 140482584008512] Epoch[8] Batch[5] avg_epoch_loss=2.407425\u001b[0m\n",
      "\u001b[34m[04/26/2020 00:04:51 INFO 140482584008512] #quality_metric: host=algo-1, epoch=8, batch=5 train loss <loss>=2.40742492676\u001b[0m\n",
      "\u001b[34m[04/26/2020 00:04:51 INFO 140482584008512] Epoch[8] Batch [5]#011Speed: 2052.14 samples/sec#011loss=2.407425\u001b[0m\n",
      "\u001b[34m[04/26/2020 00:04:51 INFO 140482584008512] Epoch[8] Batch[10] avg_epoch_loss=2.482196\u001b[0m\n",
      "\u001b[34m[04/26/2020 00:04:51 INFO 140482584008512] #quality_metric: host=algo-1, epoch=8, batch=10 train loss <loss>=2.57192225456\u001b[0m\n",
      "\u001b[34m[04/26/2020 00:04:51 INFO 140482584008512] Epoch[8] Batch [10]#011Speed: 1713.95 samples/sec#011loss=2.571922\u001b[0m\n",
      "\u001b[34m[04/26/2020 00:04:51 INFO 140482584008512] processed a total of 1316 examples\u001b[0m\n",
      "\u001b[34m#metrics {\"Metrics\": {\"update.time\": {\"count\": 1, \"max\": 1119.5878982543945, \"sum\": 1119.5878982543945, \"min\": 1119.5878982543945}}, \"EndTime\": 1587859491.454688, \"Dimensions\": {\"Host\": \"algo-1\", \"Operation\": \"training\", \"Algorithm\": \"AWS/DeepAR\"}, \"StartTime\": 1587859490.335043}\n",
      "\u001b[0m\n",
      "\u001b[34m[04/26/2020 00:04:51 INFO 140482584008512] #throughput_metric: host=algo-1, train throughput=1175.31386268 records/second\u001b[0m\n",
      "\u001b[34m[04/26/2020 00:04:51 INFO 140482584008512] #progress_metric: host=algo-1, completed 18 % of epochs\u001b[0m\n",
      "\u001b[34m[04/26/2020 00:04:51 INFO 140482584008512] #quality_metric: host=algo-1, epoch=8, train loss <loss>=2.4821964394\u001b[0m\n",
      "\u001b[34m[04/26/2020 00:04:51 INFO 140482584008512] best epoch loss so far\u001b[0m\n",
      "\u001b[34m[04/26/2020 00:04:51 INFO 140482584008512] Saved checkpoint to \"/opt/ml/model/state_8d8b6640-62ea-4345-9c87-78404ee77342-0000.params\"\u001b[0m\n",
      "\u001b[34m#metrics {\"Metrics\": {\"state.serialize.time\": {\"count\": 1, \"max\": 12.388944625854492, \"sum\": 12.388944625854492, \"min\": 12.388944625854492}}, \"EndTime\": 1587859491.467709, \"Dimensions\": {\"Host\": \"algo-1\", \"Operation\": \"training\", \"Algorithm\": \"AWS/DeepAR\"}, \"StartTime\": 1587859491.454765}\n",
      "\u001b[0m\n",
      "\u001b[34m[04/26/2020 00:04:51 INFO 140482584008512] Epoch[9] Batch[0] avg_epoch_loss=2.551677\u001b[0m\n",
      "\u001b[34m[04/26/2020 00:04:51 INFO 140482584008512] #quality_metric: host=algo-1, epoch=9, batch=0 train loss <loss>=2.55167722702\u001b[0m\n",
      "\u001b[34m[04/26/2020 00:04:52 INFO 140482584008512] Epoch[9] Batch[5] avg_epoch_loss=2.440762\u001b[0m\n",
      "\u001b[34m[04/26/2020 00:04:52 INFO 140482584008512] #quality_metric: host=algo-1, epoch=9, batch=5 train loss <loss>=2.44076234102\u001b[0m\n",
      "\u001b[34m[04/26/2020 00:04:52 INFO 140482584008512] Epoch[9] Batch [5]#011Speed: 1951.09 samples/sec#011loss=2.440762\u001b[0m\n",
      "\u001b[34m[04/26/2020 00:04:52 INFO 140482584008512] processed a total of 1256 examples\u001b[0m\n",
      "\u001b[34m#metrics {\"Metrics\": {\"update.time\": {\"count\": 1, \"max\": 1096.7121124267578, \"sum\": 1096.7121124267578, \"min\": 1096.7121124267578}}, \"EndTime\": 1587859492.564544, \"Dimensions\": {\"Host\": \"algo-1\", \"Operation\": \"training\", \"Algorithm\": \"AWS/DeepAR\"}, \"StartTime\": 1587859491.467765}\n",
      "\u001b[0m\n",
      "\u001b[34m[04/26/2020 00:04:52 INFO 140482584008512] #throughput_metric: host=algo-1, train throughput=1145.11707329 records/second\u001b[0m\n",
      "\u001b[34m[04/26/2020 00:04:52 INFO 140482584008512] #progress_metric: host=algo-1, completed 20 % of epochs\u001b[0m\n",
      "\u001b[34m[04/26/2020 00:04:52 INFO 140482584008512] #quality_metric: host=algo-1, epoch=9, train loss <loss>=2.43919130564\u001b[0m\n",
      "\u001b[34m[04/26/2020 00:04:52 INFO 140482584008512] best epoch loss so far\u001b[0m\n",
      "\u001b[34m[04/26/2020 00:04:52 INFO 140482584008512] Saved checkpoint to \"/opt/ml/model/state_cb3e9db4-ea89-4165-8c4c-661962f46b79-0000.params\"\u001b[0m\n",
      "\u001b[34m#metrics {\"Metrics\": {\"state.serialize.time\": {\"count\": 1, \"max\": 12.350082397460938, \"sum\": 12.350082397460938, \"min\": 12.350082397460938}}, \"EndTime\": 1587859492.577667, \"Dimensions\": {\"Host\": \"algo-1\", \"Operation\": \"training\", \"Algorithm\": \"AWS/DeepAR\"}, \"StartTime\": 1587859492.564623}\n",
      "\u001b[0m\n",
      "\u001b[34m[04/26/2020 00:04:53 INFO 140482584008512] Epoch[10] Batch[0] avg_epoch_loss=2.157152\u001b[0m\n",
      "\u001b[34m[04/26/2020 00:04:53 INFO 140482584008512] #quality_metric: host=algo-1, epoch=10, batch=0 train loss <loss>=2.15715241432\u001b[0m\n",
      "\u001b[34m[04/26/2020 00:04:53 INFO 140482584008512] Epoch[10] Batch[5] avg_epoch_loss=2.434817\u001b[0m\n",
      "\u001b[34m[04/26/2020 00:04:53 INFO 140482584008512] #quality_metric: host=algo-1, epoch=10, batch=5 train loss <loss>=2.4348171552\u001b[0m\n",
      "\u001b[34m[04/26/2020 00:04:53 INFO 140482584008512] Epoch[10] Batch [5]#011Speed: 1985.86 samples/sec#011loss=2.434817\u001b[0m\n"
     ]
    },
    {
     "name": "stdout",
     "output_type": "stream",
     "text": [
      "\u001b[34m[04/26/2020 00:04:53 INFO 140482584008512] Epoch[10] Batch[10] avg_epoch_loss=2.852017\u001b[0m\n",
      "\u001b[34m[04/26/2020 00:04:53 INFO 140482584008512] #quality_metric: host=algo-1, epoch=10, batch=10 train loss <loss>=3.35265612602\u001b[0m\n",
      "\u001b[34m[04/26/2020 00:04:53 INFO 140482584008512] Epoch[10] Batch [10]#011Speed: 1699.61 samples/sec#011loss=3.352656\u001b[0m\n",
      "\u001b[34m[04/26/2020 00:04:53 INFO 140482584008512] processed a total of 1317 examples\u001b[0m\n",
      "\u001b[34m#metrics {\"Metrics\": {\"update.time\": {\"count\": 1, \"max\": 1135.7240676879883, \"sum\": 1135.7240676879883, \"min\": 1135.7240676879883}}, \"EndTime\": 1587859493.713545, \"Dimensions\": {\"Host\": \"algo-1\", \"Operation\": \"training\", \"Algorithm\": \"AWS/DeepAR\"}, \"StartTime\": 1587859492.577754}\n",
      "\u001b[0m\n",
      "\u001b[34m[04/26/2020 00:04:53 INFO 140482584008512] #throughput_metric: host=algo-1, train throughput=1159.48827256 records/second\u001b[0m\n",
      "\u001b[34m[04/26/2020 00:04:53 INFO 140482584008512] #progress_metric: host=algo-1, completed 22 % of epochs\u001b[0m\n",
      "\u001b[34m[04/26/2020 00:04:53 INFO 140482584008512] #quality_metric: host=algo-1, epoch=10, train loss <loss>=2.85201668739\u001b[0m\n",
      "\u001b[34m[04/26/2020 00:04:53 INFO 140482584008512] loss did not improve\u001b[0m\n",
      "\u001b[34m[04/26/2020 00:04:54 INFO 140482584008512] Epoch[11] Batch[0] avg_epoch_loss=2.930094\u001b[0m\n",
      "\u001b[34m[04/26/2020 00:04:54 INFO 140482584008512] #quality_metric: host=algo-1, epoch=11, batch=0 train loss <loss>=2.9300942421\u001b[0m\n",
      "\u001b[34m[04/26/2020 00:04:54 INFO 140482584008512] Epoch[11] Batch[5] avg_epoch_loss=2.542350\u001b[0m\n",
      "\u001b[34m[04/26/2020 00:04:54 INFO 140482584008512] #quality_metric: host=algo-1, epoch=11, batch=5 train loss <loss>=2.54235041142\u001b[0m\n",
      "\u001b[34m[04/26/2020 00:04:54 INFO 140482584008512] Epoch[11] Batch [5]#011Speed: 2022.67 samples/sec#011loss=2.542350\u001b[0m\n",
      "\u001b[34m[04/26/2020 00:04:54 INFO 140482584008512] Epoch[11] Batch[10] avg_epoch_loss=2.608405\u001b[0m\n",
      "\u001b[34m[04/26/2020 00:04:54 INFO 140482584008512] #quality_metric: host=algo-1, epoch=11, batch=10 train loss <loss>=2.68767075539\u001b[0m\n",
      "\u001b[34m[04/26/2020 00:04:54 INFO 140482584008512] Epoch[11] Batch [10]#011Speed: 1738.75 samples/sec#011loss=2.687671\u001b[0m\n",
      "\u001b[34m[04/26/2020 00:04:54 INFO 140482584008512] processed a total of 1319 examples\u001b[0m\n",
      "\u001b[34m#metrics {\"Metrics\": {\"update.time\": {\"count\": 1, \"max\": 1125.4239082336426, \"sum\": 1125.4239082336426, \"min\": 1125.4239082336426}}, \"EndTime\": 1587859494.839802, \"Dimensions\": {\"Host\": \"algo-1\", \"Operation\": \"training\", \"Algorithm\": \"AWS/DeepAR\"}, \"StartTime\": 1587859493.713625}\n",
      "\u001b[0m\n",
      "\u001b[34m[04/26/2020 00:04:54 INFO 140482584008512] #throughput_metric: host=algo-1, train throughput=1171.87373059 records/second\u001b[0m\n",
      "\u001b[34m[04/26/2020 00:04:54 INFO 140482584008512] #progress_metric: host=algo-1, completed 24 % of epochs\u001b[0m\n",
      "\u001b[34m[04/26/2020 00:04:54 INFO 140482584008512] #quality_metric: host=algo-1, epoch=11, train loss <loss>=2.60840511322\u001b[0m\n",
      "\u001b[34m[04/26/2020 00:04:54 INFO 140482584008512] loss did not improve\u001b[0m\n",
      "\u001b[34m[04/26/2020 00:04:55 INFO 140482584008512] Epoch[12] Batch[0] avg_epoch_loss=2.166766\u001b[0m\n",
      "\u001b[34m[04/26/2020 00:04:55 INFO 140482584008512] #quality_metric: host=algo-1, epoch=12, batch=0 train loss <loss>=2.16676568985\u001b[0m\n",
      "\u001b[34m[04/26/2020 00:04:55 INFO 140482584008512] Epoch[12] Batch[5] avg_epoch_loss=2.426122\u001b[0m\n",
      "\u001b[34m[04/26/2020 00:04:55 INFO 140482584008512] #quality_metric: host=algo-1, epoch=12, batch=5 train loss <loss>=2.42612175147\u001b[0m\n",
      "\u001b[34m[04/26/2020 00:04:55 INFO 140482584008512] Epoch[12] Batch [5]#011Speed: 1866.28 samples/sec#011loss=2.426122\u001b[0m\n",
      "\u001b[34m[04/26/2020 00:04:56 INFO 140482584008512] Epoch[12] Batch[10] avg_epoch_loss=2.524558\u001b[0m\n",
      "\u001b[34m[04/26/2020 00:04:56 INFO 140482584008512] #quality_metric: host=algo-1, epoch=12, batch=10 train loss <loss>=2.64268097878\u001b[0m\n",
      "\u001b[34m[04/26/2020 00:04:56 INFO 140482584008512] Epoch[12] Batch [10]#011Speed: 1633.39 samples/sec#011loss=2.642681\u001b[0m\n",
      "\u001b[34m[04/26/2020 00:04:56 INFO 140482584008512] processed a total of 1348 examples\u001b[0m\n",
      "\u001b[34m#metrics {\"Metrics\": {\"update.time\": {\"count\": 1, \"max\": 1199.2011070251465, \"sum\": 1199.2011070251465, \"min\": 1199.2011070251465}}, \"EndTime\": 1587859496.039571, \"Dimensions\": {\"Host\": \"algo-1\", \"Operation\": \"training\", \"Algorithm\": \"AWS/DeepAR\"}, \"StartTime\": 1587859494.839885}\n",
      "\u001b[0m\n",
      "\u001b[34m[04/26/2020 00:04:56 INFO 140482584008512] #throughput_metric: host=algo-1, train throughput=1123.97218776 records/second\u001b[0m\n",
      "\u001b[34m[04/26/2020 00:04:56 INFO 140482584008512] #progress_metric: host=algo-1, completed 26 % of epochs\u001b[0m\n",
      "\u001b[34m[04/26/2020 00:04:56 INFO 140482584008512] #quality_metric: host=algo-1, epoch=12, train loss <loss>=2.52455776388\u001b[0m\n",
      "\u001b[34m[04/26/2020 00:04:56 INFO 140482584008512] loss did not improve\u001b[0m\n",
      "\u001b[34m[04/26/2020 00:04:56 INFO 140482584008512] Epoch[13] Batch[0] avg_epoch_loss=2.433230\u001b[0m\n",
      "\u001b[34m[04/26/2020 00:04:56 INFO 140482584008512] #quality_metric: host=algo-1, epoch=13, batch=0 train loss <loss>=2.43323016167\u001b[0m\n",
      "\u001b[34m[04/26/2020 00:04:56 INFO 140482584008512] Epoch[13] Batch[5] avg_epoch_loss=2.225268\u001b[0m\n",
      "\u001b[34m[04/26/2020 00:04:56 INFO 140482584008512] #quality_metric: host=algo-1, epoch=13, batch=5 train loss <loss>=2.22526760896\u001b[0m\n",
      "\u001b[34m[04/26/2020 00:04:56 INFO 140482584008512] Epoch[13] Batch [5]#011Speed: 1820.68 samples/sec#011loss=2.225268\u001b[0m\n",
      "\u001b[34m[04/26/2020 00:04:57 INFO 140482584008512] Epoch[13] Batch[10] avg_epoch_loss=2.078642\u001b[0m\n",
      "\u001b[34m[04/26/2020 00:04:57 INFO 140482584008512] #quality_metric: host=algo-1, epoch=13, batch=10 train loss <loss>=1.90269116461\u001b[0m\n",
      "\u001b[34m[04/26/2020 00:04:57 INFO 140482584008512] Epoch[13] Batch [10]#011Speed: 1710.75 samples/sec#011loss=1.902691\u001b[0m\n",
      "\u001b[34m[04/26/2020 00:04:57 INFO 140482584008512] processed a total of 1307 examples\u001b[0m\n",
      "\u001b[34m#metrics {\"Metrics\": {\"update.time\": {\"count\": 1, \"max\": 1165.9660339355469, \"sum\": 1165.9660339355469, \"min\": 1165.9660339355469}}, \"EndTime\": 1587859497.206122, \"Dimensions\": {\"Host\": \"algo-1\", \"Operation\": \"training\", \"Algorithm\": \"AWS/DeepAR\"}, \"StartTime\": 1587859496.039648}\n",
      "\u001b[0m\n",
      "\u001b[34m[04/26/2020 00:04:57 INFO 140482584008512] #throughput_metric: host=algo-1, train throughput=1120.84178071 records/second\u001b[0m\n",
      "\u001b[34m[04/26/2020 00:04:57 INFO 140482584008512] #progress_metric: host=algo-1, completed 28 % of epochs\u001b[0m\n",
      "\u001b[34m[04/26/2020 00:04:57 INFO 140482584008512] #quality_metric: host=algo-1, epoch=13, train loss <loss>=2.07864195244\u001b[0m\n",
      "\u001b[34m[04/26/2020 00:04:57 INFO 140482584008512] best epoch loss so far\u001b[0m\n",
      "\u001b[34m[04/26/2020 00:04:57 INFO 140482584008512] Saved checkpoint to \"/opt/ml/model/state_ba83672d-86b6-4a1b-b273-e06b76860b2c-0000.params\"\u001b[0m\n",
      "\u001b[34m#metrics {\"Metrics\": {\"state.serialize.time\": {\"count\": 1, \"max\": 12.578010559082031, \"sum\": 12.578010559082031, \"min\": 12.578010559082031}}, \"EndTime\": 1587859497.219361, \"Dimensions\": {\"Host\": \"algo-1\", \"Operation\": \"training\", \"Algorithm\": \"AWS/DeepAR\"}, \"StartTime\": 1587859497.206204}\n",
      "\u001b[0m\n",
      "\u001b[34m[04/26/2020 00:04:57 INFO 140482584008512] Epoch[14] Batch[0] avg_epoch_loss=2.423307\u001b[0m\n",
      "\u001b[34m[04/26/2020 00:04:57 INFO 140482584008512] #quality_metric: host=algo-1, epoch=14, batch=0 train loss <loss>=2.42330694199\u001b[0m\n",
      "\u001b[34m[04/26/2020 00:04:57 INFO 140482584008512] Epoch[14] Batch[5] avg_epoch_loss=2.299057\u001b[0m\n",
      "\u001b[34m[04/26/2020 00:04:57 INFO 140482584008512] #quality_metric: host=algo-1, epoch=14, batch=5 train loss <loss>=2.29905718565\u001b[0m\n",
      "\u001b[34m[04/26/2020 00:04:57 INFO 140482584008512] Epoch[14] Batch [5]#011Speed: 2024.80 samples/sec#011loss=2.299057\u001b[0m\n",
      "\u001b[34m[04/26/2020 00:04:58 INFO 140482584008512] Epoch[14] Batch[10] avg_epoch_loss=2.453445\u001b[0m\n",
      "\u001b[34m[04/26/2020 00:04:58 INFO 140482584008512] #quality_metric: host=algo-1, epoch=14, batch=10 train loss <loss>=2.63871102333\u001b[0m\n",
      "\u001b[34m[04/26/2020 00:04:58 INFO 140482584008512] Epoch[14] Batch [10]#011Speed: 1636.10 samples/sec#011loss=2.638711\u001b[0m\n",
      "\u001b[34m[04/26/2020 00:04:58 INFO 140482584008512] processed a total of 1340 examples\u001b[0m\n",
      "\u001b[34m#metrics {\"Metrics\": {\"update.time\": {\"count\": 1, \"max\": 1168.1528091430664, \"sum\": 1168.1528091430664, \"min\": 1168.1528091430664}}, \"EndTime\": 1587859498.387657, \"Dimensions\": {\"Host\": \"algo-1\", \"Operation\": \"training\", \"Algorithm\": \"AWS/DeepAR\"}, \"StartTime\": 1587859497.219433}\n",
      "\u001b[0m\n",
      "\u001b[34m[04/26/2020 00:04:58 INFO 140482584008512] #throughput_metric: host=algo-1, train throughput=1146.98518935 records/second\u001b[0m\n",
      "\u001b[34m[04/26/2020 00:04:58 INFO 140482584008512] #progress_metric: host=algo-1, completed 30 % of epochs\u001b[0m\n",
      "\u001b[34m[04/26/2020 00:04:58 INFO 140482584008512] #quality_metric: host=algo-1, epoch=14, train loss <loss>=2.45344529369\u001b[0m\n",
      "\u001b[34m[04/26/2020 00:04:58 INFO 140482584008512] loss did not improve\u001b[0m\n",
      "\u001b[34m[04/26/2020 00:04:58 INFO 140482584008512] Epoch[15] Batch[0] avg_epoch_loss=2.198458\u001b[0m\n",
      "\u001b[34m[04/26/2020 00:04:58 INFO 140482584008512] #quality_metric: host=algo-1, epoch=15, batch=0 train loss <loss>=2.1984577179\u001b[0m\n",
      "\u001b[34m[04/26/2020 00:04:59 INFO 140482584008512] Epoch[15] Batch[5] avg_epoch_loss=2.149170\u001b[0m\n",
      "\u001b[34m[04/26/2020 00:04:59 INFO 140482584008512] #quality_metric: host=algo-1, epoch=15, batch=5 train loss <loss>=2.14917045832\u001b[0m\n",
      "\u001b[34m[04/26/2020 00:04:59 INFO 140482584008512] Epoch[15] Batch [5]#011Speed: 2039.70 samples/sec#011loss=2.149170\u001b[0m\n",
      "\u001b[34m[04/26/2020 00:04:59 INFO 140482584008512] Epoch[15] Batch[10] avg_epoch_loss=1.951785\u001b[0m\n",
      "\u001b[34m[04/26/2020 00:04:59 INFO 140482584008512] #quality_metric: host=algo-1, epoch=15, batch=10 train loss <loss>=1.71492234468\u001b[0m\n",
      "\u001b[34m[04/26/2020 00:04:59 INFO 140482584008512] Epoch[15] Batch [10]#011Speed: 1602.14 samples/sec#011loss=1.714922\u001b[0m\n",
      "\u001b[34m[04/26/2020 00:04:59 INFO 140482584008512] processed a total of 1313 examples\u001b[0m\n",
      "\u001b[34m#metrics {\"Metrics\": {\"update.time\": {\"count\": 1, \"max\": 1154.026985168457, \"sum\": 1154.026985168457, \"min\": 1154.026985168457}}, \"EndTime\": 1587859499.542282, \"Dimensions\": {\"Host\": \"algo-1\", \"Operation\": \"training\", \"Algorithm\": \"AWS/DeepAR\"}, \"StartTime\": 1587859498.38774}\n",
      "\u001b[0m\n",
      "\u001b[34m[04/26/2020 00:04:59 INFO 140482584008512] #throughput_metric: host=algo-1, train throughput=1137.62975232 records/second\u001b[0m\n",
      "\u001b[34m[04/26/2020 00:04:59 INFO 140482584008512] #progress_metric: host=algo-1, completed 32 % of epochs\u001b[0m\n",
      "\u001b[34m[04/26/2020 00:04:59 INFO 140482584008512] #quality_metric: host=algo-1, epoch=15, train loss <loss>=1.95178495212\u001b[0m\n",
      "\u001b[34m[04/26/2020 00:04:59 INFO 140482584008512] best epoch loss so far\u001b[0m\n",
      "\u001b[34m[04/26/2020 00:04:59 INFO 140482584008512] Saved checkpoint to \"/opt/ml/model/state_8ae21165-39fd-461b-b365-1e0204963f81-0000.params\"\u001b[0m\n",
      "\u001b[34m#metrics {\"Metrics\": {\"state.serialize.time\": {\"count\": 1, \"max\": 17.036914825439453, \"sum\": 17.036914825439453, \"min\": 17.036914825439453}}, \"EndTime\": 1587859499.559875, \"Dimensions\": {\"Host\": \"algo-1\", \"Operation\": \"training\", \"Algorithm\": \"AWS/DeepAR\"}, \"StartTime\": 1587859499.542371}\n",
      "\u001b[0m\n",
      "\u001b[34m[04/26/2020 00:05:00 INFO 140482584008512] Epoch[16] Batch[0] avg_epoch_loss=2.136230\u001b[0m\n",
      "\u001b[34m[04/26/2020 00:05:00 INFO 140482584008512] #quality_metric: host=algo-1, epoch=16, batch=0 train loss <loss>=2.13622951508\u001b[0m\n",
      "\u001b[34m[04/26/2020 00:05:00 INFO 140482584008512] Epoch[16] Batch[5] avg_epoch_loss=2.232634\u001b[0m\n",
      "\u001b[34m[04/26/2020 00:05:00 INFO 140482584008512] #quality_metric: host=algo-1, epoch=16, batch=5 train loss <loss>=2.23263422648\u001b[0m\n",
      "\u001b[34m[04/26/2020 00:05:00 INFO 140482584008512] Epoch[16] Batch [5]#011Speed: 2011.29 samples/sec#011loss=2.232634\u001b[0m\n",
      "\u001b[34m[04/26/2020 00:05:00 INFO 140482584008512] Epoch[16] Batch[10] avg_epoch_loss=2.388475\u001b[0m\n",
      "\u001b[34m[04/26/2020 00:05:00 INFO 140482584008512] #quality_metric: host=algo-1, epoch=16, batch=10 train loss <loss>=2.57548341751\u001b[0m\n",
      "\u001b[34m[04/26/2020 00:05:00 INFO 140482584008512] Epoch[16] Batch [10]#011Speed: 1695.49 samples/sec#011loss=2.575483\u001b[0m\n",
      "\u001b[34m[04/26/2020 00:05:00 INFO 140482584008512] processed a total of 1366 examples\u001b[0m\n",
      "\u001b[34m#metrics {\"Metrics\": {\"update.time\": {\"count\": 1, \"max\": 1188.852071762085, \"sum\": 1188.852071762085, \"min\": 1188.852071762085}}, \"EndTime\": 1587859500.748894, \"Dimensions\": {\"Host\": \"algo-1\", \"Operation\": \"training\", \"Algorithm\": \"AWS/DeepAR\"}, \"StartTime\": 1587859499.559965}\n",
      "\u001b[0m\n",
      "\u001b[34m[04/26/2020 00:05:00 INFO 140482584008512] #throughput_metric: host=algo-1, train throughput=1148.88957771 records/second\u001b[0m\n",
      "\u001b[34m[04/26/2020 00:05:00 INFO 140482584008512] #progress_metric: host=algo-1, completed 34 % of epochs\u001b[0m\n",
      "\u001b[34m[04/26/2020 00:05:00 INFO 140482584008512] #quality_metric: host=algo-1, epoch=16, train loss <loss>=2.38847476786\u001b[0m\n",
      "\u001b[34m[04/26/2020 00:05:00 INFO 140482584008512] loss did not improve\u001b[0m\n",
      "\u001b[34m[04/26/2020 00:05:01 INFO 140482584008512] Epoch[17] Batch[0] avg_epoch_loss=1.889406\u001b[0m\n",
      "\u001b[34m[04/26/2020 00:05:01 INFO 140482584008512] #quality_metric: host=algo-1, epoch=17, batch=0 train loss <loss>=1.88940632343\u001b[0m\n",
      "\u001b[34m[04/26/2020 00:05:01 INFO 140482584008512] Epoch[17] Batch[5] avg_epoch_loss=2.045380\u001b[0m\n",
      "\u001b[34m[04/26/2020 00:05:01 INFO 140482584008512] #quality_metric: host=algo-1, epoch=17, batch=5 train loss <loss>=2.04537979762\u001b[0m\n",
      "\u001b[34m[04/26/2020 00:05:01 INFO 140482584008512] Epoch[17] Batch [5]#011Speed: 2021.52 samples/sec#011loss=2.045380\u001b[0m\n",
      "\u001b[34m[04/26/2020 00:05:01 INFO 140482584008512] processed a total of 1273 examples\u001b[0m\n",
      "\u001b[34m#metrics {\"Metrics\": {\"update.time\": {\"count\": 1, \"max\": 1131.523847579956, \"sum\": 1131.523847579956, \"min\": 1131.523847579956}}, \"EndTime\": 1587859501.881043, \"Dimensions\": {\"Host\": \"algo-1\", \"Operation\": \"training\", \"Algorithm\": \"AWS/DeepAR\"}, \"StartTime\": 1587859500.748974}\n",
      "\u001b[0m\n",
      "\u001b[34m[04/26/2020 00:05:01 INFO 140482584008512] #throughput_metric: host=algo-1, train throughput=1124.86632515 records/second\u001b[0m\n",
      "\u001b[34m[04/26/2020 00:05:01 INFO 140482584008512] #progress_metric: host=algo-1, completed 36 % of epochs\u001b[0m\n",
      "\u001b[34m[04/26/2020 00:05:01 INFO 140482584008512] #quality_metric: host=algo-1, epoch=17, train loss <loss>=2.0121399045\u001b[0m\n",
      "\u001b[34m[04/26/2020 00:05:01 INFO 140482584008512] loss did not improve\u001b[0m\n",
      "\u001b[34m[04/26/2020 00:05:02 INFO 140482584008512] Epoch[18] Batch[0] avg_epoch_loss=1.949762\u001b[0m\n",
      "\u001b[34m[04/26/2020 00:05:02 INFO 140482584008512] #quality_metric: host=algo-1, epoch=18, batch=0 train loss <loss>=1.9497615099\u001b[0m\n",
      "\u001b[34m[04/26/2020 00:05:02 INFO 140482584008512] Epoch[18] Batch[5] avg_epoch_loss=2.144516\u001b[0m\n",
      "\u001b[34m[04/26/2020 00:05:02 INFO 140482584008512] #quality_metric: host=algo-1, epoch=18, batch=5 train loss <loss>=2.14451601108\u001b[0m\n",
      "\u001b[34m[04/26/2020 00:05:02 INFO 140482584008512] Epoch[18] Batch [5]#011Speed: 1996.79 samples/sec#011loss=2.144516\u001b[0m\n",
      "\u001b[34m[04/26/2020 00:05:03 INFO 140482584008512] Epoch[18] Batch[10] avg_epoch_loss=2.322710\u001b[0m\n",
      "\u001b[34m[04/26/2020 00:05:03 INFO 140482584008512] #quality_metric: host=algo-1, epoch=18, batch=10 train loss <loss>=2.53654313087\u001b[0m\n",
      "\u001b[34m[04/26/2020 00:05:03 INFO 140482584008512] Epoch[18] Batch [10]#011Speed: 1634.77 samples/sec#011loss=2.536543\u001b[0m\n",
      "\u001b[34m[04/26/2020 00:05:03 INFO 140482584008512] processed a total of 1324 examples\u001b[0m\n",
      "\u001b[34m#metrics {\"Metrics\": {\"update.time\": {\"count\": 1, \"max\": 1174.828052520752, \"sum\": 1174.828052520752, \"min\": 1174.828052520752}}, \"EndTime\": 1587859503.056919, \"Dimensions\": {\"Host\": \"algo-1\", \"Operation\": \"training\", \"Algorithm\": \"AWS/DeepAR\"}, \"StartTime\": 1587859501.881163}\n",
      "\u001b[0m\n",
      "\u001b[34m[04/26/2020 00:05:03 INFO 140482584008512] #throughput_metric: host=algo-1, train throughput=1126.86228935 records/second\u001b[0m\n",
      "\u001b[34m[04/26/2020 00:05:03 INFO 140482584008512] #progress_metric: host=algo-1, completed 38 % of epochs\u001b[0m\n",
      "\u001b[34m[04/26/2020 00:05:03 INFO 140482584008512] #quality_metric: host=algo-1, epoch=18, train loss <loss>=2.32271015644\u001b[0m\n",
      "\u001b[34m[04/26/2020 00:05:03 INFO 140482584008512] loss did not improve\u001b[0m\n",
      "\u001b[34m[04/26/2020 00:05:03 INFO 140482584008512] Epoch[19] Batch[0] avg_epoch_loss=2.261965\u001b[0m\n",
      "\u001b[34m[04/26/2020 00:05:03 INFO 140482584008512] #quality_metric: host=algo-1, epoch=19, batch=0 train loss <loss>=2.26196455956\u001b[0m\n"
     ]
    },
    {
     "name": "stdout",
     "output_type": "stream",
     "text": [
      "\u001b[34m[04/26/2020 00:05:03 INFO 140482584008512] Epoch[19] Batch[5] avg_epoch_loss=2.147323\u001b[0m\n",
      "\u001b[34m[04/26/2020 00:05:03 INFO 140482584008512] #quality_metric: host=algo-1, epoch=19, batch=5 train loss <loss>=2.14732301235\u001b[0m\n",
      "\u001b[34m[04/26/2020 00:05:03 INFO 140482584008512] Epoch[19] Batch [5]#011Speed: 1976.87 samples/sec#011loss=2.147323\u001b[0m\n",
      "\u001b[34m[04/26/2020 00:05:04 INFO 140482584008512] Epoch[19] Batch[10] avg_epoch_loss=2.356387\u001b[0m\n",
      "\u001b[34m[04/26/2020 00:05:04 INFO 140482584008512] #quality_metric: host=algo-1, epoch=19, batch=10 train loss <loss>=2.6072637558\u001b[0m\n",
      "\u001b[34m[04/26/2020 00:05:04 INFO 140482584008512] Epoch[19] Batch [10]#011Speed: 1716.78 samples/sec#011loss=2.607264\u001b[0m\n",
      "\u001b[34m[04/26/2020 00:05:04 INFO 140482584008512] processed a total of 1364 examples\u001b[0m\n",
      "\u001b[34m#metrics {\"Metrics\": {\"update.time\": {\"count\": 1, \"max\": 1142.1170234680176, \"sum\": 1142.1170234680176, \"min\": 1142.1170234680176}}, \"EndTime\": 1587859504.199589, \"Dimensions\": {\"Host\": \"algo-1\", \"Operation\": \"training\", \"Algorithm\": \"AWS/DeepAR\"}, \"StartTime\": 1587859503.056997}\n",
      "\u001b[0m\n",
      "\u001b[34m[04/26/2020 00:05:04 INFO 140482584008512] #throughput_metric: host=algo-1, train throughput=1194.13432008 records/second\u001b[0m\n",
      "\u001b[34m[04/26/2020 00:05:04 INFO 140482584008512] #progress_metric: host=algo-1, completed 40 % of epochs\u001b[0m\n",
      "\u001b[34m[04/26/2020 00:05:04 INFO 140482584008512] #quality_metric: host=algo-1, epoch=19, train loss <loss>=2.35638698665\u001b[0m\n",
      "\u001b[34m[04/26/2020 00:05:04 INFO 140482584008512] loss did not improve\u001b[0m\n",
      "\u001b[34m[04/26/2020 00:05:04 INFO 140482584008512] Epoch[20] Batch[0] avg_epoch_loss=2.167472\u001b[0m\n",
      "\u001b[34m[04/26/2020 00:05:04 INFO 140482584008512] #quality_metric: host=algo-1, epoch=20, batch=0 train loss <loss>=2.16747236252\u001b[0m\n",
      "\u001b[34m[04/26/2020 00:05:04 INFO 140482584008512] Epoch[20] Batch[5] avg_epoch_loss=2.154224\u001b[0m\n",
      "\u001b[34m[04/26/2020 00:05:04 INFO 140482584008512] #quality_metric: host=algo-1, epoch=20, batch=5 train loss <loss>=2.15422350168\u001b[0m\n",
      "\u001b[34m[04/26/2020 00:05:04 INFO 140482584008512] Epoch[20] Batch [5]#011Speed: 1998.85 samples/sec#011loss=2.154224\u001b[0m\n",
      "\u001b[34m[04/26/2020 00:05:05 INFO 140482584008512] Epoch[20] Batch[10] avg_epoch_loss=2.045265\u001b[0m\n",
      "\u001b[34m[04/26/2020 00:05:05 INFO 140482584008512] #quality_metric: host=algo-1, epoch=20, batch=10 train loss <loss>=1.91451370716\u001b[0m\n",
      "\u001b[34m[04/26/2020 00:05:05 INFO 140482584008512] Epoch[20] Batch [10]#011Speed: 1599.58 samples/sec#011loss=1.914514\u001b[0m\n",
      "\u001b[34m[04/26/2020 00:05:05 INFO 140482584008512] processed a total of 1375 examples\u001b[0m\n",
      "\u001b[34m#metrics {\"Metrics\": {\"update.time\": {\"count\": 1, \"max\": 1172.7499961853027, \"sum\": 1172.7499961853027, \"min\": 1172.7499961853027}}, \"EndTime\": 1587859505.372962, \"Dimensions\": {\"Host\": \"algo-1\", \"Operation\": \"training\", \"Algorithm\": \"AWS/DeepAR\"}, \"StartTime\": 1587859504.199679}\n",
      "\u001b[0m\n",
      "\u001b[34m[04/26/2020 00:05:05 INFO 140482584008512] #throughput_metric: host=algo-1, train throughput=1172.33706626 records/second\u001b[0m\n",
      "\u001b[34m[04/26/2020 00:05:05 INFO 140482584008512] #progress_metric: host=algo-1, completed 42 % of epochs\u001b[0m\n",
      "\u001b[34m[04/26/2020 00:05:05 INFO 140482584008512] #quality_metric: host=algo-1, epoch=20, train loss <loss>=2.04526450417\u001b[0m\n",
      "\u001b[34m[04/26/2020 00:05:05 INFO 140482584008512] loss did not improve\u001b[0m\n",
      "\u001b[34m[04/26/2020 00:05:05 INFO 140482584008512] Epoch[21] Batch[0] avg_epoch_loss=1.781799\u001b[0m\n",
      "\u001b[34m[04/26/2020 00:05:05 INFO 140482584008512] #quality_metric: host=algo-1, epoch=21, batch=0 train loss <loss>=1.7817991972\u001b[0m\n",
      "\u001b[34m[04/26/2020 00:05:06 INFO 140482584008512] Epoch[21] Batch[5] avg_epoch_loss=2.037819\u001b[0m\n",
      "\u001b[34m[04/26/2020 00:05:06 INFO 140482584008512] #quality_metric: host=algo-1, epoch=21, batch=5 train loss <loss>=2.03781861067\u001b[0m\n",
      "\u001b[34m[04/26/2020 00:05:06 INFO 140482584008512] Epoch[21] Batch [5]#011Speed: 1980.91 samples/sec#011loss=2.037819\u001b[0m\n",
      "\u001b[34m[04/26/2020 00:05:06 INFO 140482584008512] Epoch[21] Batch[10] avg_epoch_loss=2.195666\u001b[0m\n",
      "\u001b[34m[04/26/2020 00:05:06 INFO 140482584008512] #quality_metric: host=algo-1, epoch=21, batch=10 train loss <loss>=2.38508341312\u001b[0m\n",
      "\u001b[34m[04/26/2020 00:05:06 INFO 140482584008512] Epoch[21] Batch [10]#011Speed: 1671.84 samples/sec#011loss=2.385083\u001b[0m\n",
      "\u001b[34m[04/26/2020 00:05:06 INFO 140482584008512] processed a total of 1301 examples\u001b[0m\n",
      "\u001b[34m#metrics {\"Metrics\": {\"update.time\": {\"count\": 1, \"max\": 1176.9111156463623, \"sum\": 1176.9111156463623, \"min\": 1176.9111156463623}}, \"EndTime\": 1587859506.550424, \"Dimensions\": {\"Host\": \"algo-1\", \"Operation\": \"training\", \"Algorithm\": \"AWS/DeepAR\"}, \"StartTime\": 1587859505.373044}\n",
      "\u001b[0m\n",
      "\u001b[34m[04/26/2020 00:05:06 INFO 140482584008512] #throughput_metric: host=algo-1, train throughput=1105.32724762 records/second\u001b[0m\n",
      "\u001b[34m[04/26/2020 00:05:06 INFO 140482584008512] #progress_metric: host=algo-1, completed 44 % of epochs\u001b[0m\n",
      "\u001b[34m[04/26/2020 00:05:06 INFO 140482584008512] #quality_metric: host=algo-1, epoch=21, train loss <loss>=2.19566624815\u001b[0m\n",
      "\u001b[34m[04/26/2020 00:05:06 INFO 140482584008512] loss did not improve\u001b[0m\n",
      "\u001b[34m[04/26/2020 00:05:07 INFO 140482584008512] Epoch[22] Batch[0] avg_epoch_loss=2.564625\u001b[0m\n",
      "\u001b[34m[04/26/2020 00:05:07 INFO 140482584008512] #quality_metric: host=algo-1, epoch=22, batch=0 train loss <loss>=2.56462526321\u001b[0m\n",
      "\u001b[34m[04/26/2020 00:05:07 INFO 140482584008512] Epoch[22] Batch[5] avg_epoch_loss=2.749393\u001b[0m\n",
      "\u001b[34m[04/26/2020 00:05:07 INFO 140482584008512] #quality_metric: host=algo-1, epoch=22, batch=5 train loss <loss>=2.74939318498\u001b[0m\n",
      "\u001b[34m[04/26/2020 00:05:07 INFO 140482584008512] Epoch[22] Batch [5]#011Speed: 2022.19 samples/sec#011loss=2.749393\u001b[0m\n",
      "\u001b[34m[04/26/2020 00:05:07 INFO 140482584008512] Epoch[22] Batch[10] avg_epoch_loss=2.623077\u001b[0m\n",
      "\u001b[34m[04/26/2020 00:05:07 INFO 140482584008512] #quality_metric: host=algo-1, epoch=22, batch=10 train loss <loss>=2.47149779797\u001b[0m\n",
      "\u001b[34m[04/26/2020 00:05:07 INFO 140482584008512] Epoch[22] Batch [10]#011Speed: 1576.01 samples/sec#011loss=2.471498\u001b[0m\n",
      "\u001b[34m[04/26/2020 00:05:07 INFO 140482584008512] processed a total of 1356 examples\u001b[0m\n",
      "\u001b[34m#metrics {\"Metrics\": {\"update.time\": {\"count\": 1, \"max\": 1201.8170356750488, \"sum\": 1201.8170356750488, \"min\": 1201.8170356750488}}, \"EndTime\": 1587859507.752761, \"Dimensions\": {\"Host\": \"algo-1\", \"Operation\": \"training\", \"Algorithm\": \"AWS/DeepAR\"}, \"StartTime\": 1587859506.550504}\n",
      "\u001b[0m\n",
      "\u001b[34m[04/26/2020 00:05:07 INFO 140482584008512] #throughput_metric: host=algo-1, train throughput=1128.17807336 records/second\u001b[0m\n",
      "\u001b[34m[04/26/2020 00:05:07 INFO 140482584008512] #progress_metric: host=algo-1, completed 46 % of epochs\u001b[0m\n",
      "\u001b[34m[04/26/2020 00:05:07 INFO 140482584008512] #quality_metric: host=algo-1, epoch=22, train loss <loss>=2.62307709997\u001b[0m\n",
      "\u001b[34m[04/26/2020 00:05:07 INFO 140482584008512] loss did not improve\u001b[0m\n",
      "\u001b[34m[04/26/2020 00:05:08 INFO 140482584008512] Epoch[23] Batch[0] avg_epoch_loss=2.880148\u001b[0m\n",
      "\u001b[34m[04/26/2020 00:05:08 INFO 140482584008512] #quality_metric: host=algo-1, epoch=23, batch=0 train loss <loss>=2.88014769554\u001b[0m\n",
      "\u001b[34m[04/26/2020 00:05:08 INFO 140482584008512] Epoch[23] Batch[5] avg_epoch_loss=2.391735\u001b[0m\n",
      "\u001b[34m[04/26/2020 00:05:08 INFO 140482584008512] #quality_metric: host=algo-1, epoch=23, batch=5 train loss <loss>=2.39173471928\u001b[0m\n",
      "\u001b[34m[04/26/2020 00:05:08 INFO 140482584008512] Epoch[23] Batch [5]#011Speed: 2031.62 samples/sec#011loss=2.391735\u001b[0m\n",
      "\u001b[34m[04/26/2020 00:05:08 INFO 140482584008512] Epoch[23] Batch[10] avg_epoch_loss=2.178508\u001b[0m\n",
      "\u001b[34m[04/26/2020 00:05:08 INFO 140482584008512] #quality_metric: host=algo-1, epoch=23, batch=10 train loss <loss>=1.92263634801\u001b[0m\n",
      "\u001b[34m[04/26/2020 00:05:08 INFO 140482584008512] Epoch[23] Batch [10]#011Speed: 1651.45 samples/sec#011loss=1.922636\u001b[0m\n",
      "\u001b[34m[04/26/2020 00:05:08 INFO 140482584008512] processed a total of 1294 examples\u001b[0m\n",
      "\u001b[34m#metrics {\"Metrics\": {\"update.time\": {\"count\": 1, \"max\": 1161.8900299072266, \"sum\": 1161.8900299072266, \"min\": 1161.8900299072266}}, \"EndTime\": 1587859508.915135, \"Dimensions\": {\"Host\": \"algo-1\", \"Operation\": \"training\", \"Algorithm\": \"AWS/DeepAR\"}, \"StartTime\": 1587859507.752845}\n",
      "\u001b[0m\n",
      "\u001b[34m[04/26/2020 00:05:08 INFO 140482584008512] #throughput_metric: host=algo-1, train throughput=1113.58747792 records/second\u001b[0m\n",
      "\u001b[34m[04/26/2020 00:05:08 INFO 140482584008512] #progress_metric: host=algo-1, completed 48 % of epochs\u001b[0m\n",
      "\u001b[34m[04/26/2020 00:05:08 INFO 140482584008512] #quality_metric: host=algo-1, epoch=23, train loss <loss>=2.17850818688\u001b[0m\n",
      "\u001b[34m[04/26/2020 00:05:08 INFO 140482584008512] loss did not improve\u001b[0m\n",
      "\u001b[34m[04/26/2020 00:05:09 INFO 140482584008512] Epoch[24] Batch[0] avg_epoch_loss=2.233968\u001b[0m\n",
      "\u001b[34m[04/26/2020 00:05:09 INFO 140482584008512] #quality_metric: host=algo-1, epoch=24, batch=0 train loss <loss>=2.23396778107\u001b[0m\n",
      "\u001b[34m[04/26/2020 00:05:09 INFO 140482584008512] Epoch[24] Batch[5] avg_epoch_loss=2.286000\u001b[0m\n",
      "\u001b[34m[04/26/2020 00:05:09 INFO 140482584008512] #quality_metric: host=algo-1, epoch=24, batch=5 train loss <loss>=2.28600009282\u001b[0m\n",
      "\u001b[34m[04/26/2020 00:05:09 INFO 140482584008512] Epoch[24] Batch [5]#011Speed: 1990.56 samples/sec#011loss=2.286000\u001b[0m\n",
      "\u001b[34m[04/26/2020 00:05:10 INFO 140482584008512] Epoch[24] Batch[10] avg_epoch_loss=2.224228\u001b[0m\n",
      "\u001b[34m[04/26/2020 00:05:10 INFO 140482584008512] #quality_metric: host=algo-1, epoch=24, batch=10 train loss <loss>=2.15010039806\u001b[0m\n",
      "\u001b[34m[04/26/2020 00:05:10 INFO 140482584008512] Epoch[24] Batch [10]#011Speed: 1645.67 samples/sec#011loss=2.150100\u001b[0m\n",
      "\u001b[34m[04/26/2020 00:05:10 INFO 140482584008512] processed a total of 1373 examples\u001b[0m\n",
      "\u001b[34m#metrics {\"Metrics\": {\"update.time\": {\"count\": 1, \"max\": 1187.8561973571777, \"sum\": 1187.8561973571777, \"min\": 1187.8561973571777}}, \"EndTime\": 1587859510.103504, \"Dimensions\": {\"Host\": \"algo-1\", \"Operation\": \"training\", \"Algorithm\": \"AWS/DeepAR\"}, \"StartTime\": 1587859508.915218}\n",
      "\u001b[0m\n",
      "\u001b[34m[04/26/2020 00:05:10 INFO 140482584008512] #throughput_metric: host=algo-1, train throughput=1155.73252286 records/second\u001b[0m\n",
      "\u001b[34m[04/26/2020 00:05:10 INFO 140482584008512] #progress_metric: host=algo-1, completed 50 % of epochs\u001b[0m\n",
      "\u001b[34m[04/26/2020 00:05:10 INFO 140482584008512] #quality_metric: host=algo-1, epoch=24, train loss <loss>=2.2242275043\u001b[0m\n",
      "\u001b[34m[04/26/2020 00:05:10 INFO 140482584008512] loss did not improve\u001b[0m\n",
      "\u001b[34m[04/26/2020 00:05:10 INFO 140482584008512] Epoch[25] Batch[0] avg_epoch_loss=2.269495\u001b[0m\n",
      "\u001b[34m[04/26/2020 00:05:10 INFO 140482584008512] #quality_metric: host=algo-1, epoch=25, batch=0 train loss <loss>=2.26949524879\u001b[0m\n",
      "\u001b[34m[04/26/2020 00:05:10 INFO 140482584008512] Epoch[25] Batch[5] avg_epoch_loss=2.173219\u001b[0m\n",
      "\u001b[34m[04/26/2020 00:05:10 INFO 140482584008512] #quality_metric: host=algo-1, epoch=25, batch=5 train loss <loss>=2.17321878672\u001b[0m\n",
      "\u001b[34m[04/26/2020 00:05:10 INFO 140482584008512] Epoch[25] Batch [5]#011Speed: 1993.82 samples/sec#011loss=2.173219\u001b[0m\n",
      "\u001b[34m[04/26/2020 00:05:11 INFO 140482584008512] Epoch[25] Batch[10] avg_epoch_loss=2.263636\u001b[0m\n",
      "\u001b[34m[04/26/2020 00:05:11 INFO 140482584008512] #quality_metric: host=algo-1, epoch=25, batch=10 train loss <loss>=2.37213683128\u001b[0m\n",
      "\u001b[34m[04/26/2020 00:05:11 INFO 140482584008512] Epoch[25] Batch [10]#011Speed: 1711.71 samples/sec#011loss=2.372137\u001b[0m\n",
      "\u001b[34m[04/26/2020 00:05:11 INFO 140482584008512] processed a total of 1356 examples\u001b[0m\n",
      "\u001b[34m#metrics {\"Metrics\": {\"update.time\": {\"count\": 1, \"max\": 1185.8558654785156, \"sum\": 1185.8558654785156, \"min\": 1185.8558654785156}}, \"EndTime\": 1587859511.289971, \"Dimensions\": {\"Host\": \"algo-1\", \"Operation\": \"training\", \"Algorithm\": \"AWS/DeepAR\"}, \"StartTime\": 1587859510.103596}\n",
      "\u001b[0m\n",
      "\u001b[34m[04/26/2020 00:05:11 INFO 140482584008512] #throughput_metric: host=algo-1, train throughput=1143.36895982 records/second\u001b[0m\n",
      "\u001b[34m[04/26/2020 00:05:11 INFO 140482584008512] #progress_metric: host=algo-1, completed 52 % of epochs\u001b[0m\n",
      "\u001b[34m[04/26/2020 00:05:11 INFO 140482584008512] #quality_metric: host=algo-1, epoch=25, train loss <loss>=2.2636360797\u001b[0m\n",
      "\u001b[34m[04/26/2020 00:05:11 INFO 140482584008512] loss did not improve\u001b[0m\n",
      "\u001b[34m[04/26/2020 00:05:11 INFO 140482584008512] Loading parameters from best epoch (15)\u001b[0m\n",
      "\u001b[34m#metrics {\"Metrics\": {\"state.deserialize.time\": {\"count\": 1, \"max\": 7.350921630859375, \"sum\": 7.350921630859375, \"min\": 7.350921630859375}}, \"EndTime\": 1587859511.297966, \"Dimensions\": {\"Host\": \"algo-1\", \"Operation\": \"training\", \"Algorithm\": \"AWS/DeepAR\"}, \"StartTime\": 1587859511.290044}\n",
      "\u001b[0m\n",
      "\u001b[34m[04/26/2020 00:05:11 INFO 140482584008512] stopping training now\u001b[0m\n",
      "\u001b[34m[04/26/2020 00:05:11 INFO 140482584008512] #progress_metric: host=algo-1, completed 100 % of epochs\u001b[0m\n",
      "\u001b[34m[04/26/2020 00:05:11 INFO 140482584008512] Final loss: 1.95178495212 (occurred at epoch 15)\u001b[0m\n",
      "\u001b[34m[04/26/2020 00:05:11 INFO 140482584008512] #quality_metric: host=algo-1, train final_loss <loss>=1.95178495212\u001b[0m\n",
      "\u001b[34m[04/26/2020 00:05:11 INFO 140482584008512] Worker algo-1 finished training.\u001b[0m\n",
      "\u001b[34m[04/26/2020 00:05:11 WARNING 140482584008512] wait_for_all_workers will not sync workers since the kv store is not running distributed\u001b[0m\n",
      "\u001b[34m[04/26/2020 00:05:11 INFO 140482584008512] All workers finished. Serializing model for prediction.\u001b[0m\n",
      "\u001b[34m#metrics {\"Metrics\": {\"get_graph.time\": {\"count\": 1, \"max\": 51.93209648132324, \"sum\": 51.93209648132324, \"min\": 51.93209648132324}}, \"EndTime\": 1587859511.350671, \"Dimensions\": {\"Host\": \"algo-1\", \"Operation\": \"training\", \"Algorithm\": \"AWS/DeepAR\"}, \"StartTime\": 1587859511.298041}\n",
      "\u001b[0m\n",
      "\u001b[34m[04/26/2020 00:05:11 INFO 140482584008512] Number of GPUs being used: 0\u001b[0m\n",
      "\u001b[34m#metrics {\"Metrics\": {\"finalize.time\": {\"count\": 1, \"max\": 79.09417152404785, \"sum\": 79.09417152404785, \"min\": 79.09417152404785}}, \"EndTime\": 1587859511.377795, \"Dimensions\": {\"Host\": \"algo-1\", \"Operation\": \"training\", \"Algorithm\": \"AWS/DeepAR\"}, \"StartTime\": 1587859511.350741}\n",
      "\u001b[0m\n",
      "\u001b[34m[04/26/2020 00:05:11 INFO 140482584008512] Serializing to /opt/ml/model/model_algo-1\u001b[0m\n",
      "\u001b[34m[04/26/2020 00:05:11 INFO 140482584008512] Saved checkpoint to \"/opt/ml/model/model_algo-1-0000.params\"\u001b[0m\n",
      "\u001b[34m#metrics {\"Metrics\": {\"model.serialize.time\": {\"count\": 1, \"max\": 4.827976226806641, \"sum\": 4.827976226806641, \"min\": 4.827976226806641}}, \"EndTime\": 1587859511.382737, \"Dimensions\": {\"Host\": \"algo-1\", \"Operation\": \"training\", \"Algorithm\": \"AWS/DeepAR\"}, \"StartTime\": 1587859511.377864}\n",
      "\u001b[0m\n",
      "\u001b[34m[04/26/2020 00:05:11 INFO 140482584008512] Successfully serialized the model for prediction.\u001b[0m\n",
      "\u001b[34m[04/26/2020 00:05:11 INFO 140482584008512] Evaluating model accuracy on testset using 100 samples\u001b[0m\n",
      "\u001b[34m#metrics {\"Metrics\": {\"model.bind.time\": {\"count\": 1, \"max\": 0.0438690185546875, \"sum\": 0.0438690185546875, \"min\": 0.0438690185546875}}, \"EndTime\": 1587859511.38366, \"Dimensions\": {\"Host\": \"algo-1\", \"Operation\": \"training\", \"Algorithm\": \"AWS/DeepAR\"}, \"StartTime\": 1587859511.382799}\n",
      "\u001b[0m\n"
     ]
    },
    {
     "name": "stdout",
     "output_type": "stream",
     "text": [
      "\n",
      "2020-04-26 00:05:23 Uploading - Uploading generated training model\n",
      "2020-04-26 00:05:23 Completed - Training job completed\n",
      "\u001b[34m#metrics {\"Metrics\": {\"model.score.time\": {\"count\": 1, \"max\": 3556.7519664764404, \"sum\": 3556.7519664764404, \"min\": 3556.7519664764404}}, \"EndTime\": 1587859514.940363, \"Dimensions\": {\"Host\": \"algo-1\", \"Operation\": \"training\", \"Algorithm\": \"AWS/DeepAR\"}, \"StartTime\": 1587859511.383722}\n",
      "\u001b[0m\n",
      "\u001b[34m[04/26/2020 00:05:14 INFO 140482584008512] #test_score (algo-1, RMSE): 250.595610454\u001b[0m\n",
      "\u001b[34m[04/26/2020 00:05:14 INFO 140482584008512] #test_score (algo-1, mean_absolute_QuantileLoss): 73419.17751071586\u001b[0m\n",
      "\u001b[34m[04/26/2020 00:05:14 INFO 140482584008512] #test_score (algo-1, mean_wQuantileLoss): 0.09719455794493276\u001b[0m\n",
      "\u001b[34m[04/26/2020 00:05:14 INFO 140482584008512] #test_score (algo-1, wQuantileLoss[0.1]): 0.056132048950950315\u001b[0m\n",
      "\u001b[34m[04/26/2020 00:05:14 INFO 140482584008512] #test_score (algo-1, wQuantileLoss[0.2]): 0.08277083965339685\u001b[0m\n",
      "\u001b[34m[04/26/2020 00:05:14 INFO 140482584008512] #test_score (algo-1, wQuantileLoss[0.3]): 0.1025572339989085\u001b[0m\n",
      "\u001b[34m[04/26/2020 00:05:14 INFO 140482584008512] #test_score (algo-1, wQuantileLoss[0.4]): 0.11666732927307069\u001b[0m\n",
      "\u001b[34m[04/26/2020 00:05:14 INFO 140482584008512] #test_score (algo-1, wQuantileLoss[0.5]): 0.12310222501559147\u001b[0m\n",
      "\u001b[34m[04/26/2020 00:05:14 INFO 140482584008512] #test_score (algo-1, wQuantileLoss[0.6]): 0.12253764846452797\u001b[0m\n",
      "\u001b[34m[04/26/2020 00:05:14 INFO 140482584008512] #test_score (algo-1, wQuantileLoss[0.7]): 0.11419670339729465\u001b[0m\n",
      "\u001b[34m[04/26/2020 00:05:14 INFO 140482584008512] #test_score (algo-1, wQuantileLoss[0.8]): 0.09507375972169971\u001b[0m\n",
      "\u001b[34m[04/26/2020 00:05:14 INFO 140482584008512] #test_score (algo-1, wQuantileLoss[0.9]): 0.06171323302895466\u001b[0m\n",
      "\u001b[34m[04/26/2020 00:05:14 INFO 140482584008512] #quality_metric: host=algo-1, test mean_wQuantileLoss <loss>=0.0971945579449\u001b[0m\n",
      "\u001b[34m[04/26/2020 00:05:14 INFO 140482584008512] #quality_metric: host=algo-1, test RMSE <loss>=250.595610454\u001b[0m\n",
      "\u001b[34m#metrics {\"Metrics\": {\"totaltime\": {\"count\": 1, \"max\": 35277.59003639221, \"sum\": 35277.59003639221, \"min\": 35277.59003639221}, \"setuptime\": {\"count\": 1, \"max\": 10.383129119873047, \"sum\": 10.383129119873047, \"min\": 10.383129119873047}}, \"EndTime\": 1587859514.952369, \"Dimensions\": {\"Host\": \"algo-1\", \"Operation\": \"training\", \"Algorithm\": \"AWS/DeepAR\"}, \"StartTime\": 1587859514.940435}\n",
      "\u001b[0m\n",
      "Training seconds: 77\n",
      "Billable seconds: 77\n",
      "CPU times: user 529 ms, sys: 12.2 ms, total: 541 ms\n",
      "Wall time: 3min 41s\n"
     ]
    }
   ],
   "source": [
    "%%time\n",
    "# train and test channels\n",
    "data_channels = {\n",
    "    \"train\": train_path,\n",
    "    \"test\": test_path\n",
    "}\n",
    "\n",
    "# fit the estimator\n",
    "estimator.fit(inputs=data_channels)"
   ]
  },
  {
   "cell_type": "markdown",
   "metadata": {},
   "source": [
    "The model is then deployed below so that it can be used to make predictions"
   ]
  },
  {
   "cell_type": "code",
   "execution_count": 61,
   "metadata": {},
   "outputs": [
    {
     "name": "stdout",
     "output_type": "stream",
     "text": [
      "-----------------!CPU times: user 288 ms, sys: 12.1 ms, total: 300 ms\n",
      "Wall time: 8min 32s\n"
     ]
    }
   ],
   "source": [
    "%%time\n",
    "\n",
    "# create a predictor\n",
    "predictor = estimator.deploy(\n",
    "    initial_instance_count=1,\n",
    "    instance_type='ml.t2.medium',\n",
    "    content_type=\"application/json\" # specify that it will accept/produce JSON\n",
    ")"
   ]
  },
  {
   "cell_type": "markdown",
   "metadata": {},
   "source": [
    "The following cells are used to create suitable inputs for the predictor from the dictionaries of series created earlier on. The inputs are passed to the predictor, which returns an encoded result. This needs to be decoded before it can be used to make a prediction. "
   ]
  },
  {
   "cell_type": "code",
   "execution_count": 69,
   "metadata": {},
   "outputs": [],
   "source": [
    "def series_to_prediction_json_obj(country, main_series_dict, static_dict, temp_dict, ld_dict, train, prediction_length):\n",
    "\n",
    "    end_val = -prediction_length if train == True else None\n",
    "    json_obj = {}\n",
    "    json_obj['start'] = main_series_dict[country]['start']\n",
    "    json_obj['target'] = main_series_dict[country]['target'][:end_val]\n",
    "    json_obj['dynamic_feat'] = []\n",
    "    \n",
    "    for component in static_dict[country]:\n",
    "        json_obj['dynamic_feat'].append(static_dict[country][component])\n",
    "    json_obj['dynamic_feat'].append(temp_dict[country]['target'])\n",
    "    json_obj['dynamic_feat'].append(ld_dict[country]['target'])\n",
    "    \n",
    "    return json_obj"
   ]
  },
  {
   "cell_type": "code",
   "execution_count": 79,
   "metadata": {},
   "outputs": [],
   "source": [
    "def covid_json_predictor_input(df, train, prediction_length, num_samples=1000, quantiles=['0.1', '0.5', '0.9']):\n",
    "    \n",
    "    instances = []\n",
    "    for country in df['Country']:\n",
    "        instances.append(series_to_prediction_json_obj(country,\n",
    "                                        norm_covid_cases_dict, \n",
    "                                        covid_static_series_dict, \n",
    "                                        covid_temp_series_dict, \n",
    "                                        covid_ld_series_dict, \n",
    "                                        train,\n",
    "                                        prediction_length))\n",
    "\n",
    "    # specify the output quantiles and samples\n",
    "    configuration = {\"num_samples\": num_samples, \n",
    "                     \"output_types\": [\"quantiles\"], \n",
    "                     \"quantiles\": quantiles}\n",
    "\n",
    "    request_data = {\"instances\": instances, \n",
    "                    \"configuration\": configuration}\n",
    "    \n",
    "    json_request = json.dumps(request_data).encode('utf-8')\n",
    "    \n",
    "    return json_request"
   ]
  },
  {
   "cell_type": "code",
   "execution_count": 84,
   "metadata": {},
   "outputs": [],
   "source": [
    "json_input_ts = covid_json_predictor_input(df, train=True, prediction_length=prediction_length)\n",
    "json_prediction = predictor.predict(json_input_ts)"
   ]
  },
  {
   "cell_type": "code",
   "execution_count": 72,
   "metadata": {},
   "outputs": [],
   "source": [
    "def decode_prediction(prediction, encoding='utf-8'):\n",
    "    '''Accepts a JSON prediction and returns a list of prediction data.\n",
    "    '''\n",
    "    prediction_data = json.loads(prediction.decode(encoding))\n",
    "    prediction_list = []\n",
    "    for k in range(len(prediction_data['predictions'])):\n",
    "        prediction_list.append(pd.DataFrame(data=prediction_data['predictions'][k]['quantiles']))\n",
    "    return prediction_list\n"
   ]
  },
  {
   "cell_type": "code",
   "execution_count": 85,
   "metadata": {},
   "outputs": [],
   "source": [
    "prediction_list = decode_prediction(json_prediction)"
   ]
  },
  {
   "cell_type": "markdown",
   "metadata": {},
   "source": [
    "**Visualisation**\n",
    "\n",
    "The function below helps to display the prediction based on the mean, upper and lower bounds of of a sampling process (with the interior of the bounds highlighted) and its target value"
   ]
  },
  {
   "cell_type": "code",
   "execution_count": 75,
   "metadata": {},
   "outputs": [],
   "source": [
    "def display_quantiles(prediction_list, target_ts=None):\n",
    "    # show predictions for all input ts\n",
    "    for k in range(len(prediction_list)):\n",
    "        plt.figure(figsize=(12,6))\n",
    "        # get the target month of data\n",
    "        if target_ts is not None:\n",
    "            target = target_ts[k][-prediction_length:]\n",
    "            plt.plot(range(len(target)), target, label='target')\n",
    "        # get the quantile values at 10 and 90%\n",
    "        p10 = prediction_list[k]['0.1']\n",
    "        p90 = prediction_list[k]['0.9']\n",
    "        # fill the 80% confidence interval\n",
    "        plt.fill_between(p10.index, p10, p90, color='y', alpha=0.5, label='80% confidence interval')\n",
    "        # plot the median prediction line\n",
    "        prediction_list[k]['0.5'].plot(label='prediction median')\n",
    "        plt.legend()\n",
    "        print\n",
    "        plt.show()"
   ]
  },
  {
   "cell_type": "code",
   "execution_count": 82,
   "metadata": {},
   "outputs": [],
   "source": [
    "target_series = []\n",
    "for country in norm_covid_cases_dict:\n",
    "    target_series.append(pd.Series(norm_covid_cases_dict[country]['target']))\n",
    "       "
   ]
  },
  {
   "cell_type": "code",
   "execution_count": 77,
   "metadata": {},
   "outputs": [
    {
     "data": {
      "image/png": "[encoded data removed]",
      "text/plain": [
       "<Figure size 864x432 with 1 Axes>"
      ]
     },
     "metadata": {},
     "output_type": "display_data"
    },
    {
     "data": {
      "image/png": "[encoded data removed]",
      "text/plain": [
       "<Figure size 864x432 with 1 Axes>"
      ]
     },
     "metadata": {},
     "output_type": "display_data"
    },
    {
     "data": {
      "image/png": "[encoded data removed]",
      "text/plain": [
       "<Figure size 864x432 with 1 Axes>"
      ]
     },
     "metadata": {},
     "output_type": "display_data"
    }
   ],
   "source": [
    "display_quantiles(prediction_list[:3], target_series[:3])"
   ]
  },
  {
   "cell_type": "markdown",
   "metadata": {},
   "source": [
    "**Model Accuracy**\n",
    "\n",
    "Now, to calculate the accuracy, all of the target values within the confidence bounds are added, and this sum is divided by the length of the target array. This value is then averaged across time series predictions for all countries to obtain the overall model accuracy."
   ]
  },
  {
   "cell_type": "code",
   "execution_count": 86,
   "metadata": {},
   "outputs": [
    {
     "name": "stdout",
     "output_type": "stream",
     "text": [
      "Overall accuracy: 0.7794348508634221\n"
     ]
    }
   ],
   "source": [
    "acc_list = []\n",
    "acc_tot = 0\n",
    "\n",
    "for targets, predictions in zip(target_series, prediction_list):\n",
    "    ctr = 0\n",
    "    for target_value, lower_bound, upper_bound in zip(targets[-prediction_length:], predictions['0.1'], predictions['0.9']):\n",
    "\n",
    "        if (target_value >= lower_bound) & (target_value <= upper_bound):\n",
    "            \n",
    "            ctr += 1\n",
    "            \n",
    "    acc = ctr / prediction_length\n",
    "    acc_tot += acc\n",
    "    acc_list.append(acc)\n",
    "    \n",
    "acc_tot = acc_tot / len(target_series) \n",
    "\n",
    "print('Overall accuracy: {}'.format(acc_tot))"
   ]
  },
  {
   "cell_type": "markdown",
   "metadata": {},
   "source": [
    "**Impact Values**\n",
    "\n",
    "This final section calculates the impacts of each factor on the prediction. It works by finding the lowest value of each principal component (the most negative) and use this value for all countries as a way of nullifying the effect that countries strongly correlated to a particular component have on the prediction."
   ]
  },
  {
   "cell_type": "code",
   "execution_count": 87,
   "metadata": {},
   "outputs": [],
   "source": [
    "def nullified_factor_dict(factor_dict, factor_type):\n",
    "    new_dict = dict(factor_dict)\n",
    "    for country in factor_dict:\n",
    "        new_dict[country][factor_type] = [np.amin(static_transformed[factor_type])] * len(factor_dict[country][factor_type])\n",
    "\n",
    "    return new_dict    "
   ]
  },
  {
   "cell_type": "code",
   "execution_count": 89,
   "metadata": {},
   "outputs": [],
   "source": [
    "def covid_json_nullified_factor_input(df, factor, train, prediction_length, num_samples=1000, quantiles=['0.1', '0.5', '0.9']):\n",
    "    \n",
    "    instances = []\n",
    "    null_dict = nullified_factor_dict(covid_static_series_dict, factor)\n",
    "    \n",
    "    for country in df['Country']:\n",
    "        #print('Country: {}, Factor: {}, Factor Dict: {}'.format(country, factor, null_dict[country][factor]))\n",
    "        instances.append(series_to_prediction_json_obj(country,\n",
    "                                        norm_covid_cases_dict, \n",
    "                                        null_dict, \n",
    "                                        covid_temp_series_dict, \n",
    "                                        covid_ld_series_dict, \n",
    "                                        train=True,\n",
    "                                        prediction_length=prediction_length))\n",
    "\n",
    "    # specify the output quantiles and samples\n",
    "    configuration = {\"num_samples\": num_samples, \n",
    "                     \"output_types\": [\"quantiles\"], \n",
    "                     \"quantiles\": quantiles}\n",
    "\n",
    "    request_data = {\"instances\": instances, \n",
    "                    \"configuration\": configuration}\n",
    "\n",
    "    json_request = json.dumps(request_data).encode('utf-8')\n",
    "    \n",
    "    return json_request"
   ]
  },
  {
   "cell_type": "code",
   "execution_count": 90,
   "metadata": {},
   "outputs": [],
   "source": [
    "def impact_calc(prediction_list, prediction_list_null):\n",
    "\n",
    "    imp_tot = 0    \n",
    "    for predictions, predictions_null in zip(prediction_list, prediction_list_null):\n",
    "        ctr = 0\n",
    "        for orig_mean, new_mean in zip(predictions['0.5'], predictions_null['0.5']):\n",
    "            ctr += (new_mean - orig_mean)\n",
    "            \n",
    "        impact = ctr / prediction_length\n",
    "        imp_tot += impact\n",
    "    \n",
    "    return imp_tot / len(prediction_list)"
   ]
  },
  {
   "cell_type": "code",
   "execution_count": 91,
   "metadata": {},
   "outputs": [
    {
     "name": "stdout",
     "output_type": "stream",
     "text": [
      "Impact of x1: 13.18993179804216\n",
      "Impact of x2: 18.652826071862716\n",
      "Impact of x3: 18.173242621696154\n",
      "Impact of x4: 43.443445305527796\n",
      "Impact of x5: 61.392697603726624\n",
      "Impact of x6: 28.140856388458708\n"
     ]
    }
   ],
   "source": [
    "#1000 samples per prediction\n",
    "json_input_ts = covid_json_predictor_input(df, train=True, prediction_length=prediction_length)\n",
    "orig_json_prediction = predictor.predict(json_input_ts)\n",
    "orig_prediction_list = decode_prediction(orig_json_prediction)\n",
    "\n",
    "for factor in static_transformed.columns:\n",
    "    json_input_ts_null = covid_json_nullified_factor_input(df, factor, True, prediction_length)\n",
    "    json_prediction_null = predictor.predict(json_input_ts_null)\n",
    "    null_prediction_list = decode_prediction(json_prediction_null)\n",
    "    \n",
    "    impact = impact_calc(orig_prediction_list, null_prediction_list)\n",
    "    print('Impact of {}: {}'.format(factor, impact))\n",
    "    "
   ]
  },
  {
   "cell_type": "code",
   "execution_count": 558,
   "metadata": {},
   "outputs": [
    {
     "name": "stderr",
     "output_type": "stream",
     "text": [
      "IOPub data rate exceeded.\n",
      "The notebook server will temporarily stop sending output\n",
      "to the client in order to avoid crashing it.\n",
      "To change this limit, set the config variable\n",
      "`--NotebookApp.iopub_data_rate_limit`.\n",
      "\n",
      "Current values:\n",
      "NotebookApp.iopub_data_rate_limit=1000000.0 (bytes/sec)\n",
      "NotebookApp.rate_limit_window=3.0 (secs)\n",
      "\n"
     ]
    }
   ],
   "source": [
    "covid_static_series_dict = convert_static_values_for_series(static_transformed, covid_cases_dict)\n",
    "sars_static_series_dict = convert_static_values_for_series(static_transformed, sars_cases_dict)\n",
    "ebola_static_series_dict = convert_static_values_for_series(static_transformed, ebola_cases_dict)"
   ]
  },
  {
   "cell_type": "markdown",
   "metadata": {},
   "source": [
    "Now the same approach is taken for the temperature and lockdown time series"
   ]
  },
  {
   "cell_type": "code",
   "execution_count": 92,
   "metadata": {},
   "outputs": [],
   "source": [
    "def nullified_series_dict(series_dict):\n",
    "    new_dict = dict(series_dict)\n",
    "    min_val = np.amin([np.amin(series_dict[country]['target']) for country in series_dict])\n",
    "    for country in series_dict:\n",
    "        new_dict[country]['target'] = [min_val] * len(series_dict[country]['target'])\n",
    "\n",
    "    return new_dict "
   ]
  },
  {
   "cell_type": "markdown",
   "metadata": {},
   "source": [
    "**Temperature Impact**"
   ]
  },
  {
   "cell_type": "code",
   "execution_count": 93,
   "metadata": {},
   "outputs": [],
   "source": [
    "def covid_json_nullified_temp_input(df, train, prediction_length, num_samples=1000, quantiles=['0.1', '0.5', '0.9']):\n",
    "    \n",
    "    instances = []\n",
    "    #null_dict = nullified_factor_dict(covid_static_series_dict, factor)\n",
    "    null_dict = nullified_series_dict(covid_temp_series_dict)\n",
    "    \n",
    "    for country in df['Country']:\n",
    "        #print('Country: {}, Factor: {}, Factor Dict: {}'.format(country, factor, null_dict[country][factor]))\n",
    "        instances.append(series_to_prediction_json_obj(country,\n",
    "                                        norm_covid_cases_dict, \n",
    "                                        covid_static_series_dict, \n",
    "                                        null_dict, \n",
    "                                        covid_ld_series_dict, \n",
    "                                        train=True,\n",
    "                                        prediction_length=prediction_length))\n",
    "\n",
    "    # specify the output quantiles and samples\n",
    "    configuration = {\"num_samples\": num_samples, \n",
    "                     \"output_types\": [\"quantiles\"], \n",
    "                     \"quantiles\": quantiles}\n",
    "\n",
    "    request_data = {\"instances\": instances, \n",
    "                    \"configuration\": configuration}\n",
    "\n",
    "    json_request = json.dumps(request_data).encode('utf-8')\n",
    "    \n",
    "    \n",
    "    return json_request"
   ]
  },
  {
   "cell_type": "code",
   "execution_count": 94,
   "metadata": {},
   "outputs": [
    {
     "name": "stdout",
     "output_type": "stream",
     "text": [
      "Impact of temperature: 94.60871552908617\n"
     ]
    }
   ],
   "source": [
    "#1000 samples per prediction\n",
    "json_input_ts = covid_json_predictor_input(df, train=True, prediction_length=prediction_length)\n",
    "orig_json_prediction = predictor.predict(json_input_ts)\n",
    "orig_prediction_list = decode_prediction(orig_json_prediction)\n",
    "\n",
    "json_input_ts_null = covid_json_nullified_temp_input(df, True, prediction_length)\n",
    "json_prediction_null = predictor.predict(json_input_ts_null)\n",
    "null_prediction_list = decode_prediction(json_prediction_null)\n",
    "    \n",
    "impact = impact_calc(orig_prediction_list, null_prediction_list)\n",
    "print('Impact of temperature: {}'.format(impact))"
   ]
  },
  {
   "cell_type": "markdown",
   "metadata": {},
   "source": [
    "**Lockdown Impact**"
   ]
  },
  {
   "cell_type": "code",
   "execution_count": 95,
   "metadata": {},
   "outputs": [],
   "source": [
    "def covid_json_nullified_ld_input(df, train, prediction_length, num_samples=1000, quantiles=['0.1', '0.5', '0.9']):\n",
    "    \n",
    "    instances = []\n",
    "    #null_dict = nullified_factor_dict(covid_static_series_dict, factor)\n",
    "    null_dict = nullified_series_dict(covid_ld_series_dict)\n",
    "    \n",
    "    for country in df['Country']:\n",
    "        #print('Country: {}, Factor: {}, Factor Dict: {}'.format(country, factor, null_dict[country][factor]))\n",
    "        instances.append(series_to_prediction_json_obj(country,\n",
    "                                        norm_covid_cases_dict, \n",
    "                                        covid_static_series_dict, \n",
    "                                        covid_temp_series_dict, \n",
    "                                        null_dict, \n",
    "                                        train=True,\n",
    "                                        prediction_length=prediction_length))\n",
    "\n",
    "    # specify the output quantiles and samples\n",
    "    configuration = {\"num_samples\": num_samples, \n",
    "                     \"output_types\": [\"quantiles\"], \n",
    "                     \"quantiles\": quantiles}\n",
    "\n",
    "    request_data = {\"instances\": instances, \n",
    "                    \"configuration\": configuration}\n",
    "\n",
    "    json_request = json.dumps(request_data).encode('utf-8')\n",
    "    \n",
    "    \n",
    "    return json_request"
   ]
  },
  {
   "cell_type": "code",
   "execution_count": 96,
   "metadata": {},
   "outputs": [
    {
     "name": "stdout",
     "output_type": "stream",
     "text": [
      "Impact of lockdown: -10.112365873468834\n"
     ]
    }
   ],
   "source": [
    "#1000 samples per prediction\n",
    "json_input_ts = covid_json_predictor_input(df, train=True, prediction_length=prediction_length)\n",
    "orig_json_prediction = predictor.predict(json_input_ts)\n",
    "orig_prediction_list = decode_prediction(orig_json_prediction)\n",
    "\n",
    "json_input_ts_null = covid_json_nullified_ld_input(df, True, prediction_length)\n",
    "json_prediction_null = predictor.predict(json_input_ts_null)\n",
    "null_prediction_list = decode_prediction(json_prediction_null)\n",
    "    \n",
    "impact = impact_calc(orig_prediction_list, null_prediction_list)\n",
    "print('Impact of lockdown: {}'.format(impact))"
   ]
  }
 ],
 "metadata": {
  "kernelspec": {
   "display_name": "conda_amazonei_mxnet_p36",
   "language": "python",
   "name": "conda_amazonei_mxnet_p36"
  }
 },
 "nbformat": 4,
 "nbformat_minor": 4
}
